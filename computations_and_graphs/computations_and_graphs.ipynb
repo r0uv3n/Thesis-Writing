{
 "cells": [
  {
   "cell_type": "markdown",
   "metadata": {},
   "source": [
    "# The harmonic function method and the mass of some Schwarzschild half-spaces - Computations and Graphs"
   ]
  },
  {
   "cell_type": "markdown",
   "metadata": {},
   "source": [
    "In this Jupyter Notebook, we will do two main things for our examples from Section 8:\n",
    "- Compute the lower bound given by Theorem 3.9\n",
    "- Plot the level sets of the harmonic coordinates"
   ]
  },
  {
   "cell_type": "markdown",
   "metadata": {},
   "source": [
    "### Setting up the Python environment"
   ]
  },
  {
   "cell_type": "code",
   "execution_count": 67,
   "metadata": {},
   "outputs": [],
   "source": [
    "# This file is present both as .ipynb as well as .py. For the latter, the `# %%` comment denote borders between cells so the Python file can be treated like an Jupyter notebook as well. The function below checks if the Python file is running inside a Jupyter Notebook\n",
    "def is_notebook() -> bool:\n",
    "  try:\n",
    "    shell = get_ipython().__class__.__name__ # type: ignore[reportUndefinedVariable]\n",
    "    if shell in ('ZMQInteractiveShell','XPythonShell'):\n",
    "        return True   # Jupyter notebook or qtconsole\n",
    "    elif shell == 'TerminalInteractiveShell':\n",
    "        return False  # Terminal running IPython\n",
    "    else:\n",
    "        return False  # Other type (?)\n",
    "  except NameError:\n",
    "    return False      # Probably standard Python interpreter"
   ]
  },
  {
   "cell_type": "code",
   "execution_count": 68,
   "metadata": {},
   "outputs": [],
   "source": [
    "# if is_notebook():\n",
    "#   get_ipython().run_line_magic(\"pip\", \"install gravipy matplotlib scikit-image\") # this helps if this Notebook is executed from within e.g. jupyter-cloud.gwdg.de  # type: ignore[reportUndefinedVariable]"
   ]
  },
  {
   "cell_type": "code",
   "execution_count": 69,
   "metadata": {},
   "outputs": [],
   "source": [
    "from gravipy.tensorial import * # import GraviPy package\n",
    "import sympy\n",
    "import numpy as np\n",
    "import scipy\n",
    "import matplotlib.pyplot as plt\n",
    "\n",
    "# for plotting of implicit surfaces (i.e. the level sets)\n",
    "from mpl_toolkits.mplot3d import axes3d\n",
    "from skimage import measure\n",
    "\n",
    "from sympy.utilities.lambdify import lambdastr"
   ]
  },
  {
   "cell_type": "code",
   "execution_count": 70,
   "metadata": {},
   "outputs": [],
   "source": [
    "if is_notebook():\n",
    "  from IPython.display import display, Markdown\n",
    "else:\n",
    "  from rich.markdown import Markdown\n",
    "  from rich.console import Console\n",
    "  console = Console()\n",
    "  display = console.print\n"
   ]
  },
  {
   "cell_type": "markdown",
   "metadata": {},
   "source": [
    "### Setting up the manifold, metric, etc."
   ]
  },
  {
   "cell_type": "code",
   "execution_count": 161,
   "metadata": {},
   "outputs": [],
   "source": [
    "dim = 3\n",
    "\n",
    "non_bounded_coords_string = \" \".join(f\"x_{i}\" for i in range(2,dim+1))\n",
    "non_bounded_coords = list(symbols(non_bounded_coords_string, real=True))\n",
    "x1 = symbols(\"x_1\", nonnegative=True)\n",
    "m = symbols(\"m\",positive=True)\n",
    "r_critical = symbols(r\"\\tilde{r}\",positive=True) \n",
    "# r_critical = (m/2)**(1/(dim-2))\n",
    "\n",
    " \n",
    "coords=[x1]+non_bounded_coords\n",
    "pos = Coordinates(r'\\chi',coords)\n",
    "R=sympy.sqrt(sum(xi**2 for xi in coords))\n",
    "omega=(1+(r_critical/R)**(dim-2))\n",
    "exponent=sympy.Number(4)/(dim-2)\n",
    "# metric = sympy.MatrixSymbol(\"g\",3,3)\n",
    "metric = omega**exponent*sympy.eye(dim)\n",
    "g = MetricTensor('g', pos, metric)\n",
    "Ga = Christoffel(r'\\Gamma', g)"
   ]
  },
  {
   "cell_type": "code",
   "execution_count": 162,
   "metadata": {},
   "outputs": [],
   "source": [
    "# useful for all kinds of integrals\n",
    "volume_element = sympy.sqrt(sympy.Determinant(metric)).simplify()\n",
    "hypersurface_volume_element = sympy.sqrt(sympy.Determinant(metric[1:,1:])).simplify()"
   ]
  },
  {
   "cell_type": "code",
   "execution_count": 93,
   "metadata": {},
   "outputs": [],
   "source": [
    "# metric of hypersurface\n",
    "gamma_metric = omega**exponent*sympy.diag(*([0]+[1]*(dim-1)))\n",
    "gamma = MetricTensor(r'\\gamma', pos, gamma_metric)\n",
    "Ga_gamma = Christoffel(r'\\Gamma_{\\gamma}',gamma)"
   ]
  },
  {
   "cell_type": "markdown",
   "metadata": {},
   "source": [
    "Some utility functions:"
   ]
  },
  {
   "cell_type": "code",
   "execution_count": 94,
   "metadata": {},
   "outputs": [],
   "source": [
    "def laplacian(scalar):\n",
    "  return sum([g(-i,-j)*scalar.covariantD(i,j) for i in range(1,dim+1) for j in range(1,dim+1)])"
   ]
  },
  {
   "cell_type": "code",
   "execution_count": 95,
   "metadata": {},
   "outputs": [],
   "source": [
    "def gradient(symbol):\n",
    "  V = Tensor(r\"\\Nabla \"+str(symbol),1,g)\n",
    "  def compute_V(idxs):\n",
    "    component=sympy.diff(symbol,coords[idxs[0]-1])\n",
    "    V.components.update({idxs:component})\n",
    "    return component\n",
    "  V._compute_contravariant_component=compute_V\n",
    "  return V"
   ]
  },
  {
   "cell_type": "markdown",
   "metadata": {},
   "source": [
    "### Setting up the harmonic coordinates"
   ]
  },
  {
   "cell_type": "markdown",
   "metadata": {},
   "source": [
    "Define all the harmonic coordinates for $M_{m,+}$:"
   ]
  },
  {
   "cell_type": "code",
   "execution_count": 96,
   "metadata": {},
   "outputs": [],
   "source": [
    "u1,*non_bounded_u = [Tensor(f\"u_{i}\",0,g) for i in range(1,dim+1)]\n",
    "harmonic_coords = [u1]+non_bounded_u\n",
    "\n",
    "def make_u_method(x,u):\n",
    "  def u_method(idxs):\n",
    "    component = x*(1+(r_critical/R)**dim)/omega\n",
    "    u.components.update({idxs: component})\n",
    "    return component\n",
    "  return u_method\n",
    "\n",
    "for x, u in zip(coords,harmonic_coords):\n",
    "  u._compute_covariant_component = make_u_method(x,u)"
   ]
  },
  {
   "cell_type": "markdown",
   "metadata": {},
   "source": [
    "And define $u_1$ for the modified Schwarzschild space $M_{m,\\geq a}$ for $a>0$:"
   ]
  },
  {
   "cell_type": "code",
   "execution_count": 97,
   "metadata": {},
   "outputs": [],
   "source": [
    "a = symbols(\"a\")\n",
    "u1_modified = Tensor(\"u_1\",0,g)\n",
    "\n",
    "def u1_modified_method(idxs):\n",
    "    component = (x1+a*(r_critical/R)**(dim-2))/omega\n",
    "    u1_modified.components.update({idxs: component})\n",
    "    return component\n",
    "u1_modified._compute_covariant_component = u1_modified_method"
   ]
  },
  {
   "cell_type": "markdown",
   "metadata": {},
   "source": [
    "## Testing our Setup"
   ]
  },
  {
   "cell_type": "markdown",
   "metadata": {},
   "source": [
    "### What's the mass of our space?"
   ]
  },
  {
   "cell_type": "markdown",
   "metadata": {},
   "source": [
    "We use the spherical symmetry of the solution to avoid the integral, but we do evaluate the integrand in one radial direction (namely along the $x_1$-axis)"
   ]
  },
  {
   "cell_type": "code",
   "execution_count": 98,
   "metadata": {},
   "outputs": [],
   "source": [
    "normal_vector_to_sphere = Tensor(r\"n_{S_r}\",1,g)\n",
    "def n_S_r_compute_covariant_component(idxs):\n",
    "  component = sympy.sqrt(g(idxs[0],idxs[0]))*coords[idxs[0]-1]/R\n",
    "  normal_vector_to_sphere.components.update({idxs:component})\n",
    "  return component\n",
    "normal_vector_to_sphere._compute_covariant_component=n_S_r_compute_covariant_component"
   ]
  },
  {
   "cell_type": "code",
   "execution_count": 102,
   "metadata": {},
   "outputs": [
    {
     "data": {
      "text/latex": [
       "$\\displaystyle \\frac{x_{1} \\sqrt{x_{1}^{2} + x_{2}^{2} + x_{3}^{2}}}{\\left(\\tilde{r} + \\sqrt{x_{1}^{2} + x_{2}^{2} + x_{3}^{2}}\\right)^{2}}$"
      ],
      "text/plain": [
       "x_1*sqrt(x_1**2 + x_2**2 + x_3**2)/(\\tilde{r} + sqrt(x_1**2 + x_2**2 + x_3**2))**2"
      ]
     },
     "execution_count": 102,
     "metadata": {},
     "output_type": "execute_result"
    }
   ],
   "source": [
    "normal_vector_to_sphere(-1)"
   ]
  },
  {
   "cell_type": "code",
   "execution_count": 163,
   "metadata": {},
   "outputs": [],
   "source": [
    "mass_integrand = sum((g.partialD(i,j,i)-g.partialD(i,i,j))*normal_vector_to_sphere(-j) for i,j in list(variations(range(1,dim+1),2,True)))\n",
    "ray_substition = list([coord,0] for coord in non_bounded_coords)\n",
    "ray_mass_integrand = mass_integrand.subs(ray_substition).simplify()"
   ]
  },
  {
   "cell_type": "code",
   "execution_count": 164,
   "metadata": {},
   "outputs": [
    {
     "data": {
      "text/latex": [
       "$\\displaystyle \\frac{8 \\tilde{r} \\left(\\tilde{r} + x_{1}\\right)}{x_{1}^{3}}$"
      ],
      "text/plain": [
       "8*\\tilde{r}*(\\tilde{r} + x_1)/x_1**3"
      ]
     },
     "execution_count": 164,
     "metadata": {},
     "output_type": "execute_result"
    }
   ],
   "source": [
    "ray_mass_integrand"
   ]
  },
  {
   "cell_type": "markdown",
   "metadata": {},
   "source": [
    "Here and in the following we will need the area of an $(n-1)$-sphere"
   ]
  },
  {
   "cell_type": "code",
   "execution_count": 200,
   "metadata": {},
   "outputs": [],
   "source": [
    "sphere_volume = 2*sympy.pi ** (sympy.Number(dim) / 2) / sympy.gamma(sympy.Number(dim) / 2)\n",
    "normalization = 1 / (sphere_volume * 2 * (dim - 1))\n",
    "numerical_normalization = float(normalization)"
   ]
  },
  {
   "cell_type": "code",
   "execution_count": 201,
   "metadata": {},
   "outputs": [
    {
     "data": {
      "text/latex": [
       "$\\displaystyle \\frac{1}{16 \\pi}$"
      ],
      "text/plain": [
       "1/(16*pi)"
      ]
     },
     "execution_count": 201,
     "metadata": {},
     "output_type": "execute_result"
    }
   ],
   "source": [
    "normalization"
   ]
  },
  {
   "cell_type": "code",
   "execution_count": 202,
   "metadata": {},
   "outputs": [],
   "source": [
    "# volume element not strictly needed since we could also use euclidean background metric\n",
    "unnormalized_mass_integral = (ray_mass_integrand*hypersurface_volume_element*(sphere_volume/2*R**(dim-1)).subs(ray_substition)).simplify()\n",
    "unnormalized_mass = sympy.Limit(unnormalized_mass_integral,x1,sympy.oo).simplify()\n",
    "mass = normalization*unnormalized_mass"
   ]
  },
  {
   "cell_type": "markdown",
   "metadata": {},
   "source": [
    "The following should return $m/2=\\tilde{r}^{n-2}$, where $n$ is the dimension."
   ]
  },
  {
   "cell_type": "code",
   "execution_count": 203,
   "metadata": {},
   "outputs": [
    {
     "data": {
      "text/markdown": [
       "The mass is $\\tilde{r}$"
      ],
      "text/plain": [
       "<IPython.core.display.Markdown object>"
      ]
     },
     "metadata": {},
     "output_type": "display_data"
    }
   ],
   "source": [
    "display(Markdown(f\"The mass is ${sympy.latex(mass)}$\"))\n",
    "assert(mass==(r_critical**(dim-2)).simplify())"
   ]
  },
  {
   "cell_type": "markdown",
   "metadata": {},
   "source": [
    "### Is the mean curvature correct?"
   ]
  },
  {
   "cell_type": "markdown",
   "metadata": {},
   "source": [
    "We compute the mean curvature of the noncompact boundary (observe that the result agrees with our computation in Section 8)"
   ]
  },
  {
   "cell_type": "code",
   "execution_count": 204,
   "metadata": {},
   "outputs": [],
   "source": [
    "normal_vector_to_noncompact_boundary = Tensor(r\"\\nu\",1,g) \n",
    "def nu_compute_covariant_component(idxs):   \n",
    "  if idxs[0]==1:     \n",
    "    component = -sympy.sqrt(g(1,1))   \n",
    "  else:\n",
    "     component = sympy.Number(0)   \n",
    "  normal_vector_to_noncompact_boundary.components.update({idxs:component})  \n",
    "  return component \n",
    "normal_vector_to_noncompact_boundary._compute_covariant_component=nu_compute_covariant_component"
   ]
  },
  {
   "cell_type": "code",
   "execution_count": 205,
   "metadata": {},
   "outputs": [
    {
     "data": {
      "text/markdown": [
       "Mean curvature $H$ of non-compact boundary is $\\frac{4 \\tilde{r} x_{1}}{\\left(\\tilde{r} + \\sqrt{x_{1}^{2} + x_{2}^{2} + x_{3}^{2}}\\right)^{3}}$, which is the same as $\\frac{2 (n-1)\\tilde{r}^{n-2}}{r^n\\cdot \\omega^{2/(n-2)+1}}x_1=\\frac{4 \\tilde{r} x_{1}}{\\left(\\tilde{r} + \\sqrt{x_{1}^{2} + x_{2}^{2} + x_{3}^{2}}\\right)^{3}}$."
      ],
      "text/plain": [
       "<IPython.core.display.Markdown object>"
      ]
     },
     "metadata": {},
     "output_type": "display_data"
    }
   ],
   "source": [
    "H=sum(g(-i,-j)*normal_vector_to_noncompact_boundary.covariantD(i,j) for i,j in variations(range(1,dim+1),2,True)).simplify()\n",
    "display(Markdown(f\"Mean curvature $H$ of non-compact boundary is ${sympy.latex(H)}$, which is the same as $\\\\frac{{2 (n-1)\\\\tilde{{r}}^{{n-2}}}}{{r^n\\\\cdot \\omega^{{2/(n-2)+1}}}}x_1={sympy.latex((2*(dim-1)*r_critical**(dim-2)*x1/(R**dim*omega**(sympy.Number(2)/(dim-2)+1))).simplify())}$.\"))\n",
    "assert((H-2*(dim-1)*r_critical**(dim-2)*x1/(R**dim*omega**(sympy.Number(2)/(dim-2)+1))).simplify()==0)"
   ]
  },
  {
   "cell_type": "markdown",
   "metadata": {},
   "source": [
    "\n",
    "The above is greater than $0$ in particular if $x_1>0$."
   ]
  },
  {
   "cell_type": "markdown",
   "metadata": {},
   "source": [
    "### Are our functions truly harmonic?"
   ]
  },
  {
   "cell_type": "code",
   "execution_count": 206,
   "metadata": {},
   "outputs": [
    {
     "data": {
      "text/latex": [
       "$\\displaystyle \\frac{x_{1} \\left(\\frac{\\tilde{r}^{3}}{\\left(x_{1}^{2} + x_{2}^{2} + x_{3}^{2}\\right)^{\\frac{3}{2}}} + 1\\right)}{\\frac{\\tilde{r}}{\\sqrt{x_{1}^{2} + x_{2}^{2} + x_{3}^{2}}} + 1}$"
      ],
      "text/plain": [
       "x_1*(\\tilde{r}**3/(x_1**2 + x_2**2 + x_3**2)**(3/2) + 1)/(\\tilde{r}/sqrt(x_1**2 + x_2**2 + x_3**2) + 1)"
      ]
     },
     "execution_count": 206,
     "metadata": {},
     "output_type": "execute_result"
    }
   ],
   "source": [
    "u1()"
   ]
  },
  {
   "cell_type": "code",
   "execution_count": 207,
   "metadata": {},
   "outputs": [
    {
     "name": "stdout",
     "output_type": "stream",
     "text": [
      "Harmonicity check:\n"
     ]
    },
    {
     "data": {
      "text/markdown": [
       "$\\Delta u_1=0$"
      ],
      "text/plain": [
       "<IPython.core.display.Markdown object>"
      ]
     },
     "metadata": {},
     "output_type": "display_data"
    },
    {
     "data": {
      "text/markdown": [
       "$\\Delta u_2=0$"
      ],
      "text/plain": [
       "<IPython.core.display.Markdown object>"
      ]
     },
     "metadata": {},
     "output_type": "display_data"
    },
    {
     "data": {
      "text/markdown": [
       "$\\Delta u_3=0$"
      ],
      "text/plain": [
       "<IPython.core.display.Markdown object>"
      ]
     },
     "metadata": {},
     "output_type": "display_data"
    }
   ],
   "source": [
    "print(\"Harmonicity check:\")\n",
    "for i,u in enumerate(harmonic_coords):\n",
    "  current_laplacian = laplacian(u).simplify()\n",
    "  display(Markdown(f\"$\\Delta u_{i+1}={sympy.latex(current_laplacian)}$\"))\n",
    "  # assert(current_laplacian==0)"
   ]
  },
  {
   "cell_type": "code",
   "execution_count": 208,
   "metadata": {},
   "outputs": [
    {
     "data": {
      "text/markdown": [
       "For $M_{m,\\geq a}$: $\\Delta u_1=0$"
      ],
      "text/plain": [
       "<IPython.core.display.Markdown object>"
      ]
     },
     "metadata": {},
     "output_type": "display_data"
    }
   ],
   "source": [
    "laplacian_modified = laplacian(u1_modified).simplify()\n",
    "display(Markdown(f\"For $M_{{m,\\geq a}}$: $\\Delta u_1={laplacian_modified}$\"))\n",
    "assert(laplacian_modified == 0)"
   ]
  },
  {
   "cell_type": "markdown",
   "metadata": {},
   "source": [
    "### Are the boundary conditions truly fulfilled?"
   ]
  },
  {
   "cell_type": "markdown",
   "metadata": {},
   "source": [
    "For $a=0$ we should in particular have $\\partial_r u_i\\vert_{r=\\tilde{r}}=0$:"
   ]
  },
  {
   "cell_type": "code",
   "execution_count": 209,
   "metadata": {},
   "outputs": [
    {
     "data": {
      "text/markdown": [
       "$\\partial_r u_1\\vert_{r=\\tilde{r}}=0$"
      ],
      "text/plain": [
       "<IPython.core.display.Markdown object>"
      ]
     },
     "metadata": {},
     "output_type": "display_data"
    },
    {
     "data": {
      "text/markdown": [
       "$\\partial_r u_2\\vert_{r=\\tilde{r}}=0$"
      ],
      "text/plain": [
       "<IPython.core.display.Markdown object>"
      ]
     },
     "metadata": {},
     "output_type": "display_data"
    },
    {
     "data": {
      "text/markdown": [
       "$\\partial_r u_3\\vert_{r=\\tilde{r}}=0$"
      ],
      "text/plain": [
       "<IPython.core.display.Markdown object>"
      ]
     },
     "metadata": {},
     "output_type": "display_data"
    }
   ],
   "source": [
    "for (i,u) in enumerate(harmonic_coords):\n",
    "  radial_derivative = sum(u.covariantD(i+1)*coords[i] for i in range(dim))\n",
    "  substitution = [x1,sympy.sqrt(r_critical**2-sum(coord**2 for coord in non_bounded_coords))]\n",
    "  radial_derivative_substituted = radial_derivative.subs([substitution]).simplify()\n",
    "  display(Markdown(f\"$\\partial_r u_{i+1}\\\\vert_{{r=\\\\tilde{{r}}}}={sympy.latex(radial_derivative_substituted)}$\"))\n",
    "  assert(radial_derivative_substituted==0)"
   ]
  },
  {
   "cell_type": "markdown",
   "metadata": {},
   "source": [
    "For $a>0$, we should have $\\tilde{u}_1\\vert_{x_1=a}=a$:"
   ]
  },
  {
   "cell_type": "code",
   "execution_count": 210,
   "metadata": {},
   "outputs": [
    {
     "data": {
      "text/markdown": [
       "$\\tilde{u}_1\\vert_{x_1=a}=a$"
      ],
      "text/plain": [
       "<IPython.core.display.Markdown object>"
      ]
     },
     "metadata": {},
     "output_type": "display_data"
    }
   ],
   "source": [
    "u1_modified_at_x1_equal_a=u1_modified().subs([[x1,a]]).simplify()\n",
    "display(Markdown(f\"$\\\\tilde{{u}}_1\\\\vert_{{x_1=a}}={u1_modified_at_x1_equal_a}$\"))\n",
    "assert(u1_modified_at_x1_equal_a==a)"
   ]
  },
  {
   "cell_type": "markdown",
   "metadata": {},
   "source": [
    "### Are there any critical points?"
   ]
  },
  {
   "cell_type": "markdown",
   "metadata": {},
   "source": [
    "It is interesting to consider whether there are any critical points of $u_3$ to be able to discuss how strong the lower bound given by our technique is (see Remark 4.3)."
   ]
  },
  {
   "cell_type": "markdown",
   "metadata": {},
   "source": [
    "##### For $M_{m,+}$ there is at least one (at (0,0,m/2)):"
   ]
  },
  {
   "cell_type": "code",
   "execution_count": 211,
   "metadata": {},
   "outputs": [
    {
     "data": {
      "text/markdown": [
       "On $M_{m,+}$, there is at least one critical point: At $(0,0,\\tilde{r})$ we have $\\operatorname{grad} u_1=\\left[\\begin{matrix}0 & 0 & 0\\end{matrix}\\right]$"
      ],
      "text/plain": [
       "<IPython.core.display.Markdown object>"
      ]
     },
     "metadata": {},
     "output_type": "display_data"
    }
   ],
   "source": [
    "display(\n",
    "    Markdown(\n",
    "        f\"On $M_{{m,+}}$, there is at least one critical point: At $(0,0,\\\\tilde{{r}})$ we have $\\operatorname{{grad}} u_1={sympy.latex(sympy.Array([u1.covariantD(i) for i in range(1,4)]).subs(([(x1,r_critical)]+list(map(lambda coord: (coord,0),non_bounded_coords)))).simplify())}$\"\n",
    "    )\n",
    ")"
   ]
  },
  {
   "cell_type": "markdown",
   "metadata": {},
   "source": [
    "##### For $M_{m,\\geq a}$:"
   ]
  },
  {
   "cell_type": "code",
   "execution_count": 212,
   "metadata": {},
   "outputs": [
    {
     "data": {
      "text/markdown": [
       "On $M_{m,\\geq a} (for $a>0$), $u_1$ has no critical points! \n",
       "                 \n",
       "It suffices to look at the derivative in $x_1$-direction, which is always positive: We have $\\partial_1 u_1=\\frac{\\tilde{r} x_{1} \\left(\\tilde{r} a + x_{1} \\sqrt{x_{1}^{2} + x_{2}^{2} + x_{3}^{2}}\\right) - \\left(\\tilde{r} + \\sqrt{x_{1}^{2} + x_{2}^{2} + x_{3}^{2}}\\right) \\left(\\tilde{r} a x_{1} - \\left(x_{1}^{2} + x_{2}^{2} + x_{3}^{2}\\right)^{\\frac{3}{2}}\\right)}{\\left(\\tilde{r} + \\sqrt{x_{1}^{2} + x_{2}^{2} + x_{3}^{2}}\\right)^{2} \\left(x_{1}^{2} + x_{2}^{2} + x_{3}^{2}\\right)}$.\n",
       "\n",
       "We can ignore the denominator (which is clearly always positive, since $|x|>0$) and just consider the numerator $- \\tilde{r} a x_{1} \\sqrt{x_{1}^{2} + x_{2}^{2} + x_{3}^{2}} + 2 \\tilde{r} x_{1}^{2} \\sqrt{x_{1}^{2} + x_{2}^{2} + x_{3}^{2}} + \\tilde{r} x_{2}^{2} \\sqrt{x_{1}^{2} + x_{2}^{2} + x_{3}^{2}} + \\tilde{r} x_{3}^{2} \\sqrt{x_{1}^{2} + x_{2}^{2} + x_{3}^{2}} + x_{1}^{4} + 2 x_{1}^{2} x_{2}^{2} + 2 x_{1}^{2} x_{3}^{2} + x_{2}^{4} + 2 x_{2}^{2} x_{3}^{2} + x_{3}^{4}$.\n",
       "\n",
       "But $x_1\\geq a > 0$ and thus each of the negative terms in front are balanced out by later terms."
      ],
      "text/plain": [
       "<IPython.core.display.Markdown object>"
      ]
     },
     "metadata": {},
     "output_type": "display_data"
    }
   ],
   "source": [
    "relevant_derivative = u1_modified.covariantD(1).simplify()\n",
    "only_numerator = sympy.fraction(relevant_derivative)[0].expand()\n",
    "display(Markdown(f\"\"\"On $M_{{m,\\geq a}} (for $a>0$), $u_1$ has no critical points! \n",
    "                 \n",
    "It suffices to look at the derivative in $x_1$-direction, which is always positive: We have $\\partial_1 u_1={sympy.latex(relevant_derivative)}$.\n",
    "\n",
    "We can ignore the denominator (which is clearly always positive, since $|x|>0$) and just consider the numerator ${sympy.latex(only_numerator)}$.\n",
    "\n",
    "But $x_1\\geq a > 0$ and thus each of the negative terms in front are balanced out by later terms.\"\"\"))"
   ]
  },
  {
   "cell_type": "markdown",
   "metadata": {},
   "source": [
    "## Computation of the lower bound"
   ]
  },
  {
   "cell_type": "markdown",
   "metadata": {},
   "source": [
    "Let's try to compute the lower bound for the mass. We avoid simplifying anything (I once tried to let `sympy` simplify `abs_hessian_u1`, and it did complete, but only after 10 hours!). Even with manual help factoring out $\\omega$ terms and the like, the computation times are still often in the minutes. The numerical integration later on is fast enough to deal with unoptimized expressions."
   ]
  },
  {
   "cell_type": "code",
   "execution_count": 213,
   "metadata": {},
   "outputs": [],
   "source": [
    "abs_nabla_u1=sympy.sqrt(sum(g(-i,-j)*u1.covariantD(i)*u1.covariantD(j) for i in range(1,dim+1) for j in range(1,dim+1)))"
   ]
  },
  {
   "cell_type": "code",
   "execution_count": 214,
   "metadata": {},
   "outputs": [],
   "source": [
    "abs_nabla_u1_modified=sympy.sqrt(sum(g(-i,-j)*u1_modified.covariantD(i)*u1_modified.covariantD(j) for i in range(1,dim+1) for j in range(1,dim+1)))"
   ]
  },
  {
   "cell_type": "code",
   "execution_count": 215,
   "metadata": {},
   "outputs": [],
   "source": [
    "abs_hessian_u1=sympy.sqrt(sum(g(-i,-k)*g(-j,-l)*u1.covariantD(i,j)*u1.covariantD(k,l) for i,j,k,l in list(variations(range(1, dim+1), 4, True))))"
   ]
  },
  {
   "cell_type": "code",
   "execution_count": 216,
   "metadata": {},
   "outputs": [],
   "source": [
    "abs_hessian_u1_modified=sympy.sqrt(sum(g(-i,-k)*g(-j,-l)*u1_modified.covariantD(i,j)*u1_modified.covariantD(k,l) for i,j,k,l in variations(range(1, dim+1), 4, True)))"
   ]
  },
  {
   "cell_type": "markdown",
   "metadata": {},
   "source": [
    "We can now express the integrands. Note that we need to include the volume element. Also we have $R=0$, so the second term in the integrand disappears"
   ]
  },
  {
   "cell_type": "code",
   "execution_count": 217,
   "metadata": {},
   "outputs": [],
   "source": [
    "lower_bound_integrand_over_M=(abs_hessian_u1**2/abs_nabla_u1)*volume_element\n",
    "lower_bound_modified_integrand_over_M=(abs_hessian_u1_modified**2/abs_nabla_u1_modified)*volume_element"
   ]
  },
  {
   "cell_type": "markdown",
   "metadata": {},
   "source": [
    "We can now also write down the expression for integral term on the boundary (we need to use the volume element of $\\Sigma$ here). Note that the integrand over the boundary vanishes for $M_{m,+}$."
   ]
  },
  {
   "cell_type": "code",
   "execution_count": 218,
   "metadata": {},
   "outputs": [
    {
     "name": "stdout",
     "output_type": "stream",
     "text": [
      "lower_bound_integrand_over_boundary=0\n"
     ]
    }
   ],
   "source": [
    "lower_bound_integrand_over_boundary = 2*(H.subs(x1,0).simplify()*abs_nabla_u1)*hypersurface_volume_element\n",
    "print(f\"{lower_bound_integrand_over_boundary=}\")\n",
    "assert(lower_bound_integrand_over_boundary==0)\n",
    "\n",
    "lower_bound_modified_integrand_over_boundary = 2*(H.subs(x1,a).simplify()*abs_nabla_u1_modified)*hypersurface_volume_element"
   ]
  },
  {
   "cell_type": "markdown",
   "metadata": {},
   "source": [
    "We use `sympy.lambdify` to get numerical expressions for our integrands. We set $m=2$(!) and $a=2$ for now."
   ]
  },
  {
   "cell_type": "code",
   "execution_count": 219,
   "metadata": {},
   "outputs": [],
   "source": [
    "# numerical implementation (reverse args as we want x1 integration to be outermost)\n",
    "num_lower_bound_integrand_over_M = sympy.lambdify(list(reversed(coords))+[r_critical],lower_bound_integrand_over_M)\n",
    "num_lower_bound_integrand_over_boundary = sympy.lambdify(list(reversed(coords))+[r_critical],lower_bound_integrand_over_boundary)\n",
    "\n",
    "num_lower_bound_modified_integrand_over_M = sympy.lambdify(\n",
    "    list(reversed(coords)) + [r_critical,a], lower_bound_modified_integrand_over_M\n",
    ")\n",
    "num_lower_bound_modified_integrand_over_boundary = sympy.lambdify(\n",
    "    list(reversed(coords)) + [r_critical, a], lower_bound_modified_integrand_over_boundary\n",
    ")"
   ]
  },
  {
   "cell_type": "markdown",
   "metadata": {},
   "source": [
    "We can now do the numerical integration. Due to symmetry we are able to only integrate over one quadrant ($x_2\\geq 0, \\dotsc, x_n\\geq 0$ in addition to the usual $x_1\\geq 0$) and multiply by $2^{n-1}$ afterwards."
   ]
  },
  {
   "cell_type": "code",
   "execution_count": 230,
   "metadata": {},
   "outputs": [],
   "source": [
    "number_quadrants = 2**(dim-1)\n",
    "\n",
    "def most_coords_range(*args):\n",
    "  return [0,np.inf]\n",
    "  \n",
    "def xn_range(*args): \n",
    "  *previous_x_values,r_critical = args\n",
    "  return [np.sqrt(max(r_critical**2-sum(previous_x_value**2 for previous_x_value in previous_x_values),0)),np.inf]\n"
   ]
  },
  {
   "cell_type": "markdown",
   "metadata": {},
   "source": [
    "The integrand explodes near the intersection of the $x_1$-axis and the horizon, and thus convergence of the numerical integration is slow. To raise speed and lower accuracy, we can lower the `limit` parameter (for limiting the numbers of subintervals used in the algorithm). The default is 50 but takes forever, but already a value of 1 gives errors small enough for the result to be useful to us. With a limit of 2 the integration already takes three minutes on my machine (for dimension 3) and has only slightly better accuracy."
   ]
  },
  {
   "cell_type": "code",
   "execution_count": 231,
   "metadata": {},
   "outputs": [],
   "source": [
    "r_critical_value=0.5 # corresponds to mass of 1 in 3 dimensions, lower mass in higher dimensions (but seems better than a value of 1 with our integration method)\n",
    "\n",
    "result = scipy.integrate.nquad(\n",
    "  func=num_lower_bound_integrand_over_M,\n",
    "  ranges=[xn_range]+[most_coords_range]*(dim-1),\n",
    "  args=[r_critical_value], # passed to all functions in addition to coordinates\n",
    "  full_output=True,\n",
    "  opts={\"limit\":2}\n",
    ")\n",
    "\n",
    "# we do not need to do the integral over the boundary here, since the integrand is 0"
   ]
  },
  {
   "cell_type": "code",
   "execution_count": 233,
   "metadata": {},
   "outputs": [
    {
     "data": {
      "text/markdown": [
       "## Lower bound for mass (expected $m/2=1.0/2=0.5$) of $M_{1.0,+}$ with dimension $n=3$ calculated in $91125$ evaluations as $0.37317$ with an estimated absolute error of $0.15514$."
      ],
      "text/plain": [
       "<IPython.core.display.Markdown object>"
      ]
     },
     "metadata": {},
     "output_type": "display_data"
    }
   ],
   "source": [
    "schwarzschild_half_space_mass_lower_bound = normalization*number_quadrants*result[0]\n",
    "error_estimate = normalization*number_quadrants*result[1]\n",
    "number_evaluations = result[2]['neval']\n",
    "m_value=r_critical_value**(dim-2)*2\n",
    "display(Markdown(f\"## Lower bound for mass (expected $m/2={m_value}/2={m_value/2}$) of $M_{{{m_value},+}}$ with dimension $n={dim}$ calculated in ${number_evaluations}$ evaluations as ${schwarzschild_half_space_mass_lower_bound:.5f}$ with an estimated absolute error of ${error_estimate:.5f}$.\"))"
   ]
  },
  {
   "cell_type": "markdown",
   "metadata": {},
   "source": [
    "We can now do the same process for $M_{m,\\geq a}$ for $a>0$:"
   ]
  },
  {
   "cell_type": "code",
   "execution_count": 234,
   "metadata": {},
   "outputs": [],
   "source": [
    "modified_x1range=lambda r_critical_value,a_value:[a_value,np.inf]\n",
    "def modified_non_bounded_coords_range(*args): \n",
    "  return [0,np.inf]\n",
    "\n",
    "modified_non_bounded_coords_boundary_range = [0,np.inf]\n",
    "\n",
    "a_value = 2\n"
   ]
  },
  {
   "cell_type": "markdown",
   "metadata": {},
   "source": [
    "We have the same problem as before and need to limit the number of subintervals"
   ]
  },
  {
   "cell_type": "code",
   "execution_count": 235,
   "metadata": {},
   "outputs": [],
   "source": [
    "result_on_M = scipy.integrate.nquad(\n",
    "  func=num_lower_bound_modified_integrand_over_M,\n",
    "  ranges=[modified_non_bounded_coords_range]*(dim-1)+[modified_x1range],\n",
    "  args=[r_critical_value,a_value],\n",
    "  full_output=True,\n",
    "  opts={\"limit\":2}\n",
    ")"
   ]
  },
  {
   "cell_type": "markdown",
   "metadata": {},
   "source": [
    "But on the boundary, the numerical integration converges nicely"
   ]
  },
  {
   "cell_type": "code",
   "execution_count": 236,
   "metadata": {},
   "outputs": [],
   "source": [
    "result_on_boundary = scipy.integrate.nquad(\n",
    "  func=num_lower_bound_modified_integrand_over_boundary,\n",
    "  ranges=[modified_non_bounded_coords_boundary_range]*(dim-1),\n",
    "  args=[a_value,r_critical_value,a_value], # we also need to pass x_1=a here\n",
    "  full_output=True,\n",
    "  opts={\"limit\":20}\n",
    ")"
   ]
  },
  {
   "cell_type": "code",
   "execution_count": 248,
   "metadata": {},
   "outputs": [
    {
     "data": {
      "text/plain": [
       "((1.2678354733419992, 0.16218270647332855, {'neval': 89775}),\n",
       " (5.0265482457438315, 6.814808657066174e-08, {'neval': 3975}))"
      ]
     },
     "execution_count": 248,
     "metadata": {},
     "output_type": "execute_result"
    }
   ],
   "source": [
    "result_on_M,result_on_boundary"
   ]
  },
  {
   "cell_type": "code",
   "execution_count": 238,
   "metadata": {},
   "outputs": [
    {
     "data": {
      "text/markdown": [
       "## Lower bound for mass $m/2=0.5$ of $M_{m,\\geq 2}$ calculated in $93750$ evaluations as $0.50089$ with an estimated absolute error of $0.01291$."
      ],
      "text/plain": [
       "<IPython.core.display.Markdown object>"
      ]
     },
     "metadata": {},
     "output_type": "display_data"
    }
   ],
   "source": [
    "modified_schwarzschild_half_space_mass_lower_bound = normalization*number_quadrants*(result_on_M[0]+result_on_boundary[0])\n",
    "error_estimate_modified = normalization*number_quadrants*(result_on_M[1]+result_on_boundary[1])\n",
    "number_evaluations_modified = result_on_M[2]['neval'] + result_on_boundary[2]['neval'] # most of these will come from the boundary integral where we set the `limit` parameter higher\n",
    "display(Markdown(f\"## Lower bound for mass $m/2={m_value/2}$ of $M_{{m,\\geq {a_value}}}$ calculated in ${number_evaluations_modified}$ evaluations as ${modified_schwarzschild_half_space_mass_lower_bound:.5f}$ with an estimated absolute error of ${error_estimate_modified:.5f}$.\"))"
   ]
  },
  {
   "cell_type": "markdown",
   "metadata": {},
   "source": [
    "We can repeat this calculation for different values of $a$ and plot the results:"
   ]
  },
  {
   "cell_type": "code",
   "execution_count": 240,
   "metadata": {},
   "outputs": [],
   "source": [
    "def calculate_lower_bound_modified(a_value,r_critical_value):\n",
    "    result_on_M = scipy.integrate.nquad(\n",
    "        func=num_lower_bound_modified_integrand_over_M,\n",
    "        ranges=[modified_non_bounded_coords_range]*(dim-1)+[modified_x1range],\n",
    "        args=[r_critical_value,a_value],\n",
    "        full_output=True,\n",
    "        opts={\"limit\":1}\n",
    "    )\n",
    "    result_on_boundary = scipy.integrate.nquad(\n",
    "        func=num_lower_bound_modified_integrand_over_boundary,\n",
    "        ranges=[modified_non_bounded_coords_boundary_range] * (dim - 1),\n",
    "        args=[a_value, r_critical_value, a_value],  # we also need to pass x_1=a here\n",
    "        full_output=True,\n",
    "        opts={\"limit\": 10},\n",
    "    )\n",
    "    lower_bound_M = normalization*number_quadrants * result_on_M[0]\n",
    "    lower_bound_boundary = normalization*number_quadrants * result_on_boundary[0]\n",
    "    error_M = normalization*number_quadrants * result_on_M[1]\n",
    "    error_boundary = normalization*number_quadrants * result_on_boundary[1]\n",
    "    # number_evaluations_modified = result_on_M[2]['neval'] + result_on_boundary[2]['neval'] # most of these will come from the boundary integral where we set the `limit` parameter higher\n",
    "    total_lower_bound = lower_bound_M + lower_bound_boundary\n",
    "    total_error = error_M + error_boundary\n",
    "    return [\n",
    "        total_lower_bound,\n",
    "        total_error,\n",
    "        lower_bound_M,\n",
    "        error_M,\n",
    "        lower_bound_boundary,\n",
    "        error_boundary,\n",
    "    ]\n",
    "\n",
    "# def print_lower_bound_modified_results(\n",
    "#   modified_schwarzschild_half_space_mass_lower_bound,\n",
    "#   error_estimate_modified,\n",
    "#   number_evaluations_modified):\n",
    "#   display(Markdown(f\"## Lower bound for mass $m={m_value}$ of $M_{{m,\\geq {a_value}}}$ calculated in ${number_evaluations}$ evaluations as ${modified_schwarzschild_half_space_mass_lower_bound:.5f}$ with an estimated absolute error of ${error_estimate:.5f}$.\"))"
   ]
  },
  {
   "cell_type": "markdown",
   "metadata": {},
   "source": [
    "Computing the values for the plot might take a while"
   ]
  },
  {
   "cell_type": "code",
   "execution_count": 253,
   "metadata": {},
   "outputs": [],
   "source": [
    "a_values = np.array([1,2,5,10,100])\n",
    "r_critical_value = 0.5\n",
    "total_lower_bounds,total_errors,lower_bounds_M, errors_M, lower_bounds_boundary, errors_boundary = np.fromiter(\n",
    "  (calculate_lower_bound_modified(a_value,r_critical_value) for a_value in a_values),\n",
    "  np.dtype((float,6))).transpose()"
   ]
  },
  {
   "cell_type": "code",
   "execution_count": 254,
   "metadata": {},
   "outputs": [
    {
     "data": {
      "image/png": "[encoded data removed]",
      "text/plain": [
       "<Figure size 640x480 with 1 Axes>"
      ]
     },
     "metadata": {},
     "output_type": "display_data"
    }
   ],
   "source": [
    "plt.errorbar(a_values,total_lower_bounds,yerr=total_errors,label=f\"total lower bound\")\n",
    "plt.errorbar(a_values,lower_bounds_M,yerr=errors_M,label=f\"lower bound from integral on $ M_{{{m_value},\\!\\!\\geq a}}$\")\n",
    "plt.errorbar(a_values,lower_bounds_boundary,yerr=errors_boundary,label=f\"lower bound from integral on boundary $\\partial M_{{{m_value},\\!\\!\\geq a}}$\")\n",
    "plt.xscale('log')\n",
    "plt.gca().set_ylim(bottom=0)\n",
    "plt.xlabel(\"$a$ (log-scale)\")\n",
    "plt.ylabel(\"lower bound for mass obtained from harmonic function method\")\n",
    "plt.legend()\n",
    "plt.tight_layout()\n",
    "plt.title(f\"Lower bounds for the mass of $M_{{{m_value},\\!\\!\\geq a}}$ for different values of $a$ and $n={dim}$.\")\n",
    "plt.savefig(\"../figures/lower_bounds_for_different_values_of_a\",bbox_inches='tight')"
   ]
  },
  {
   "cell_type": "markdown",
   "metadata": {},
   "source": [
    "## Plotting the harmonic coordinates"
   ]
  },
  {
   "cell_type": "markdown",
   "metadata": {},
   "source": [
    "### Plotting Utilities"
   ]
  },
  {
   "cell_type": "markdown",
   "metadata": {},
   "source": [
    "Matplotlib does not come with a method of plotting implicit surfaces. The following approach is from [answers to this Stack Overflow question](https://stackoverflow.com/questions/4680525/plotting-implicit-equations-in-3d)."
   ]
  },
  {
   "cell_type": "markdown",
   "metadata": {},
   "source": [
    "```python\n",
    "# https://stackoverflow.com/a/4687582\n",
    "def plot_implicit_using_contours(ax,fn,level_set_value=0, bbox=((-2.5,2.5),(-2.5,2.5),(-2.5,2.5)),resolution=50,samples=30):\n",
    "    \"\"\" Create a plot of a 2d implicite surface fn(x,y,z)=level_set_value using contours\n",
    "\n",
    "    Args:\n",
    "        ax (matplotlib.axes)\n",
    "        fn (function): Function describing the implicit surface\n",
    "        level_set_value (int, optional): Which level set of fn to consider. Defaults to 0.\n",
    "        bbox (tuple, optional): x,y,and z limits of plotted interval. Defaults to ((-2.5,2.5),(-2.5,2.5),(-2.5,2.5)).\n",
    "        resolution (int, optional): Defaults to 50.\n",
    "        samples (int, optional): Number of slices to take\n",
    "    \"\"\"\n",
    "    xmin, xmax = bbox[0]\n",
    "    ymin, ymax = bbox[1]\n",
    "    zmin,zmax = bbox[2]\n",
    "    \n",
    "    xl = np.linspace(xmin, xmax, resolution)\n",
    "    yl = np.linspace(ymin,ymax,resolution)\n",
    "    zl = np.linspace(zmin, zmax, samples)\n",
    "    A1, A2 = np.meshgrid(xl,xl)\n",
    "\n",
    "    for z in zl: # plot contours in the XY plane\n",
    "        X,Y = A1,A2\n",
    "        Z = fn(X,Y,z)-level_set_value\n",
    "        cset = ax.contour(X, Y, Z+z-level_set_value, [z], zdir='z')\n",
    "        # [z] defines the only level to plot for this contour for this value of z\n",
    "\n",
    "    for y in zl: # plot contours in the XZ plane\n",
    "        X,Z = A1,A2\n",
    "        Y = fn(X,y,Z)-level_set_value\n",
    "        cset = ax.contour(X, Y+y, Z, [y], zdir='y')\n",
    "\n",
    "    for x in zl: # plot contours in the YZ plane\n",
    "        Y,Z = A1,A2\n",
    "        X = fn(x,Y,Z)-level_set_value\n",
    "        cset = ax.contour(X+x, Y, Z, [x], zdir='x')\n",
    "\n",
    "    # must set plot limits because the contour will likely extend\n",
    "    # way beyond the displayed level.  Otherwise matplotlib extends the plot limits\n",
    "    # to encompass all values in the contour.\n",
    "    ax.set_zlim3d(zmin,zmax)\n",
    "    ax.set_xlim3d(xmin,xmax)\n",
    "    ax.set_ylim3d(ymin,ymax)\n",
    "\n",
    "def plot_implicit_using_marching_cubes(ax,fn,level_set_value=0,bbox=((-2.5,2.5),(-2.5,2.5),(-2.5,2.5)),resolution=50):\n",
    "    \"\"\" Create a plot of a 2d implicit surface fn(x,y,z)=level_set_value using marching cubes\n",
    "\n",
    "    Args:\n",
    "        ax (matplotlib.axes)\n",
    "        fn (function): Function describing the implicit surface\n",
    "        level_set_value (int, optional): Which level set of fn to consider. Defaults to 0.\n",
    "        bbox (tuple, optional): x,y,and z limits of plotted interval. Defaults to ((-2.5,2.5),(-2.5,2.5),(-2.5,2.5)).\n",
    "        resolution (int, optional): Defaults to 50.\n",
    "    \"\"\"\n",
    "    xmin, xmax = bbox[0]\n",
    "    ymin, ymax = bbox[1]\n",
    "    zmin,zmax = bbox[2]\n",
    "    \n",
    "    xl = np.linspace(xmin,xmax, resolution)\n",
    "    yl = np.linspace(ymin,ymax, resolution)\n",
    "    zl = np.linspace(zmin,zmax, resolution)\n",
    "    X, Y, Z = np.meshgrid(xl, yl, zl)\n",
    "    F=fn(X,Y,Z)\n",
    "\n",
    "\n",
    "    verts, faces, normals, values = measure.marching_cubes(F, level_set_value, spacing=[np.diff(xl)[0],np.diff(yl)[0],np.diff(zl)[0]])\n",
    "    # need to correct vertex coordinates as they are expressed in Voxel coordinates\n",
    "    verts += (xmin,ymin,zmin)\n",
    "    \n",
    "    ax.plot_trisurf(verts[:, 0], verts[:, 1], faces, \n",
    "                    verts[:, 2], # color\n",
    "                    cmap='magma',vmin=zmin,vmax=zmax)\n",
    "    \n",
    "    ax.set_zlim3d(zmin,zmax)\n",
    "    ax.set_xlim3d(xmin,xmax)\n",
    "    ax.set_ylim3d(ymin,ymax)\n",
    "    return verts, faces\n",
    "```"
   ]
  },
  {
   "cell_type": "markdown",
   "metadata": {},
   "source": [
    "```python\n",
    "def plot_coordinate_level_sets(coordinate,level_set_values=(0),m_value=1,a_value=0,bbox=((-2.5,2.5),(-2.5,2.5),(-2.5,2.5)),resolution=50):\n",
    "  fn = sympy.lambdify([x1,x2,x1],(coordinate()).subs(((m,m_value),(a,a_value))))\n",
    "\n",
    "  n_plots = len(level_set_values)\n",
    "  n_cols = min(2,n_plots)\n",
    "  n_rows = (n_plots+1)//2\n",
    "\n",
    "  fig = plt.figure(figsize=(10,n_rows*4+1))\n",
    "  fig.suptitle(f\"Level sets of ${sympy.latex(coordinate.symbol)}$ on $M_{{{m_value},\\!\\!\\geq {a_value}}}$\",fontsize=20,y=0,va=\"top\")\n",
    "\n",
    "  axes = fig.subplots(ncols=n_cols,nrows=n_rows,subplot_kw=dict(projection='3d'),squeeze=False)\n",
    "\n",
    "  if n_plots<n_rows*2:\n",
    "    fig.delaxes(axes[n_rows-1,n_cols-1]) # delete last axis if unneccessary\n",
    "\n",
    "  for index, level_set_value in enumerate(level_set_values):\n",
    "    ax = axes.flatten()[index]\n",
    "    ax.set_title(f\"${sympy.latex(coordinate.symbol)}={level_set_value:.2f}$\",fontsize=16,pad=0)\n",
    "    ax.locator_params(nbins=4)\n",
    "    \n",
    "    plot_implicit_using_marching_cubes(ax,fn,level_set_value,bbox=bbox,resolution=resolution)\n",
    "    ax.set_aspect('equal')\n",
    "  fig.tight_layout(h_pad=5)\n",
    "  return fig\n",
    "```"
   ]
  },
  {
   "cell_type": "markdown",
   "metadata": {},
   "source": [
    "### Plots for $M_{m,+}=M_{m,\\geq 0}$"
   ]
  },
  {
   "cell_type": "markdown",
   "metadata": {},
   "source": [
    "```python\n",
    "fig=plot_coordinate_level_sets(u1,[0,0.1,0.2,0.3,0.4,0.5,0.6,0.7],bbox=[(-1.5,1.5),(-1.5,1.5),(0,1.1)])\n",
    "fig.savefig(\"../figures/level_sets_u1_unmodified\",bbox_inches='tight')\n",
    "````"
   ]
  },
  {
   "cell_type": "markdown",
   "metadata": {},
   "source": [
    "```python\n",
    "plot_coordinate_level_sets(u2,[-0.75,-0.5,-0.25,0,0.25,0.5,0.75],bbox=[(-1.1,1.1),(-1.1,1.1),(0,1.1)])\n",
    "plt.savefig(\"../figures/level_sets_u2_unmodified\",bbox_inches=\"tight\")\n",
    "```"
   ]
  },
  {
   "cell_type": "markdown",
   "metadata": {},
   "source": [
    "### Plots for $M_{m,\\!\\!\\geq a}$. We can symbolically check that the boundary $x_3=a$ is actually a level set. Numerically this level set is not quite correctly computed due to rounding errors. "
   ]
  },
  {
   "cell_type": "markdown",
   "metadata": {},
   "source": [
    "```python\n",
    "for a_value in [0.1,0.3]:\n",
    "  fig=plot_coordinate_level_sets(u1_modified,np.array([0,0.1,0.2,0.3,0.4,0.5,0.6,0.7])+a_value,a_value=a_value,bbox=[(-1.1,1.1),(-1.1,1.1),(0,1.5)],resolution=100)\n",
    "  fig.savefig(f'../figures/level_sets_u1_modified_with_a_{a_value}.png',bbox_inches='tight')\n",
    "```"
   ]
  }
 ],
 "metadata": {
  "kernelspec": {
   "display_name": ".nix-venv",
   "language": "python",
   "name": "python3"
  },
  "language_info": {
   "codemirror_mode": {
    "name": "ipython",
    "version": 3
   },
   "file_extension": ".py",
   "mimetype": "text/x-python",
   "name": "python",
   "nbconvert_exporter": "python",
   "pygments_lexer": "ipython3",
   "version": "3.11.8"
  },
  "orig_nbformat": 4
 },
 "nbformat": 4,
 "nbformat_minor": 2
}

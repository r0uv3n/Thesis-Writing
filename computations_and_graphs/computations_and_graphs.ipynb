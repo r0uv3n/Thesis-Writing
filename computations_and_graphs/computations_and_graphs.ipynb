{
 "cells": [
  {
   "cell_type": "markdown",
   "metadata": {},
   "source": [
    "# The harmonic function method and the mass of some Schwarzschild half-spaces - Computations and Graphs"
   ]
  },
  {
   "cell_type": "markdown",
   "metadata": {},
   "source": [
    "In this Jupyter Notebook, we will do two main things for our examples from Section 8:\n",
    "- Compute the lower bound given by Theorem 3.9\n",
    "- Plot the level sets of the harmonic coordinates"
   ]
  },
  {
   "cell_type": "markdown",
   "metadata": {},
   "source": [
    "### Setting up the Python environment"
   ]
  },
  {
   "cell_type": "code",
   "execution_count": 1,
   "metadata": {},
   "outputs": [],
   "source": [
    "# This file is present both as .ipynb as well as .py. For the latter, the `# %%` comment denote borders between cells so the Python file can be treated like an Jupyter notebook as well. The function below checks if the Python file is running inside a Jupyter Notebook\n",
    "def is_notebook() -> bool:\n",
    "  try:\n",
    "    shell = get_ipython().__class__.__name__ # type: ignore[reportUndefinedVariable]\n",
    "    if shell in ('ZMQInteractiveShell','XPythonShell'):\n",
    "        return True   # Jupyter notebook or qtconsole\n",
    "    elif shell == 'TerminalInteractiveShell':\n",
    "        return False  # Terminal running IPython\n",
    "    else:\n",
    "        return False  # Other type (?)\n",
    "  except NameError:\n",
    "    return False      # Probably standard Python interpreter"
   ]
  },
  {
   "cell_type": "code",
   "execution_count": 2,
   "metadata": {},
   "outputs": [],
   "source": [
    "# if is_notebook():\n",
    "#   get_ipython().run_line_magic(\"pip\", \"install gravipy matplotlib scikit-image\") # this helps if this Notebook is executed from within e.g. jupyter-cloud.gwdg.de  # type: ignore[reportUndefinedVariable]"
   ]
  },
  {
   "cell_type": "code",
   "execution_count": 3,
   "metadata": {},
   "outputs": [],
   "source": [
    "from gravipy.tensorial import * # import GraviPy package\n",
    "import sympy\n",
    "import numpy as np\n",
    "import scipy\n",
    "import matplotlib.pyplot as plt\n",
    "\n",
    "# for plotting of implicit surfaces (i.e. the level sets)\n",
    "from mpl_toolkits.mplot3d import axes3d\n",
    "from skimage import measure\n",
    "\n",
    "from sympy.utilities.lambdify import lambdastr"
   ]
  },
  {
   "cell_type": "code",
   "execution_count": 4,
   "metadata": {},
   "outputs": [],
   "source": [
    "if is_notebook():\n",
    "  from IPython.display import display, Markdown\n",
    "else:\n",
    "  from rich.markdown import Markdown\n",
    "  from rich.console import Console\n",
    "  console = Console()\n",
    "  display = console.print\n"
   ]
  },
  {
   "cell_type": "markdown",
   "metadata": {},
   "source": [
    "### Setting up the manifold, metric, etc."
   ]
  },
  {
   "cell_type": "code",
   "execution_count": 5,
   "metadata": {},
   "outputs": [],
   "source": [
    "dim = 3\n",
    "\n",
    "non_bounded_coords_string = \" \".join(f\"x_{i}\" for i in range(2,dim+1))\n",
    "non_bounded_coords = list(symbols(non_bounded_coords_string, real=True))\n",
    "x1 = symbols(\"x_1\", nonnegative=True)\n",
    "m = symbols(\"m\",positive=True)\n",
    "r_critical = symbols(r\"\\tilde{r}\",positive=True) \n",
    "# r_critical = (m/2)**(1/(dim-2))\n",
    "\n",
    " \n",
    "coords=[x1]+non_bounded_coords\n",
    "pos = Coordinates(r'\\chi',coords)\n",
    "R=sympy.sqrt(sum(xi**2 for xi in coords))\n",
    "omega=(1+(r_critical/R)**(dim-2))\n",
    "exponent=4/(dim-2)\n",
    "# metric = sympy.MatrixSymbol(\"g\",3,3)\n",
    "metric = omega**exponent*sympy.eye(dim)\n",
    "g = MetricTensor('g', pos, metric)\n",
    "Ga = Christoffel(r'\\Gamma', g)"
   ]
  },
  {
   "cell_type": "code",
   "execution_count": 6,
   "metadata": {},
   "outputs": [],
   "source": [
    "# useful for all kinds of integrals\n",
    "volume_element = sympy.sqrt(sympy.Determinant(metric)).simplify()\n",
    "hypersurface_volume_element = sympy.sqrt(sympy.Determinant(metric[1:,1:])).simplify()"
   ]
  },
  {
   "cell_type": "code",
   "execution_count": 7,
   "metadata": {},
   "outputs": [],
   "source": [
    "# metric of hypersurface\n",
    "gamma_metric = omega**exponent*sympy.diag(*([0]+[1]*(dim-1)))\n",
    "gamma = MetricTensor(r'\\gamma', pos, gamma_metric)\n",
    "Ga_gamma = Christoffel(r'\\Gamma_{\\gamma}',gamma)"
   ]
  },
  {
   "cell_type": "markdown",
   "metadata": {},
   "source": [
    "Some utility functions:"
   ]
  },
  {
   "cell_type": "code",
   "execution_count": 8,
   "metadata": {},
   "outputs": [],
   "source": [
    "def laplacian(scalar):\n",
    "  return sum([g(-i,-j)*scalar.covariantD(i,j) for i in range(1,dim+1) for j in range(1,dim+1)])"
   ]
  },
  {
   "cell_type": "code",
   "execution_count": 9,
   "metadata": {},
   "outputs": [],
   "source": [
    "def gradient(symbol):\n",
    "  V = Tensor(r\"\\Nabla \"+str(symbol),1,g)\n",
    "  def compute_V(idxs):\n",
    "    component=sympy.diff(symbol,coords[idxs[0]-1])\n",
    "    V.components.update({idxs:component})\n",
    "    return component\n",
    "  V._compute_contravariant_component=compute_V\n",
    "  return V"
   ]
  },
  {
   "cell_type": "markdown",
   "metadata": {},
   "source": [
    "### Setting up the harmonic coordinates"
   ]
  },
  {
   "cell_type": "markdown",
   "metadata": {},
   "source": [
    "Define all the harmonic coordinates for $M_{m,+}$:"
   ]
  },
  {
   "cell_type": "code",
   "execution_count": 10,
   "metadata": {},
   "outputs": [],
   "source": [
    "u1,*non_bounded_u = [Tensor(f\"u_{i}\",0,g) for i in range(1,dim+1)]\n",
    "harmonic_coords = [u1]+non_bounded_u\n",
    "\n",
    "def make_u_method(x,u):\n",
    "  def u_method(idxs):\n",
    "    component = x*(1+(r_critical/R)**dim)/omega\n",
    "    u.components.update({idxs: component})\n",
    "    return component\n",
    "  return u_method\n",
    "\n",
    "for x, u in zip(coords,harmonic_coords):\n",
    "  u._compute_covariant_component = make_u_method(x,u)"
   ]
  },
  {
   "cell_type": "markdown",
   "metadata": {},
   "source": [
    "And define $u_1$ for the modified Schwarzschild space $M_{m,\\geq a}$ for $a>0$:"
   ]
  },
  {
   "cell_type": "code",
   "execution_count": 11,
   "metadata": {},
   "outputs": [],
   "source": [
    "a = symbols(\"a\")\n",
    "u1_modified = Tensor(\"u_1\",0,g)\n",
    "\n",
    "def u1_modified_method(idxs):\n",
    "    component = (x1+a*(r_critical/R)**(dim-2))/omega\n",
    "    u1_modified.components.update({idxs: component})\n",
    "    return component\n",
    "u1_modified._compute_covariant_component = u1_modified_method"
   ]
  },
  {
   "cell_type": "markdown",
   "metadata": {},
   "source": [
    "## Testing our Setup"
   ]
  },
  {
   "cell_type": "markdown",
   "metadata": {},
   "source": [
    "### What's the mass of our space?"
   ]
  },
  {
   "cell_type": "markdown",
   "metadata": {},
   "source": [
    "We use the spherical symmetry of the solution to avoid the integral, but we do evaluate the integrand in one radial direction (namely along the $x_1$-axis)"
   ]
  },
  {
   "cell_type": "code",
   "execution_count": 12,
   "metadata": {},
   "outputs": [],
   "source": [
    "normal_vector_to_sphere = Tensor(r\"n_{S_r}\",1,g)\n",
    "def n_S_r_compute_covariant_component(idxs):\n",
    "  component = sympy.sqrt(g(idxs[0],idxs[0]))*coords[idxs[0]-1]/R\n",
    "  normal_vector_to_sphere.components.update({idxs:component})\n",
    "  return component\n",
    "normal_vector_to_sphere._compute_covariant_component=n_S_r_compute_covariant_component"
   ]
  },
  {
   "cell_type": "code",
   "execution_count": 13,
   "metadata": {},
   "outputs": [
    {
     "data": {
      "text/latex": [
       "$\\displaystyle \\frac{x_{1} \\sqrt{\\left(\\frac{\\tilde{r}}{\\sqrt{x_{1}^{2} + x_{2}^{2} + x_{3}^{2}}} + 1\\right)^{4.0}}}{\\sqrt{x_{1}^{2} + x_{2}^{2} + x_{3}^{2}}}$"
      ],
      "text/plain": [
       "x_1*sqrt((\\tilde{r}/sqrt(x_1**2 + x_2**2 + x_3**2) + 1)**4.0)/sqrt(x_1**2 + x_2**2 + x_3**2)"
      ]
     },
     "execution_count": 13,
     "metadata": {},
     "output_type": "execute_result"
    }
   ],
   "source": [
    "normal_vector_to_sphere(1)"
   ]
  },
  {
   "cell_type": "code",
   "execution_count": 14,
   "metadata": {},
   "outputs": [],
   "source": [
    "mass_integrand = sum((g.partialD(i,j,i)-g.partialD(i,i,j))*normal_vector_to_sphere(-j) for i,j in list(variations(range(1,dim+1),2,True)))\n",
    "ray_substition = list([coord,0] for coord in non_bounded_coords)\n",
    "ray_mass_integrand = mass_integrand.subs(ray_substition).simplify()"
   ]
  },
  {
   "cell_type": "code",
   "execution_count": 15,
   "metadata": {},
   "outputs": [
    {
     "data": {
      "text/latex": [
       "$\\displaystyle \\frac{8.0 \\tilde{r} \\left(\\tilde{r} + x_{1}\\right)^{1.0}}{x_{1}^{3.0}}$"
      ],
      "text/plain": [
       "8.0*\\tilde{r}*(\\tilde{r} + x_1)**1.0/x_1**3.0"
      ]
     },
     "execution_count": 15,
     "metadata": {},
     "output_type": "execute_result"
    }
   ],
   "source": [
    "ray_mass_integrand"
   ]
  },
  {
   "cell_type": "markdown",
   "metadata": {},
   "source": [
    "Here and in the following we will need the area of an $(n-1)$-sphere"
   ]
  },
  {
   "cell_type": "code",
   "execution_count": 16,
   "metadata": {},
   "outputs": [],
   "source": [
    "sphere_volume = sympy.pi ** (sympy.Number(dim) / 2) / sympy.gamma(sympy.Number(dim) / 2 + 1)\n",
    "normalization = 1 / (sphere_volume * 2 * (dim - 1))\n",
    "numerical_normalization = float(normalization)"
   ]
  },
  {
   "cell_type": "code",
   "execution_count": 17,
   "metadata": {},
   "outputs": [],
   "source": [
    "unnormalized_mass_integral = (ray_mass_integrand*(hypersurface_volume_element*sphere_volume*R**(dim-1)).subs(ray_substition)).simplify()\n",
    "unnormalized_mass = sympy.Limit(unnormalized_mass_integral,x1,sympy.oo).simplify()\n",
    "mass = normalization*unnormalized_mass"
   ]
  },
  {
   "cell_type": "markdown",
   "metadata": {},
   "source": [
    "The following should return $m=2\\tilde{r}^{n-2}$, where $n$ is the dimension."
   ]
  },
  {
   "cell_type": "code",
   "execution_count": 18,
   "metadata": {},
   "outputs": [
    {
     "data": {
      "text/markdown": [
       "The mass is $2 \\tilde{r}$"
      ],
      "text/plain": [
       "<IPython.core.display.Markdown object>"
      ]
     },
     "metadata": {},
     "output_type": "display_data"
    }
   ],
   "source": [
    "display(Markdown(f\"The mass is ${sympy.latex(mass)}$\"))\n",
    "assert(mass==(2*r_critical**(dim-2)).simplify())"
   ]
  },
  {
   "cell_type": "markdown",
   "metadata": {},
   "source": [
    "### Is the mean curvature correct?"
   ]
  },
  {
   "cell_type": "markdown",
   "metadata": {},
   "source": [
    "We compute the mean curvature of the noncompact boundary (observe that the result agrees with our computation in Section 8)"
   ]
  },
  {
   "cell_type": "code",
   "execution_count": 19,
   "metadata": {},
   "outputs": [],
   "source": [
    "normal_vector_to_noncompact_boundary = Tensor(r\"\\nu\",1,g) \n",
    "def nu_compute_covariant_component(idxs):   \n",
    "  if idxs[0]==1:     \n",
    "    component = -sympy.sqrt(g(1,1))   \n",
    "  else:\n",
    "     component = sympy.Number(0)   \n",
    "  normal_vector_to_noncompact_boundary.components.update({idxs:component})  \n",
    "  return component \n",
    "normal_vector_to_noncompact_boundary._compute_covariant_component=nu_compute_covariant_component"
   ]
  },
  {
   "cell_type": "code",
   "execution_count": 20,
   "metadata": {},
   "outputs": [
    {
     "data": {
      "text/markdown": [
       "Mean curvature $H$ of non-compact boundary is $\\frac{4.0 \\tilde{r} x_{1}}{\\left(\\tilde{r} + \\sqrt{x_{1}^{2} + x_{2}^{2} + x_{3}^{2}}\\right)^{3.0}}$, which is the same as $\\frac{2 (n-1)\\tilde{r}^{n-2}}{r^n\\cdot \\omega^{2/(n-2)+1}}x_1=\\frac{4 \\tilde{r} x_{1}}{\\left(\\tilde{r} + \\sqrt{x_{1}^{2} + x_{2}^{2} + x_{3}^{2}}\\right)^{3.0}}$."
      ],
      "text/plain": [
       "<IPython.core.display.Markdown object>"
      ]
     },
     "metadata": {},
     "output_type": "display_data"
    }
   ],
   "source": [
    "H=sum(g(-i,-j)*normal_vector_to_noncompact_boundary.covariantD(i,j) for i,j in variations(range(1,dim+1),2,True)).simplify()\n",
    "display(Markdown(f\"Mean curvature $H$ of non-compact boundary is ${sympy.latex(H)}$, which is the same as $\\\\frac{{2 (n-1)\\\\tilde{{r}}^{{n-2}}}}{{r^n\\\\cdot \\omega^{{2/(n-2)+1}}}}x_1={sympy.latex((2*(dim-1)*r_critical**(dim-2)*x1/(R**dim*omega**(2/(dim-2)+1))).simplify())}$.\"))\n",
    "assert((H-2*(dim-1)*r_critical**(dim-2)*x1/(R**dim*omega**(2/(dim-2)+1))).simplify()==0)"
   ]
  },
  {
   "cell_type": "markdown",
   "metadata": {},
   "source": [
    "\n",
    "The above is greater than $0$ in particular if $x_1>0$."
   ]
  },
  {
   "cell_type": "markdown",
   "metadata": {},
   "source": [
    "### Are our functions truly harmonic?"
   ]
  },
  {
   "cell_type": "code",
   "execution_count": 22,
   "metadata": {},
   "outputs": [
    {
     "data": {
      "text/latex": [
       "$\\displaystyle \\frac{x_{1} \\left(\\frac{\\tilde{r}^{3}}{\\left(x_{1}^{2} + x_{2}^{2} + x_{3}^{2}\\right)^{\\frac{3}{2}}} + 1\\right)}{\\frac{\\tilde{r}}{\\sqrt{x_{1}^{2} + x_{2}^{2} + x_{3}^{2}}} + 1}$"
      ],
      "text/plain": [
       "x_1*(\\tilde{r}**3/(x_1**2 + x_2**2 + x_3**2)**(3/2) + 1)/(\\tilde{r}/sqrt(x_1**2 + x_2**2 + x_3**2) + 1)"
      ]
     },
     "execution_count": 22,
     "metadata": {},
     "output_type": "execute_result"
    }
   ],
   "source": [
    "u1()"
   ]
  },
  {
   "cell_type": "code",
   "execution_count": 21,
   "metadata": {},
   "outputs": [
    {
     "name": "stdout",
     "output_type": "stream",
     "text": [
      "Harmonicity check:\n"
     ]
    },
    {
     "data": {
      "text/markdown": [
       "$\\Delta u_1=\\frac{1.0 \\tilde{r} x_{1} \\cdot \\left(2.0 \\tilde{r}^{4} x_{1}^{6} \\sqrt{x_{1}^{2} + x_{2}^{2} + x_{3}^{2}} - 2.0 \\tilde{r}^{4} x_{1}^{4} x_{2}^{2} \\sqrt{x_{1}^{2} + x_{2}^{2} + x_{3}^{2}} - 2.0 \\tilde{r}^{4} x_{1}^{4} x_{3}^{2} \\sqrt{x_{1}^{2} + x_{2}^{2} + x_{3}^{2}} - 10.0 \\tilde{r}^{4} x_{1}^{2} x_{2}^{4} \\sqrt{x_{1}^{2} + x_{2}^{2} + x_{3}^{2}} - 20.0 \\tilde{r}^{4} x_{1}^{2} x_{2}^{2} x_{3}^{2} \\sqrt{x_{1}^{2} + x_{2}^{2} + x_{3}^{2}} - 10.0 \\tilde{r}^{4} x_{1}^{2} x_{3}^{4} \\sqrt{x_{1}^{2} + x_{2}^{2} + x_{3}^{2}} - 2.0 \\tilde{r}^{4} x_{1}^{2} \\left(x_{1}^{2} + x_{2}^{2} + x_{3}^{2}\\right)^{2.5} - 6.0 \\tilde{r}^{4} x_{2}^{6} \\sqrt{x_{1}^{2} + x_{2}^{2} + x_{3}^{2}} - 18.0 \\tilde{r}^{4} x_{2}^{4} x_{3}^{2} \\sqrt{x_{1}^{2} + x_{2}^{2} + x_{3}^{2}} - 18.0 \\tilde{r}^{4} x_{2}^{2} x_{3}^{4} \\sqrt{x_{1}^{2} + x_{2}^{2} + x_{3}^{2}} + 6.0 \\tilde{r}^{4} x_{2}^{2} \\left(x_{1}^{2} + x_{2}^{2} + x_{3}^{2}\\right)^{2.5} - 6.0 \\tilde{r}^{4} x_{3}^{6} \\sqrt{x_{1}^{2} + x_{2}^{2} + x_{3}^{2}} + 6.0 \\tilde{r}^{4} x_{3}^{2} \\left(x_{1}^{2} + x_{2}^{2} + x_{3}^{2}\\right)^{2.5} + 4.0 \\tilde{r}^{3} x_{1}^{8} + 4.0 \\tilde{r}^{3} x_{1}^{6} x_{2}^{2} + 4.0 \\tilde{r}^{3} x_{1}^{6} x_{3}^{2} - 12.0 \\tilde{r}^{3} x_{1}^{4} x_{2}^{4} - 24.0 \\tilde{r}^{3} x_{1}^{4} x_{2}^{2} x_{3}^{2} - 12.0 \\tilde{r}^{3} x_{1}^{4} x_{3}^{4} - 20.0 \\tilde{r}^{3} x_{1}^{2} x_{2}^{6} - 60.0 \\tilde{r}^{3} x_{1}^{2} x_{2}^{4} x_{3}^{2} - 60.0 \\tilde{r}^{3} x_{1}^{2} x_{2}^{2} x_{3}^{4} - 20.0 \\tilde{r}^{3} x_{1}^{2} x_{3}^{6} - 4.0 \\tilde{r}^{3} x_{1}^{2} \\left(x_{1}^{2} + x_{2}^{2} + x_{3}^{2}\\right)^{3.0} - 8.0 \\tilde{r}^{3} x_{2}^{8} - 32.0 \\tilde{r}^{3} x_{2}^{6} x_{3}^{2} - 48.0 \\tilde{r}^{3} x_{2}^{4} x_{3}^{4} - 32.0 \\tilde{r}^{3} x_{2}^{2} x_{3}^{6} + 8.0 \\tilde{r}^{3} x_{2}^{2} \\left(x_{1}^{2} + x_{2}^{2} + x_{3}^{2}\\right)^{3.0} - 8.0 \\tilde{r}^{3} x_{3}^{8} + 8.0 \\tilde{r}^{3} x_{3}^{2} \\left(x_{1}^{2} + x_{2}^{2} + x_{3}^{2}\\right)^{3.0} - 4.0 \\tilde{r} x_{1}^{10} - 16.0 \\tilde{r} x_{1}^{8} x_{2}^{2} - 16.0 \\tilde{r} x_{1}^{8} x_{3}^{2} - 24.0 \\tilde{r} x_{1}^{6} x_{2}^{4} - 48.0 \\tilde{r} x_{1}^{6} x_{2}^{2} x_{3}^{2} - 24.0 \\tilde{r} x_{1}^{6} x_{3}^{4} - 16.0 \\tilde{r} x_{1}^{4} x_{2}^{6} - 48.0 \\tilde{r} x_{1}^{4} x_{2}^{4} x_{3}^{2} - 48.0 \\tilde{r} x_{1}^{4} x_{2}^{2} x_{3}^{4} - 16.0 \\tilde{r} x_{1}^{4} x_{3}^{6} + 4.0 \\tilde{r} x_{1}^{4} \\left(x_{1}^{2} + x_{2}^{2} + x_{3}^{2}\\right)^{3.0} - 4.0 \\tilde{r} x_{1}^{2} x_{2}^{8} - 16.0 \\tilde{r} x_{1}^{2} x_{2}^{6} x_{3}^{2} - 24.0 \\tilde{r} x_{1}^{2} x_{2}^{4} x_{3}^{4} - 16.0 \\tilde{r} x_{1}^{2} x_{2}^{2} x_{3}^{6} + 4.0 \\tilde{r} x_{1}^{2} x_{2}^{2} \\left(x_{1}^{2} + x_{2}^{2} + x_{3}^{2}\\right)^{3.0} - 4.0 \\tilde{r} x_{1}^{2} x_{3}^{8} + 4.0 \\tilde{r} x_{1}^{2} x_{3}^{2} \\left(x_{1}^{2} + x_{2}^{2} + x_{3}^{2}\\right)^{3.0} - 2.0 x_{1}^{10} \\sqrt{x_{1}^{2} + x_{2}^{2} + x_{3}^{2}} - 10.0 x_{1}^{8} x_{2}^{2} \\sqrt{x_{1}^{2} + x_{2}^{2} + x_{3}^{2}} - 10.0 x_{1}^{8} x_{3}^{2} \\sqrt{x_{1}^{2} + x_{2}^{2} + x_{3}^{2}} - 20.0 x_{1}^{6} x_{2}^{4} \\sqrt{x_{1}^{2} + x_{2}^{2} + x_{3}^{2}} - 40.0 x_{1}^{6} x_{2}^{2} x_{3}^{2} \\sqrt{x_{1}^{2} + x_{2}^{2} + x_{3}^{2}} - 20.0 x_{1}^{6} x_{3}^{4} \\sqrt{x_{1}^{2} + x_{2}^{2} + x_{3}^{2}} - 20.0 x_{1}^{4} x_{2}^{6} \\sqrt{x_{1}^{2} + x_{2}^{2} + x_{3}^{2}} - 60.0 x_{1}^{4} x_{2}^{4} x_{3}^{2} \\sqrt{x_{1}^{2} + x_{2}^{2} + x_{3}^{2}} - 60.0 x_{1}^{4} x_{2}^{2} x_{3}^{4} \\sqrt{x_{1}^{2} + x_{2}^{2} + x_{3}^{2}} - 20.0 x_{1}^{4} x_{3}^{6} \\sqrt{x_{1}^{2} + x_{2}^{2} + x_{3}^{2}} + 2.0 x_{1}^{4} \\left(x_{1}^{2} + x_{2}^{2} + x_{3}^{2}\\right)^{3.5} - 10.0 x_{1}^{2} x_{2}^{8} \\sqrt{x_{1}^{2} + x_{2}^{2} + x_{3}^{2}} - 40.0 x_{1}^{2} x_{2}^{6} x_{3}^{2} \\sqrt{x_{1}^{2} + x_{2}^{2} + x_{3}^{2}} - 60.0 x_{1}^{2} x_{2}^{4} x_{3}^{4} \\sqrt{x_{1}^{2} + x_{2}^{2} + x_{3}^{2}} - 40.0 x_{1}^{2} x_{2}^{2} x_{3}^{6} \\sqrt{x_{1}^{2} + x_{2}^{2} + x_{3}^{2}} + 4.0 x_{1}^{2} x_{2}^{2} \\left(x_{1}^{2} + x_{2}^{2} + x_{3}^{2}\\right)^{3.5} - 10.0 x_{1}^{2} x_{3}^{8} \\sqrt{x_{1}^{2} + x_{2}^{2} + x_{3}^{2}} + 4.0 x_{1}^{2} x_{3}^{2} \\left(x_{1}^{2} + x_{2}^{2} + x_{3}^{2}\\right)^{3.5} - 2.0 x_{2}^{10} \\sqrt{x_{1}^{2} + x_{2}^{2} + x_{3}^{2}} - 10.0 x_{2}^{8} x_{3}^{2} \\sqrt{x_{1}^{2} + x_{2}^{2} + x_{3}^{2}} - 20.0 x_{2}^{6} x_{3}^{4} \\sqrt{x_{1}^{2} + x_{2}^{2} + x_{3}^{2}} - 20.0 x_{2}^{4} x_{3}^{6} \\sqrt{x_{1}^{2} + x_{2}^{2} + x_{3}^{2}} + 2.0 x_{2}^{4} \\left(x_{1}^{2} + x_{2}^{2} + x_{3}^{2}\\right)^{3.5} - 10.0 x_{2}^{2} x_{3}^{8} \\sqrt{x_{1}^{2} + x_{2}^{2} + x_{3}^{2}} + 4.0 x_{2}^{2} x_{3}^{2} \\left(x_{1}^{2} + x_{2}^{2} + x_{3}^{2}\\right)^{3.5} - 2.0 x_{3}^{10} \\sqrt{x_{1}^{2} + x_{2}^{2} + x_{3}^{2}} + 2.0 x_{3}^{4} \\left(x_{1}^{2} + x_{2}^{2} + x_{3}^{2}\\right)^{3.5}\\right)}{\\left(\\tilde{r} + \\sqrt{x_{1}^{2} + x_{2}^{2} + x_{3}^{2}}\\right)^{7.0} \\left(x_{1}^{2} + x_{2}^{2} + x_{3}^{2}\\right)^{3.5}}$"
      ],
      "text/plain": [
       "<IPython.core.display.Markdown object>"
      ]
     },
     "metadata": {},
     "output_type": "display_data"
    },
    {
     "data": {
      "text/markdown": [
       "$\\Delta u_2=\\frac{1.0 \\tilde{r} x_{2} \\left(- 6.0 \\tilde{r}^{4} x_{1}^{6} \\sqrt{x_{1}^{2} + x_{2}^{2} + x_{3}^{2}} - 10.0 \\tilde{r}^{4} x_{1}^{4} x_{2}^{2} \\sqrt{x_{1}^{2} + x_{2}^{2} + x_{3}^{2}} - 18.0 \\tilde{r}^{4} x_{1}^{4} x_{3}^{2} \\sqrt{x_{1}^{2} + x_{2}^{2} + x_{3}^{2}} - 2.0 \\tilde{r}^{4} x_{1}^{2} x_{2}^{4} \\sqrt{x_{1}^{2} + x_{2}^{2} + x_{3}^{2}} - 20.0 \\tilde{r}^{4} x_{1}^{2} x_{2}^{2} x_{3}^{2} \\sqrt{x_{1}^{2} + x_{2}^{2} + x_{3}^{2}} - 18.0 \\tilde{r}^{4} x_{1}^{2} x_{3}^{4} \\sqrt{x_{1}^{2} + x_{2}^{2} + x_{3}^{2}} + 6.0 \\tilde{r}^{4} x_{1}^{2} \\left(x_{1}^{2} + x_{2}^{2} + x_{3}^{2}\\right)^{2.5} + 2.0 \\tilde{r}^{4} x_{2}^{6} \\sqrt{x_{1}^{2} + x_{2}^{2} + x_{3}^{2}} - 2.0 \\tilde{r}^{4} x_{2}^{4} x_{3}^{2} \\sqrt{x_{1}^{2} + x_{2}^{2} + x_{3}^{2}} - 10.0 \\tilde{r}^{4} x_{2}^{2} x_{3}^{4} \\sqrt{x_{1}^{2} + x_{2}^{2} + x_{3}^{2}} - 2.0 \\tilde{r}^{4} x_{2}^{2} \\left(x_{1}^{2} + x_{2}^{2} + x_{3}^{2}\\right)^{2.5} - 6.0 \\tilde{r}^{4} x_{3}^{6} \\sqrt{x_{1}^{2} + x_{2}^{2} + x_{3}^{2}} + 6.0 \\tilde{r}^{4} x_{3}^{2} \\left(x_{1}^{2} + x_{2}^{2} + x_{3}^{2}\\right)^{2.5} - 8.0 \\tilde{r}^{3} x_{1}^{8} - 20.0 \\tilde{r}^{3} x_{1}^{6} x_{2}^{2} - 32.0 \\tilde{r}^{3} x_{1}^{6} x_{3}^{2} - 12.0 \\tilde{r}^{3} x_{1}^{4} x_{2}^{4} - 60.0 \\tilde{r}^{3} x_{1}^{4} x_{2}^{2} x_{3}^{2} - 48.0 \\tilde{r}^{3} x_{1}^{4} x_{3}^{4} + 4.0 \\tilde{r}^{3} x_{1}^{2} x_{2}^{6} - 24.0 \\tilde{r}^{3} x_{1}^{2} x_{2}^{4} x_{3}^{2} - 60.0 \\tilde{r}^{3} x_{1}^{2} x_{2}^{2} x_{3}^{4} - 32.0 \\tilde{r}^{3} x_{1}^{2} x_{3}^{6} + 8.0 \\tilde{r}^{3} x_{1}^{2} \\left(x_{1}^{2} + x_{2}^{2} + x_{3}^{2}\\right)^{3.0} + 4.0 \\tilde{r}^{3} x_{2}^{8} + 4.0 \\tilde{r}^{3} x_{2}^{6} x_{3}^{2} - 12.0 \\tilde{r}^{3} x_{2}^{4} x_{3}^{4} - 20.0 \\tilde{r}^{3} x_{2}^{2} x_{3}^{6} - 4.0 \\tilde{r}^{3} x_{2}^{2} \\left(x_{1}^{2} + x_{2}^{2} + x_{3}^{2}\\right)^{3.0} - 8.0 \\tilde{r}^{3} x_{3}^{8} + 8.0 \\tilde{r}^{3} x_{3}^{2} \\left(x_{1}^{2} + x_{2}^{2} + x_{3}^{2}\\right)^{3.0} - 4.0 \\tilde{r} x_{1}^{8} x_{2}^{2} - 16.0 \\tilde{r} x_{1}^{6} x_{2}^{4} - 16.0 \\tilde{r} x_{1}^{6} x_{2}^{2} x_{3}^{2} - 24.0 \\tilde{r} x_{1}^{4} x_{2}^{6} - 48.0 \\tilde{r} x_{1}^{4} x_{2}^{4} x_{3}^{2} - 24.0 \\tilde{r} x_{1}^{4} x_{2}^{2} x_{3}^{4} - 16.0 \\tilde{r} x_{1}^{2} x_{2}^{8} - 48.0 \\tilde{r} x_{1}^{2} x_{2}^{6} x_{3}^{2} - 48.0 \\tilde{r} x_{1}^{2} x_{2}^{4} x_{3}^{4} - 16.0 \\tilde{r} x_{1}^{2} x_{2}^{2} x_{3}^{6} + 4.0 \\tilde{r} x_{1}^{2} x_{2}^{2} \\left(x_{1}^{2} + x_{2}^{2} + x_{3}^{2}\\right)^{3.0} - 4.0 \\tilde{r} x_{2}^{10} - 16.0 \\tilde{r} x_{2}^{8} x_{3}^{2} - 24.0 \\tilde{r} x_{2}^{6} x_{3}^{4} - 16.0 \\tilde{r} x_{2}^{4} x_{3}^{6} + 4.0 \\tilde{r} x_{2}^{4} \\left(x_{1}^{2} + x_{2}^{2} + x_{3}^{2}\\right)^{3.0} - 4.0 \\tilde{r} x_{2}^{2} x_{3}^{8} + 4.0 \\tilde{r} x_{2}^{2} x_{3}^{2} \\left(x_{1}^{2} + x_{2}^{2} + x_{3}^{2}\\right)^{3.0} - 2.0 x_{1}^{10} \\sqrt{x_{1}^{2} + x_{2}^{2} + x_{3}^{2}} - 10.0 x_{1}^{8} x_{2}^{2} \\sqrt{x_{1}^{2} + x_{2}^{2} + x_{3}^{2}} - 10.0 x_{1}^{8} x_{3}^{2} \\sqrt{x_{1}^{2} + x_{2}^{2} + x_{3}^{2}} - 20.0 x_{1}^{6} x_{2}^{4} \\sqrt{x_{1}^{2} + x_{2}^{2} + x_{3}^{2}} - 40.0 x_{1}^{6} x_{2}^{2} x_{3}^{2} \\sqrt{x_{1}^{2} + x_{2}^{2} + x_{3}^{2}} - 20.0 x_{1}^{6} x_{3}^{4} \\sqrt{x_{1}^{2} + x_{2}^{2} + x_{3}^{2}} - 20.0 x_{1}^{4} x_{2}^{6} \\sqrt{x_{1}^{2} + x_{2}^{2} + x_{3}^{2}} - 60.0 x_{1}^{4} x_{2}^{4} x_{3}^{2} \\sqrt{x_{1}^{2} + x_{2}^{2} + x_{3}^{2}} - 60.0 x_{1}^{4} x_{2}^{2} x_{3}^{4} \\sqrt{x_{1}^{2} + x_{2}^{2} + x_{3}^{2}} - 20.0 x_{1}^{4} x_{3}^{6} \\sqrt{x_{1}^{2} + x_{2}^{2} + x_{3}^{2}} + 2.0 x_{1}^{4} \\left(x_{1}^{2} + x_{2}^{2} + x_{3}^{2}\\right)^{3.5} - 10.0 x_{1}^{2} x_{2}^{8} \\sqrt{x_{1}^{2} + x_{2}^{2} + x_{3}^{2}} - 40.0 x_{1}^{2} x_{2}^{6} x_{3}^{2} \\sqrt{x_{1}^{2} + x_{2}^{2} + x_{3}^{2}} - 60.0 x_{1}^{2} x_{2}^{4} x_{3}^{4} \\sqrt{x_{1}^{2} + x_{2}^{2} + x_{3}^{2}} - 40.0 x_{1}^{2} x_{2}^{2} x_{3}^{6} \\sqrt{x_{1}^{2} + x_{2}^{2} + x_{3}^{2}} + 4.0 x_{1}^{2} x_{2}^{2} \\left(x_{1}^{2} + x_{2}^{2} + x_{3}^{2}\\right)^{3.5} - 10.0 x_{1}^{2} x_{3}^{8} \\sqrt{x_{1}^{2} + x_{2}^{2} + x_{3}^{2}} + 4.0 x_{1}^{2} x_{3}^{2} \\left(x_{1}^{2} + x_{2}^{2} + x_{3}^{2}\\right)^{3.5} - 2.0 x_{2}^{10} \\sqrt{x_{1}^{2} + x_{2}^{2} + x_{3}^{2}} - 10.0 x_{2}^{8} x_{3}^{2} \\sqrt{x_{1}^{2} + x_{2}^{2} + x_{3}^{2}} - 20.0 x_{2}^{6} x_{3}^{4} \\sqrt{x_{1}^{2} + x_{2}^{2} + x_{3}^{2}} - 20.0 x_{2}^{4} x_{3}^{6} \\sqrt{x_{1}^{2} + x_{2}^{2} + x_{3}^{2}} + 2.0 x_{2}^{4} \\left(x_{1}^{2} + x_{2}^{2} + x_{3}^{2}\\right)^{3.5} - 10.0 x_{2}^{2} x_{3}^{8} \\sqrt{x_{1}^{2} + x_{2}^{2} + x_{3}^{2}} + 4.0 x_{2}^{2} x_{3}^{2} \\left(x_{1}^{2} + x_{2}^{2} + x_{3}^{2}\\right)^{3.5} - 2.0 x_{3}^{10} \\sqrt{x_{1}^{2} + x_{2}^{2} + x_{3}^{2}} + 2.0 x_{3}^{4} \\left(x_{1}^{2} + x_{2}^{2} + x_{3}^{2}\\right)^{3.5}\\right)}{\\left(\\tilde{r} + \\sqrt{x_{1}^{2} + x_{2}^{2} + x_{3}^{2}}\\right)^{7.0} \\left(x_{1}^{2} + x_{2}^{2} + x_{3}^{2}\\right)^{3.5}}$"
      ],
      "text/plain": [
       "<IPython.core.display.Markdown object>"
      ]
     },
     "metadata": {},
     "output_type": "display_data"
    },
    {
     "ename": "KeyboardInterrupt",
     "evalue": "",
     "output_type": "error",
     "traceback": [
      "\u001b[0;31m---------------------------------------------------------------------------\u001b[0m",
      "\u001b[0;31mKeyboardInterrupt\u001b[0m                         Traceback (most recent call last)",
      "Cell \u001b[0;32mIn[21], line 3\u001b[0m\n\u001b[1;32m      1\u001b[0m \u001b[38;5;28mprint\u001b[39m(\u001b[38;5;124m\"\u001b[39m\u001b[38;5;124mHarmonicity check:\u001b[39m\u001b[38;5;124m\"\u001b[39m)\n\u001b[1;32m      2\u001b[0m \u001b[38;5;28;01mfor\u001b[39;00m i,u \u001b[38;5;129;01min\u001b[39;00m \u001b[38;5;28menumerate\u001b[39m(harmonic_coords):\n\u001b[0;32m----> 3\u001b[0m   current_laplacian \u001b[38;5;241m=\u001b[39m \u001b[43mlaplacian\u001b[49m\u001b[43m(\u001b[49m\u001b[43mu\u001b[49m\u001b[43m)\u001b[49m\u001b[38;5;241;43m.\u001b[39;49m\u001b[43msimplify\u001b[49m\u001b[43m(\u001b[49m\u001b[43m)\u001b[49m\n\u001b[1;32m      4\u001b[0m   display(Markdown(\u001b[38;5;124mf\u001b[39m\u001b[38;5;124m\"\u001b[39m\u001b[38;5;124m$\u001b[39m\u001b[38;5;124m\\\u001b[39m\u001b[38;5;124mDelta u_\u001b[39m\u001b[38;5;132;01m{\u001b[39;00mi\u001b[38;5;241m+\u001b[39m\u001b[38;5;241m1\u001b[39m\u001b[38;5;132;01m}\u001b[39;00m\u001b[38;5;124m=\u001b[39m\u001b[38;5;132;01m{\u001b[39;00msympy\u001b[38;5;241m.\u001b[39mlatex(current_laplacian)\u001b[38;5;132;01m}\u001b[39;00m\u001b[38;5;124m$\u001b[39m\u001b[38;5;124m\"\u001b[39m))\n\u001b[1;32m      5\u001b[0m   \u001b[38;5;66;03m# assert(current_laplacian==0)\u001b[39;00m\n",
      "File \u001b[0;32m/mnt/data/OneDrive/Education/Studium/Bachelor-Arbeit/Positive Mass Theorem/Thesis Writing/.nix-venv/lib/python3.11/site-packages/sympy/core/basic.py:1853\u001b[0m, in \u001b[0;36mBasic.simplify\u001b[0;34m(self, **kwargs)\u001b[0m\n\u001b[1;32m   1851\u001b[0m \u001b[38;5;250m\u001b[39m\u001b[38;5;124;03m\"\"\"See the simplify function in sympy.simplify\"\"\"\u001b[39;00m\n\u001b[1;32m   1852\u001b[0m \u001b[38;5;28;01mfrom\u001b[39;00m \u001b[38;5;21;01msympy\u001b[39;00m\u001b[38;5;21;01m.\u001b[39;00m\u001b[38;5;21;01msimplify\u001b[39;00m\u001b[38;5;21;01m.\u001b[39;00m\u001b[38;5;21;01msimplify\u001b[39;00m \u001b[38;5;28;01mimport\u001b[39;00m simplify\n\u001b[0;32m-> 1853\u001b[0m \u001b[38;5;28;01mreturn\u001b[39;00m \u001b[43msimplify\u001b[49m\u001b[43m(\u001b[49m\u001b[38;5;28;43mself\u001b[39;49m\u001b[43m,\u001b[49m\u001b[43m \u001b[49m\u001b[38;5;241;43m*\u001b[39;49m\u001b[38;5;241;43m*\u001b[39;49m\u001b[43mkwargs\u001b[49m\u001b[43m)\u001b[49m\n",
      "File \u001b[0;32m/mnt/data/OneDrive/Education/Studium/Bachelor-Arbeit/Positive Mass Theorem/Thesis Writing/.nix-venv/lib/python3.11/site-packages/sympy/simplify/simplify.py:644\u001b[0m, in \u001b[0;36msimplify\u001b[0;34m(expr, ratio, measure, rational, inverse, doit, **kwargs)\u001b[0m\n\u001b[1;32m    642\u001b[0m expr \u001b[38;5;241m=\u001b[39m _bottom_up(expr, \u001b[38;5;28;01mlambda\u001b[39;00m w: \u001b[38;5;28mgetattr\u001b[39m(w, \u001b[38;5;124m'\u001b[39m\u001b[38;5;124mnormal\u001b[39m\u001b[38;5;124m'\u001b[39m, \u001b[38;5;28;01mlambda\u001b[39;00m: w)())\n\u001b[1;32m    643\u001b[0m expr \u001b[38;5;241m=\u001b[39m Mul(\u001b[38;5;241m*\u001b[39mpowsimp(expr)\u001b[38;5;241m.\u001b[39mas_content_primitive())\n\u001b[0;32m--> 644\u001b[0m _e \u001b[38;5;241m=\u001b[39m \u001b[43mcancel\u001b[49m\u001b[43m(\u001b[49m\u001b[43mexpr\u001b[49m\u001b[43m)\u001b[49m\n\u001b[1;32m    645\u001b[0m expr1 \u001b[38;5;241m=\u001b[39m shorter(_e, _mexpand(_e)\u001b[38;5;241m.\u001b[39mcancel())  \u001b[38;5;66;03m# issue 6829\u001b[39;00m\n\u001b[1;32m    646\u001b[0m expr2 \u001b[38;5;241m=\u001b[39m shorter(together(expr, deep\u001b[38;5;241m=\u001b[39m\u001b[38;5;28;01mTrue\u001b[39;00m), together(expr1, deep\u001b[38;5;241m=\u001b[39m\u001b[38;5;28;01mTrue\u001b[39;00m))\n",
      "File \u001b[0;32m/mnt/data/OneDrive/Education/Studium/Bachelor-Arbeit/Positive Mass Theorem/Thesis Writing/.nix-venv/lib/python3.11/site-packages/sympy/polys/polytools.py:6840\u001b[0m, in \u001b[0;36mcancel\u001b[0;34m(f, _signsimp, *gens, **args)\u001b[0m\n\u001b[1;32m   6838\u001b[0m     \u001b[38;5;28;01mif\u001b[39;00m f\u001b[38;5;241m.\u001b[39mis_Number \u001b[38;5;129;01mor\u001b[39;00m \u001b[38;5;28misinstance\u001b[39m(f, Relational) \u001b[38;5;129;01mor\u001b[39;00m \u001b[38;5;129;01mnot\u001b[39;00m \u001b[38;5;28misinstance\u001b[39m(f, Expr):\n\u001b[1;32m   6839\u001b[0m         \u001b[38;5;28;01mreturn\u001b[39;00m f\n\u001b[0;32m-> 6840\u001b[0m     f \u001b[38;5;241m=\u001b[39m \u001b[43mfactor_terms\u001b[49m\u001b[43m(\u001b[49m\u001b[43mf\u001b[49m\u001b[43m,\u001b[49m\u001b[43m \u001b[49m\u001b[43mradical\u001b[49m\u001b[38;5;241;43m=\u001b[39;49m\u001b[38;5;28;43;01mTrue\u001b[39;49;00m\u001b[43m)\u001b[49m\n\u001b[1;32m   6841\u001b[0m     p, q \u001b[38;5;241m=\u001b[39m f\u001b[38;5;241m.\u001b[39mas_numer_denom()\n\u001b[1;32m   6843\u001b[0m \u001b[38;5;28;01melif\u001b[39;00m \u001b[38;5;28mlen\u001b[39m(f) \u001b[38;5;241m==\u001b[39m \u001b[38;5;241m2\u001b[39m:\n",
      "File \u001b[0;32m/mnt/data/OneDrive/Education/Studium/Bachelor-Arbeit/Positive Mass Theorem/Thesis Writing/.nix-venv/lib/python3.11/site-packages/sympy/core/exprtools.py:1267\u001b[0m, in \u001b[0;36mfactor_terms\u001b[0;34m(expr, radical, clear, fraction, sign)\u001b[0m\n\u001b[1;32m   1265\u001b[0m     \u001b[38;5;28;01mreturn\u001b[39;00m rv\n\u001b[1;32m   1266\u001b[0m expr \u001b[38;5;241m=\u001b[39m sympify(expr)\n\u001b[0;32m-> 1267\u001b[0m \u001b[38;5;28;01mreturn\u001b[39;00m \u001b[43mdo\u001b[49m\u001b[43m(\u001b[49m\u001b[43mexpr\u001b[49m\u001b[43m)\u001b[49m\n",
      "File \u001b[0;32m/mnt/data/OneDrive/Education/Studium/Bachelor-Arbeit/Positive Mass Theorem/Thesis Writing/.nix-venv/lib/python3.11/site-packages/sympy/core/exprtools.py:1263\u001b[0m, in \u001b[0;36mfactor_terms.<locals>.do\u001b[0;34m(expr)\u001b[0m\n\u001b[1;32m   1257\u001b[0m     p \u001b[38;5;241m=\u001b[39m gcd_terms(p,\n\u001b[1;32m   1258\u001b[0m         isprimitive\u001b[38;5;241m=\u001b[39m\u001b[38;5;28;01mTrue\u001b[39;00m,\n\u001b[1;32m   1259\u001b[0m         clear\u001b[38;5;241m=\u001b[39mclear,\n\u001b[1;32m   1260\u001b[0m         fraction\u001b[38;5;241m=\u001b[39mfraction)\u001b[38;5;241m.\u001b[39mxreplace(special)\n\u001b[1;32m   1261\u001b[0m \u001b[38;5;28;01melif\u001b[39;00m p\u001b[38;5;241m.\u001b[39margs:\n\u001b[1;32m   1262\u001b[0m     p \u001b[38;5;241m=\u001b[39m p\u001b[38;5;241m.\u001b[39mfunc(\n\u001b[0;32m-> 1263\u001b[0m         \u001b[38;5;241m*\u001b[39m\u001b[43m[\u001b[49m\u001b[43mdo\u001b[49m\u001b[43m(\u001b[49m\u001b[43ma\u001b[49m\u001b[43m)\u001b[49m\u001b[43m \u001b[49m\u001b[38;5;28;43;01mfor\u001b[39;49;00m\u001b[43m \u001b[49m\u001b[43ma\u001b[49m\u001b[43m \u001b[49m\u001b[38;5;129;43;01min\u001b[39;49;00m\u001b[43m \u001b[49m\u001b[43mp\u001b[49m\u001b[38;5;241;43m.\u001b[39;49m\u001b[43margs\u001b[49m\u001b[43m]\u001b[49m)\n\u001b[1;32m   1264\u001b[0m rv \u001b[38;5;241m=\u001b[39m _keep_coeff(cont, p, clear\u001b[38;5;241m=\u001b[39mclear, sign\u001b[38;5;241m=\u001b[39msign)\n\u001b[1;32m   1265\u001b[0m \u001b[38;5;28;01mreturn\u001b[39;00m rv\n",
      "File \u001b[0;32m/mnt/data/OneDrive/Education/Studium/Bachelor-Arbeit/Positive Mass Theorem/Thesis Writing/.nix-venv/lib/python3.11/site-packages/sympy/core/exprtools.py:1263\u001b[0m, in \u001b[0;36m<listcomp>\u001b[0;34m(.0)\u001b[0m\n\u001b[1;32m   1257\u001b[0m     p \u001b[38;5;241m=\u001b[39m gcd_terms(p,\n\u001b[1;32m   1258\u001b[0m         isprimitive\u001b[38;5;241m=\u001b[39m\u001b[38;5;28;01mTrue\u001b[39;00m,\n\u001b[1;32m   1259\u001b[0m         clear\u001b[38;5;241m=\u001b[39mclear,\n\u001b[1;32m   1260\u001b[0m         fraction\u001b[38;5;241m=\u001b[39mfraction)\u001b[38;5;241m.\u001b[39mxreplace(special)\n\u001b[1;32m   1261\u001b[0m \u001b[38;5;28;01melif\u001b[39;00m p\u001b[38;5;241m.\u001b[39margs:\n\u001b[1;32m   1262\u001b[0m     p \u001b[38;5;241m=\u001b[39m p\u001b[38;5;241m.\u001b[39mfunc(\n\u001b[0;32m-> 1263\u001b[0m         \u001b[38;5;241m*\u001b[39m[\u001b[43mdo\u001b[49m\u001b[43m(\u001b[49m\u001b[43ma\u001b[49m\u001b[43m)\u001b[49m \u001b[38;5;28;01mfor\u001b[39;00m a \u001b[38;5;129;01min\u001b[39;00m p\u001b[38;5;241m.\u001b[39margs])\n\u001b[1;32m   1264\u001b[0m rv \u001b[38;5;241m=\u001b[39m _keep_coeff(cont, p, clear\u001b[38;5;241m=\u001b[39mclear, sign\u001b[38;5;241m=\u001b[39msign)\n\u001b[1;32m   1265\u001b[0m \u001b[38;5;28;01mreturn\u001b[39;00m rv\n",
      "File \u001b[0;32m/mnt/data/OneDrive/Education/Studium/Bachelor-Arbeit/Positive Mass Theorem/Thesis Writing/.nix-venv/lib/python3.11/site-packages/sympy/core/exprtools.py:1242\u001b[0m, in \u001b[0;36mfactor_terms.<locals>.do\u001b[0;34m(expr)\u001b[0m\n\u001b[1;32m   1240\u001b[0m cont, p \u001b[38;5;241m=\u001b[39m expr\u001b[38;5;241m.\u001b[39mas_content_primitive(radical\u001b[38;5;241m=\u001b[39mradical, clear\u001b[38;5;241m=\u001b[39mclear)\n\u001b[1;32m   1241\u001b[0m \u001b[38;5;28;01mif\u001b[39;00m p\u001b[38;5;241m.\u001b[39mis_Add:\n\u001b[0;32m-> 1242\u001b[0m     list_args \u001b[38;5;241m=\u001b[39m \u001b[43m[\u001b[49m\u001b[43mdo\u001b[49m\u001b[43m(\u001b[49m\u001b[43ma\u001b[49m\u001b[43m)\u001b[49m\u001b[43m \u001b[49m\u001b[38;5;28;43;01mfor\u001b[39;49;00m\u001b[43m \u001b[49m\u001b[43ma\u001b[49m\u001b[43m \u001b[49m\u001b[38;5;129;43;01min\u001b[39;49;00m\u001b[43m \u001b[49m\u001b[43mAdd\u001b[49m\u001b[38;5;241;43m.\u001b[39;49m\u001b[43mmake_args\u001b[49m\u001b[43m(\u001b[49m\u001b[43mp\u001b[49m\u001b[43m)\u001b[49m\u001b[43m]\u001b[49m\n\u001b[1;32m   1243\u001b[0m     \u001b[38;5;66;03m# get a common negative (if there) which gcd_terms does not remove\u001b[39;00m\n\u001b[1;32m   1244\u001b[0m     \u001b[38;5;28;01mif\u001b[39;00m \u001b[38;5;129;01mnot\u001b[39;00m \u001b[38;5;28many\u001b[39m(a\u001b[38;5;241m.\u001b[39mas_coeff_Mul()[\u001b[38;5;241m0\u001b[39m]\u001b[38;5;241m.\u001b[39mextract_multiplicatively(\u001b[38;5;241m-\u001b[39m\u001b[38;5;241m1\u001b[39m) \u001b[38;5;129;01mis\u001b[39;00m \u001b[38;5;28;01mNone\u001b[39;00m\n\u001b[1;32m   1245\u001b[0m                \u001b[38;5;28;01mfor\u001b[39;00m a \u001b[38;5;129;01min\u001b[39;00m list_args):\n",
      "File \u001b[0;32m/mnt/data/OneDrive/Education/Studium/Bachelor-Arbeit/Positive Mass Theorem/Thesis Writing/.nix-venv/lib/python3.11/site-packages/sympy/core/exprtools.py:1242\u001b[0m, in \u001b[0;36m<listcomp>\u001b[0;34m(.0)\u001b[0m\n\u001b[1;32m   1240\u001b[0m cont, p \u001b[38;5;241m=\u001b[39m expr\u001b[38;5;241m.\u001b[39mas_content_primitive(radical\u001b[38;5;241m=\u001b[39mradical, clear\u001b[38;5;241m=\u001b[39mclear)\n\u001b[1;32m   1241\u001b[0m \u001b[38;5;28;01mif\u001b[39;00m p\u001b[38;5;241m.\u001b[39mis_Add:\n\u001b[0;32m-> 1242\u001b[0m     list_args \u001b[38;5;241m=\u001b[39m [\u001b[43mdo\u001b[49m\u001b[43m(\u001b[49m\u001b[43ma\u001b[49m\u001b[43m)\u001b[49m \u001b[38;5;28;01mfor\u001b[39;00m a \u001b[38;5;129;01min\u001b[39;00m Add\u001b[38;5;241m.\u001b[39mmake_args(p)]\n\u001b[1;32m   1243\u001b[0m     \u001b[38;5;66;03m# get a common negative (if there) which gcd_terms does not remove\u001b[39;00m\n\u001b[1;32m   1244\u001b[0m     \u001b[38;5;28;01mif\u001b[39;00m \u001b[38;5;129;01mnot\u001b[39;00m \u001b[38;5;28many\u001b[39m(a\u001b[38;5;241m.\u001b[39mas_coeff_Mul()[\u001b[38;5;241m0\u001b[39m]\u001b[38;5;241m.\u001b[39mextract_multiplicatively(\u001b[38;5;241m-\u001b[39m\u001b[38;5;241m1\u001b[39m) \u001b[38;5;129;01mis\u001b[39;00m \u001b[38;5;28;01mNone\u001b[39;00m\n\u001b[1;32m   1245\u001b[0m                \u001b[38;5;28;01mfor\u001b[39;00m a \u001b[38;5;129;01min\u001b[39;00m list_args):\n",
      "File \u001b[0;32m/mnt/data/OneDrive/Education/Studium/Bachelor-Arbeit/Positive Mass Theorem/Thesis Writing/.nix-venv/lib/python3.11/site-packages/sympy/core/exprtools.py:1263\u001b[0m, in \u001b[0;36mfactor_terms.<locals>.do\u001b[0;34m(expr)\u001b[0m\n\u001b[1;32m   1257\u001b[0m     p \u001b[38;5;241m=\u001b[39m gcd_terms(p,\n\u001b[1;32m   1258\u001b[0m         isprimitive\u001b[38;5;241m=\u001b[39m\u001b[38;5;28;01mTrue\u001b[39;00m,\n\u001b[1;32m   1259\u001b[0m         clear\u001b[38;5;241m=\u001b[39mclear,\n\u001b[1;32m   1260\u001b[0m         fraction\u001b[38;5;241m=\u001b[39mfraction)\u001b[38;5;241m.\u001b[39mxreplace(special)\n\u001b[1;32m   1261\u001b[0m \u001b[38;5;28;01melif\u001b[39;00m p\u001b[38;5;241m.\u001b[39margs:\n\u001b[1;32m   1262\u001b[0m     p \u001b[38;5;241m=\u001b[39m p\u001b[38;5;241m.\u001b[39mfunc(\n\u001b[0;32m-> 1263\u001b[0m         \u001b[38;5;241m*\u001b[39m\u001b[43m[\u001b[49m\u001b[43mdo\u001b[49m\u001b[43m(\u001b[49m\u001b[43ma\u001b[49m\u001b[43m)\u001b[49m\u001b[43m \u001b[49m\u001b[38;5;28;43;01mfor\u001b[39;49;00m\u001b[43m \u001b[49m\u001b[43ma\u001b[49m\u001b[43m \u001b[49m\u001b[38;5;129;43;01min\u001b[39;49;00m\u001b[43m \u001b[49m\u001b[43mp\u001b[49m\u001b[38;5;241;43m.\u001b[39;49m\u001b[43margs\u001b[49m\u001b[43m]\u001b[49m)\n\u001b[1;32m   1264\u001b[0m rv \u001b[38;5;241m=\u001b[39m _keep_coeff(cont, p, clear\u001b[38;5;241m=\u001b[39mclear, sign\u001b[38;5;241m=\u001b[39msign)\n\u001b[1;32m   1265\u001b[0m \u001b[38;5;28;01mreturn\u001b[39;00m rv\n",
      "File \u001b[0;32m/mnt/data/OneDrive/Education/Studium/Bachelor-Arbeit/Positive Mass Theorem/Thesis Writing/.nix-venv/lib/python3.11/site-packages/sympy/core/exprtools.py:1263\u001b[0m, in \u001b[0;36m<listcomp>\u001b[0;34m(.0)\u001b[0m\n\u001b[1;32m   1257\u001b[0m     p \u001b[38;5;241m=\u001b[39m gcd_terms(p,\n\u001b[1;32m   1258\u001b[0m         isprimitive\u001b[38;5;241m=\u001b[39m\u001b[38;5;28;01mTrue\u001b[39;00m,\n\u001b[1;32m   1259\u001b[0m         clear\u001b[38;5;241m=\u001b[39mclear,\n\u001b[1;32m   1260\u001b[0m         fraction\u001b[38;5;241m=\u001b[39mfraction)\u001b[38;5;241m.\u001b[39mxreplace(special)\n\u001b[1;32m   1261\u001b[0m \u001b[38;5;28;01melif\u001b[39;00m p\u001b[38;5;241m.\u001b[39margs:\n\u001b[1;32m   1262\u001b[0m     p \u001b[38;5;241m=\u001b[39m p\u001b[38;5;241m.\u001b[39mfunc(\n\u001b[0;32m-> 1263\u001b[0m         \u001b[38;5;241m*\u001b[39m[\u001b[43mdo\u001b[49m\u001b[43m(\u001b[49m\u001b[43ma\u001b[49m\u001b[43m)\u001b[49m \u001b[38;5;28;01mfor\u001b[39;00m a \u001b[38;5;129;01min\u001b[39;00m p\u001b[38;5;241m.\u001b[39margs])\n\u001b[1;32m   1264\u001b[0m rv \u001b[38;5;241m=\u001b[39m _keep_coeff(cont, p, clear\u001b[38;5;241m=\u001b[39mclear, sign\u001b[38;5;241m=\u001b[39msign)\n\u001b[1;32m   1265\u001b[0m \u001b[38;5;28;01mreturn\u001b[39;00m rv\n",
      "File \u001b[0;32m/mnt/data/OneDrive/Education/Studium/Bachelor-Arbeit/Positive Mass Theorem/Thesis Writing/.nix-venv/lib/python3.11/site-packages/sympy/core/exprtools.py:1257\u001b[0m, in \u001b[0;36mfactor_terms.<locals>.do\u001b[0;34m(expr)\u001b[0m\n\u001b[1;32m   1255\u001b[0m     \u001b[38;5;66;03m# rebuild p not worrying about the order which gcd_terms will fix\u001b[39;00m\n\u001b[1;32m   1256\u001b[0m     p \u001b[38;5;241m=\u001b[39m Add\u001b[38;5;241m.\u001b[39m_from_args(list_args)\n\u001b[0;32m-> 1257\u001b[0m     p \u001b[38;5;241m=\u001b[39m \u001b[43mgcd_terms\u001b[49m\u001b[43m(\u001b[49m\u001b[43mp\u001b[49m\u001b[43m,\u001b[49m\n\u001b[1;32m   1258\u001b[0m \u001b[43m        \u001b[49m\u001b[43misprimitive\u001b[49m\u001b[38;5;241;43m=\u001b[39;49m\u001b[38;5;28;43;01mTrue\u001b[39;49;00m\u001b[43m,\u001b[49m\n\u001b[1;32m   1259\u001b[0m \u001b[43m        \u001b[49m\u001b[43mclear\u001b[49m\u001b[38;5;241;43m=\u001b[39;49m\u001b[43mclear\u001b[49m\u001b[43m,\u001b[49m\n\u001b[1;32m   1260\u001b[0m \u001b[43m        \u001b[49m\u001b[43mfraction\u001b[49m\u001b[38;5;241;43m=\u001b[39;49m\u001b[43mfraction\u001b[49m\u001b[43m)\u001b[49m\u001b[38;5;241m.\u001b[39mxreplace(special)\n\u001b[1;32m   1261\u001b[0m \u001b[38;5;28;01melif\u001b[39;00m p\u001b[38;5;241m.\u001b[39margs:\n\u001b[1;32m   1262\u001b[0m     p \u001b[38;5;241m=\u001b[39m p\u001b[38;5;241m.\u001b[39mfunc(\n\u001b[1;32m   1263\u001b[0m         \u001b[38;5;241m*\u001b[39m[do(a) \u001b[38;5;28;01mfor\u001b[39;00m a \u001b[38;5;129;01min\u001b[39;00m p\u001b[38;5;241m.\u001b[39margs])\n",
      "File \u001b[0;32m/mnt/data/OneDrive/Education/Studium/Bachelor-Arbeit/Positive Mass Theorem/Thesis Writing/.nix-venv/lib/python3.11/site-packages/sympy/core/exprtools.py:1068\u001b[0m, in \u001b[0;36mgcd_terms\u001b[0;34m(terms, isprimitive, clear, fraction)\u001b[0m\n\u001b[1;32m   1066\u001b[0m     terms \u001b[38;5;241m=\u001b[39m sympify(terms)\n\u001b[1;32m   1067\u001b[0m terms, reps \u001b[38;5;241m=\u001b[39m mask(terms)\n\u001b[0;32m-> 1068\u001b[0m cont, numer, denom \u001b[38;5;241m=\u001b[39m \u001b[43m_gcd_terms\u001b[49m\u001b[43m(\u001b[49m\u001b[43mterms\u001b[49m\u001b[43m,\u001b[49m\u001b[43m \u001b[49m\u001b[43misprimitive\u001b[49m\u001b[43m,\u001b[49m\u001b[43m \u001b[49m\u001b[43mfraction\u001b[49m\u001b[43m)\u001b[49m\n\u001b[1;32m   1069\u001b[0m numer \u001b[38;5;241m=\u001b[39m numer\u001b[38;5;241m.\u001b[39mxreplace(reps)\n\u001b[1;32m   1070\u001b[0m coeff, factors \u001b[38;5;241m=\u001b[39m cont\u001b[38;5;241m.\u001b[39mas_coeff_Mul()\n",
      "File \u001b[0;32m/mnt/data/OneDrive/Education/Studium/Bachelor-Arbeit/Positive Mass Theorem/Thesis Writing/.nix-venv/lib/python3.11/site-packages/sympy/core/exprtools.py:950\u001b[0m, in \u001b[0;36m_gcd_terms\u001b[0;34m(terms, isprimitive, fraction)\u001b[0m\n\u001b[1;32m    948\u001b[0m cont \u001b[38;5;241m=\u001b[39m terms[\u001b[38;5;241m0\u001b[39m]\n\u001b[1;32m    949\u001b[0m \u001b[38;5;28;01mfor\u001b[39;00m term \u001b[38;5;129;01min\u001b[39;00m terms[\u001b[38;5;241m1\u001b[39m:]:\n\u001b[0;32m--> 950\u001b[0m     cont \u001b[38;5;241m=\u001b[39m \u001b[43mcont\u001b[49m\u001b[38;5;241;43m.\u001b[39;49m\u001b[43mgcd\u001b[49m\u001b[43m(\u001b[49m\u001b[43mterm\u001b[49m\u001b[43m)\u001b[49m\n\u001b[1;32m    952\u001b[0m \u001b[38;5;28;01mfor\u001b[39;00m i, term \u001b[38;5;129;01min\u001b[39;00m \u001b[38;5;28menumerate\u001b[39m(terms):\n\u001b[1;32m    953\u001b[0m     terms[i] \u001b[38;5;241m=\u001b[39m term\u001b[38;5;241m.\u001b[39mquo(cont)\n",
      "File \u001b[0;32m/mnt/data/OneDrive/Education/Studium/Bachelor-Arbeit/Positive Mass Theorem/Thesis Writing/.nix-venv/lib/python3.11/site-packages/sympy/core/exprtools.py:880\u001b[0m, in \u001b[0;36mTerm.gcd\u001b[0;34m(self, other)\u001b[0m\n\u001b[1;32m    878\u001b[0m \u001b[38;5;28;01mdef\u001b[39;00m \u001b[38;5;21mgcd\u001b[39m(\u001b[38;5;28mself\u001b[39m, other):  \u001b[38;5;66;03m# Term\u001b[39;00m\n\u001b[1;32m    879\u001b[0m     \u001b[38;5;28;01mreturn\u001b[39;00m Term(\u001b[38;5;28mself\u001b[39m\u001b[38;5;241m.\u001b[39mcoeff\u001b[38;5;241m.\u001b[39mgcd(other\u001b[38;5;241m.\u001b[39mcoeff),\n\u001b[0;32m--> 880\u001b[0m                 \u001b[38;5;28;43mself\u001b[39;49m\u001b[38;5;241;43m.\u001b[39;49m\u001b[43mnumer\u001b[49m\u001b[38;5;241;43m.\u001b[39;49m\u001b[43mgcd\u001b[49m\u001b[43m(\u001b[49m\u001b[43mother\u001b[49m\u001b[38;5;241;43m.\u001b[39;49m\u001b[43mnumer\u001b[49m\u001b[43m)\u001b[49m,\n\u001b[1;32m    881\u001b[0m                 \u001b[38;5;28mself\u001b[39m\u001b[38;5;241m.\u001b[39mdenom\u001b[38;5;241m.\u001b[39mgcd(other\u001b[38;5;241m.\u001b[39mdenom))\n",
      "File \u001b[0;32m/mnt/data/OneDrive/Education/Studium/Bachelor-Arbeit/Positive Mass Theorem/Thesis Writing/.nix-venv/lib/python3.11/site-packages/sympy/core/exprtools.py:749\u001b[0m, in \u001b[0;36mFactors.gcd\u001b[0;34m(self, other)\u001b[0m\n\u001b[1;32m    746\u001b[0m         \u001b[38;5;28;01melif\u001b[39;00m lt \u001b[38;5;241m==\u001b[39m \u001b[38;5;28;01mFalse\u001b[39;00m:\n\u001b[1;32m    747\u001b[0m             factors[factor] \u001b[38;5;241m=\u001b[39m other\u001b[38;5;241m.\u001b[39mfactors[factor]\n\u001b[0;32m--> 749\u001b[0m \u001b[38;5;28;01mreturn\u001b[39;00m \u001b[43mFactors\u001b[49m\u001b[43m(\u001b[49m\u001b[43mfactors\u001b[49m\u001b[43m)\u001b[49m\n",
      "File \u001b[0;32m/mnt/data/OneDrive/Education/Studium/Bachelor-Arbeit/Positive Mass Theorem/Thesis Writing/.nix-venv/lib/python3.11/site-packages/sympy/core/exprtools.py:324\u001b[0m, in \u001b[0;36mFactors.__init__\u001b[0;34m(self, factors)\u001b[0m\n\u001b[1;32m    322\u001b[0m \u001b[38;5;28;01mif\u001b[39;00m \u001b[38;5;28misinstance\u001b[39m(factors, Factors):\n\u001b[1;32m    323\u001b[0m     factors \u001b[38;5;241m=\u001b[39m factors\u001b[38;5;241m.\u001b[39mfactors\u001b[38;5;241m.\u001b[39mcopy()\n\u001b[0;32m--> 324\u001b[0m \u001b[38;5;28;01melif\u001b[39;00m \u001b[43mfactors\u001b[49m\u001b[43m \u001b[49m\u001b[38;5;129;43;01min\u001b[39;49;00m\u001b[43m \u001b[49m\u001b[43m(\u001b[49m\u001b[38;5;28;43;01mNone\u001b[39;49;00m\u001b[43m,\u001b[49m\u001b[43m \u001b[49m\u001b[43mS\u001b[49m\u001b[38;5;241;43m.\u001b[39;49m\u001b[43mOne\u001b[49m\u001b[43m)\u001b[49m:\n\u001b[1;32m    325\u001b[0m     factors \u001b[38;5;241m=\u001b[39m {}\n\u001b[1;32m    326\u001b[0m \u001b[38;5;28;01melif\u001b[39;00m factors \u001b[38;5;129;01mis\u001b[39;00m S\u001b[38;5;241m.\u001b[39mZero \u001b[38;5;129;01mor\u001b[39;00m factors \u001b[38;5;241m==\u001b[39m \u001b[38;5;241m0\u001b[39m:\n",
      "File \u001b[0;32m/mnt/data/OneDrive/Education/Studium/Bachelor-Arbeit/Positive Mass Theorem/Thesis Writing/.nix-venv/lib/python3.11/site-packages/sympy/core/numbers.py:2248\u001b[0m, in \u001b[0;36mInteger.__eq__\u001b[0;34m(self, other)\u001b[0m\n\u001b[1;32m   2246\u001b[0m \u001b[38;5;28;01melif\u001b[39;00m \u001b[38;5;28misinstance\u001b[39m(other, Integer):\n\u001b[1;32m   2247\u001b[0m     \u001b[38;5;28;01mreturn\u001b[39;00m (\u001b[38;5;28mself\u001b[39m\u001b[38;5;241m.\u001b[39mp \u001b[38;5;241m==\u001b[39m other\u001b[38;5;241m.\u001b[39mp)\n\u001b[0;32m-> 2248\u001b[0m \u001b[38;5;28;01mreturn\u001b[39;00m \u001b[43mRational\u001b[49m\u001b[38;5;241;43m.\u001b[39;49m\u001b[38;5;21;43m__eq__\u001b[39;49m\u001b[43m(\u001b[49m\u001b[38;5;28;43mself\u001b[39;49m\u001b[43m,\u001b[49m\u001b[43m \u001b[49m\u001b[43mother\u001b[49m\u001b[43m)\u001b[49m\n",
      "File \u001b[0;32m/mnt/data/OneDrive/Education/Studium/Bachelor-Arbeit/Positive Mass Theorem/Thesis Writing/.nix-venv/lib/python3.11/site-packages/sympy/core/numbers.py:1874\u001b[0m, in \u001b[0;36mRational.__eq__\u001b[0;34m(self, other)\u001b[0m\n\u001b[1;32m   1872\u001b[0m \u001b[38;5;28;01mdef\u001b[39;00m \u001b[38;5;21m__eq__\u001b[39m(\u001b[38;5;28mself\u001b[39m, other):\n\u001b[1;32m   1873\u001b[0m     \u001b[38;5;28;01mtry\u001b[39;00m:\n\u001b[0;32m-> 1874\u001b[0m         other \u001b[38;5;241m=\u001b[39m \u001b[43m_sympify\u001b[49m\u001b[43m(\u001b[49m\u001b[43mother\u001b[49m\u001b[43m)\u001b[49m\n\u001b[1;32m   1875\u001b[0m     \u001b[38;5;28;01mexcept\u001b[39;00m SympifyError:\n\u001b[1;32m   1876\u001b[0m         \u001b[38;5;28;01mreturn\u001b[39;00m \u001b[38;5;28mNotImplemented\u001b[39m\n",
      "File \u001b[0;32m/mnt/data/OneDrive/Education/Studium/Bachelor-Arbeit/Positive Mass Theorem/Thesis Writing/.nix-venv/lib/python3.11/site-packages/sympy/core/sympify.py:528\u001b[0m, in \u001b[0;36m_sympify\u001b[0;34m(a)\u001b[0m\n\u001b[1;32m    502\u001b[0m \u001b[38;5;28;01mdef\u001b[39;00m \u001b[38;5;21m_sympify\u001b[39m(a):\n\u001b[1;32m    503\u001b[0m \u001b[38;5;250m    \u001b[39m\u001b[38;5;124;03m\"\"\"\u001b[39;00m\n\u001b[1;32m    504\u001b[0m \u001b[38;5;124;03m    Short version of :func:`~.sympify` for internal usage for ``__add__`` and\u001b[39;00m\n\u001b[1;32m    505\u001b[0m \u001b[38;5;124;03m    ``__eq__`` methods where it is ok to allow some things (like Python\u001b[39;00m\n\u001b[0;32m   (...)\u001b[0m\n\u001b[1;32m    526\u001b[0m \n\u001b[1;32m    527\u001b[0m \u001b[38;5;124;03m    \"\"\"\u001b[39;00m\n\u001b[0;32m--> 528\u001b[0m     \u001b[38;5;28;01mreturn\u001b[39;00m \u001b[43msympify\u001b[49m\u001b[43m(\u001b[49m\u001b[43ma\u001b[49m\u001b[43m,\u001b[49m\u001b[43m \u001b[49m\u001b[43mstrict\u001b[49m\u001b[38;5;241;43m=\u001b[39;49m\u001b[38;5;28;43;01mTrue\u001b[39;49;00m\u001b[43m)\u001b[49m\n",
      "File \u001b[0;32m/mnt/data/OneDrive/Education/Studium/Bachelor-Arbeit/Positive Mass Theorem/Thesis Writing/.nix-venv/lib/python3.11/site-packages/sympy/core/sympify.py:383\u001b[0m, in \u001b[0;36msympify\u001b[0;34m(a, locals, convert_xor, strict, rational, evaluate)\u001b[0m\n\u001b[1;32m    381\u001b[0m         conv \u001b[38;5;241m=\u001b[39m _sympy_converter\u001b[38;5;241m.\u001b[39mget(superclass)\n\u001b[1;32m    382\u001b[0m     \u001b[38;5;28;01mif\u001b[39;00m conv \u001b[38;5;129;01mis\u001b[39;00m \u001b[38;5;129;01mnot\u001b[39;00m \u001b[38;5;28;01mNone\u001b[39;00m:\n\u001b[0;32m--> 383\u001b[0m         \u001b[38;5;28;01mreturn\u001b[39;00m \u001b[43mconv\u001b[49m\u001b[43m(\u001b[49m\u001b[43ma\u001b[49m\u001b[43m)\u001b[49m\n\u001b[1;32m    385\u001b[0m \u001b[38;5;28;01mif\u001b[39;00m \u001b[38;5;28mcls\u001b[39m \u001b[38;5;129;01mis\u001b[39;00m \u001b[38;5;28mtype\u001b[39m(\u001b[38;5;28;01mNone\u001b[39;00m):\n\u001b[1;32m    386\u001b[0m     \u001b[38;5;28;01mif\u001b[39;00m strict:\n",
      "File \u001b[0;32m/mnt/data/OneDrive/Education/Studium/Bachelor-Arbeit/Positive Mass Theorem/Thesis Writing/.nix-venv/lib/python3.11/site-packages/sympy/core/containers.py:332\u001b[0m, in \u001b[0;36m<lambda>\u001b[0;34m(d)\u001b[0m\n\u001b[1;32m    329\u001b[0m     \u001b[38;5;21m__hash__\u001b[39m : Callable[[Basic], Any] \u001b[38;5;241m=\u001b[39m Basic\u001b[38;5;241m.\u001b[39m\u001b[38;5;21m__hash__\u001b[39m\n\u001b[1;32m    331\u001b[0m \u001b[38;5;66;03m# this handles dict, defaultdict, OrderedDict\u001b[39;00m\n\u001b[0;32m--> 332\u001b[0m _sympy_converter[\u001b[38;5;28mdict\u001b[39m] \u001b[38;5;241m=\u001b[39m \u001b[38;5;28;01mlambda\u001b[39;00m d: \u001b[43mDict\u001b[49m\u001b[43m(\u001b[49m\u001b[38;5;241;43m*\u001b[39;49m\u001b[43md\u001b[49m\u001b[38;5;241;43m.\u001b[39;49m\u001b[43mitems\u001b[49m\u001b[43m(\u001b[49m\u001b[43m)\u001b[49m\u001b[43m)\u001b[49m\n\u001b[1;32m    334\u001b[0m \u001b[38;5;28;01mclass\u001b[39;00m \u001b[38;5;21;01mOrderedSet\u001b[39;00m(MutableSet):\n\u001b[1;32m    335\u001b[0m     \u001b[38;5;28;01mdef\u001b[39;00m \u001b[38;5;21m__init__\u001b[39m(\u001b[38;5;28mself\u001b[39m, iterable\u001b[38;5;241m=\u001b[39m\u001b[38;5;28;01mNone\u001b[39;00m):\n",
      "File \u001b[0;32m/mnt/data/OneDrive/Education/Studium/Bachelor-Arbeit/Positive Mass Theorem/Thesis Writing/.nix-venv/lib/python3.11/site-packages/sympy/core/containers.py:263\u001b[0m, in \u001b[0;36mDict.__new__\u001b[0;34m(cls, *args)\u001b[0m\n\u001b[1;32m    261\u001b[0m     \u001b[38;5;28;01mraise\u001b[39;00m \u001b[38;5;167;01mTypeError\u001b[39;00m(\u001b[38;5;124m'\u001b[39m\u001b[38;5;124mPass Dict args as Dict((k1, v1), ...) or Dict(\u001b[39m\u001b[38;5;124m{\u001b[39m\u001b[38;5;124mk1: v1, ...})\u001b[39m\u001b[38;5;124m'\u001b[39m)\n\u001b[1;32m    262\u001b[0m elements \u001b[38;5;241m=\u001b[39m \u001b[38;5;28mfrozenset\u001b[39m(items)\n\u001b[0;32m--> 263\u001b[0m obj \u001b[38;5;241m=\u001b[39m Basic\u001b[38;5;241m.\u001b[39m\u001b[38;5;21m__new__\u001b[39m(\u001b[38;5;28mcls\u001b[39m, \u001b[38;5;241m*\u001b[39mordered(items))\n\u001b[1;32m    264\u001b[0m obj\u001b[38;5;241m.\u001b[39melements \u001b[38;5;241m=\u001b[39m elements\n\u001b[1;32m    265\u001b[0m obj\u001b[38;5;241m.\u001b[39m_dict \u001b[38;5;241m=\u001b[39m \u001b[38;5;28mdict\u001b[39m(items)  \u001b[38;5;66;03m# In case Tuple decides it wants to sympify\u001b[39;00m\n",
      "File \u001b[0;32m/mnt/data/OneDrive/Education/Studium/Bachelor-Arbeit/Positive Mass Theorem/Thesis Writing/.nix-venv/lib/python3.11/site-packages/sympy/core/sorting.py:202\u001b[0m, in \u001b[0;36mordered\u001b[0;34m(seq, keys, default, warn)\u001b[0m\n\u001b[1;32m    198\u001b[0m     \u001b[38;5;28;01melse\u001b[39;00m:\n\u001b[1;32m    199\u001b[0m         \u001b[38;5;28;01mreturn\u001b[39;00m \u001b[38;5;241m1\u001b[39m\n\u001b[0;32m--> 202\u001b[0m \u001b[38;5;28;01mdef\u001b[39;00m \u001b[38;5;21mordered\u001b[39m(seq, keys\u001b[38;5;241m=\u001b[39m\u001b[38;5;28;01mNone\u001b[39;00m, default\u001b[38;5;241m=\u001b[39m\u001b[38;5;28;01mTrue\u001b[39;00m, warn\u001b[38;5;241m=\u001b[39m\u001b[38;5;28;01mFalse\u001b[39;00m):\n\u001b[1;32m    203\u001b[0m \u001b[38;5;250m    \u001b[39m\u001b[38;5;124;03m\"\"\"Return an iterator of the seq where keys are used to break ties in\u001b[39;00m\n\u001b[1;32m    204\u001b[0m \u001b[38;5;124;03m    a conservative fashion: if, after applying a key, there are no ties\u001b[39;00m\n\u001b[1;32m    205\u001b[0m \u001b[38;5;124;03m    then no other keys will be computed.\u001b[39;00m\n\u001b[0;32m   (...)\u001b[0m\n\u001b[1;32m    279\u001b[0m \n\u001b[1;32m    280\u001b[0m \u001b[38;5;124;03m    \"\"\"\u001b[39;00m\n\u001b[1;32m    282\u001b[0m     d \u001b[38;5;241m=\u001b[39m defaultdict(\u001b[38;5;28mlist\u001b[39m)\n",
      "\u001b[0;31mKeyboardInterrupt\u001b[0m: "
     ]
    }
   ],
   "source": [
    "print(\"Harmonicity check:\")\n",
    "for i,u in enumerate(harmonic_coords):\n",
    "  current_laplacian = laplacian(u).simplify()\n",
    "  display(Markdown(f\"$\\Delta u_{i+1}={sympy.latex(current_laplacian)}$\"))\n",
    "  # assert(current_laplacian==0)"
   ]
  },
  {
   "cell_type": "code",
   "execution_count": null,
   "metadata": {},
   "outputs": [
    {
     "data": {
      "text/markdown": [
       "For $M_{m,\\geq a}$: $\\Delta u_1=0$"
      ],
      "text/plain": [
       "<IPython.core.display.Markdown object>"
      ]
     },
     "metadata": {},
     "output_type": "display_data"
    }
   ],
   "source": [
    "laplacian_modified = laplacian(u1_modified).simplify()\n",
    "display(Markdown(f\"For $M_{{m,\\geq a}}$: $\\Delta u_1={laplacian_modified}$\"))\n",
    "assert(laplacian_modified == 0)"
   ]
  },
  {
   "cell_type": "markdown",
   "metadata": {},
   "source": [
    "### Are the boundary conditions truly fulfilled?"
   ]
  },
  {
   "cell_type": "markdown",
   "metadata": {},
   "source": [
    "For $a=0$ we should in particular have $\\partial_r u_i\\vert_{r=\\tilde{r}}=0$:"
   ]
  },
  {
   "cell_type": "code",
   "execution_count": null,
   "metadata": {},
   "outputs": [
    {
     "data": {
      "text/markdown": [
       "$\\partial_r u_1\\vert_{r=\\tilde{r}}=0$"
      ],
      "text/plain": [
       "<IPython.core.display.Markdown object>"
      ]
     },
     "metadata": {},
     "output_type": "display_data"
    },
    {
     "data": {
      "text/markdown": [
       "$\\partial_r u_2\\vert_{r=\\tilde{r}}=0$"
      ],
      "text/plain": [
       "<IPython.core.display.Markdown object>"
      ]
     },
     "metadata": {},
     "output_type": "display_data"
    },
    {
     "data": {
      "text/markdown": [
       "$\\partial_r u_3\\vert_{r=\\tilde{r}}=0$"
      ],
      "text/plain": [
       "<IPython.core.display.Markdown object>"
      ]
     },
     "metadata": {},
     "output_type": "display_data"
    },
    {
     "data": {
      "text/markdown": [
       "$\\partial_r u_4\\vert_{r=\\tilde{r}}=0$"
      ],
      "text/plain": [
       "<IPython.core.display.Markdown object>"
      ]
     },
     "metadata": {},
     "output_type": "display_data"
    }
   ],
   "source": [
    "for (i,u) in enumerate(harmonic_coords):\n",
    "  radial_derivative = sum(u.covariantD(i+1)*coords[i] for i in range(dim))\n",
    "  substitution = [x1,sympy.sqrt(r_critical**2-sum(coord**2 for coord in non_bounded_coords))]\n",
    "  radial_derivative_substituted = radial_derivative.subs([substitution]).simplify()\n",
    "  display(Markdown(f\"$\\partial_r u_{i+1}\\\\vert_{{r=\\\\tilde{{r}}}}={sympy.latex(radial_derivative_substituted)}$\"))\n",
    "  assert(radial_derivative_substituted==0)"
   ]
  },
  {
   "cell_type": "markdown",
   "metadata": {},
   "source": [
    "For $a>0$, we should have $\\tilde{u}_1\\vert_{x_1=a}=a$:"
   ]
  },
  {
   "cell_type": "code",
   "execution_count": null,
   "metadata": {},
   "outputs": [
    {
     "data": {
      "text/markdown": [
       "$\\tilde{u}_1\\vert_{x_1=a}=a$"
      ],
      "text/plain": [
       "<IPython.core.display.Markdown object>"
      ]
     },
     "metadata": {},
     "output_type": "display_data"
    }
   ],
   "source": [
    "u1_modified_at_x1_equal_a=u1_modified().subs([[x1,a]]).simplify()\n",
    "display(Markdown(f\"$\\\\tilde{{u}}_1\\\\vert_{{x_1=a}}={u1_modified_at_x1_equal_a}$\"))\n",
    "assert(u1_modified_at_x1_equal_a==a)"
   ]
  },
  {
   "cell_type": "markdown",
   "metadata": {},
   "source": [
    "### Are there any critical points?"
   ]
  },
  {
   "cell_type": "markdown",
   "metadata": {},
   "source": [
    "It is interesting to consider whether there are any critical points of $u_3$ to be able to discuss how strong the lower bound given by our technique is (see Remark 4.3)."
   ]
  },
  {
   "cell_type": "markdown",
   "metadata": {},
   "source": [
    "##### For $M_{m,+}$ there is at least one (at (0,0,m/2)):"
   ]
  },
  {
   "cell_type": "code",
   "execution_count": null,
   "metadata": {},
   "outputs": [
    {
     "data": {
      "text/markdown": [
       "On $M_{m,+}$, there is at least one critical point: At $(0,0,\\tilde{r})$ we have $\\operatorname{grad} u_1=\\left[\\begin{matrix}0 & 0 & 0\\end{matrix}\\right]$"
      ],
      "text/plain": [
       "<IPython.core.display.Markdown object>"
      ]
     },
     "metadata": {},
     "output_type": "display_data"
    }
   ],
   "source": [
    "display(\n",
    "    Markdown(\n",
    "        f\"On $M_{{m,+}}$, there is at least one critical point: At $(0,0,\\\\tilde{{r}})$ we have $\\operatorname{{grad}} u_1={sympy.latex(sympy.Array([u1.covariantD(i) for i in range(1,4)]).subs(([(x1,r_critical)]+list(map(lambda coord: (coord,0),non_bounded_coords)))).simplify())}$\"\n",
    "    )\n",
    ")"
   ]
  },
  {
   "cell_type": "markdown",
   "metadata": {},
   "source": [
    "##### For $M_{m,\\geq a}$:"
   ]
  },
  {
   "cell_type": "code",
   "execution_count": null,
   "metadata": {},
   "outputs": [
    {
     "data": {
      "text/markdown": [
       "On $M_{m,\\geq a} (for $a>0$), $u_1$ has no critical points! \n",
       "                 \n",
       "It suffices to look at the derivative in $x_1$-direction, which is always positive: We have $\\partial_1 u_1=\\frac{2 \\tilde{r}^{2} x_{1} \\left(\\tilde{r}^{2} a + x_{1} \\left(x_{1}^{2} + x_{2}^{2} + x_{3}^{2} + x_{4}^{2}\\right)\\right) - \\left(2 \\tilde{r}^{2} a x_{1} - \\left(x_{1}^{2} + x_{2}^{2} + x_{3}^{2} + x_{4}^{2}\\right)^{2}\\right) \\left(\\tilde{r}^{2} + x_{1}^{2} + x_{2}^{2} + x_{3}^{2} + x_{4}^{2}\\right)}{\\left(x_{1}^{2} + x_{2}^{2} + x_{3}^{2} + x_{4}^{2}\\right) \\left(\\tilde{r}^{2} + x_{1}^{2} + x_{2}^{2} + x_{3}^{2} + x_{4}^{2}\\right)^{2}}$.\n",
       "\n",
       "We can ignore the denominator (which is clearly always positive, since $|x|>0$) and just consider the numerator $- 2 \\tilde{r}^{2} a x_{1}^{3} - 2 \\tilde{r}^{2} a x_{1} x_{2}^{2} - 2 \\tilde{r}^{2} a x_{1} x_{3}^{2} - 2 \\tilde{r}^{2} a x_{1} x_{4}^{2} + 3 \\tilde{r}^{2} x_{1}^{4} + 4 \\tilde{r}^{2} x_{1}^{2} x_{2}^{2} + 4 \\tilde{r}^{2} x_{1}^{2} x_{3}^{2} + 4 \\tilde{r}^{2} x_{1}^{2} x_{4}^{2} + \\tilde{r}^{2} x_{2}^{4} + 2 \\tilde{r}^{2} x_{2}^{2} x_{3}^{2} + 2 \\tilde{r}^{2} x_{2}^{2} x_{4}^{2} + \\tilde{r}^{2} x_{3}^{4} + 2 \\tilde{r}^{2} x_{3}^{2} x_{4}^{2} + \\tilde{r}^{2} x_{4}^{4} + x_{1}^{6} + 3 x_{1}^{4} x_{2}^{2} + 3 x_{1}^{4} x_{3}^{2} + 3 x_{1}^{4} x_{4}^{2} + 3 x_{1}^{2} x_{2}^{4} + 6 x_{1}^{2} x_{2}^{2} x_{3}^{2} + 6 x_{1}^{2} x_{2}^{2} x_{4}^{2} + 3 x_{1}^{2} x_{3}^{4} + 6 x_{1}^{2} x_{3}^{2} x_{4}^{2} + 3 x_{1}^{2} x_{4}^{4} + x_{2}^{6} + 3 x_{2}^{4} x_{3}^{2} + 3 x_{2}^{4} x_{4}^{2} + 3 x_{2}^{2} x_{3}^{4} + 6 x_{2}^{2} x_{3}^{2} x_{4}^{2} + 3 x_{2}^{2} x_{4}^{4} + x_{3}^{6} + 3 x_{3}^{4} x_{4}^{2} + 3 x_{3}^{2} x_{4}^{4} + x_{4}^{6}$.\n",
       "\n",
       "But $x_1\\geq a > 0$ and thus each of the 4 negative terms in front are balanced out by later terms."
      ],
      "text/plain": [
       "<IPython.core.display.Markdown object>"
      ]
     },
     "metadata": {},
     "output_type": "display_data"
    }
   ],
   "source": [
    "relevant_derivative = u1_modified.covariantD(1).simplify()\n",
    "only_numerator = sympy.fraction(relevant_derivative)[0].expand()\n",
    "display(Markdown(f\"\"\"On $M_{{m,\\geq a}} (for $a>0$), $u_1$ has no critical points! \n",
    "                 \n",
    "It suffices to look at the derivative in $x_1$-direction, which is always positive: We have $\\partial_1 u_1={sympy.latex(relevant_derivative)}$.\n",
    "\n",
    "We can ignore the denominator (which is clearly always positive, since $|x|>0$) and just consider the numerator ${sympy.latex(only_numerator)}$.\n",
    "\n",
    "But $x_1\\geq a > 0$ and thus each of the {dim} negative terms in front are balanced out by later terms.\"\"\"))"
   ]
  },
  {
   "cell_type": "markdown",
   "metadata": {},
   "source": [
    "## Computation of the lower bound"
   ]
  },
  {
   "cell_type": "markdown",
   "metadata": {},
   "source": [
    "Let's try to compute the lower bound for the mass. We avoid simplifying anything (I once tried to let `sympy` simplify `abs_hessian_u1`, and it did complete, but only after 10 hours!). Even with manual help factoring out $\\omega$ terms and the like, the computation times are still often in the minutes. The numerical integration later on is fast enough to deal with unoptimized expressions."
   ]
  },
  {
   "cell_type": "code",
   "execution_count": null,
   "metadata": {},
   "outputs": [],
   "source": [
    "abs_nabla_u1=sympy.sqrt(sum(g(-i,-j)*u1.covariantD(i)*u1.covariantD(j) for i in range(1,dim+1) for j in range(1,dim+1)))"
   ]
  },
  {
   "cell_type": "code",
   "execution_count": null,
   "metadata": {},
   "outputs": [],
   "source": [
    "abs_nabla_u1_modified=sympy.sqrt(sum(g(-i,-j)*u1_modified.covariantD(i)*u1_modified.covariantD(j) for i in range(1,dim+1) for j in range(1,dim+1)))"
   ]
  },
  {
   "cell_type": "code",
   "execution_count": null,
   "metadata": {},
   "outputs": [],
   "source": [
    "abs_hessian_u1=sympy.sqrt(sum(g(-i,-k)*g(-j,-l)*u1.covariantD(i,j)*u1.covariantD(k,l) for i,j,k,l in list(variations(range(1, dim+1), 4, True))))"
   ]
  },
  {
   "cell_type": "code",
   "execution_count": null,
   "metadata": {},
   "outputs": [],
   "source": [
    "abs_hessian_u1_modified=sympy.sqrt(sum(g(-i,-k)*g(-j,-l)*u1_modified.covariantD(i,j)*u1_modified.covariantD(k,l) for i,j,k,l in variations(range(1, dim+1), 4, True)))"
   ]
  },
  {
   "cell_type": "markdown",
   "metadata": {},
   "source": [
    "We can now express the integrands. Note that we need to include the volume element. We will note down the necessary normalization factor here, but only use it later on. Also we have $R=0$, so the second term in the integrand disappears"
   ]
  },
  {
   "cell_type": "code",
   "execution_count": null,
   "metadata": {},
   "outputs": [],
   "source": [
    "lower_bound_integrand_over_M=(abs_hessian_u1**2/abs_nabla_u1)*volume_element\n",
    "lower_bound_modified_integrand_over_M=(abs_hessian_u1_modified**2/abs_nabla_u1_modified)*volume_element"
   ]
  },
  {
   "cell_type": "markdown",
   "metadata": {},
   "source": [
    "We can now also write down the expression for integral term on the boundary (we need to use the volume element of $\\Sigma$ here). Note that the integrand over the boundary vanishes for $M_{m,+}$."
   ]
  },
  {
   "cell_type": "code",
   "execution_count": null,
   "metadata": {},
   "outputs": [
    {
     "name": "stdout",
     "output_type": "stream",
     "text": [
      "lower_bound_integrand_over_boundary=0\n"
     ]
    }
   ],
   "source": [
    "lower_bound_integrand_over_boundary = 2*(H.subs(x1,0).simplify()*abs_nabla_u1)*hypersurface_volume_element\n",
    "print(f\"{lower_bound_integrand_over_boundary=}\")\n",
    "\n",
    "lower_bound_modified_integrand_over_boundary = 2*(H.subs(x1,a).simplify()*abs_nabla_u1_modified)*hypersurface_volume_element"
   ]
  },
  {
   "cell_type": "markdown",
   "metadata": {},
   "source": [
    "We use `sympy.lambdify` to get numerical expressions for our integrands. We set $m=2$(!) and $a=2$ for now."
   ]
  },
  {
   "cell_type": "code",
   "execution_count": null,
   "metadata": {},
   "outputs": [],
   "source": [
    "# numerical implementation (reverse args as we want x1 integration to be outermost)\n",
    "num_lower_bound_integrand_over_M = sympy.lambdify(list(reversed(coords))+[r_critical],lower_bound_integrand_over_M)\n",
    "num_lower_bound_integrand_over_boundary = sympy.lambdify(list(reversed(coords))+[r_critical],lower_bound_integrand_over_boundary)\n",
    "\n",
    "num_lower_bound_modified_integrand_over_M = sympy.lambdify(\n",
    "    list(reversed(coords)) + [r_critical,a], lower_bound_modified_integrand_over_M\n",
    ")\n",
    "num_lower_bound_modified_integrand_over_boundary = sympy.lambdify(\n",
    "    list(reversed(coords)) + [r_critical, a], lower_bound_modified_integrand_over_boundary\n",
    ")"
   ]
  },
  {
   "cell_type": "markdown",
   "metadata": {},
   "source": [
    "We can now do the numerical integration. Due to symmetry we are able to only integrate over one quadrant ($x_2\\geq 0, \\dotsc, x_n\\geq 0$ in addition to the usual $x_1\\geq 0$) and multiply by $2^{n-1}$ afterwards."
   ]
  },
  {
   "cell_type": "code",
   "execution_count": null,
   "metadata": {},
   "outputs": [],
   "source": [
    "number_quadrants = 2**(dim-1)\n",
    "\n",
    "def most_coords_range(*args):\n",
    "  return [0,np.inf]\n",
    "  \n",
    "def xn_range(*args): \n",
    "  *previous_x_values,r_critical = args\n",
    "  return [np.sqrt(max(sum(previous_x_value**2-r_critical**2 for previous_x_value in previous_x_values),0)),np.inf]\n"
   ]
  },
  {
   "cell_type": "markdown",
   "metadata": {},
   "source": [
    "The integrand explodes near the intersection of the $x_1$-axis and the horizon, and thus convergence of the numerical integration is slow. To raise speed and lower accuracy, we can lower the `limit` parameter (for limiting the numbers of subintervals used in the algorithm). The default is 50 but takes forever, but already a value of 1 gives errors small enough for the result to be useful to us. With a limit of 2 the integration already takes three minutes on my machine and has only slightly better accuracy."
   ]
  },
  {
   "cell_type": "code",
   "execution_count": null,
   "metadata": {},
   "outputs": [],
   "source": [
    "r_critical_value=1 # corresponds to mass of 2, independent of dimension\n",
    "\n",
    "result = scipy.integrate.nquad(\n",
    "  func=num_lower_bound_integrand_over_M,\n",
    "  ranges=[xn_range]+[most_coords_range]*(dim-1),\n",
    "  args=[r_critical_value], # passed to all functions in addition to coordinates\n",
    "  full_output=True,\n",
    "  opts={\"limit\":1}\n",
    ")\n",
    "\n",
    "# we do not need to do the integral over the boundary here, since the integrand is 0"
   ]
  },
  {
   "cell_type": "code",
   "execution_count": null,
   "metadata": {},
   "outputs": [
    {
     "data": {
      "text/markdown": [
       "## Lower bound for mass (expected $m/2=2/2=1.0$) of $M_{2,+}$ calculated in $50625$ evaluations as $3.59163$ with an estimated absolute error of $2690.90425$."
      ],
      "text/plain": [
       "<IPython.core.display.Markdown object>"
      ]
     },
     "metadata": {},
     "output_type": "display_data"
    }
   ],
   "source": [
    "schwarzschild_half_space_mass_lower_bound = normalization*2**(dim-1)*result[0]\n",
    "error_estimate = normalization*2**(dim-1)*result[1]\n",
    "number_evaluations = result[2]['neval']\n",
    "m_value=2\n",
    "display(Markdown(f\"## Lower bound for mass (expected $m/2={m_value}/2={m_value/2}$) of $M_{{{m_value},+}}$ calculated in ${number_evaluations}$ evaluations as ${schwarzschild_half_space_mass_lower_bound:.5f}$ with an estimated absolute error of ${error_estimate:.5f}$.\"))"
   ]
  },
  {
   "cell_type": "markdown",
   "metadata": {},
   "source": [
    "We can now do the same process for $M_{m,\\geq a}$ for $a>0$:"
   ]
  },
  {
   "cell_type": "code",
   "execution_count": null,
   "metadata": {},
   "outputs": [],
   "source": [
    "modified_x1range=lambda r_critical_value,a_value:[a_value,np.inf]\n",
    "def modified_non_bounded_coords_range(*args): \n",
    "  return [0,np.inf]\n",
    "\n",
    "modified_non_bounded_coords_boundary_range = [0,np.inf]\n",
    "\n",
    "a_value = 2\n"
   ]
  },
  {
   "cell_type": "markdown",
   "metadata": {},
   "source": [
    "We have the same problem as before and need to limit the number of subintervals"
   ]
  },
  {
   "cell_type": "code",
   "execution_count": null,
   "metadata": {},
   "outputs": [],
   "source": [
    "result_on_M = scipy.integrate.nquad(\n",
    "  func=num_lower_bound_modified_integrand_over_M,\n",
    "  ranges=[modified_non_bounded_coords_range]*(dim-1)+[modified_x1range],\n",
    "  args=[r_critical_value,a_value],\n",
    "  full_output=True,\n",
    "  opts={\"limit\":1}\n",
    ")"
   ]
  },
  {
   "cell_type": "markdown",
   "metadata": {},
   "source": [
    "But on the boundary, the numerical integration converges nicely"
   ]
  },
  {
   "cell_type": "code",
   "execution_count": null,
   "metadata": {},
   "outputs": [],
   "source": [
    "result_on_boundary = scipy.integrate.nquad(\n",
    "  func=num_lower_bound_modified_integrand_over_boundary,\n",
    "  ranges=[modified_non_bounded_coords_boundary_range]*(dim-1),\n",
    "  args=[a_value,r_critical_value,a_value], # we also need to pass x_1=a here\n",
    "  full_output=True,\n",
    "  opts={\"limit\":2}\n",
    ")"
   ]
  },
  {
   "cell_type": "code",
   "execution_count": null,
   "metadata": {},
   "outputs": [
    {
     "data": {
      "text/plain": [
       "((0.9664281198994181, 0.031988832243087455, {'neval': 50625}),\n",
       " (14.057664516668426, 1.1672665900334724, {'neval': 91125}))"
      ]
     },
     "execution_count": 44,
     "metadata": {},
     "output_type": "execute_result"
    }
   ],
   "source": [
    "result_on_M,result_on_boundary"
   ]
  },
  {
   "cell_type": "code",
   "execution_count": null,
   "metadata": {},
   "outputs": [
    {
     "data": {
      "text/markdown": [
       "## Lower bound for mass $m=2$ of $M_{m,\\geq 2}$ calculated in $141750$ evaluations as $4.05936$ with an estimated absolute error of $0.32403$."
      ],
      "text/plain": [
       "<IPython.core.display.Markdown object>"
      ]
     },
     "metadata": {},
     "output_type": "display_data"
    }
   ],
   "source": [
    "modified_schwarzschild_half_space_mass_lower_bound = normalization*number_quadrants*(result_on_M[0]+result_on_boundary[0])\n",
    "error_estimate_modified = normalization*number_quadrants*(result_on_M[1]+result_on_boundary[1])\n",
    "number_evaluations_modified = result_on_M[2]['neval'] + result_on_boundary[2]['neval'] # most of these will come from the boundary integral where we set the `limit` parameter higher\n",
    "display(Markdown(f\"## Lower bound for mass $m={m_value}$ of $M_{{m,\\geq {a_value}}}$ calculated in ${number_evaluations_modified}$ evaluations as ${modified_schwarzschild_half_space_mass_lower_bound:.5f}$ with an estimated absolute error of ${error_estimate_modified:.5f}$.\"))"
   ]
  },
  {
   "cell_type": "markdown",
   "metadata": {},
   "source": [
    "We can repeat this calculation for different values of $a$ and plot the results:"
   ]
  },
  {
   "cell_type": "code",
   "execution_count": null,
   "metadata": {},
   "outputs": [],
   "source": [
    "def calculate_lower_bound_modified(a_value,r_critical_value):\n",
    "    result_on_M = scipy.integrate.nquad(\n",
    "    func=num_lower_bound_modified_integrand_over_M,\n",
    "    ranges=[modified_non_bounded_coords_range]*(dim-1)+[modified_x1range],\n",
    "    args=[r_critical_value,a_value],\n",
    "    full_output=True,\n",
    "    opts={\"limit\":1}\n",
    "  )\n",
    "    result_on_boundary = scipy.integrate.nquad(\n",
    "        func=num_lower_bound_modified_integrand_over_boundary,\n",
    "        ranges=[modified_non_bounded_coords_boundary_range] * (dim - 1),\n",
    "        args=[a_value, r_critical_value, a_value],  # we also need to pass x_1=a here\n",
    "        full_output=True,\n",
    "        opts={\"limit\": 1},\n",
    "    )\n",
    "    lower_bound_M = normalization*number_quadrants * result_on_M[0]\n",
    "    lower_bound_boundary = normalization*number_quadrants * result_on_boundary[0]\n",
    "    error_M = normalization*number_quadrants * result_on_M[1]\n",
    "    error_boundary = normalization*number_quadrants * result_on_boundary[1]\n",
    "    # number_evaluations_modified = result_on_M[2]['neval'] + result_on_boundary[2]['neval'] # most of these will come from the boundary integral where we set the `limit` parameter higher\n",
    "    total_lower_bound = lower_bound_M + lower_bound_boundary\n",
    "    total_error = error_M + error_boundary\n",
    "    return [\n",
    "        total_lower_bound,\n",
    "        total_error,\n",
    "        lower_bound_M,\n",
    "        error_M,\n",
    "        lower_bound_boundary,\n",
    "        error_boundary,\n",
    "    ]\n",
    "\n",
    "# def print_lower_bound_modified_results(\n",
    "#   modified_schwarzschild_half_space_mass_lower_bound,\n",
    "#   error_estimate_modified,\n",
    "#   number_evaluations_modified):\n",
    "#   display(Markdown(f\"## Lower bound for mass $m={m_value}$ of $M_{{m,\\geq {a_value}}}$ calculated in ${number_evaluations}$ evaluations as ${modified_schwarzschild_half_space_mass_lower_bound:.5f}$ with an estimated absolute error of ${error_estimate:.5f}$.\"))"
   ]
  },
  {
   "cell_type": "markdown",
   "metadata": {},
   "source": [
    "Computing the values for the plot might take a while"
   ]
  },
  {
   "cell_type": "code",
   "execution_count": null,
   "metadata": {},
   "outputs": [],
   "source": [
    "a_values = np.array([1,2,5,10,100])\n",
    "r_critical_value = 1\n",
    "total_lower_bounds,total_errors,lower_bounds_M, errors_M, lower_bounds_boundary, errors_boundary = np.fromiter(\n",
    "  (calculate_lower_bound_modified(a_value,m_value) for a_value in a_values),\n",
    "  np.dtype((float,6))).transpose()"
   ]
  },
  {
   "cell_type": "code",
   "execution_count": null,
   "metadata": {},
   "outputs": [
    {
     "data": {
      "image/png": "[encoded data removed]",
      "text/plain": [
       "<Figure size 640x480 with 1 Axes>"
      ]
     },
     "metadata": {},
     "output_type": "display_data"
    }
   ],
   "source": [
    "plt.errorbar(a_values,total_lower_bounds,yerr=total_errors,label=f\"total lower bound\")\n",
    "plt.errorbar(a_values,lower_bounds_M,yerr=errors_M,label=f\"lower bound from integral on $ M_{{{m_value},\\!\\!\\geq a}}$\")\n",
    "plt.errorbar(a_values,lower_bounds_boundary,yerr=errors_boundary,label=f\"lower bound from integral on boundary $\\partial M_{{{m_value},\\!\\!\\geq a}}$\")\n",
    "plt.xscale('log')\n",
    "plt.gca().set_ylim(bottom=0)\n",
    "plt.xlabel(\"$a$ (log-scale)\")\n",
    "plt.ylabel(\"lower bound for mass obtained from harmonic function method\")\n",
    "plt.legend()\n",
    "plt.tight_layout()\n",
    "plt.title(f\"Lower bounds for the mass of $M_{{{m_value},\\!\\!\\geq a}}$ for different values of $a$ and $n={dim}$.\")\n",
    "plt.savefig(\"../figures/lower_bounds_for_different_values_of_a\",bbox_inches='tight')"
   ]
  },
  {
   "cell_type": "markdown",
   "metadata": {},
   "source": [
    "## Plotting the harmonic coordinates"
   ]
  },
  {
   "cell_type": "markdown",
   "metadata": {},
   "source": [
    "### Plotting Utilities"
   ]
  },
  {
   "cell_type": "markdown",
   "metadata": {},
   "source": [
    "Matplotlib does not come with a method of plotting implicit surfaces. The following approach is from [answers to this Stack Overflow question](https://stackoverflow.com/questions/4680525/plotting-implicit-equations-in-3d)."
   ]
  },
  {
   "cell_type": "markdown",
   "metadata": {},
   "source": [
    "```python\n",
    "# https://stackoverflow.com/a/4687582\n",
    "def plot_implicit_using_contours(ax,fn,level_set_value=0, bbox=((-2.5,2.5),(-2.5,2.5),(-2.5,2.5)),resolution=50,samples=30):\n",
    "    \"\"\" Create a plot of a 2d implicite surface fn(x,y,z)=level_set_value using contours\n",
    "\n",
    "    Args:\n",
    "        ax (matplotlib.axes)\n",
    "        fn (function): Function describing the implicit surface\n",
    "        level_set_value (int, optional): Which level set of fn to consider. Defaults to 0.\n",
    "        bbox (tuple, optional): x,y,and z limits of plotted interval. Defaults to ((-2.5,2.5),(-2.5,2.5),(-2.5,2.5)).\n",
    "        resolution (int, optional): Defaults to 50.\n",
    "        samples (int, optional): Number of slices to take\n",
    "    \"\"\"\n",
    "    xmin, xmax = bbox[0]\n",
    "    ymin, ymax = bbox[1]\n",
    "    zmin,zmax = bbox[2]\n",
    "    \n",
    "    xl = np.linspace(xmin, xmax, resolution)\n",
    "    yl = np.linspace(ymin,ymax,resolution)\n",
    "    zl = np.linspace(zmin, zmax, samples)\n",
    "    A1, A2 = np.meshgrid(xl,xl)\n",
    "\n",
    "    for z in zl: # plot contours in the XY plane\n",
    "        X,Y = A1,A2\n",
    "        Z = fn(X,Y,z)-level_set_value\n",
    "        cset = ax.contour(X, Y, Z+z-level_set_value, [z], zdir='z')\n",
    "        # [z] defines the only level to plot for this contour for this value of z\n",
    "\n",
    "    for y in zl: # plot contours in the XZ plane\n",
    "        X,Z = A1,A2\n",
    "        Y = fn(X,y,Z)-level_set_value\n",
    "        cset = ax.contour(X, Y+y, Z, [y], zdir='y')\n",
    "\n",
    "    for x in zl: # plot contours in the YZ plane\n",
    "        Y,Z = A1,A2\n",
    "        X = fn(x,Y,Z)-level_set_value\n",
    "        cset = ax.contour(X+x, Y, Z, [x], zdir='x')\n",
    "\n",
    "    # must set plot limits because the contour will likely extend\n",
    "    # way beyond the displayed level.  Otherwise matplotlib extends the plot limits\n",
    "    # to encompass all values in the contour.\n",
    "    ax.set_zlim3d(zmin,zmax)\n",
    "    ax.set_xlim3d(xmin,xmax)\n",
    "    ax.set_ylim3d(ymin,ymax)\n",
    "\n",
    "def plot_implicit_using_marching_cubes(ax,fn,level_set_value=0,bbox=((-2.5,2.5),(-2.5,2.5),(-2.5,2.5)),resolution=50):\n",
    "    \"\"\" Create a plot of a 2d implicit surface fn(x,y,z)=level_set_value using marching cubes\n",
    "\n",
    "    Args:\n",
    "        ax (matplotlib.axes)\n",
    "        fn (function): Function describing the implicit surface\n",
    "        level_set_value (int, optional): Which level set of fn to consider. Defaults to 0.\n",
    "        bbox (tuple, optional): x,y,and z limits of plotted interval. Defaults to ((-2.5,2.5),(-2.5,2.5),(-2.5,2.5)).\n",
    "        resolution (int, optional): Defaults to 50.\n",
    "    \"\"\"\n",
    "    xmin, xmax = bbox[0]\n",
    "    ymin, ymax = bbox[1]\n",
    "    zmin,zmax = bbox[2]\n",
    "    \n",
    "    xl = np.linspace(xmin,xmax, resolution)\n",
    "    yl = np.linspace(ymin,ymax, resolution)\n",
    "    zl = np.linspace(zmin,zmax, resolution)\n",
    "    X, Y, Z = np.meshgrid(xl, yl, zl)\n",
    "    F=fn(X,Y,Z)\n",
    "\n",
    "\n",
    "    verts, faces, normals, values = measure.marching_cubes(F, level_set_value, spacing=[np.diff(xl)[0],np.diff(yl)[0],np.diff(zl)[0]])\n",
    "    # need to correct vertex coordinates as they are expressed in Voxel coordinates\n",
    "    verts += (xmin,ymin,zmin)\n",
    "    \n",
    "    ax.plot_trisurf(verts[:, 0], verts[:, 1], faces, \n",
    "                    verts[:, 2], # color\n",
    "                    cmap='magma',vmin=zmin,vmax=zmax)\n",
    "    \n",
    "    ax.set_zlim3d(zmin,zmax)\n",
    "    ax.set_xlim3d(xmin,xmax)\n",
    "    ax.set_ylim3d(ymin,ymax)\n",
    "    return verts, faces\n",
    "```"
   ]
  },
  {
   "cell_type": "markdown",
   "metadata": {},
   "source": [
    "```python\n",
    "def plot_coordinate_level_sets(coordinate,level_set_values=(0),m_value=1,a_value=0,bbox=((-2.5,2.5),(-2.5,2.5),(-2.5,2.5)),resolution=50):\n",
    "  fn = sympy.lambdify([x1,x2,x1],(coordinate()).subs(((m,m_value),(a,a_value))))\n",
    "\n",
    "  n_plots = len(level_set_values)\n",
    "  n_cols = min(2,n_plots)\n",
    "  n_rows = (n_plots+1)//2\n",
    "\n",
    "  fig = plt.figure(figsize=(10,n_rows*4+1))\n",
    "  fig.suptitle(f\"Level sets of ${sympy.latex(coordinate.symbol)}$ on $M_{{{m_value},\\!\\!\\geq {a_value}}}$\",fontsize=20,y=0,va=\"top\")\n",
    "\n",
    "  axes = fig.subplots(ncols=n_cols,nrows=n_rows,subplot_kw=dict(projection='3d'),squeeze=False)\n",
    "\n",
    "  if n_plots<n_rows*2:\n",
    "    fig.delaxes(axes[n_rows-1,n_cols-1]) # delete last axis if unneccessary\n",
    "\n",
    "  for index, level_set_value in enumerate(level_set_values):\n",
    "    ax = axes.flatten()[index]\n",
    "    ax.set_title(f\"${sympy.latex(coordinate.symbol)}={level_set_value:.2f}$\",fontsize=16,pad=0)\n",
    "    ax.locator_params(nbins=4)\n",
    "    \n",
    "    plot_implicit_using_marching_cubes(ax,fn,level_set_value,bbox=bbox,resolution=resolution)\n",
    "    ax.set_aspect('equal')\n",
    "  fig.tight_layout(h_pad=5)\n",
    "  return fig\n",
    "```"
   ]
  },
  {
   "cell_type": "markdown",
   "metadata": {},
   "source": [
    "### Plots for $M_{m,+}=M_{m,\\geq 0}$"
   ]
  },
  {
   "cell_type": "markdown",
   "metadata": {},
   "source": [
    "```python\n",
    "fig=plot_coordinate_level_sets(u1,[0,0.1,0.2,0.3,0.4,0.5,0.6,0.7],bbox=[(-1.5,1.5),(-1.5,1.5),(0,1.1)])\n",
    "fig.savefig(\"../figures/level_sets_u1_unmodified\",bbox_inches='tight')\n",
    "````"
   ]
  },
  {
   "cell_type": "markdown",
   "metadata": {},
   "source": [
    "```python\n",
    "plot_coordinate_level_sets(u2,[-0.75,-0.5,-0.25,0,0.25,0.5,0.75],bbox=[(-1.1,1.1),(-1.1,1.1),(0,1.1)])\n",
    "plt.savefig(\"../figures/level_sets_u2_unmodified\",bbox_inches=\"tight\")\n",
    "```"
   ]
  },
  {
   "cell_type": "markdown",
   "metadata": {},
   "source": [
    "### Plots for $M_{m,\\!\\!\\geq a}$. We can symbolically check that the boundary $x_3=a$ is actually a level set. Numerically this level set is not quite correctly computed due to rounding errors. "
   ]
  },
  {
   "cell_type": "markdown",
   "metadata": {},
   "source": [
    "```python\n",
    "for a_value in [0.1,0.3]:\n",
    "  fig=plot_coordinate_level_sets(u1_modified,np.array([0,0.1,0.2,0.3,0.4,0.5,0.6,0.7])+a_value,a_value=a_value,bbox=[(-1.1,1.1),(-1.1,1.1),(0,1.5)],resolution=100)\n",
    "  fig.savefig(f'../figures/level_sets_u1_modified_with_a_{a_value}.png',bbox_inches='tight')\n",
    "```"
   ]
  }
 ],
 "metadata": {
  "kernelspec": {
   "display_name": ".nix-venv",
   "language": "python",
   "name": "python3"
  },
  "language_info": {
   "codemirror_mode": {
    "name": "ipython",
    "version": 3
   },
   "file_extension": ".py",
   "mimetype": "text/x-python",
   "name": "python",
   "nbconvert_exporter": "python",
   "pygments_lexer": "ipython3",
   "version": "3.11.8"
  },
  "orig_nbformat": 4
 },
 "nbformat": 4,
 "nbformat_minor": 2
}

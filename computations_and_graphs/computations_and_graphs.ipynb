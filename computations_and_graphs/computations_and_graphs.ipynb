{
  "cells": [
    {
      "cell_type": "markdown",
      "metadata": {
        "id": "07Vklj5p-AVq"
      },
      "source": [
        "# The harmonic function method and the mass of some Schwarzschild half-spaces - Computations and Graphs"
      ]
    },
    {
      "cell_type": "markdown",
      "metadata": {
        "id": "qrnXc0u5-AVs"
      },
      "source": [
        "In this Jupyter Notebook, we will do two main things for our examples from Section 8:\n",
        "- Compute the lower bound given by Theorem 3.9\n",
        "- Plot the level sets of the harmonic coordinates"
      ]
    },
    {
      "cell_type": "markdown",
      "metadata": {
        "id": "YC7r96NU-AVt"
      },
      "source": [
        "### Setting up the Python environment"
      ]
    },
    {
      "cell_type": "code",
      "execution_count": 161,
      "metadata": {
        "id": "B3U4uyDF-AVu"
      },
      "outputs": [],
      "source": [
        "# This file is present both as .ipynb as well as .py. For the latter, the `# %%` comment denote borders between cells so the Python file can be treated like an Jupyter notebook as well. The function below checks if the Python file is running inside a Jupyter Notebook\n",
        "def is_notebook() -> bool:\n",
        "  try:\n",
        "    shell = get_ipython().__class__.__name__ # type: ignore[reportUndefinedVariable]\n",
        "    if shell in ('ZMQInteractiveShell','XPythonShell','Shell'):\n",
        "        return True   # Jupyter notebook or qtconsole\n",
        "    elif shell == 'TerminalInteractiveShell':\n",
        "        return False  # Terminal running IPython\n",
        "    else:\n",
        "        return False  # Other type (?)\n",
        "  except NameError:\n",
        "    return False      # Probably standard Python interpreter"
      ]
    },
    {
      "cell_type": "code",
      "execution_count": 162,
      "metadata": {
        "colab": {
          "base_uri": "https://localhost:8080/"
        },
        "id": "EDWRBFvk-AVw",
        "outputId": "8894fb48-c876-4b9c-91d4-81f54bc0b0bb"
      },
      "outputs": [
        {
          "output_type": "stream",
          "name": "stdout",
          "text": [
            "Requirement already satisfied: gravipy in /usr/local/lib/python3.10/dist-packages (0.2.0)\n",
            "Requirement already satisfied: matplotlib in /usr/local/lib/python3.10/dist-packages (3.7.1)\n",
            "Requirement already satisfied: scikit-image in /usr/local/lib/python3.10/dist-packages (0.19.3)\n",
            "Requirement already satisfied: vegasflow in /usr/local/lib/python3.10/dist-packages (1.3.0)\n",
            "Requirement already satisfied: sympy>=1.4 in /usr/local/lib/python3.10/dist-packages (from gravipy) (1.12)\n",
            "Requirement already satisfied: contourpy>=1.0.1 in /usr/local/lib/python3.10/dist-packages (from matplotlib) (1.2.0)\n",
            "Requirement already satisfied: cycler>=0.10 in /usr/local/lib/python3.10/dist-packages (from matplotlib) (0.12.1)\n",
            "Requirement already satisfied: fonttools>=4.22.0 in /usr/local/lib/python3.10/dist-packages (from matplotlib) (4.49.0)\n",
            "Requirement already satisfied: kiwisolver>=1.0.1 in /usr/local/lib/python3.10/dist-packages (from matplotlib) (1.4.5)\n",
            "Requirement already satisfied: numpy>=1.20 in /usr/local/lib/python3.10/dist-packages (from matplotlib) (1.25.2)\n",
            "Requirement already satisfied: packaging>=20.0 in /usr/local/lib/python3.10/dist-packages (from matplotlib) (23.2)\n",
            "Requirement already satisfied: pillow>=6.2.0 in /usr/local/lib/python3.10/dist-packages (from matplotlib) (9.4.0)\n",
            "Requirement already satisfied: pyparsing>=2.3.1 in /usr/local/lib/python3.10/dist-packages (from matplotlib) (3.1.1)\n",
            "Requirement already satisfied: python-dateutil>=2.7 in /usr/local/lib/python3.10/dist-packages (from matplotlib) (2.8.2)\n",
            "Requirement already satisfied: scipy>=1.4.1 in /usr/local/lib/python3.10/dist-packages (from scikit-image) (1.11.4)\n",
            "Requirement already satisfied: networkx>=2.2 in /usr/local/lib/python3.10/dist-packages (from scikit-image) (3.2.1)\n",
            "Requirement already satisfied: imageio>=2.4.1 in /usr/local/lib/python3.10/dist-packages (from scikit-image) (2.31.6)\n",
            "Requirement already satisfied: tifffile>=2019.7.26 in /usr/local/lib/python3.10/dist-packages (from scikit-image) (2024.2.12)\n",
            "Requirement already satisfied: PyWavelets>=1.1.1 in /usr/local/lib/python3.10/dist-packages (from scikit-image) (1.5.0)\n",
            "Requirement already satisfied: joblib in /usr/local/lib/python3.10/dist-packages (from vegasflow) (1.3.2)\n",
            "Requirement already satisfied: tensorflow in /usr/local/lib/python3.10/dist-packages (from vegasflow) (2.15.0)\n",
            "Requirement already satisfied: six>=1.5 in /usr/local/lib/python3.10/dist-packages (from python-dateutil>=2.7->matplotlib) (1.16.0)\n",
            "Requirement already satisfied: mpmath>=0.19 in /usr/local/lib/python3.10/dist-packages (from sympy>=1.4->gravipy) (1.3.0)\n",
            "Requirement already satisfied: absl-py>=1.0.0 in /usr/local/lib/python3.10/dist-packages (from tensorflow->vegasflow) (1.4.0)\n",
            "Requirement already satisfied: astunparse>=1.6.0 in /usr/local/lib/python3.10/dist-packages (from tensorflow->vegasflow) (1.6.3)\n",
            "Requirement already satisfied: flatbuffers>=23.5.26 in /usr/local/lib/python3.10/dist-packages (from tensorflow->vegasflow) (23.5.26)\n",
            "Requirement already satisfied: gast!=0.5.0,!=0.5.1,!=0.5.2,>=0.2.1 in /usr/local/lib/python3.10/dist-packages (from tensorflow->vegasflow) (0.5.4)\n",
            "Requirement already satisfied: google-pasta>=0.1.1 in /usr/local/lib/python3.10/dist-packages (from tensorflow->vegasflow) (0.2.0)\n",
            "Requirement already satisfied: h5py>=2.9.0 in /usr/local/lib/python3.10/dist-packages (from tensorflow->vegasflow) (3.9.0)\n",
            "Requirement already satisfied: libclang>=13.0.0 in /usr/local/lib/python3.10/dist-packages (from tensorflow->vegasflow) (16.0.6)\n",
            "Requirement already satisfied: ml-dtypes~=0.2.0 in /usr/local/lib/python3.10/dist-packages (from tensorflow->vegasflow) (0.2.0)\n",
            "Requirement already satisfied: opt-einsum>=2.3.2 in /usr/local/lib/python3.10/dist-packages (from tensorflow->vegasflow) (3.3.0)\n",
            "Requirement already satisfied: protobuf!=4.21.0,!=4.21.1,!=4.21.2,!=4.21.3,!=4.21.4,!=4.21.5,<5.0.0dev,>=3.20.3 in /usr/local/lib/python3.10/dist-packages (from tensorflow->vegasflow) (3.20.3)\n",
            "Requirement already satisfied: setuptools in /usr/local/lib/python3.10/dist-packages (from tensorflow->vegasflow) (67.7.2)\n",
            "Requirement already satisfied: termcolor>=1.1.0 in /usr/local/lib/python3.10/dist-packages (from tensorflow->vegasflow) (2.4.0)\n",
            "Requirement already satisfied: typing-extensions>=3.6.6 in /usr/local/lib/python3.10/dist-packages (from tensorflow->vegasflow) (4.10.0)\n",
            "Requirement already satisfied: wrapt<1.15,>=1.11.0 in /usr/local/lib/python3.10/dist-packages (from tensorflow->vegasflow) (1.14.1)\n",
            "Requirement already satisfied: tensorflow-io-gcs-filesystem>=0.23.1 in /usr/local/lib/python3.10/dist-packages (from tensorflow->vegasflow) (0.36.0)\n",
            "Requirement already satisfied: grpcio<2.0,>=1.24.3 in /usr/local/lib/python3.10/dist-packages (from tensorflow->vegasflow) (1.62.0)\n",
            "Requirement already satisfied: tensorboard<2.16,>=2.15 in /usr/local/lib/python3.10/dist-packages (from tensorflow->vegasflow) (2.15.2)\n",
            "Requirement already satisfied: tensorflow-estimator<2.16,>=2.15.0 in /usr/local/lib/python3.10/dist-packages (from tensorflow->vegasflow) (2.15.0)\n",
            "Requirement already satisfied: keras<2.16,>=2.15.0 in /usr/local/lib/python3.10/dist-packages (from tensorflow->vegasflow) (2.15.0)\n",
            "Requirement already satisfied: wheel<1.0,>=0.23.0 in /usr/local/lib/python3.10/dist-packages (from astunparse>=1.6.0->tensorflow->vegasflow) (0.42.0)\n",
            "Requirement already satisfied: google-auth<3,>=1.6.3 in /usr/local/lib/python3.10/dist-packages (from tensorboard<2.16,>=2.15->tensorflow->vegasflow) (2.27.0)\n",
            "Requirement already satisfied: google-auth-oauthlib<2,>=0.5 in /usr/local/lib/python3.10/dist-packages (from tensorboard<2.16,>=2.15->tensorflow->vegasflow) (1.2.0)\n",
            "Requirement already satisfied: markdown>=2.6.8 in /usr/local/lib/python3.10/dist-packages (from tensorboard<2.16,>=2.15->tensorflow->vegasflow) (3.5.2)\n",
            "Requirement already satisfied: requests<3,>=2.21.0 in /usr/local/lib/python3.10/dist-packages (from tensorboard<2.16,>=2.15->tensorflow->vegasflow) (2.31.0)\n",
            "Requirement already satisfied: tensorboard-data-server<0.8.0,>=0.7.0 in /usr/local/lib/python3.10/dist-packages (from tensorboard<2.16,>=2.15->tensorflow->vegasflow) (0.7.2)\n",
            "Requirement already satisfied: werkzeug>=1.0.1 in /usr/local/lib/python3.10/dist-packages (from tensorboard<2.16,>=2.15->tensorflow->vegasflow) (3.0.1)\n",
            "Requirement already satisfied: cachetools<6.0,>=2.0.0 in /usr/local/lib/python3.10/dist-packages (from google-auth<3,>=1.6.3->tensorboard<2.16,>=2.15->tensorflow->vegasflow) (5.3.3)\n",
            "Requirement already satisfied: pyasn1-modules>=0.2.1 in /usr/local/lib/python3.10/dist-packages (from google-auth<3,>=1.6.3->tensorboard<2.16,>=2.15->tensorflow->vegasflow) (0.3.0)\n",
            "Requirement already satisfied: rsa<5,>=3.1.4 in /usr/local/lib/python3.10/dist-packages (from google-auth<3,>=1.6.3->tensorboard<2.16,>=2.15->tensorflow->vegasflow) (4.9)\n",
            "Requirement already satisfied: requests-oauthlib>=0.7.0 in /usr/local/lib/python3.10/dist-packages (from google-auth-oauthlib<2,>=0.5->tensorboard<2.16,>=2.15->tensorflow->vegasflow) (1.3.1)\n",
            "Requirement already satisfied: charset-normalizer<4,>=2 in /usr/local/lib/python3.10/dist-packages (from requests<3,>=2.21.0->tensorboard<2.16,>=2.15->tensorflow->vegasflow) (3.3.2)\n",
            "Requirement already satisfied: idna<4,>=2.5 in /usr/local/lib/python3.10/dist-packages (from requests<3,>=2.21.0->tensorboard<2.16,>=2.15->tensorflow->vegasflow) (3.6)\n",
            "Requirement already satisfied: urllib3<3,>=1.21.1 in /usr/local/lib/python3.10/dist-packages (from requests<3,>=2.21.0->tensorboard<2.16,>=2.15->tensorflow->vegasflow) (2.0.7)\n",
            "Requirement already satisfied: certifi>=2017.4.17 in /usr/local/lib/python3.10/dist-packages (from requests<3,>=2.21.0->tensorboard<2.16,>=2.15->tensorflow->vegasflow) (2024.2.2)\n",
            "Requirement already satisfied: MarkupSafe>=2.1.1 in /usr/local/lib/python3.10/dist-packages (from werkzeug>=1.0.1->tensorboard<2.16,>=2.15->tensorflow->vegasflow) (2.1.5)\n",
            "Requirement already satisfied: pyasn1<0.6.0,>=0.4.6 in /usr/local/lib/python3.10/dist-packages (from pyasn1-modules>=0.2.1->google-auth<3,>=1.6.3->tensorboard<2.16,>=2.15->tensorflow->vegasflow) (0.5.1)\n",
            "Requirement already satisfied: oauthlib>=3.0.0 in /usr/local/lib/python3.10/dist-packages (from requests-oauthlib>=0.7.0->google-auth-oauthlib<2,>=0.5->tensorboard<2.16,>=2.15->tensorflow->vegasflow) (3.2.2)\n"
          ]
        }
      ],
      "source": [
        "if is_notebook():\n",
        "  get_ipython().run_line_magic(\"pip\", \"install gravipy matplotlib scikit-image vegasflow\") # this helps if this Notebook is executed from within e.g. jupyter-cloud.gwdg.de  # type: ignore[reportUndefinedVariable]"
      ]
    },
    {
      "cell_type": "code",
      "execution_count": 163,
      "metadata": {
        "id": "EJpW4HQh-AVx"
      },
      "outputs": [],
      "source": [
        "from gravipy.tensorial import * # import GraviPy package\n",
        "import sympy\n",
        "import numpy as np\n",
        "import scipy\n",
        "import matplotlib.pyplot as plt\n",
        "\n",
        "# for plotting of implicit surfaces (i.e. the level sets)\n",
        "from mpl_toolkits.mplot3d import axes3d\n",
        "from skimage import measure\n",
        "\n",
        "from sympy.utilities.lambdify import lambdastr"
      ]
    },
    {
      "cell_type": "code",
      "execution_count": 164,
      "metadata": {
        "id": "bgWvMrwo-AVy"
      },
      "outputs": [],
      "source": [
        "if is_notebook():\n",
        "  from IPython.display import display, Markdown\n",
        "else:\n",
        "  from rich.markdown import Markdown\n",
        "  from rich.console import Console\n",
        "  console = Console()\n",
        "  display = console.print\n"
      ]
    },
    {
      "cell_type": "markdown",
      "metadata": {
        "id": "lm0xc31y-AVz"
      },
      "source": [
        "### Setting up the manifold, metric, etc."
      ]
    },
    {
      "cell_type": "code",
      "execution_count": 165,
      "metadata": {
        "id": "-cREYBJP-AV0"
      },
      "outputs": [],
      "source": [
        "dim = symbols(\"n\",positive=True,integer=True)\n",
        "\n",
        "# we use cylindrical coordinates\n",
        "x1 = symbols(\"x_1\", nonnegative=True)\n",
        "rho = symbols(r\"\\rho\",nonnegative=True)\n",
        "phi = symbols(r\"\\varphi\",real=True) # this will be a generic angle variable, in general we have (dim-2) of these\n",
        "r_critical = symbols(r\"r_0\",positive=True)\n",
        "# r_critical = (m/2)**(1/(dim-2))\n",
        "\n",
        "r=sympy.sqrt(rho**2+x1**2)\n",
        "coords=[x1,rho,phi]\n",
        "pos = Coordinates(r'\\chi',coords)\n",
        "omega=(1+(r_critical/r)**(dim-2))\n",
        "exponent=sympy.Number(4)/(dim-2)\n",
        "# metric = sympy.MatrixSymbol(\"g\",3,3)\n",
        "metric = omega**exponent*sympy.diag(1,1,rho**2)\n",
        "g = MetricTensor('g', pos, metric)\n",
        "Ga = Christoffel(r'\\Gamma', g)"
      ]
    },
    {
      "cell_type": "code",
      "execution_count": 166,
      "metadata": {
        "id": "PrDbPlOX-AV2"
      },
      "outputs": [],
      "source": [
        "# useful for all kinds of integrals\n",
        "volume_element = (omega**(exponent*dim/2)).simplify()\n",
        "hypersurface_volume_element = (omega**(exponent*(dim-1)/2)).simplify()"
      ]
    },
    {
      "cell_type": "code",
      "execution_count": 167,
      "metadata": {
        "id": "Qi65CVuh-AV3"
      },
      "outputs": [],
      "source": [
        "# metric of hypersurface\n",
        "# gamma_metric = omega**exponent*sympy.diag(*([0]+[1]*(dim-1)))\n",
        "# gamma = MetricTensor(r'\\gamma', pos, gamma_metric)\n",
        "# Ga_gamma = Christoffel(r'\\Gamma_{\\gamma}',gamma)"
      ]
    },
    {
      "cell_type": "markdown",
      "metadata": {
        "id": "BvoJaqVY-AV5"
      },
      "source": [
        "Some utility functions:"
      ]
    },
    {
      "cell_type": "code",
      "execution_count": 168,
      "metadata": {
        "id": "lq-zkszy-AV6"
      },
      "outputs": [],
      "source": [
        "# as long as scalar is rotationally symmetric (wrt the x1-axis), this should work\n",
        "def laplacian(scalar):\n",
        "  return g(-1,-1)*scalar.covariantD(1,1) + g(-2,-2)*scalar.covariantD(2,2) + (dim-2)*g(-3,-3)*scalar.covariantD(3,3)"
      ]
    },
    {
      "cell_type": "markdown",
      "metadata": {
        "id": "GBCaBNrB-AV6"
      },
      "source": [
        "### Setting up the harmonic coordinates"
      ]
    },
    {
      "cell_type": "markdown",
      "metadata": {
        "id": "ox3vI-Nz-AV6"
      },
      "source": [
        "Define all the harmonic coordinates for $M_{m,+}$:"
      ]
    },
    {
      "cell_type": "code",
      "execution_count": 169,
      "metadata": {
        "id": "U5jD9q0l-AV6"
      },
      "outputs": [],
      "source": [
        "u1 = Tensor(\"u_1\",0,g)\n",
        "\n",
        "def u1_method(idxs):\n",
        "    component = x1*(1+(r_critical/r)**dim)/omega\n",
        "    u1.components.update({idxs: component})\n",
        "    return component\n",
        "\n",
        "u1._compute_covariant_component = u1_method"
      ]
    },
    {
      "cell_type": "markdown",
      "metadata": {
        "id": "u_APNLB_-AV6"
      },
      "source": [
        "And define $u_1$ for the modified Schwarzschild space $M_{m,\\geq a}$ for $a>0$:"
      ]
    },
    {
      "cell_type": "code",
      "execution_count": 170,
      "metadata": {
        "id": "OA7bTPyG-AV6"
      },
      "outputs": [],
      "source": [
        "a = symbols(\"a\")\n",
        "u1_modified = Tensor(\"u_1\",0,g)\n",
        "\n",
        "def u1_modified_method(idxs):\n",
        "    component = (x1+a*(r_critical/r)**(dim-2))/omega\n",
        "    u1_modified.components.update({idxs: component})\n",
        "    return component\n",
        "u1_modified._compute_covariant_component = u1_modified_method"
      ]
    },
    {
      "cell_type": "code",
      "execution_count": 171,
      "metadata": {
        "id": "EEac054C-AV6"
      },
      "outputs": [],
      "source": [
        "dim_over_3=symbols(r\"\\tilde{n}\", nonnegative=True)"
      ]
    },
    {
      "cell_type": "markdown",
      "metadata": {
        "id": "NZJjLgq9-AV7"
      },
      "source": [
        "## Testing our Setup"
      ]
    },
    {
      "cell_type": "markdown",
      "metadata": {
        "id": "Rtw-sxBn-AV7"
      },
      "source": [
        "### What's the mass of our space?"
      ]
    },
    {
      "cell_type": "markdown",
      "metadata": {
        "id": "MJPrDX8_-AV7"
      },
      "source": [
        "We use the spherical symmetry of the solution to avoid the integral, but we do evaluate the integrand in one radial direction (namely along the $x_1$-axis)"
      ]
    },
    {
      "cell_type": "code",
      "execution_count": 172,
      "metadata": {
        "id": "7KXUY4eW-AV9"
      },
      "outputs": [],
      "source": [
        "normal_vector_to_sphere = Tensor(r\"n_{S_r}\",1,g)\n",
        "def n_S_r_compute_covariant_component(idxs):\n",
        "  if idxs[0]!=3:\n",
        "      component = sympy.sqrt(g(idxs[0],idxs[0]))*coords[idxs[0]-1]/r\n",
        "  else:\n",
        "      component = 0\n",
        "  normal_vector_to_sphere.components.update({idxs:component})\n",
        "  return component\n",
        "normal_vector_to_sphere._compute_covariant_component=n_S_r_compute_covariant_component"
      ]
    },
    {
      "cell_type": "code",
      "execution_count": 173,
      "metadata": {
        "colab": {
          "base_uri": "https://localhost:8080/",
          "height": 89
        },
        "id": "IKQE2igo-AV9",
        "outputId": "72bbcac8-627a-4877-937e-6bb977ec62dd"
      },
      "outputs": [
        {
          "output_type": "execute_result",
          "data": {
            "text/plain": [
              "Matrix([[x_1*sqrt(((r_0/sqrt(\\rho**2 + x_1**2))**(n - 2) + 1)**(4/(n - 2)))/(sqrt(\\rho**2 + x_1**2)*((r_0/sqrt(\\rho**2 + x_1**2))**(n - 2) + 1)**(4/(n - 2))), \\rho*sqrt(((r_0/sqrt(\\rho**2 + x_1**2))**(n - 2) + 1)**(4/(n - 2)))/(sqrt(\\rho**2 + x_1**2)*((r_0/sqrt(\\rho**2 + x_1**2))**(n - 2) + 1)**(4/(n - 2))), 0]])"
            ],
            "text/latex": "$\\displaystyle \\left[\\begin{matrix}\\frac{x_{1} \\left(\\left(\\frac{r_{0}}{\\sqrt{\\rho^{2} + x_{1}^{2}}}\\right)^{n - 2} + 1\\right)^{- \\frac{4}{n - 2}} \\sqrt{\\left(\\left(\\frac{r_{0}}{\\sqrt{\\rho^{2} + x_{1}^{2}}}\\right)^{n - 2} + 1\\right)^{\\frac{4}{n - 2}}}}{\\sqrt{\\rho^{2} + x_{1}^{2}}} & \\frac{\\rho \\left(\\left(\\frac{r_{0}}{\\sqrt{\\rho^{2} + x_{1}^{2}}}\\right)^{n - 2} + 1\\right)^{- \\frac{4}{n - 2}} \\sqrt{\\left(\\left(\\frac{r_{0}}{\\sqrt{\\rho^{2} + x_{1}^{2}}}\\right)^{n - 2} + 1\\right)^{\\frac{4}{n - 2}}}}{\\sqrt{\\rho^{2} + x_{1}^{2}}} & 0\\end{matrix}\\right]$"
          },
          "metadata": {},
          "execution_count": 173
        }
      ],
      "source": [
        "normal_vector_to_sphere(-All)"
      ]
    },
    {
      "cell_type": "code",
      "execution_count": 174,
      "metadata": {
        "id": "0b0sAZqy-AV9"
      },
      "outputs": [],
      "source": [
        "# if either i or j are angle coordinates this will be zero (since we look along x1=0)\n",
        "# to compensate for the missing dimensions, we multiply by (dim-1)\n",
        "# this is all just guesswork, TODO to improve this\n",
        "mass_integrand = (dim-1)*sum((g.partialD(i,j,i)-g.partialD(i,i,j))*normal_vector_to_sphere(-j) for i,j in list(variations(range(1,4),2,True)))\n",
        "ray_substition = [[rho,0]] # our coordinates are singular here\n",
        "ray_mass_integrand = mass_integrand.subs(ray_substition).simplify()"
      ]
    },
    {
      "cell_type": "code",
      "execution_count": 175,
      "metadata": {
        "colab": {
          "base_uri": "https://localhost:8080/",
          "height": 72
        },
        "id": "m1hVFJ8v-AV9",
        "outputId": "deb3896d-cd60-44e9-84b8-f2939d69e8cc"
      },
      "outputs": [
        {
          "output_type": "execute_result",
          "data": {
            "text/plain": [
              "4*r_0**(n - 2)*x_1**(1 - n)*(n - 1)*sqrt((r_0**(n - 2)*x_1**(2 - n) + 1)**(4/(n - 2)))/(r_0**(n - 2)*x_1**(2 - n) + 1)"
            ],
            "text/latex": "$\\displaystyle \\frac{4 r_{0}^{n - 2} x_{1}^{1 - n} \\left(n - 1\\right) \\sqrt{\\left(r_{0}^{n - 2} x_{1}^{2 - n} + 1\\right)^{\\frac{4}{n - 2}}}}{r_{0}^{n - 2} x_{1}^{2 - n} + 1}$"
          },
          "metadata": {},
          "execution_count": 175
        }
      ],
      "source": [
        "ray_mass_integrand"
      ]
    },
    {
      "cell_type": "markdown",
      "metadata": {
        "id": "x8lj8Afj-AV9"
      },
      "source": [
        "Here and in the following we will need the area of an $(n-1)$-sphere"
      ]
    },
    {
      "cell_type": "code",
      "execution_count": 176,
      "metadata": {
        "id": "AefJZw5M-AV-"
      },
      "outputs": [],
      "source": [
        "sphere_volume = 2*sympy.pi ** (dim / 2) / sympy.gamma(dim / 2)\n",
        "normalization = 1 / (sphere_volume * 2 * (dim - 1))"
      ]
    },
    {
      "cell_type": "code",
      "execution_count": 177,
      "metadata": {
        "scrolled": true,
        "colab": {
          "base_uri": "https://localhost:8080/",
          "height": 60
        },
        "id": "JZNla5LM-AV-",
        "outputId": "58114a9f-612c-427e-caa3-9cd7b9915fcb"
      },
      "outputs": [
        {
          "output_type": "execute_result",
          "data": {
            "text/plain": [
              "gamma(n/2)/(4*pi**(n/2)*(n - 1))"
            ],
            "text/latex": "$\\displaystyle \\frac{\\pi^{- \\frac{n}{2}} \\Gamma\\left(\\frac{n}{2}\\right)}{4 \\left(n - 1\\right)}$"
          },
          "metadata": {},
          "execution_count": 177
        }
      ],
      "source": [
        "normalization"
      ]
    },
    {
      "cell_type": "code",
      "execution_count": 178,
      "metadata": {
        "id": "ZBg3ADF8-AV-"
      },
      "outputs": [],
      "source": [
        "# volume element not strictly needed since we could also use euclidean background metric\n",
        "dim_over_2=symbols(r\"\\tilde{n}\",positive=True)\n",
        "unnormalized_mass_integral = (ray_mass_integrand*hypersurface_volume_element*(sphere_volume/2*r**(dim-1)).subs(ray_substition)).simplify().subs([[dim,dim_over_2+2]])\n",
        "unnormalized_mass = sympy.Limit(unnormalized_mass_integral,x1,sympy.oo).simplify().subs([[dim_over_2,dim-2]]).simplify()\n",
        "mass = (normalization*unnormalized_mass).subs([[dim,dim_over_2+2]]).simplify().subs([[dim_over_2,dim-2]])"
      ]
    },
    {
      "cell_type": "code",
      "execution_count": 179,
      "metadata": {
        "colab": {
          "base_uri": "https://localhost:8080/",
          "height": 38
        },
        "id": "9WfUftMF-AV_",
        "outputId": "90b2fc24-bf45-4aa5-ee6e-332eee18ad4e"
      },
      "outputs": [
        {
          "output_type": "execute_result",
          "data": {
            "text/plain": [
              "r_0**(n - 2)"
            ],
            "text/latex": "$\\displaystyle r_{0}^{n - 2}$"
          },
          "metadata": {},
          "execution_count": 179
        }
      ],
      "source": [
        "mass"
      ]
    },
    {
      "cell_type": "markdown",
      "metadata": {
        "id": "rC2i6RfG-AV_"
      },
      "source": [
        "The following should return $m/2=r_0^{n-2}$, where $n$ is the dimension."
      ]
    },
    {
      "cell_type": "code",
      "execution_count": 180,
      "metadata": {
        "scrolled": true,
        "colab": {
          "base_uri": "https://localhost:8080/",
          "height": 50
        },
        "id": "FIwSXuE0-AV_",
        "outputId": "0d92b11d-dde3-4fd7-e4cd-6a68c3818575"
      },
      "outputs": [
        {
          "output_type": "display_data",
          "data": {
            "text/plain": [
              "<IPython.core.display.Markdown object>"
            ],
            "text/markdown": "The mass is $r_{0}^{n - 2}$"
          },
          "metadata": {}
        }
      ],
      "source": [
        "display(Markdown(f\"The mass is ${sympy.latex(mass)}$\"))\n",
        "assert(mass==(r_critical**(dim-2)).simplify())"
      ]
    },
    {
      "cell_type": "markdown",
      "metadata": {
        "id": "PXcSngiS-AWA"
      },
      "source": [
        "### Is the mean curvature correct?"
      ]
    },
    {
      "cell_type": "markdown",
      "metadata": {
        "id": "zFECtanQ-AWA"
      },
      "source": [
        "We compute the mean curvature of the noncompact boundary (observe that the result agrees with our computation in Section 8)"
      ]
    },
    {
      "cell_type": "code",
      "execution_count": 181,
      "metadata": {
        "id": "zTppumL5-AWB"
      },
      "outputs": [],
      "source": [
        "normal_vector_to_noncompact_boundary = Tensor(r\"\\nu\",1,g)\n",
        "def nu_compute_covariant_component(idxs):\n",
        "  if idxs[0]==1:\n",
        "    component = -sympy.sqrt(g(1,1))\n",
        "  else:\n",
        "     component = sympy.Number(0)\n",
        "  normal_vector_to_noncompact_boundary.components.update({idxs:component})\n",
        "  return component\n",
        "normal_vector_to_noncompact_boundary._compute_covariant_component=nu_compute_covariant_component"
      ]
    },
    {
      "cell_type": "code",
      "execution_count": 182,
      "metadata": {
        "colab": {
          "base_uri": "https://localhost:8080/",
          "height": 98
        },
        "id": "-gLUE5I7-AWC",
        "outputId": "f7701266-27a5-4498-ea13-ff483323dd63"
      },
      "outputs": [
        {
          "output_type": "display_data",
          "data": {
            "text/plain": [
              "<IPython.core.display.Markdown object>"
            ],
            "text/markdown": "Mean curvature $H$ of non-compact boundary is $2 r_{0}^{n - 2} x_{1} \\left(\\rho^{2} + x_{1}^{2}\\right)^{- \\frac{n}{2}} \\left(n - 1\\right) \\left(r_{0}^{n - 2} \\left(\\rho^{2} + x_{1}^{2}\\right)^{1 - \\frac{n}{2}} + 1\\right)^{- \\frac{n}{n - 2}}$, which is the same as $\\frac{2 (n-1)r_0^{n-2}}{r^n\\cdot \\omega^{2/(n-2)+1}}x_1=2 r_{0}^{n - 2} x_{1} \\left(\\rho^{2} + x_{1}^{2}\\right)^{- \\frac{n}{2}} \\left(n - 1\\right) \\left(r_{0}^{n - 2} \\left(\\rho^{2} + x_{1}^{2}\\right)^{1 - \\frac{n}{2}} + 1\\right)^{- \\frac{n}{n - 2}}$."
          },
          "metadata": {}
        }
      ],
      "source": [
        "# we multiply by (dim-2) whenever i and j are equal to 3 (note that when only one of i or j is equal to 3, the summand below is zero)\n",
        "H=sympy.powdenest(sum((dim-2 if i==3 and j==3 else 1) *g(-i,-j)*normal_vector_to_noncompact_boundary.covariantD(i,j) for i,j in variations(range(1,4),2,True)).simplify(),force=True)\n",
        "display(Markdown(f\"Mean curvature $H$ of non-compact boundary is ${sympy.latex(H)}$, which is the same as $\\\\frac{{2 (n-1)r_0^{{n-2}}}}{{r^n\\\\cdot \\omega^{{2/(n-2)+1}}}}x_1={sympy.latex((2*(dim-1)*r_critical**(dim-2)*x1/(r**dim*omega**(sympy.Number(2)/(dim-2)+1))).simplify())}$.\"))\n",
        "assert((H-2*(dim-1)*r_critical**(dim-2)*x1/(r**dim*omega**(sympy.Number(2)/(dim-2)+1))).simplify()==0)"
      ]
    },
    {
      "cell_type": "markdown",
      "metadata": {
        "id": "W4asmLt7-AWC"
      },
      "source": [
        "The above is greater than $0$ in particular if $x_1>0$."
      ]
    },
    {
      "cell_type": "markdown",
      "metadata": {
        "id": "UWxFii3i-AWC"
      },
      "source": [
        "### Are our functions truly harmonic?"
      ]
    },
    {
      "cell_type": "code",
      "execution_count": 183,
      "metadata": {
        "id": "tGApcOWH-AWC"
      },
      "outputs": [],
      "source": [
        "laplacian_u1=laplacian(u1)\n",
        "laplacian_u1_modified = laplacian(u1_modified)"
      ]
    },
    {
      "cell_type": "code",
      "execution_count": 184,
      "metadata": {
        "scrolled": true,
        "colab": {
          "base_uri": "https://localhost:8080/",
          "height": 68
        },
        "id": "R1Dm8-or-AWD",
        "outputId": "5f7e7950-089d-4158-af6a-e4f282aebc05"
      },
      "outputs": [
        {
          "output_type": "display_data",
          "data": {
            "text/plain": [
              "<IPython.core.display.Markdown object>"
            ],
            "text/markdown": "Harmonicity check of $u_1$ for dimensions $3$ to $10$:"
          },
          "metadata": {}
        },
        {
          "output_type": "stream",
          "name": "stdout",
          "text": [
            "[0, 0, 0, 0, 0, 0, 0, 0]\n"
          ]
        }
      ],
      "source": [
        "# somehow the simplification seems to fail in general dimension, but it seems that our general computations are correct\n",
        "min_dim=3\n",
        "max_dim=11\n",
        "laplacians_in_different_dims = []\n",
        "display(Markdown(f\"Harmonicity check of $u_1$ for dimensions ${min_dim}$ to ${max_dim-1}$:\"))\n",
        "for n in range(min_dim,max_dim):\n",
        "    laplacians_in_different_dims.append(laplacian_u1.subs([[dim,n]]).simplify())\n",
        "print(laplacians_in_different_dims)"
      ]
    },
    {
      "cell_type": "code",
      "execution_count": 185,
      "metadata": {
        "scrolled": true,
        "colab": {
          "base_uri": "https://localhost:8080/",
          "height": 68
        },
        "id": "B8vR8rQT-AWD",
        "outputId": "0342c9ad-bc37-46ea-cea5-4b64811e6330"
      },
      "outputs": [
        {
          "output_type": "display_data",
          "data": {
            "text/plain": [
              "<IPython.core.display.Markdown object>"
            ],
            "text/markdown": "Harmonicity check of $\\tilde{u}_1$ (on $M_{m,\\geq a}$ for dimensions $3$ to $10$:"
          },
          "metadata": {}
        },
        {
          "output_type": "stream",
          "name": "stdout",
          "text": [
            "[0, 0, 0, 0, 0, 0, 0, 0]\n"
          ]
        }
      ],
      "source": [
        "# somehow the simplification seems to fail in general dimension, but it seems that our general computations are correct\n",
        "laplacians_in_different_dims = []\n",
        "min_dim\n",
        "display(Markdown(f\"Harmonicity check of $\\\\tilde{{u}}_1$ (on $M_{{m,\\\\geq a}}$ for dimensions ${min_dim}$ to ${max_dim-1}$:\"))\n",
        "for n in range(min_dim,max_dim):\n",
        "    laplacians_in_different_dims.append(laplacian_u1_modified.subs([[dim,n]]).simplify())\n",
        "print(laplacians_in_different_dims)"
      ]
    },
    {
      "cell_type": "markdown",
      "metadata": {
        "id": "NFFNakEM-AWE"
      },
      "source": [
        "### Are the boundary conditions truly fulfilled?"
      ]
    },
    {
      "cell_type": "markdown",
      "metadata": {
        "id": "qNx5JzBS-AWE"
      },
      "source": [
        "For $a=0$ we should in particular have $\\partial_r u_i\\vert_{r=r_0}=0$:"
      ]
    },
    {
      "cell_type": "code",
      "execution_count": 186,
      "metadata": {
        "colab": {
          "base_uri": "https://localhost:8080/",
          "height": 50
        },
        "id": "Txoca9Xc-AWE",
        "outputId": "ce22d2d6-6a5a-4039-d34d-519308fbfabf"
      },
      "outputs": [
        {
          "output_type": "display_data",
          "data": {
            "text/plain": [
              "<IPython.core.display.Markdown object>"
            ],
            "text/markdown": "$\\partial_r u_1\\vert_{r=r_0}=0$"
          },
          "metadata": {}
        }
      ],
      "source": [
        "radial_derivative = sum(u1.covariantD(i+1)*coords[i] for i in range(2))\n",
        "substitution = [x1,sympy.sqrt(r_critical**2-rho**2)]\n",
        "radial_derivative_substituted = radial_derivative.subs([substitution]).simplify()\n",
        "display(Markdown(f\"$\\partial_r u_{1}\\\\vert_{{r=r_0}}={sympy.latex(radial_derivative_substituted)}$\"))\n",
        "assert(radial_derivative_substituted==0)"
      ]
    },
    {
      "cell_type": "markdown",
      "metadata": {
        "id": "EOLgdVyG-AWF"
      },
      "source": [
        "For $a>0$, we should have $\\tilde{u}_1\\vert_{x_1=a}=a$:"
      ]
    },
    {
      "cell_type": "code",
      "execution_count": 187,
      "metadata": {
        "colab": {
          "base_uri": "https://localhost:8080/",
          "height": 50
        },
        "id": "VKrBYmwe-AWF",
        "outputId": "94c7b830-241e-4578-c970-3b856eee7f2b"
      },
      "outputs": [
        {
          "output_type": "display_data",
          "data": {
            "text/plain": [
              "<IPython.core.display.Markdown object>"
            ],
            "text/markdown": "$\\tilde{u}_1\\vert_{x_1=a}=a$"
          },
          "metadata": {}
        }
      ],
      "source": [
        "u1_modified_at_x1_equal_a=u1_modified().subs([[x1,a]]).simplify()\n",
        "display(Markdown(f\"$\\\\tilde{{u}}_1\\\\vert_{{x_1=a}}={u1_modified_at_x1_equal_a}$\"))\n",
        "assert(u1_modified_at_x1_equal_a==a)"
      ]
    },
    {
      "cell_type": "markdown",
      "metadata": {
        "id": "Gh7ElOGh-AWG"
      },
      "source": [
        "### Are there any critical points?"
      ]
    },
    {
      "cell_type": "markdown",
      "metadata": {
        "id": "BvN6k6hw-AWG"
      },
      "source": [
        "It is interesting to consider whether there are any critical points of $u_3$ to be able to discuss how strong the lower bound given by our technique is (see Remark 4.3)."
      ]
    },
    {
      "cell_type": "markdown",
      "metadata": {
        "id": "bFXH93Qi-AWH"
      },
      "source": [
        "##### For $M_{m,+}$ there is at least one (at $\\rho=0$, $x_1=r_0$):"
      ]
    },
    {
      "cell_type": "code",
      "execution_count": 188,
      "metadata": {
        "colab": {
          "base_uri": "https://localhost:8080/",
          "height": 68
        },
        "id": "65rAVOyT-AWH",
        "outputId": "42b82139-3e5e-4480-db7c-ab83ce44ee80"
      },
      "outputs": [
        {
          "output_type": "display_data",
          "data": {
            "text/plain": [
              "<IPython.core.display.Markdown object>"
            ],
            "text/markdown": "On $M_{m,+}$, there is at least one critical point: At $(0,0,r_0)$ we have $\\operatorname{grad} u_1=\\left[\\begin{matrix}0 & 0 & 0\\end{matrix}\\right]$ (note that the last component here stands for the identical $n-2$ angular derivatives)."
          },
          "metadata": {}
        }
      ],
      "source": [
        "display(\n",
        "    Markdown(\n",
        "        f\"On $M_{{m,+}}$, there is at least one critical point: At $(0,0,r_0)$ we have $\\operatorname{{grad}} u_1={sympy.latex(sympy.Array([u1.covariantD(i) for i in range(1,4)]).subs(([(x1,r_critical),(rho,0)])).simplify())}$ (note that the last component here stands for the identical $n-2$ angular derivatives).\"\n",
        "    )\n",
        ")"
      ]
    },
    {
      "cell_type": "markdown",
      "metadata": {
        "id": "5PoUGyF0-AWI"
      },
      "source": [
        "##### For $M_{m,\\geq a}$:"
      ]
    },
    {
      "cell_type": "code",
      "execution_count": 189,
      "metadata": {
        "colab": {
          "base_uri": "https://localhost:8080/",
          "height": 245
        },
        "id": "gh8vjFsu-AWI",
        "outputId": "949c631d-8f02-4717-b771-a84822ca49ad"
      },
      "outputs": [
        {
          "output_type": "display_data",
          "data": {
            "text/plain": [
              "<IPython.core.display.Markdown object>"
            ],
            "text/markdown": "On $M_{m,\\geq a}$ (for $a>0$), $u_1$ has no critical points!\n\nIt suffices to look at the derivative in $x_1$-direction, which is always positive: We have $\\partial_1 u_1=\\frac{r_{0}^{n - 2} x_{1} \\left(\\rho^{2} + x_{1}^{2}\\right)^{1 - \\frac{n}{2}} \\left(n - 2\\right) \\left(a r_{0}^{n - 2} \\left(\\rho^{2} + x_{1}^{2}\\right)^{1 - \\frac{n}{2}} + x_{1}\\right) + \\left(r_{0}^{n - 2} \\left(\\rho^{2} + x_{1}^{2}\\right)^{1 - \\frac{n}{2}} + 1\\right) \\left(\\rho^{2} - a r_{0}^{n - 2} x_{1} \\left(\\rho^{2} + x_{1}^{2}\\right)^{1 - \\frac{n}{2}} \\left(n - 2\\right) + x_{1}^{2}\\right)}{\\left(\\rho^{2} + x_{1}^{2}\\right) \\left(r_{0}^{n - 2} \\left(\\rho^{2} + x_{1}^{2}\\right)^{1 - \\frac{n}{2}} + 1\\right)^{2}}$.\n\nWe can ignore the denominator (which is clearly always positive, since $|x|>0$) and just consider the numerator $\\rho^{2} + \\frac{\\rho^{2} r_{0}^{n} \\left(\\rho^{2} + x_{1}^{2}\\right)^{1 - \\frac{n}{2}}}{r_{0}^{2}} - \\frac{a n r_{0}^{n} x_{1} \\left(\\rho^{2} + x_{1}^{2}\\right)^{1 - \\frac{n}{2}}}{r_{0}^{2}} + \\frac{2 a r_{0}^{n} x_{1} \\left(\\rho^{2} + x_{1}^{2}\\right)^{1 - \\frac{n}{2}}}{r_{0}^{2}} + \\frac{n r_{0}^{n} x_{1}^{2} \\left(\\rho^{2} + x_{1}^{2}\\right)^{1 - \\frac{n}{2}}}{r_{0}^{2}} + x_{1}^{2} - \\frac{r_{0}^{n} x_{1}^{2} \\left(\\rho^{2} + x_{1}^{2}\\right)^{1 - \\frac{n}{2}}}{r_{0}^{2}}$.\n\nBut $x_1\\geq a > 0$ and $n\\geq 1$ and thus the negative terms are balanced out by the other terms."
          },
          "metadata": {}
        }
      ],
      "source": [
        "relevant_derivative = u1_modified.covariantD(1).simplify()\n",
        "only_numerator = sympy.fraction(relevant_derivative)[0].expand()\n",
        "display(Markdown(f\"\"\"On $M_{{m,\\geq a}}$ (for $a>0$), $u_1$ has no critical points!\n",
        "\n",
        "It suffices to look at the derivative in $x_1$-direction, which is always positive: We have $\\partial_1 u_1={sympy.latex(relevant_derivative)}$.\n",
        "\n",
        "We can ignore the denominator (which is clearly always positive, since $|x|>0$) and just consider the numerator ${sympy.latex(only_numerator)}$.\n",
        "\n",
        "But $x_1\\geq a > 0$ and $n\\geq 1$ and thus the negative terms are balanced out by the other terms.\"\"\"))"
      ]
    },
    {
      "cell_type": "markdown",
      "metadata": {
        "id": "_W-eXc78-AWI"
      },
      "source": [
        "## Computation of the lower bound"
      ]
    },
    {
      "cell_type": "markdown",
      "metadata": {
        "id": "V17LYomV-AWJ"
      },
      "source": [
        "Let's try to compute the lower bound for the mass. We avoid simplifying anything (I once tried to let `sympy` simplify `abs_hessian_u1`, and it did complete, but only after 10 hours!). Even with manual help factoring out $\\omega$ terms and the like, the computation times are still often in the minutes. The numerical integration later on is fast enough to deal with unoptimized expressions."
      ]
    },
    {
      "cell_type": "code",
      "execution_count": 190,
      "metadata": {
        "id": "GWwBOtFG-AWJ"
      },
      "outputs": [],
      "source": [
        "abs_nabla_u1=sympy.sqrt(sum(g(-i,-j)*u1.covariantD(i)*u1.covariantD(j) for i in range(1,3) for j in range(1,3))) # there is no angular component"
      ]
    },
    {
      "cell_type": "code",
      "execution_count": 191,
      "metadata": {
        "id": "KMscuHk4-AWJ"
      },
      "outputs": [],
      "source": [
        "abs_nabla_u1_modified=sympy.sqrt(sum(g(-i,-j)*u1_modified.covariantD(i)*u1_modified.covariantD(j) for i in range(1,3) for j in range(1,3)))"
      ]
    },
    {
      "cell_type": "code",
      "execution_count": 192,
      "metadata": {
        "id": "Lox8RiST-AWK"
      },
      "outputs": [],
      "source": [
        "# either i=j=k=l=3 or none of i,j,k,l are equal to 3, all other terms are zero\n",
        "abs_hessian_u1=sympy.sqrt(sum((dim-2 if i==3 else 1)*g(-i,-k)*g(-j,-l)*u1.covariantD(i,j)*u1.covariantD(k,l) for i,j,k,l in list(variations(range(1, 4), 4, True))))"
      ]
    },
    {
      "cell_type": "code",
      "execution_count": 193,
      "metadata": {
        "id": "VmSevAGW-AWK"
      },
      "outputs": [],
      "source": [
        "abs_hessian_u1_modified=sympy.sqrt(sum((dim-2 if i==3 else 1)*g(-i,-k)*g(-j,-l)*u1_modified.covariantD(i,j)*u1_modified.covariantD(k,l) for i,j,k,l in variations(range(1, 3), 4, True)))"
      ]
    },
    {
      "cell_type": "markdown",
      "metadata": {
        "id": "WFfesStA-AWL"
      },
      "source": [
        "We can now express the integrands. Note that we need to include the volume element. Also we have $R=0$, so the second term in the integrand disappears"
      ]
    },
    {
      "cell_type": "code",
      "execution_count": 194,
      "metadata": {
        "id": "SDsw5eBb-AWL"
      },
      "outputs": [],
      "source": [
        "lower_bound_integrand_over_M=(abs_hessian_u1**2/abs_nabla_u1)*volume_element\n",
        "lower_bound_modified_integrand_over_M=((abs_hessian_u1_modified**2/abs_nabla_u1_modified)*volume_element)"
      ]
    },
    {
      "cell_type": "markdown",
      "metadata": {
        "id": "2i-SH18s-AWL"
      },
      "source": [
        "We can now also write down the expression for the integral term on the boundary (we need to use the volume element of $\\Sigma$ here). Note that the integrand over the boundary vanishes for $M_{m,+}$."
      ]
    },
    {
      "cell_type": "code",
      "execution_count": 195,
      "metadata": {
        "colab": {
          "base_uri": "https://localhost:8080/"
        },
        "id": "IUDTUCmE-AWL",
        "outputId": "af1b3db8-520e-45ea-c84d-45e5741aaf06"
      },
      "outputs": [
        {
          "output_type": "stream",
          "name": "stdout",
          "text": [
            "lower_bound_integrand_over_boundary=0\n"
          ]
        }
      ],
      "source": [
        "lower_bound_integrand_over_boundary = 2*(H.subs(x1,0).simplify()*abs_nabla_u1)*hypersurface_volume_element\n",
        "print(f\"{lower_bound_integrand_over_boundary=}\")\n",
        "assert(lower_bound_integrand_over_boundary==0)\n",
        "\n",
        "lower_bound_modified_integrand_over_boundary = 2*(H.subs(x1,a).simplify()*abs_nabla_u1_modified)*hypersurface_volume_element"
      ]
    },
    {
      "cell_type": "markdown",
      "metadata": {
        "id": "mXr5apkU-AWL"
      },
      "source": [
        "We use `sympy.lambdify` to get numerical expressions for our integrands."
      ]
    },
    {
      "cell_type": "code",
      "execution_count": 196,
      "metadata": {
        "id": "pOpJnqVn-AWL"
      },
      "outputs": [],
      "source": [
        "import tensorflow as tf\n",
        "\n",
        "# numerical implementation (reverse args as we want x1 integration to be outermost)\n",
        "args = [rho,x1,r_critical,a,dim]\n",
        "\n",
        "num_lower_bound_integrand_over_M = sympy.lambdify(args,lower_bound_integrand_over_M,modules=tf)\n",
        "num_lower_bound_integrand_over_boundary = sympy.lambdify(args,lower_bound_integrand_over_boundary,modules=tf)\n",
        "\n",
        "# and we shift this one integrand so that the integral will be centered at 0\n",
        "num_lower_bound_modified_integrand_over_M = sympy.lambdify(\n",
        "    args, lower_bound_modified_integrand_over_M.subs(x1,x1+a),modules=tf\n",
        ")\n",
        "num_lower_bound_modified_integrand_over_boundary = sympy.lambdify(\n",
        "    args, lower_bound_modified_integrand_over_boundary,modules=tf\n",
        ")"
      ]
    },
    {
      "cell_type": "markdown",
      "metadata": {
        "id": "2k8OQlZa-AWM"
      },
      "source": [
        "We can now do the numerical integration. Due to symmetry we are able to only integrate over one quadrant ($x_2\\geq 0, \\dotsc, x_n\\geq 0$ in addition to the usual $x_1\\geq 0$) and multiply by $2^{n-1}$ afterwards."
      ]
    },
    {
      "cell_type": "code",
      "execution_count": 197,
      "metadata": {
        "id": "GqN3e2FB-AWM"
      },
      "outputs": [],
      "source": [
        "from vegasflow import VegasFlowPlus\n",
        "from vegasflow.utils import generate_condition_function\n",
        "from vegasflow.configflow import DTYPE\n",
        "or_cond = generate_condition_function(2,condition=\"or\")\n",
        "from functools import cache\n",
        "\n",
        "\n",
        "def make_integrand(expr, r_critical_value, a_value, extra_args):\n",
        "\n",
        "  # Convert extra_args to a TensorFlow tensor\n",
        "  extra_args_tensor = tf.convert_to_tensor(extra_args, dtype=DTYPE)\n",
        "  if (len(extra_args)==3): # manifold integral\n",
        "    def integrand(xarr):\n",
        "\n",
        "      outside_horizon = tf.norm(xarr,axis=1)>r_critical_value\n",
        "      a_nonzero_cond = xarr[:,0]*0+a_value>0\n",
        "      mask,idx = or_cond(outside_horizon,a_nonzero_cond)\n",
        "      masked_xarr = tf.boolean_mask(xarr, mask, axis=0)\n",
        "\n",
        "      x1 = masked_xarr[:,0]\n",
        "      rho = tf.norm(masked_xarr[:,1:],axis=1)\n",
        "\n",
        "\n",
        "\n",
        "      # Reshape extra_args to have shape (1, extra_args_size)\n",
        "      extra_args_expanded = tf.expand_dims(extra_args_tensor, axis=0)\n",
        "\n",
        "      # Broadcast extra_args along the batch dimension to match the batch size of xarr\n",
        "      extra_args_broadcasted = tf.tile(extra_args_expanded, [tf.shape(masked_xarr)[0], 1])\n",
        "\n",
        "\n",
        "      result = expr(rho,x1,*tf.unstack(extra_args_broadcasted,axis=1))\n",
        "      # Return a sparse tensor so that only the actual results have a value\n",
        "      return tf.scatter_nd(idx, result,shape=tf.shape(outside_horizon))\n",
        "\n",
        "  else: # boundary integral\n",
        "    def integrand(xarr):\n",
        "      rho = tf.norm(xarr,axis=1)\n",
        "\n",
        "      # Reshape extra_args to have shape (1, extra_args_size)\n",
        "      extra_args_expanded = tf.expand_dims(extra_args_tensor, axis=0)\n",
        "\n",
        "      # Broadcast extra_args along the batch dimension to match the batch size of xarr\n",
        "      extra_args_broadcasted = tf.tile(extra_args_expanded, [tf.shape(xarr)[0], 1])\n",
        "\n",
        "\n",
        "      result = expr(rho,*tf.unstack(extra_args_broadcasted,axis=1))\n",
        "      # Return a sparse tensor so that only the actual results have a value\n",
        "      return result\n",
        "\n",
        "  return integrand\n",
        "\n",
        "\n",
        "\n",
        "def make_vegas_instance(expr,integration_dim, r_critical_value, a_value, extra_args,n_calls = int(1e6),box_size=1e5):\n",
        "  vegas_instance = VegasFlowPlus(integration_dim, n_calls, xmin=[0]*integration_dim,xmax=[box_size]*integration_dim)\n",
        "  integrand = make_integrand(expr, r_critical_value, a_value, extra_args)\n",
        "  vegas_instance.compile(integrand)\n",
        "  return vegas_instance\n"
      ]
    },
    {
      "cell_type": "code",
      "execution_count": 198,
      "metadata": {
        "id": "Tw23zWJJ-AWN"
      },
      "outputs": [],
      "source": [
        "from collections import namedtuple\n",
        "LowerBoundResult = namedtuple(\"LowerBoundResult\",[\"total_lower_bound\",\"total_error\",\n",
        "            \"lower_bound_M\",\n",
        "            \"error_M\",\n",
        "            \"lower_bound_boundary\",\n",
        "            \"error_boundary\"])\n",
        "\n",
        "\n",
        "class LowerBoundCalculator:\n",
        "  def __init__(self,r_critical_value=1,a_value=0,dim_value=4,box_size=1e4,n_calls=int(1e6)):\n",
        "    self.a_value=a_value\n",
        "    self.total_iters=0\n",
        "    self.last_result=None\n",
        "    self.dim_value=dim_value\n",
        "    self.normalization = float(normalization.subs([[dim,self.dim_value]]))\n",
        "    self.number_quadrants = 2**(self.dim_value-1)\n",
        "    if a_value!=0:\n",
        "      manifold_expr = num_lower_bound_modified_integrand_over_M\n",
        "      boundary_expr = num_lower_bound_modified_integrand_over_boundary\n",
        "    else:\n",
        "      manifold_expr = num_lower_bound_integrand_over_M\n",
        "      boundary_expr = num_lower_bound_integrand_over_boundary\n",
        "    self.manifold_integrator = make_vegas_instance(\n",
        "      expr=manifold_expr,\n",
        "      integration_dim=dim_value,\n",
        "      r_critical_value=r_critical_value,\n",
        "      a_value=a_value,extra_args=[r_critical_value,a_value,dim_value],\n",
        "      n_calls=n_calls,\n",
        "      box_size=box_size\n",
        "    )\n",
        "    if a_value!=0:\n",
        "      # here we pass an additional extra arg to set x1 to a_value\n",
        "      self.boundary_integrator = make_vegas_instance(\n",
        "        expr=boundary_expr,\n",
        "        integration_dim=dim_value-1,\n",
        "        r_critical_value=r_critical_value,\n",
        "        a_value=a_value,\n",
        "        extra_args=[a_value,r_critical_value,a_value,dim_value],\n",
        "        n_calls=n_calls,\n",
        "        box_size=box_size\n",
        "      )\n",
        "    return\n",
        "\n",
        "  def train_until(self,n_iter):\n",
        "    if n_iter<=self.total_iters:\n",
        "      return self.last_result\n",
        "    else:\n",
        "      return self.run_integration(n_iter=int(n_iter-self.total_iters))\n",
        "\n",
        "  def run_integration(self,n_iter=1):\n",
        "    result_on_M = self.manifold_integrator.run_integration(n_iter)\n",
        "    if self.a_value!=0:\n",
        "      result_on_boundary = self.boundary_integrator.run_integration(n_iter)\n",
        "    else:\n",
        "      result_on_boundary = [0,0] # we know that the boundary integrand is zero for the a=0 case\n",
        "    self.total_iters += n_iter\n",
        "    lower_bound_M = self.normalization*self.number_quadrants * result_on_M[0]\n",
        "    lower_bound_boundary = self.normalization*self.number_quadrants * result_on_boundary[0]\n",
        "    error_M = self.normalization*self.number_quadrants * result_on_M[1]\n",
        "    error_boundary = self.normalization*self.number_quadrants * result_on_boundary[1]\n",
        "    total_lower_bound = lower_bound_M + lower_bound_boundary\n",
        "    total_error = error_M + error_boundary\n",
        "    result = LowerBoundResult(\n",
        "      total_lower_bound,\n",
        "      total_error,\n",
        "      lower_bound_M,\n",
        "      error_M,\n",
        "      lower_bound_boundary,\n",
        "      error_boundary,\n",
        "    )\n",
        "    self.last_result = result\n",
        "    return result"
      ]
    },
    {
      "cell_type": "code",
      "execution_count": 199,
      "metadata": {
        "id": "mrXTpI4Y-AWN"
      },
      "outputs": [],
      "source": [
        "CalculationParams = namedtuple(\"CalculationParams\",[\"r_critical_value\",\"a_value\",\"dim_value\",\"box_size\",\"n_calls\"])"
      ]
    },
    {
      "cell_type": "code",
      "execution_count": 200,
      "metadata": {
        "id": "N0YLIJ16-AWN"
      },
      "outputs": [],
      "source": [
        "LowerBoundCalculatorDict = dict()"
      ]
    },
    {
      "cell_type": "code",
      "execution_count": 201,
      "metadata": {
        "id": "9I6hud-j-AWO"
      },
      "outputs": [],
      "source": [
        "def getLowerBoundCalculator(r_critical_value=1,a_value=0,dim_value=4,box_size=1e4,n_calls=int(1e6)):\n",
        "  calc_params = CalculationParams(r_critical_value=r_critical_value,a_value=a_value,dim_value=dim_value,box_size=box_size,n_calls=n_calls)\n",
        "  if calc_params in LowerBoundCalculatorDict:\n",
        "    return LowerBoundCalculatorDict[calc_params]\n",
        "  else:\n",
        "    result = LowerBoundCalculator(r_critical_value=r_critical_value,a_value=a_value,dim_value=dim_value,box_size=box_size,n_calls=n_calls)\n",
        "    LowerBoundCalculatorDict[calc_params]=result\n",
        "    return result"
      ]
    },
    {
      "cell_type": "markdown",
      "metadata": {
        "id": "h73ipPxz-AWO"
      },
      "source": [
        "We use the smart VEGAS algorithm (optionally even on GPU!) and this solves our speed problems. Though we choose a small box size to help it focus on the difficult part of the integral"
      ]
    },
    {
      "cell_type": "code",
      "source": [
        "num_lower_bound_integrand_over_M(*tf.unstack(tf.convert_to_tensor([1,0.1,1,0,8],dtype=DTYPE)))"
      ],
      "metadata": {
        "colab": {
          "base_uri": "https://localhost:8080/"
        },
        "id": "AJm_RUQOKsiw",
        "outputId": "4f257138-4d41-4e6a-9a72-4feed1672af0"
      },
      "execution_count": 202,
      "outputs": [
        {
          "output_type": "execute_result",
          "data": {
            "text/plain": [
              "<tf.Tensor: shape=(), dtype=float64, numpy=1.7011269829327866>"
            ]
          },
          "metadata": {},
          "execution_count": 202
        }
      ]
    },
    {
      "cell_type": "code",
      "execution_count": 224,
      "metadata": {
        "id": "VOXZjoxA-AWO"
      },
      "outputs": [],
      "source": [
        "dim_value = 8\n",
        "r_critical_value=1"
      ]
    },
    {
      "cell_type": "code",
      "execution_count": 225,
      "metadata": {
        "colab": {
          "base_uri": "https://localhost:8080/"
        },
        "id": "i8dykdml-AWP",
        "outputId": "b5d8f536-4a30-4da1-d6c4-87bdedd45179"
      },
      "outputs": [
        {
          "output_type": "stream",
          "name": "stderr",
          "text": [
            "[INFO] (vegasflow.vflowplus) Events per device limit set to 1000000\n",
            "INFO:vegasflow.vflowplus:Events per device limit set to 1000000\n",
            "[INFO] (vegasflow.monte_carlo) Checking whether the integrand outputs the correct shape (note, this will run a very small number of events and potentially trigger a retrace)\n",
            "INFO:vegasflow.monte_carlo:Checking whether the integrand outputs the correct shape (note, this will run a very small number of events and potentially trigger a retrace)\n"
          ]
        }
      ],
      "source": [
        "a_equal_0_case = getLowerBoundCalculator(a_value=0,box_size=2e1,r_critical_value=1,n_calls=1e6,dim_value=dim_value)"
      ]
    },
    {
      "cell_type": "code",
      "execution_count": 226,
      "metadata": {
        "colab": {
          "base_uri": "https://localhost:8080/"
        },
        "id": "gCXiv1vk-AWP",
        "outputId": "56f05d66-ae3e-4829-f45a-a6a6b77b3828"
      },
      "outputs": [
        {
          "output_type": "stream",
          "name": "stdout",
          "text": [
            "Events sent to the computing device: 100.0 %\r"
          ]
        },
        {
          "output_type": "stream",
          "name": "stderr",
          "text": [
            "[INFO] (vegasflow.monte_carlo) Result for iteration 0: 1.775e-04 +/- 7.419e-05(took 1.62704 s)\n",
            "INFO:vegasflow.monte_carlo:Result for iteration 0: 1.775e-04 +/- 7.419e-05(took 1.62704 s)\n"
          ]
        },
        {
          "output_type": "stream",
          "name": "stdout",
          "text": [
            "Events sent to the computing device: 100.0 %\r"
          ]
        },
        {
          "output_type": "stream",
          "name": "stderr",
          "text": [
            "[INFO] (vegasflow.monte_carlo) Result for iteration 1: 0.3268 +/- 0.1864(took 0.62910 s)\n",
            "INFO:vegasflow.monte_carlo:Result for iteration 1: 0.3268 +/- 0.1864(took 0.62910 s)\n"
          ]
        },
        {
          "output_type": "stream",
          "name": "stdout",
          "text": [
            "Events sent to the computing device: 100.0 %\r"
          ]
        },
        {
          "output_type": "stream",
          "name": "stderr",
          "text": [
            "[INFO] (vegasflow.monte_carlo) Result for iteration 2: 0.7860 +/- 0.1313(took 0.67323 s)\n",
            "INFO:vegasflow.monte_carlo:Result for iteration 2: 0.7860 +/- 0.1313(took 0.67323 s)\n"
          ]
        },
        {
          "output_type": "stream",
          "name": "stdout",
          "text": [
            "Events sent to the computing device: 100.0 %\r"
          ]
        },
        {
          "output_type": "stream",
          "name": "stderr",
          "text": [
            "[INFO] (vegasflow.monte_carlo) Result for iteration 3: 0.6890 +/- 0.0073(took 1.01251 s)\n",
            "INFO:vegasflow.monte_carlo:Result for iteration 3: 0.6890 +/- 0.0073(took 1.01251 s)\n"
          ]
        },
        {
          "output_type": "stream",
          "name": "stdout",
          "text": [
            "Events sent to the computing device: 100.0 %\r"
          ]
        },
        {
          "output_type": "stream",
          "name": "stderr",
          "text": [
            "[INFO] (vegasflow.monte_carlo) Result for iteration 4: 0.6913 +/- 0.0019(took 0.92286 s)\n",
            "INFO:vegasflow.monte_carlo:Result for iteration 4: 0.6913 +/- 0.0019(took 0.92286 s)\n"
          ]
        },
        {
          "output_type": "stream",
          "name": "stdout",
          "text": [
            "Events sent to the computing device: 100.0 %\r"
          ]
        },
        {
          "output_type": "stream",
          "name": "stderr",
          "text": [
            "[INFO] (vegasflow.monte_carlo) Result for iteration 5: 0.6976 +/- 0.0032(took 0.82893 s)\n",
            "INFO:vegasflow.monte_carlo:Result for iteration 5: 0.6976 +/- 0.0032(took 0.82893 s)\n"
          ]
        },
        {
          "output_type": "stream",
          "name": "stdout",
          "text": [
            "Events sent to the computing device: 100.0 %\r"
          ]
        },
        {
          "output_type": "stream",
          "name": "stderr",
          "text": [
            "[INFO] (vegasflow.monte_carlo) Result for iteration 6: 0.6967 +/- 0.0029(took 0.69546 s)\n",
            "INFO:vegasflow.monte_carlo:Result for iteration 6: 0.6967 +/- 0.0029(took 0.69546 s)\n"
          ]
        },
        {
          "output_type": "stream",
          "name": "stdout",
          "text": [
            "Events sent to the computing device: 100.0 %\r"
          ]
        },
        {
          "output_type": "stream",
          "name": "stderr",
          "text": [
            "[INFO] (vegasflow.monte_carlo) Result for iteration 7: 0.6996 +/- 0.0027(took 0.66740 s)\n",
            "INFO:vegasflow.monte_carlo:Result for iteration 7: 0.6996 +/- 0.0027(took 0.66740 s)\n"
          ]
        },
        {
          "output_type": "stream",
          "name": "stdout",
          "text": [
            "Events sent to the computing device: 100.0 %\r"
          ]
        },
        {
          "output_type": "stream",
          "name": "stderr",
          "text": [
            "[INFO] (vegasflow.monte_carlo) Result for iteration 8: 0.6984 +/- 0.0023(took 0.74928 s)\n",
            "INFO:vegasflow.monte_carlo:Result for iteration 8: 0.6984 +/- 0.0023(took 0.74928 s)\n"
          ]
        },
        {
          "output_type": "stream",
          "name": "stdout",
          "text": [
            "Events sent to the computing device: 100.0 %\r"
          ]
        },
        {
          "output_type": "stream",
          "name": "stderr",
          "text": [
            "[INFO] (vegasflow.monte_carlo) Result for iteration 9: 0.6961 +/- 0.0013(took 0.73613 s)\n",
            "INFO:vegasflow.monte_carlo:Result for iteration 9: 0.6961 +/- 0.0013(took 0.73613 s)\n"
          ]
        },
        {
          "output_type": "stream",
          "name": "stdout",
          "text": [
            "Events sent to the computing device: 100.0 %\r"
          ]
        },
        {
          "output_type": "stream",
          "name": "stderr",
          "text": [
            "[INFO] (vegasflow.monte_carlo) Result for iteration 10: 0.6972 +/- 0.0013(took 0.67897 s)\n",
            "INFO:vegasflow.monte_carlo:Result for iteration 10: 0.6972 +/- 0.0013(took 0.67897 s)\n"
          ]
        },
        {
          "output_type": "stream",
          "name": "stdout",
          "text": [
            "Events sent to the computing device: 100.0 %\r"
          ]
        },
        {
          "output_type": "stream",
          "name": "stderr",
          "text": [
            "[INFO] (vegasflow.monte_carlo) Result for iteration 11: 0.6985 +/- 0.0012(took 0.73693 s)\n",
            "INFO:vegasflow.monte_carlo:Result for iteration 11: 0.6985 +/- 0.0012(took 0.73693 s)\n"
          ]
        },
        {
          "output_type": "stream",
          "name": "stdout",
          "text": [
            "Events sent to the computing device: 100.0 %\r"
          ]
        },
        {
          "output_type": "stream",
          "name": "stderr",
          "text": [
            "[INFO] (vegasflow.monte_carlo) Result for iteration 12: 0.6971 +/- 0.0013(took 0.62897 s)\n",
            "INFO:vegasflow.monte_carlo:Result for iteration 12: 0.6971 +/- 0.0013(took 0.62897 s)\n"
          ]
        },
        {
          "output_type": "stream",
          "name": "stdout",
          "text": [
            "Events sent to the computing device: 100.0 %\r"
          ]
        },
        {
          "output_type": "stream",
          "name": "stderr",
          "text": [
            "[INFO] (vegasflow.monte_carlo) Result for iteration 13: 0.7003 +/- 0.0017(took 0.62174 s)\n",
            "INFO:vegasflow.monte_carlo:Result for iteration 13: 0.7003 +/- 0.0017(took 0.62174 s)\n"
          ]
        },
        {
          "output_type": "stream",
          "name": "stdout",
          "text": [
            "Events sent to the computing device: 100.0 %\r"
          ]
        },
        {
          "output_type": "stream",
          "name": "stderr",
          "text": [
            "[INFO] (vegasflow.monte_carlo) Result for iteration 14: 0.7002 +/- 0.0016(took 0.69212 s)\n",
            "INFO:vegasflow.monte_carlo:Result for iteration 14: 0.7002 +/- 0.0016(took 0.69212 s)\n"
          ]
        },
        {
          "output_type": "stream",
          "name": "stdout",
          "text": [
            "Events sent to the computing device: 100.0 %\r"
          ]
        },
        {
          "output_type": "stream",
          "name": "stderr",
          "text": [
            "[INFO] (vegasflow.monte_carlo) Result for iteration 15: 0.6985 +/- 0.0014(took 0.69643 s)\n",
            "INFO:vegasflow.monte_carlo:Result for iteration 15: 0.6985 +/- 0.0014(took 0.69643 s)\n"
          ]
        },
        {
          "output_type": "stream",
          "name": "stdout",
          "text": [
            "Events sent to the computing device: 100.0 %\r"
          ]
        },
        {
          "output_type": "stream",
          "name": "stderr",
          "text": [
            "[INFO] (vegasflow.monte_carlo) Result for iteration 16: 0.6995 +/- 0.0015(took 0.60885 s)\n",
            "INFO:vegasflow.monte_carlo:Result for iteration 16: 0.6995 +/- 0.0015(took 0.60885 s)\n"
          ]
        },
        {
          "output_type": "stream",
          "name": "stdout",
          "text": [
            "Events sent to the computing device: 100.0 %\r"
          ]
        },
        {
          "output_type": "stream",
          "name": "stderr",
          "text": [
            "[INFO] (vegasflow.monte_carlo) Result for iteration 17: 0.6989 +/- 0.0014(took 0.68092 s)\n",
            "INFO:vegasflow.monte_carlo:Result for iteration 17: 0.6989 +/- 0.0014(took 0.68092 s)\n"
          ]
        },
        {
          "output_type": "stream",
          "name": "stdout",
          "text": [
            "Events sent to the computing device: 100.0 %\r"
          ]
        },
        {
          "output_type": "stream",
          "name": "stderr",
          "text": [
            "[INFO] (vegasflow.monte_carlo) Result for iteration 18: 0.6957 +/- 0.0013(took 0.70961 s)\n",
            "INFO:vegasflow.monte_carlo:Result for iteration 18: 0.6957 +/- 0.0013(took 0.70961 s)\n"
          ]
        },
        {
          "output_type": "stream",
          "name": "stdout",
          "text": [
            "Events sent to the computing device: 100.0 %\r"
          ]
        },
        {
          "output_type": "stream",
          "name": "stderr",
          "text": [
            "[INFO] (vegasflow.monte_carlo) Result for iteration 19: 0.6993 +/- 0.0022(took 0.76163 s)\n",
            "INFO:vegasflow.monte_carlo:Result for iteration 19: 0.6993 +/- 0.0022(took 0.76163 s)\n"
          ]
        },
        {
          "output_type": "stream",
          "name": "stdout",
          "text": [
            "Events sent to the computing device: 100.0 %\r"
          ]
        },
        {
          "output_type": "stream",
          "name": "stderr",
          "text": [
            "[INFO] (vegasflow.monte_carlo) Result for iteration 20: 0.6972 +/- 0.0021(took 1.08082 s)\n",
            "INFO:vegasflow.monte_carlo:Result for iteration 20: 0.6972 +/- 0.0021(took 1.08082 s)\n"
          ]
        },
        {
          "output_type": "stream",
          "name": "stdout",
          "text": [
            "Events sent to the computing device: 100.0 %\r"
          ]
        },
        {
          "output_type": "stream",
          "name": "stderr",
          "text": [
            "[INFO] (vegasflow.monte_carlo) Result for iteration 21: 0.6970 +/- 0.0013(took 0.99121 s)\n",
            "INFO:vegasflow.monte_carlo:Result for iteration 21: 0.6970 +/- 0.0013(took 0.99121 s)\n"
          ]
        },
        {
          "output_type": "stream",
          "name": "stdout",
          "text": [
            "Events sent to the computing device: 100.0 %\r"
          ]
        },
        {
          "output_type": "stream",
          "name": "stderr",
          "text": [
            "[INFO] (vegasflow.monte_carlo) Result for iteration 22: 0.6995 +/- 0.0013(took 0.86691 s)\n",
            "INFO:vegasflow.monte_carlo:Result for iteration 22: 0.6995 +/- 0.0013(took 0.86691 s)\n"
          ]
        },
        {
          "output_type": "stream",
          "name": "stdout",
          "text": [
            "Events sent to the computing device: 100.0 %\r"
          ]
        },
        {
          "output_type": "stream",
          "name": "stderr",
          "text": [
            "[INFO] (vegasflow.monte_carlo) Result for iteration 23: 0.6960 +/- 0.0013(took 0.71560 s)\n",
            "INFO:vegasflow.monte_carlo:Result for iteration 23: 0.6960 +/- 0.0013(took 0.71560 s)\n"
          ]
        },
        {
          "output_type": "stream",
          "name": "stdout",
          "text": [
            "Events sent to the computing device: 100.0 %\r"
          ]
        },
        {
          "output_type": "stream",
          "name": "stderr",
          "text": [
            "[INFO] (vegasflow.monte_carlo) Result for iteration 24: 0.7013 +/- 0.0017(took 0.63974 s)\n",
            "INFO:vegasflow.monte_carlo:Result for iteration 24: 0.7013 +/- 0.0017(took 0.63974 s)\n"
          ]
        },
        {
          "output_type": "stream",
          "name": "stdout",
          "text": [
            "Events sent to the computing device: 100.0 %\r"
          ]
        },
        {
          "output_type": "stream",
          "name": "stderr",
          "text": [
            "[INFO] (vegasflow.monte_carlo) Result for iteration 25: 0.6979 +/- 0.0017(took 0.70709 s)\n",
            "INFO:vegasflow.monte_carlo:Result for iteration 25: 0.6979 +/- 0.0017(took 0.70709 s)\n"
          ]
        },
        {
          "output_type": "stream",
          "name": "stdout",
          "text": [
            "Events sent to the computing device: 100.0 %\r"
          ]
        },
        {
          "output_type": "stream",
          "name": "stderr",
          "text": [
            "[INFO] (vegasflow.monte_carlo) Result for iteration 26: 0.6954 +/- 0.0013(took 0.67279 s)\n",
            "INFO:vegasflow.monte_carlo:Result for iteration 26: 0.6954 +/- 0.0013(took 0.67279 s)\n"
          ]
        },
        {
          "output_type": "stream",
          "name": "stdout",
          "text": [
            "Events sent to the computing device: 100.0 %\r"
          ]
        },
        {
          "output_type": "stream",
          "name": "stderr",
          "text": [
            "[INFO] (vegasflow.monte_carlo) Result for iteration 27: 0.7005 +/- 0.0014(took 0.67919 s)\n",
            "INFO:vegasflow.monte_carlo:Result for iteration 27: 0.7005 +/- 0.0014(took 0.67919 s)\n"
          ]
        },
        {
          "output_type": "stream",
          "name": "stdout",
          "text": [
            "Events sent to the computing device: 100.0 %\r"
          ]
        },
        {
          "output_type": "stream",
          "name": "stderr",
          "text": [
            "[INFO] (vegasflow.monte_carlo) Result for iteration 28: 0.6993 +/- 0.0013(took 0.62429 s)\n",
            "INFO:vegasflow.monte_carlo:Result for iteration 28: 0.6993 +/- 0.0013(took 0.62429 s)\n"
          ]
        },
        {
          "output_type": "stream",
          "name": "stdout",
          "text": [
            "Events sent to the computing device: 100.0 %\r"
          ]
        },
        {
          "output_type": "stream",
          "name": "stderr",
          "text": [
            "[INFO] (vegasflow.monte_carlo) Result for iteration 29: 0.6957 +/- 0.0015(took 0.70437 s)\n",
            "INFO:vegasflow.monte_carlo:Result for iteration 29: 0.6957 +/- 0.0015(took 0.70437 s)\n"
          ]
        },
        {
          "output_type": "stream",
          "name": "stdout",
          "text": [
            "Events sent to the computing device: 100.0 %\r"
          ]
        },
        {
          "output_type": "stream",
          "name": "stderr",
          "text": [
            "[INFO] (vegasflow.monte_carlo) Result for iteration 30: 0.6950 +/- 0.0015(took 0.78555 s)\n",
            "INFO:vegasflow.monte_carlo:Result for iteration 30: 0.6950 +/- 0.0015(took 0.78555 s)\n"
          ]
        },
        {
          "output_type": "stream",
          "name": "stdout",
          "text": [
            "Events sent to the computing device: 100.0 %\r"
          ]
        },
        {
          "output_type": "stream",
          "name": "stderr",
          "text": [
            "[INFO] (vegasflow.monte_carlo) Result for iteration 31: 0.6974 +/- 0.0014(took 0.67151 s)\n",
            "INFO:vegasflow.monte_carlo:Result for iteration 31: 0.6974 +/- 0.0014(took 0.67151 s)\n"
          ]
        },
        {
          "output_type": "stream",
          "name": "stdout",
          "text": [
            "Events sent to the computing device: 100.0 %\r"
          ]
        },
        {
          "output_type": "stream",
          "name": "stderr",
          "text": [
            "[INFO] (vegasflow.monte_carlo) Result for iteration 32: 0.7027 +/- 0.0038(took 0.64370 s)\n",
            "INFO:vegasflow.monte_carlo:Result for iteration 32: 0.7027 +/- 0.0038(took 0.64370 s)\n"
          ]
        },
        {
          "output_type": "stream",
          "name": "stdout",
          "text": [
            "Events sent to the computing device: 100.0 %\r"
          ]
        },
        {
          "output_type": "stream",
          "name": "stderr",
          "text": [
            "[INFO] (vegasflow.monte_carlo) Result for iteration 33: 0.6922 +/- 0.0031(took 0.64750 s)\n",
            "INFO:vegasflow.monte_carlo:Result for iteration 33: 0.6922 +/- 0.0031(took 0.64750 s)\n"
          ]
        },
        {
          "output_type": "stream",
          "name": "stdout",
          "text": [
            "Events sent to the computing device: 100.0 %\r"
          ]
        },
        {
          "output_type": "stream",
          "name": "stderr",
          "text": [
            "[INFO] (vegasflow.monte_carlo) Result for iteration 34: 0.6968 +/- 0.0015(took 0.73023 s)\n",
            "INFO:vegasflow.monte_carlo:Result for iteration 34: 0.6968 +/- 0.0015(took 0.73023 s)\n"
          ]
        },
        {
          "output_type": "stream",
          "name": "stdout",
          "text": [
            "Events sent to the computing device: 100.0 %\r"
          ]
        },
        {
          "output_type": "stream",
          "name": "stderr",
          "text": [
            "[INFO] (vegasflow.monte_carlo) Result for iteration 35: 0.7006 +/- 0.0018(took 0.63688 s)\n",
            "INFO:vegasflow.monte_carlo:Result for iteration 35: 0.7006 +/- 0.0018(took 0.63688 s)\n"
          ]
        },
        {
          "output_type": "stream",
          "name": "stdout",
          "text": [
            "Events sent to the computing device: 100.0 %\r"
          ]
        },
        {
          "output_type": "stream",
          "name": "stderr",
          "text": [
            "[INFO] (vegasflow.monte_carlo) Result for iteration 36: 0.6985 +/- 0.0017(took 0.65475 s)\n",
            "INFO:vegasflow.monte_carlo:Result for iteration 36: 0.6985 +/- 0.0017(took 0.65475 s)\n"
          ]
        },
        {
          "output_type": "stream",
          "name": "stdout",
          "text": [
            "Events sent to the computing device: 100.0 %\r"
          ]
        },
        {
          "output_type": "stream",
          "name": "stderr",
          "text": [
            "[INFO] (vegasflow.monte_carlo) Result for iteration 37: 0.6977 +/- 0.0025(took 0.96226 s)\n",
            "INFO:vegasflow.monte_carlo:Result for iteration 37: 0.6977 +/- 0.0025(took 0.96226 s)\n"
          ]
        },
        {
          "output_type": "stream",
          "name": "stdout",
          "text": [
            "Events sent to the computing device: 100.0 %\r"
          ]
        },
        {
          "output_type": "stream",
          "name": "stderr",
          "text": [
            "[INFO] (vegasflow.monte_carlo) Result for iteration 38: 0.6989 +/- 0.0023(took 0.99509 s)\n",
            "INFO:vegasflow.monte_carlo:Result for iteration 38: 0.6989 +/- 0.0023(took 0.99509 s)\n"
          ]
        },
        {
          "output_type": "stream",
          "name": "stdout",
          "text": [
            "Events sent to the computing device: 100.0 %\r"
          ]
        },
        {
          "output_type": "stream",
          "name": "stderr",
          "text": [
            "[INFO] (vegasflow.monte_carlo) Result for iteration 39: 0.6975 +/- 0.0013(took 0.99942 s)\n",
            "INFO:vegasflow.monte_carlo:Result for iteration 39: 0.6975 +/- 0.0013(took 0.99942 s)\n"
          ]
        },
        {
          "output_type": "stream",
          "name": "stdout",
          "text": [
            "Events sent to the computing device: 100.0 %\r"
          ]
        },
        {
          "output_type": "stream",
          "name": "stderr",
          "text": [
            "[INFO] (vegasflow.monte_carlo) Result for iteration 40: 0.6968 +/- 0.0017(took 0.66230 s)\n",
            "INFO:vegasflow.monte_carlo:Result for iteration 40: 0.6968 +/- 0.0017(took 0.66230 s)\n"
          ]
        },
        {
          "output_type": "stream",
          "name": "stdout",
          "text": [
            "Events sent to the computing device: 100.0 %\r"
          ]
        },
        {
          "output_type": "stream",
          "name": "stderr",
          "text": [
            "[INFO] (vegasflow.monte_carlo) Result for iteration 41: 0.6979 +/- 0.0017(took 0.70522 s)\n",
            "INFO:vegasflow.monte_carlo:Result for iteration 41: 0.6979 +/- 0.0017(took 0.70522 s)\n"
          ]
        },
        {
          "output_type": "stream",
          "name": "stdout",
          "text": [
            "Events sent to the computing device: 100.0 %\r"
          ]
        },
        {
          "output_type": "stream",
          "name": "stderr",
          "text": [
            "[INFO] (vegasflow.monte_carlo) Result for iteration 42: 0.6962 +/- 0.0013(took 0.67255 s)\n",
            "INFO:vegasflow.monte_carlo:Result for iteration 42: 0.6962 +/- 0.0013(took 0.67255 s)\n"
          ]
        },
        {
          "output_type": "stream",
          "name": "stdout",
          "text": [
            "Events sent to the computing device: 100.0 %\r"
          ]
        },
        {
          "output_type": "stream",
          "name": "stderr",
          "text": [
            "[INFO] (vegasflow.monte_carlo) Result for iteration 43: 0.6993 +/- 0.0016(took 0.72103 s)\n",
            "INFO:vegasflow.monte_carlo:Result for iteration 43: 0.6993 +/- 0.0016(took 0.72103 s)\n"
          ]
        },
        {
          "output_type": "stream",
          "name": "stdout",
          "text": [
            "Events sent to the computing device: 100.0 %\r"
          ]
        },
        {
          "output_type": "stream",
          "name": "stderr",
          "text": [
            "[INFO] (vegasflow.monte_carlo) Result for iteration 44: 0.6979 +/- 0.0016(took 0.73605 s)\n",
            "INFO:vegasflow.monte_carlo:Result for iteration 44: 0.6979 +/- 0.0016(took 0.73605 s)\n"
          ]
        },
        {
          "output_type": "stream",
          "name": "stdout",
          "text": [
            "Events sent to the computing device: 100.0 %\r"
          ]
        },
        {
          "output_type": "stream",
          "name": "stderr",
          "text": [
            "[INFO] (vegasflow.monte_carlo) Result for iteration 45: 0.6978 +/- 0.0013(took 0.69416 s)\n",
            "INFO:vegasflow.monte_carlo:Result for iteration 45: 0.6978 +/- 0.0013(took 0.69416 s)\n"
          ]
        },
        {
          "output_type": "stream",
          "name": "stdout",
          "text": [
            "Events sent to the computing device: 100.0 %\r"
          ]
        },
        {
          "output_type": "stream",
          "name": "stderr",
          "text": [
            "[INFO] (vegasflow.monte_carlo) Result for iteration 46: 0.6985 +/- 0.0013(took 0.78357 s)\n",
            "INFO:vegasflow.monte_carlo:Result for iteration 46: 0.6985 +/- 0.0013(took 0.78357 s)\n"
          ]
        },
        {
          "output_type": "stream",
          "name": "stdout",
          "text": [
            "Events sent to the computing device: 100.0 %\r"
          ]
        },
        {
          "output_type": "stream",
          "name": "stderr",
          "text": [
            "[INFO] (vegasflow.monte_carlo) Result for iteration 47: 0.6965 +/- 0.0013(took 0.67999 s)\n",
            "INFO:vegasflow.monte_carlo:Result for iteration 47: 0.6965 +/- 0.0013(took 0.67999 s)\n"
          ]
        },
        {
          "output_type": "stream",
          "name": "stdout",
          "text": [
            "Events sent to the computing device: 100.0 %\r"
          ]
        },
        {
          "output_type": "stream",
          "name": "stderr",
          "text": [
            "[INFO] (vegasflow.monte_carlo) Result for iteration 48: 0.6962 +/- 0.0012(took 0.67711 s)\n",
            "INFO:vegasflow.monte_carlo:Result for iteration 48: 0.6962 +/- 0.0012(took 0.67711 s)\n"
          ]
        },
        {
          "output_type": "stream",
          "name": "stdout",
          "text": [
            "Events sent to the computing device: 100.0 %\r"
          ]
        },
        {
          "output_type": "stream",
          "name": "stderr",
          "text": [
            "[INFO] (vegasflow.monte_carlo) Result for iteration 49: 0.6978 +/- 0.0015(took 0.79923 s)\n",
            "INFO:vegasflow.monte_carlo:Result for iteration 49: 0.6978 +/- 0.0015(took 0.79923 s)\n"
          ]
        },
        {
          "output_type": "stream",
          "name": "stdout",
          "text": [
            "Events sent to the computing device: 100.0 %\r"
          ]
        },
        {
          "output_type": "stream",
          "name": "stderr",
          "text": [
            "[INFO] (vegasflow.monte_carlo) Result for iteration 50: 0.6988 +/- 0.0020(took 0.72511 s)\n",
            "INFO:vegasflow.monte_carlo:Result for iteration 50: 0.6988 +/- 0.0020(took 0.72511 s)\n"
          ]
        },
        {
          "output_type": "stream",
          "name": "stdout",
          "text": [
            "Events sent to the computing device: 100.0 %\r"
          ]
        },
        {
          "output_type": "stream",
          "name": "stderr",
          "text": [
            "[INFO] (vegasflow.monte_carlo) Result for iteration 51: 0.6982 +/- 0.0018(took 0.71107 s)\n",
            "INFO:vegasflow.monte_carlo:Result for iteration 51: 0.6982 +/- 0.0018(took 0.71107 s)\n"
          ]
        },
        {
          "output_type": "stream",
          "name": "stdout",
          "text": [
            "Events sent to the computing device: 100.0 %\r"
          ]
        },
        {
          "output_type": "stream",
          "name": "stderr",
          "text": [
            "[INFO] (vegasflow.monte_carlo) Result for iteration 52: 0.7003 +/- 0.0023(took 0.72636 s)\n",
            "INFO:vegasflow.monte_carlo:Result for iteration 52: 0.7003 +/- 0.0023(took 0.72636 s)\n"
          ]
        },
        {
          "output_type": "stream",
          "name": "stdout",
          "text": [
            "Events sent to the computing device: 100.0 %\r"
          ]
        },
        {
          "output_type": "stream",
          "name": "stderr",
          "text": [
            "[INFO] (vegasflow.monte_carlo) Result for iteration 53: 0.7034 +/- 0.0022(took 0.70767 s)\n",
            "INFO:vegasflow.monte_carlo:Result for iteration 53: 0.7034 +/- 0.0022(took 0.70767 s)\n"
          ]
        },
        {
          "output_type": "stream",
          "name": "stdout",
          "text": [
            "Events sent to the computing device: 100.0 %\r"
          ]
        },
        {
          "output_type": "stream",
          "name": "stderr",
          "text": [
            "[INFO] (vegasflow.monte_carlo) Result for iteration 54: 0.6988 +/- 0.0013(took 1.15855 s)\n",
            "INFO:vegasflow.monte_carlo:Result for iteration 54: 0.6988 +/- 0.0013(took 1.15855 s)\n"
          ]
        },
        {
          "output_type": "stream",
          "name": "stdout",
          "text": [
            "Events sent to the computing device: 100.0 %\r"
          ]
        },
        {
          "output_type": "stream",
          "name": "stderr",
          "text": [
            "[INFO] (vegasflow.monte_carlo) Result for iteration 55: 0.6979 +/- 0.0013(took 0.99021 s)\n",
            "INFO:vegasflow.monte_carlo:Result for iteration 55: 0.6979 +/- 0.0013(took 0.99021 s)\n"
          ]
        },
        {
          "output_type": "stream",
          "name": "stdout",
          "text": [
            "Events sent to the computing device: 100.0 %\r"
          ]
        },
        {
          "output_type": "stream",
          "name": "stderr",
          "text": [
            "[INFO] (vegasflow.monte_carlo) Result for iteration 56: 0.6943 +/- 0.0012(took 0.81062 s)\n",
            "INFO:vegasflow.monte_carlo:Result for iteration 56: 0.6943 +/- 0.0012(took 0.81062 s)\n"
          ]
        },
        {
          "output_type": "stream",
          "name": "stdout",
          "text": [
            "Events sent to the computing device: 100.0 %\r"
          ]
        },
        {
          "output_type": "stream",
          "name": "stderr",
          "text": [
            "[INFO] (vegasflow.monte_carlo) Result for iteration 57: 0.6980 +/- 0.0014(took 0.65424 s)\n",
            "INFO:vegasflow.monte_carlo:Result for iteration 57: 0.6980 +/- 0.0014(took 0.65424 s)\n"
          ]
        },
        {
          "output_type": "stream",
          "name": "stdout",
          "text": [
            "Events sent to the computing device: 100.0 %\r"
          ]
        },
        {
          "output_type": "stream",
          "name": "stderr",
          "text": [
            "[INFO] (vegasflow.monte_carlo) Result for iteration 58: 0.6991 +/- 0.0015(took 0.73377 s)\n",
            "INFO:vegasflow.monte_carlo:Result for iteration 58: 0.6991 +/- 0.0015(took 0.73377 s)\n"
          ]
        },
        {
          "output_type": "stream",
          "name": "stdout",
          "text": [
            "Events sent to the computing device: 100.0 %\r"
          ]
        },
        {
          "output_type": "stream",
          "name": "stderr",
          "text": [
            "[INFO] (vegasflow.monte_carlo) Result for iteration 59: 0.6984 +/- 0.0018(took 0.65798 s)\n",
            "INFO:vegasflow.monte_carlo:Result for iteration 59: 0.6984 +/- 0.0018(took 0.65798 s)\n"
          ]
        },
        {
          "output_type": "stream",
          "name": "stdout",
          "text": [
            "Events sent to the computing device: 100.0 %\r"
          ]
        },
        {
          "output_type": "stream",
          "name": "stderr",
          "text": [
            "[INFO] (vegasflow.monte_carlo) Result for iteration 60: 0.7007 +/- 0.0017(took 0.73788 s)\n",
            "INFO:vegasflow.monte_carlo:Result for iteration 60: 0.7007 +/- 0.0017(took 0.73788 s)\n"
          ]
        },
        {
          "output_type": "stream",
          "name": "stdout",
          "text": [
            "Events sent to the computing device: 100.0 %\r"
          ]
        },
        {
          "output_type": "stream",
          "name": "stderr",
          "text": [
            "[INFO] (vegasflow.monte_carlo) Result for iteration 61: 0.6982 +/- 0.0016(took 0.68408 s)\n",
            "INFO:vegasflow.monte_carlo:Result for iteration 61: 0.6982 +/- 0.0016(took 0.68408 s)\n"
          ]
        },
        {
          "output_type": "stream",
          "name": "stdout",
          "text": [
            "Events sent to the computing device: 100.0 %\r"
          ]
        },
        {
          "output_type": "stream",
          "name": "stderr",
          "text": [
            "[INFO] (vegasflow.monte_carlo) Result for iteration 62: 0.6986 +/- 0.0015(took 0.61856 s)\n",
            "INFO:vegasflow.monte_carlo:Result for iteration 62: 0.6986 +/- 0.0015(took 0.61856 s)\n"
          ]
        },
        {
          "output_type": "stream",
          "name": "stdout",
          "text": [
            "Events sent to the computing device: 100.0 %\r"
          ]
        },
        {
          "output_type": "stream",
          "name": "stderr",
          "text": [
            "[INFO] (vegasflow.monte_carlo) Result for iteration 63: 0.6989 +/- 0.0014(took 0.73151 s)\n",
            "INFO:vegasflow.monte_carlo:Result for iteration 63: 0.6989 +/- 0.0014(took 0.73151 s)\n"
          ]
        },
        {
          "output_type": "stream",
          "name": "stdout",
          "text": [
            "Events sent to the computing device: 100.0 %\r"
          ]
        },
        {
          "output_type": "stream",
          "name": "stderr",
          "text": [
            "[INFO] (vegasflow.monte_carlo) Result for iteration 64: 0.6975 +/- 0.0013(took 0.69123 s)\n",
            "INFO:vegasflow.monte_carlo:Result for iteration 64: 0.6975 +/- 0.0013(took 0.69123 s)\n"
          ]
        },
        {
          "output_type": "stream",
          "name": "stdout",
          "text": [
            "Events sent to the computing device: 100.0 %\r"
          ]
        },
        {
          "output_type": "stream",
          "name": "stderr",
          "text": [
            "[INFO] (vegasflow.monte_carlo) Result for iteration 65: 0.7009 +/- 0.0045(took 0.62742 s)\n",
            "INFO:vegasflow.monte_carlo:Result for iteration 65: 0.7009 +/- 0.0045(took 0.62742 s)\n"
          ]
        },
        {
          "output_type": "stream",
          "name": "stdout",
          "text": [
            "Events sent to the computing device: 100.0 %\r"
          ]
        },
        {
          "output_type": "stream",
          "name": "stderr",
          "text": [
            "[INFO] (vegasflow.monte_carlo) Result for iteration 66: 0.7005 +/- 0.0038(took 0.71303 s)\n",
            "INFO:vegasflow.monte_carlo:Result for iteration 66: 0.7005 +/- 0.0038(took 0.71303 s)\n"
          ]
        },
        {
          "output_type": "stream",
          "name": "stdout",
          "text": [
            "Events sent to the computing device: 100.0 %\r"
          ]
        },
        {
          "output_type": "stream",
          "name": "stderr",
          "text": [
            "[INFO] (vegasflow.monte_carlo) Result for iteration 67: 0.6990 +/- 0.0014(took 0.66459 s)\n",
            "INFO:vegasflow.monte_carlo:Result for iteration 67: 0.6990 +/- 0.0014(took 0.66459 s)\n"
          ]
        },
        {
          "output_type": "stream",
          "name": "stdout",
          "text": [
            "Events sent to the computing device: 100.0 %\r"
          ]
        },
        {
          "output_type": "stream",
          "name": "stderr",
          "text": [
            "[INFO] (vegasflow.monte_carlo) Result for iteration 68: 0.6973 +/- 0.0016(took 0.71015 s)\n",
            "INFO:vegasflow.monte_carlo:Result for iteration 68: 0.6973 +/- 0.0016(took 0.71015 s)\n"
          ]
        },
        {
          "output_type": "stream",
          "name": "stdout",
          "text": [
            "Events sent to the computing device: 100.0 %\r"
          ]
        },
        {
          "output_type": "stream",
          "name": "stderr",
          "text": [
            "[INFO] (vegasflow.monte_carlo) Result for iteration 69: 0.7001 +/- 0.0016(took 0.70357 s)\n",
            "INFO:vegasflow.monte_carlo:Result for iteration 69: 0.7001 +/- 0.0016(took 0.70357 s)\n"
          ]
        },
        {
          "output_type": "stream",
          "name": "stdout",
          "text": [
            "Events sent to the computing device: 100.0 %\r"
          ]
        },
        {
          "output_type": "stream",
          "name": "stderr",
          "text": [
            "[INFO] (vegasflow.monte_carlo) Result for iteration 70: 0.6971 +/- 0.0013(took 0.62812 s)\n",
            "INFO:vegasflow.monte_carlo:Result for iteration 70: 0.6971 +/- 0.0013(took 0.62812 s)\n"
          ]
        },
        {
          "output_type": "stream",
          "name": "stdout",
          "text": [
            "Events sent to the computing device: 100.0 %\r"
          ]
        },
        {
          "output_type": "stream",
          "name": "stderr",
          "text": [
            "[INFO] (vegasflow.monte_carlo) Result for iteration 71: 0.6975 +/- 0.0013(took 0.89111 s)\n",
            "INFO:vegasflow.monte_carlo:Result for iteration 71: 0.6975 +/- 0.0013(took 0.89111 s)\n"
          ]
        },
        {
          "output_type": "stream",
          "name": "stdout",
          "text": [
            "Events sent to the computing device: 100.0 %\r"
          ]
        },
        {
          "output_type": "stream",
          "name": "stderr",
          "text": [
            "[INFO] (vegasflow.monte_carlo) Result for iteration 72: 0.6990 +/- 0.0013(took 1.03993 s)\n",
            "INFO:vegasflow.monte_carlo:Result for iteration 72: 0.6990 +/- 0.0013(took 1.03993 s)\n"
          ]
        },
        {
          "output_type": "stream",
          "name": "stdout",
          "text": [
            "Events sent to the computing device: 100.0 %\r"
          ]
        },
        {
          "output_type": "stream",
          "name": "stderr",
          "text": [
            "[INFO] (vegasflow.monte_carlo) Result for iteration 73: 0.6984 +/- 0.0014(took 0.97247 s)\n",
            "INFO:vegasflow.monte_carlo:Result for iteration 73: 0.6984 +/- 0.0014(took 0.97247 s)\n"
          ]
        },
        {
          "output_type": "stream",
          "name": "stdout",
          "text": [
            "Events sent to the computing device: 100.0 %\r"
          ]
        },
        {
          "output_type": "stream",
          "name": "stderr",
          "text": [
            "[INFO] (vegasflow.monte_carlo) Result for iteration 74: 0.6989 +/- 0.0013(took 0.63607 s)\n",
            "INFO:vegasflow.monte_carlo:Result for iteration 74: 0.6989 +/- 0.0013(took 0.63607 s)\n"
          ]
        },
        {
          "output_type": "stream",
          "name": "stdout",
          "text": [
            "Events sent to the computing device: 100.0 %\r"
          ]
        },
        {
          "output_type": "stream",
          "name": "stderr",
          "text": [
            "[INFO] (vegasflow.monte_carlo) Result for iteration 75: 0.6980 +/- 0.0014(took 0.67954 s)\n",
            "INFO:vegasflow.monte_carlo:Result for iteration 75: 0.6980 +/- 0.0014(took 0.67954 s)\n"
          ]
        },
        {
          "output_type": "stream",
          "name": "stdout",
          "text": [
            "Events sent to the computing device: 100.0 %\r"
          ]
        },
        {
          "output_type": "stream",
          "name": "stderr",
          "text": [
            "[INFO] (vegasflow.monte_carlo) Result for iteration 76: 0.6971 +/- 0.0013(took 0.71601 s)\n",
            "INFO:vegasflow.monte_carlo:Result for iteration 76: 0.6971 +/- 0.0013(took 0.71601 s)\n"
          ]
        },
        {
          "output_type": "stream",
          "name": "stdout",
          "text": [
            "Events sent to the computing device: 100.0 %\r"
          ]
        },
        {
          "output_type": "stream",
          "name": "stderr",
          "text": [
            "[INFO] (vegasflow.monte_carlo) Result for iteration 77: 0.6973 +/- 0.0013(took 0.65231 s)\n",
            "INFO:vegasflow.monte_carlo:Result for iteration 77: 0.6973 +/- 0.0013(took 0.65231 s)\n"
          ]
        },
        {
          "output_type": "stream",
          "name": "stdout",
          "text": [
            "Events sent to the computing device: 100.0 %\r"
          ]
        },
        {
          "output_type": "stream",
          "name": "stderr",
          "text": [
            "[INFO] (vegasflow.monte_carlo) Result for iteration 78: 0.6998 +/- 0.0021(took 0.69330 s)\n",
            "INFO:vegasflow.monte_carlo:Result for iteration 78: 0.6998 +/- 0.0021(took 0.69330 s)\n"
          ]
        },
        {
          "output_type": "stream",
          "name": "stdout",
          "text": [
            "Events sent to the computing device: 100.0 %\r"
          ]
        },
        {
          "output_type": "stream",
          "name": "stderr",
          "text": [
            "[INFO] (vegasflow.monte_carlo) Result for iteration 79: 0.6985 +/- 0.0020(took 0.74957 s)\n",
            "INFO:vegasflow.monte_carlo:Result for iteration 79: 0.6985 +/- 0.0020(took 0.74957 s)\n"
          ]
        },
        {
          "output_type": "stream",
          "name": "stdout",
          "text": [
            "Events sent to the computing device: 100.0 %\r"
          ]
        },
        {
          "output_type": "stream",
          "name": "stderr",
          "text": [
            "[INFO] (vegasflow.monte_carlo) Result for iteration 80: 0.6991 +/- 0.0013(took 0.72818 s)\n",
            "INFO:vegasflow.monte_carlo:Result for iteration 80: 0.6991 +/- 0.0013(took 0.72818 s)\n"
          ]
        },
        {
          "output_type": "stream",
          "name": "stdout",
          "text": [
            "Events sent to the computing device: 100.0 %\r"
          ]
        },
        {
          "output_type": "stream",
          "name": "stderr",
          "text": [
            "[INFO] (vegasflow.monte_carlo) Result for iteration 81: 0.6994 +/- 0.0013(took 0.73215 s)\n",
            "INFO:vegasflow.monte_carlo:Result for iteration 81: 0.6994 +/- 0.0013(took 0.73215 s)\n"
          ]
        },
        {
          "output_type": "stream",
          "name": "stdout",
          "text": [
            "Events sent to the computing device: 100.0 %\r"
          ]
        },
        {
          "output_type": "stream",
          "name": "stderr",
          "text": [
            "[INFO] (vegasflow.monte_carlo) Result for iteration 82: 0.7014 +/- 0.0014(took 0.68831 s)\n",
            "INFO:vegasflow.monte_carlo:Result for iteration 82: 0.7014 +/- 0.0014(took 0.68831 s)\n"
          ]
        },
        {
          "output_type": "stream",
          "name": "stdout",
          "text": [
            "Events sent to the computing device: 100.0 %\r"
          ]
        },
        {
          "output_type": "stream",
          "name": "stderr",
          "text": [
            "[INFO] (vegasflow.monte_carlo) Result for iteration 83: 0.6982 +/- 0.0014(took 0.67722 s)\n",
            "INFO:vegasflow.monte_carlo:Result for iteration 83: 0.6982 +/- 0.0014(took 0.67722 s)\n"
          ]
        },
        {
          "output_type": "stream",
          "name": "stdout",
          "text": [
            "Events sent to the computing device: 100.0 %\r"
          ]
        },
        {
          "output_type": "stream",
          "name": "stderr",
          "text": [
            "[INFO] (vegasflow.monte_carlo) Result for iteration 84: 0.6977 +/- 0.0023(took 0.74255 s)\n",
            "INFO:vegasflow.monte_carlo:Result for iteration 84: 0.6977 +/- 0.0023(took 0.74255 s)\n"
          ]
        },
        {
          "output_type": "stream",
          "name": "stdout",
          "text": [
            "Events sent to the computing device: 100.0 %\r"
          ]
        },
        {
          "output_type": "stream",
          "name": "stderr",
          "text": [
            "[INFO] (vegasflow.monte_carlo) Result for iteration 85: 0.6994 +/- 0.0022(took 0.76208 s)\n",
            "INFO:vegasflow.monte_carlo:Result for iteration 85: 0.6994 +/- 0.0022(took 0.76208 s)\n"
          ]
        },
        {
          "output_type": "stream",
          "name": "stdout",
          "text": [
            "Events sent to the computing device: 100.0 %\r"
          ]
        },
        {
          "output_type": "stream",
          "name": "stderr",
          "text": [
            "[INFO] (vegasflow.monte_carlo) Result for iteration 86: 0.6955 +/- 0.0014(took 0.70801 s)\n",
            "INFO:vegasflow.monte_carlo:Result for iteration 86: 0.6955 +/- 0.0014(took 0.70801 s)\n"
          ]
        },
        {
          "output_type": "stream",
          "name": "stdout",
          "text": [
            "Events sent to the computing device: 100.0 %\r"
          ]
        },
        {
          "output_type": "stream",
          "name": "stderr",
          "text": [
            "[INFO] (vegasflow.monte_carlo) Result for iteration 87: 0.6993 +/- 0.0015(took 0.77632 s)\n",
            "INFO:vegasflow.monte_carlo:Result for iteration 87: 0.6993 +/- 0.0015(took 0.77632 s)\n"
          ]
        },
        {
          "output_type": "stream",
          "name": "stdout",
          "text": [
            "Events sent to the computing device: 100.0 %\r"
          ]
        },
        {
          "output_type": "stream",
          "name": "stderr",
          "text": [
            "[INFO] (vegasflow.monte_carlo) Result for iteration 88: 0.6977 +/- 0.0014(took 1.00149 s)\n",
            "INFO:vegasflow.monte_carlo:Result for iteration 88: 0.6977 +/- 0.0014(took 1.00149 s)\n"
          ]
        },
        {
          "output_type": "stream",
          "name": "stdout",
          "text": [
            "Events sent to the computing device: 100.0 %\r"
          ]
        },
        {
          "output_type": "stream",
          "name": "stderr",
          "text": [
            "[INFO] (vegasflow.monte_carlo) Result for iteration 89: 0.6986 +/- 0.0013(took 0.97176 s)\n",
            "INFO:vegasflow.monte_carlo:Result for iteration 89: 0.6986 +/- 0.0013(took 0.97176 s)\n"
          ]
        },
        {
          "output_type": "stream",
          "name": "stdout",
          "text": [
            "Events sent to the computing device: 100.0 %\r"
          ]
        },
        {
          "output_type": "stream",
          "name": "stderr",
          "text": [
            "[INFO] (vegasflow.monte_carlo) Result for iteration 90: 0.6959 +/- 0.0012(took 0.95247 s)\n",
            "INFO:vegasflow.monte_carlo:Result for iteration 90: 0.6959 +/- 0.0012(took 0.95247 s)\n"
          ]
        },
        {
          "output_type": "stream",
          "name": "stdout",
          "text": [
            "Events sent to the computing device: 100.0 %\r"
          ]
        },
        {
          "output_type": "stream",
          "name": "stderr",
          "text": [
            "[INFO] (vegasflow.monte_carlo) Result for iteration 91: 0.6974 +/- 0.0012(took 0.70329 s)\n",
            "INFO:vegasflow.monte_carlo:Result for iteration 91: 0.6974 +/- 0.0012(took 0.70329 s)\n"
          ]
        },
        {
          "output_type": "stream",
          "name": "stdout",
          "text": [
            "Events sent to the computing device: 100.0 %\r"
          ]
        },
        {
          "output_type": "stream",
          "name": "stderr",
          "text": [
            "[INFO] (vegasflow.monte_carlo) Result for iteration 92: 0.6984 +/- 0.0013(took 0.77662 s)\n",
            "INFO:vegasflow.monte_carlo:Result for iteration 92: 0.6984 +/- 0.0013(took 0.77662 s)\n"
          ]
        },
        {
          "output_type": "stream",
          "name": "stdout",
          "text": [
            "Events sent to the computing device: 100.0 %\r"
          ]
        },
        {
          "output_type": "stream",
          "name": "stderr",
          "text": [
            "[INFO] (vegasflow.monte_carlo) Result for iteration 93: 0.6967 +/- 0.0013(took 0.78468 s)\n",
            "INFO:vegasflow.monte_carlo:Result for iteration 93: 0.6967 +/- 0.0013(took 0.78468 s)\n"
          ]
        },
        {
          "output_type": "stream",
          "name": "stdout",
          "text": [
            "Events sent to the computing device: 100.0 %\r"
          ]
        },
        {
          "output_type": "stream",
          "name": "stderr",
          "text": [
            "[INFO] (vegasflow.monte_carlo) Result for iteration 94: 0.6973 +/- 0.0013(took 0.73361 s)\n",
            "INFO:vegasflow.monte_carlo:Result for iteration 94: 0.6973 +/- 0.0013(took 0.73361 s)\n"
          ]
        },
        {
          "output_type": "stream",
          "name": "stdout",
          "text": [
            "Events sent to the computing device: 100.0 %\r"
          ]
        },
        {
          "output_type": "stream",
          "name": "stderr",
          "text": [
            "[INFO] (vegasflow.monte_carlo) Result for iteration 95: 0.6991 +/- 0.0013(took 0.71140 s)\n",
            "INFO:vegasflow.monte_carlo:Result for iteration 95: 0.6991 +/- 0.0013(took 0.71140 s)\n"
          ]
        },
        {
          "output_type": "stream",
          "name": "stdout",
          "text": [
            "Events sent to the computing device: 100.0 %\r"
          ]
        },
        {
          "output_type": "stream",
          "name": "stderr",
          "text": [
            "[INFO] (vegasflow.monte_carlo) Result for iteration 96: 0.6990 +/- 0.0012(took 0.68236 s)\n",
            "INFO:vegasflow.monte_carlo:Result for iteration 96: 0.6990 +/- 0.0012(took 0.68236 s)\n"
          ]
        },
        {
          "output_type": "stream",
          "name": "stdout",
          "text": [
            "Events sent to the computing device: 100.0 %\r"
          ]
        },
        {
          "output_type": "stream",
          "name": "stderr",
          "text": [
            "[INFO] (vegasflow.monte_carlo) Result for iteration 97: 0.6994 +/- 0.0012(took 0.68371 s)\n",
            "INFO:vegasflow.monte_carlo:Result for iteration 97: 0.6994 +/- 0.0012(took 0.68371 s)\n"
          ]
        },
        {
          "output_type": "stream",
          "name": "stdout",
          "text": [
            "Events sent to the computing device: 100.0 %\r"
          ]
        },
        {
          "output_type": "stream",
          "name": "stderr",
          "text": [
            "[INFO] (vegasflow.monte_carlo) Result for iteration 98: 0.6997 +/- 0.0012(took 0.73145 s)\n",
            "INFO:vegasflow.monte_carlo:Result for iteration 98: 0.6997 +/- 0.0012(took 0.73145 s)\n"
          ]
        },
        {
          "output_type": "stream",
          "name": "stdout",
          "text": [
            "Events sent to the computing device: 100.0 %\r"
          ]
        },
        {
          "output_type": "stream",
          "name": "stderr",
          "text": [
            "[INFO] (vegasflow.monte_carlo) Result for iteration 99: 0.6979 +/- 0.0013(took 0.64693 s)\n",
            "INFO:vegasflow.monte_carlo:Result for iteration 99: 0.6979 +/- 0.0013(took 0.64693 s)\n",
            "[INFO] (vegasflow.monte_carlo)  > Final results: 0.133832 +/- 6.67113e-05\n",
            "INFO:vegasflow.monte_carlo: > Final results: 0.133832 +/- 6.67113e-05\n"
          ]
        }
      ],
      "source": [
        "_ = a_equal_0_case.train_until(n_iter=100) # train the integrator"
      ]
    },
    {
      "cell_type": "code",
      "execution_count": 227,
      "metadata": {
        "colab": {
          "base_uri": "https://localhost:8080/"
        },
        "id": "RQ9VO49K-AWP",
        "outputId": "c0882d94-84a3-433e-f51d-29a8b05efd0a"
      },
      "outputs": [
        {
          "output_type": "stream",
          "name": "stdout",
          "text": [
            "Events sent to the computing device: 100.0 %\r"
          ]
        },
        {
          "output_type": "stream",
          "name": "stderr",
          "text": [
            "[INFO] (vegasflow.monte_carlo) Result for iteration 0: 0.6992 +/- 0.0013(took 0.64892 s)\n",
            "INFO:vegasflow.monte_carlo:Result for iteration 0: 0.6992 +/- 0.0013(took 0.64892 s)\n"
          ]
        },
        {
          "output_type": "stream",
          "name": "stdout",
          "text": [
            "Events sent to the computing device: 100.0 %\r"
          ]
        },
        {
          "output_type": "stream",
          "name": "stderr",
          "text": [
            "[INFO] (vegasflow.monte_carlo) Result for iteration 1: 0.7030 +/- 0.0035(took 0.68825 s)\n",
            "INFO:vegasflow.monte_carlo:Result for iteration 1: 0.7030 +/- 0.0035(took 0.68825 s)\n"
          ]
        },
        {
          "output_type": "stream",
          "name": "stdout",
          "text": [
            "Events sent to the computing device: 100.0 %\r"
          ]
        },
        {
          "output_type": "stream",
          "name": "stderr",
          "text": [
            "[INFO] (vegasflow.monte_carlo) Result for iteration 2: 0.6990 +/- 0.0030(took 0.73457 s)\n",
            "INFO:vegasflow.monte_carlo:Result for iteration 2: 0.6990 +/- 0.0030(took 0.73457 s)\n"
          ]
        },
        {
          "output_type": "stream",
          "name": "stdout",
          "text": [
            "Events sent to the computing device: 100.0 %\r"
          ]
        },
        {
          "output_type": "stream",
          "name": "stderr",
          "text": [
            "[INFO] (vegasflow.monte_carlo) Result for iteration 3: 0.7012 +/- 0.0016(took 0.72114 s)\n",
            "INFO:vegasflow.monte_carlo:Result for iteration 3: 0.7012 +/- 0.0016(took 0.72114 s)\n"
          ]
        },
        {
          "output_type": "stream",
          "name": "stdout",
          "text": [
            "Events sent to the computing device: 100.0 %\r"
          ]
        },
        {
          "output_type": "stream",
          "name": "stderr",
          "text": [
            "[INFO] (vegasflow.monte_carlo) Result for iteration 4: 0.6985 +/- 0.0015(took 0.82179 s)\n",
            "INFO:vegasflow.monte_carlo:Result for iteration 4: 0.6985 +/- 0.0015(took 0.82179 s)\n",
            "[INFO] (vegasflow.monte_carlo)  > Final results: 0.699653 +/- 0.000786143\n",
            "INFO:vegasflow.monte_carlo: > Final results: 0.699653 +/- 0.000786143\n"
          ]
        }
      ],
      "source": [
        "result=a_equal_0_case.run_integration(n_iter=5) # actually get the result"
      ]
    },
    {
      "cell_type": "code",
      "execution_count": 228,
      "metadata": {
        "colab": {
          "base_uri": "https://localhost:8080/",
          "height": 102
        },
        "id": "9oU_JrOf-AWQ",
        "outputId": "45926cc6-e572-42cc-8af5-37cd26e977ad"
      },
      "outputs": [
        {
          "output_type": "display_data",
          "data": {
            "text/plain": [
              "<IPython.core.display.Markdown object>"
            ],
            "text/markdown": "## Lower bound for mass (expected $m/2=2/2=1.0$) of $M_{2,+}$ with dimension $n=8$ calculated as $0.19701$ with Monte Carlo error $0.00022$."
          },
          "metadata": {}
        }
      ],
      "source": [
        "schwarzschild_half_space_mass_lower_bound = result.total_lower_bound\n",
        "m_value=r_critical_value**(dim_value-2)*2\n",
        "schwarzschild_half_space_mass_lower_bound_sigma = result.total_error\n",
        "display(Markdown(f\"## Lower bound for mass (expected $m/2={m_value}/2={m_value/2}$) of $M_{{{m_value},+}}$ with dimension $n={dim_value}$ calculated as ${schwarzschild_half_space_mass_lower_bound:.5f}$ with Monte Carlo error ${schwarzschild_half_space_mass_lower_bound_sigma:.5f}$.\"))"
      ]
    },
    {
      "cell_type": "markdown",
      "metadata": {
        "id": "VgfNc0mf-AWQ"
      },
      "source": [
        "We can now do the same process for $M_{m,\\geq a}$ for $a>0$:"
      ]
    },
    {
      "cell_type": "code",
      "execution_count": 229,
      "metadata": {
        "id": "axjCgrSc-AWQ",
        "colab": {
          "base_uri": "https://localhost:8080/"
        },
        "outputId": "4ed34255-0446-40de-b0c3-7aff569811c0"
      },
      "outputs": [
        {
          "output_type": "stream",
          "name": "stderr",
          "text": [
            "[INFO] (vegasflow.vflowplus) Events per device limit set to 1000000\n",
            "INFO:vegasflow.vflowplus:Events per device limit set to 1000000\n",
            "[INFO] (vegasflow.monte_carlo) Checking whether the integrand outputs the correct shape (note, this will run a very small number of events and potentially trigger a retrace)\n",
            "INFO:vegasflow.monte_carlo:Checking whether the integrand outputs the correct shape (note, this will run a very small number of events and potentially trigger a retrace)\n",
            "[INFO] (vegasflow.vflowplus) Events per device limit set to 1000000\n",
            "INFO:vegasflow.vflowplus:Events per device limit set to 1000000\n",
            "[INFO] (vegasflow.monte_carlo) Checking whether the integrand outputs the correct shape (note, this will run a very small number of events and potentially trigger a retrace)\n",
            "INFO:vegasflow.monte_carlo:Checking whether the integrand outputs the correct shape (note, this will run a very small number of events and potentially trigger a retrace)\n"
          ]
        }
      ],
      "source": [
        "a_equal_2_case = getLowerBoundCalculator(a_value=2,dim_value=dim_value,box_size=1e5,n_calls=1e6)"
      ]
    },
    {
      "cell_type": "code",
      "execution_count": 230,
      "metadata": {
        "id": "YK3sP_4k-AWR",
        "colab": {
          "base_uri": "https://localhost:8080/"
        },
        "outputId": "9329ea1f-ae4c-405a-d82f-09aa960acada"
      },
      "outputs": [
        {
          "output_type": "stream",
          "name": "stdout",
          "text": [
            "Events sent to the computing device: 100.0 %\r"
          ]
        },
        {
          "output_type": "stream",
          "name": "stderr",
          "text": [
            "[INFO] (vegasflow.monte_carlo) Result for iteration 0: 1.866e-03 +/- 4.588e-06(took 1.72654 s)\n",
            "INFO:vegasflow.monte_carlo:Result for iteration 0: 1.866e-03 +/- 4.588e-06(took 1.72654 s)\n"
          ]
        },
        {
          "output_type": "stream",
          "name": "stdout",
          "text": [
            "Events sent to the computing device: 100.0 %\r"
          ]
        },
        {
          "output_type": "stream",
          "name": "stderr",
          "text": [
            "[INFO] (vegasflow.monte_carlo) Result for iteration 1: 1.872e-03 +/- 3.156e-06(took 0.76745 s)\n",
            "INFO:vegasflow.monte_carlo:Result for iteration 1: 1.872e-03 +/- 3.156e-06(took 0.76745 s)\n"
          ]
        },
        {
          "output_type": "stream",
          "name": "stdout",
          "text": [
            "Events sent to the computing device: 100.0 %\r"
          ]
        },
        {
          "output_type": "stream",
          "name": "stderr",
          "text": [
            "[INFO] (vegasflow.monte_carlo) Result for iteration 2: 1.867e-03 +/- 3.011e-06(took 0.69624 s)\n",
            "INFO:vegasflow.monte_carlo:Result for iteration 2: 1.867e-03 +/- 3.011e-06(took 0.69624 s)\n"
          ]
        },
        {
          "output_type": "stream",
          "name": "stdout",
          "text": [
            "Events sent to the computing device: 100.0 %\r"
          ]
        },
        {
          "output_type": "stream",
          "name": "stderr",
          "text": [
            "[INFO] (vegasflow.monte_carlo) Result for iteration 3: 1.872e-03 +/- 2.997e-06(took 0.70278 s)\n",
            "INFO:vegasflow.monte_carlo:Result for iteration 3: 1.872e-03 +/- 2.997e-06(took 0.70278 s)\n"
          ]
        },
        {
          "output_type": "stream",
          "name": "stdout",
          "text": [
            "Events sent to the computing device: 100.0 %\r"
          ]
        },
        {
          "output_type": "stream",
          "name": "stderr",
          "text": [
            "[INFO] (vegasflow.monte_carlo) Result for iteration 4: 1.862e-03 +/- 2.987e-06(took 0.74330 s)\n",
            "INFO:vegasflow.monte_carlo:Result for iteration 4: 1.862e-03 +/- 2.987e-06(took 0.74330 s)\n"
          ]
        },
        {
          "output_type": "stream",
          "name": "stdout",
          "text": [
            "Events sent to the computing device: 100.0 %\r"
          ]
        },
        {
          "output_type": "stream",
          "name": "stderr",
          "text": [
            "[INFO] (vegasflow.monte_carlo) Result for iteration 5: 1.863e-03 +/- 2.996e-06(took 0.77296 s)\n",
            "INFO:vegasflow.monte_carlo:Result for iteration 5: 1.863e-03 +/- 2.996e-06(took 0.77296 s)\n"
          ]
        },
        {
          "output_type": "stream",
          "name": "stdout",
          "text": [
            "Events sent to the computing device: 100.0 %\r"
          ]
        },
        {
          "output_type": "stream",
          "name": "stderr",
          "text": [
            "[INFO] (vegasflow.monte_carlo) Result for iteration 6: 1.873e-03 +/- 3.011e-06(took 0.69074 s)\n",
            "INFO:vegasflow.monte_carlo:Result for iteration 6: 1.873e-03 +/- 3.011e-06(took 0.69074 s)\n"
          ]
        },
        {
          "output_type": "stream",
          "name": "stdout",
          "text": [
            "Events sent to the computing device: 100.0 %\r"
          ]
        },
        {
          "output_type": "stream",
          "name": "stderr",
          "text": [
            "[INFO] (vegasflow.monte_carlo) Result for iteration 7: 1.868e-03 +/- 3.013e-06(took 0.76377 s)\n",
            "INFO:vegasflow.monte_carlo:Result for iteration 7: 1.868e-03 +/- 3.013e-06(took 0.76377 s)\n"
          ]
        },
        {
          "output_type": "stream",
          "name": "stdout",
          "text": [
            "Events sent to the computing device: 100.0 %\r"
          ]
        },
        {
          "output_type": "stream",
          "name": "stderr",
          "text": [
            "[INFO] (vegasflow.monte_carlo) Result for iteration 8: 1.872e-03 +/- 3.010e-06(took 0.79890 s)\n",
            "INFO:vegasflow.monte_carlo:Result for iteration 8: 1.872e-03 +/- 3.010e-06(took 0.79890 s)\n"
          ]
        },
        {
          "output_type": "stream",
          "name": "stdout",
          "text": [
            "Events sent to the computing device: 100.0 %\r"
          ]
        },
        {
          "output_type": "stream",
          "name": "stderr",
          "text": [
            "[INFO] (vegasflow.monte_carlo) Result for iteration 9: 1.870e-03 +/- 2.999e-06(took 1.06025 s)\n",
            "INFO:vegasflow.monte_carlo:Result for iteration 9: 1.870e-03 +/- 2.999e-06(took 1.06025 s)\n"
          ]
        },
        {
          "output_type": "stream",
          "name": "stdout",
          "text": [
            "Events sent to the computing device: 100.0 %\r"
          ]
        },
        {
          "output_type": "stream",
          "name": "stderr",
          "text": [
            "[INFO] (vegasflow.monte_carlo) Result for iteration 10: 1.865e-03 +/- 2.999e-06(took 1.04201 s)\n",
            "INFO:vegasflow.monte_carlo:Result for iteration 10: 1.865e-03 +/- 2.999e-06(took 1.04201 s)\n"
          ]
        },
        {
          "output_type": "stream",
          "name": "stdout",
          "text": [
            "Events sent to the computing device: 100.0 %\r"
          ]
        },
        {
          "output_type": "stream",
          "name": "stderr",
          "text": [
            "[INFO] (vegasflow.monte_carlo) Result for iteration 11: 1.874e-03 +/- 3.005e-06(took 0.92291 s)\n",
            "INFO:vegasflow.monte_carlo:Result for iteration 11: 1.874e-03 +/- 3.005e-06(took 0.92291 s)\n"
          ]
        },
        {
          "output_type": "stream",
          "name": "stdout",
          "text": [
            "Events sent to the computing device: 100.0 %\r"
          ]
        },
        {
          "output_type": "stream",
          "name": "stderr",
          "text": [
            "[INFO] (vegasflow.monte_carlo) Result for iteration 12: 1.870e-03 +/- 3.020e-06(took 0.72662 s)\n",
            "INFO:vegasflow.monte_carlo:Result for iteration 12: 1.870e-03 +/- 3.020e-06(took 0.72662 s)\n"
          ]
        },
        {
          "output_type": "stream",
          "name": "stdout",
          "text": [
            "Events sent to the computing device: 100.0 %\r"
          ]
        },
        {
          "output_type": "stream",
          "name": "stderr",
          "text": [
            "[INFO] (vegasflow.monte_carlo) Result for iteration 13: 1.870e-03 +/- 3.009e-06(took 0.69113 s)\n",
            "INFO:vegasflow.monte_carlo:Result for iteration 13: 1.870e-03 +/- 3.009e-06(took 0.69113 s)\n"
          ]
        },
        {
          "output_type": "stream",
          "name": "stdout",
          "text": [
            "Events sent to the computing device: 100.0 %\r"
          ]
        },
        {
          "output_type": "stream",
          "name": "stderr",
          "text": [
            "[INFO] (vegasflow.monte_carlo) Result for iteration 14: 1.868e-03 +/- 3.021e-06(took 0.72572 s)\n",
            "INFO:vegasflow.monte_carlo:Result for iteration 14: 1.868e-03 +/- 3.021e-06(took 0.72572 s)\n"
          ]
        },
        {
          "output_type": "stream",
          "name": "stdout",
          "text": [
            "Events sent to the computing device: 100.0 %\r"
          ]
        },
        {
          "output_type": "stream",
          "name": "stderr",
          "text": [
            "[INFO] (vegasflow.monte_carlo) Result for iteration 15: 1.871e-03 +/- 3.011e-06(took 0.74214 s)\n",
            "INFO:vegasflow.monte_carlo:Result for iteration 15: 1.871e-03 +/- 3.011e-06(took 0.74214 s)\n"
          ]
        },
        {
          "output_type": "stream",
          "name": "stdout",
          "text": [
            "Events sent to the computing device: 100.0 %\r"
          ]
        },
        {
          "output_type": "stream",
          "name": "stderr",
          "text": [
            "[INFO] (vegasflow.monte_carlo) Result for iteration 16: 1.870e-03 +/- 3.031e-06(took 0.67577 s)\n",
            "INFO:vegasflow.monte_carlo:Result for iteration 16: 1.870e-03 +/- 3.031e-06(took 0.67577 s)\n"
          ]
        },
        {
          "output_type": "stream",
          "name": "stdout",
          "text": [
            "Events sent to the computing device: 100.0 %\r"
          ]
        },
        {
          "output_type": "stream",
          "name": "stderr",
          "text": [
            "[INFO] (vegasflow.monte_carlo) Result for iteration 17: 1.865e-03 +/- 3.011e-06(took 0.76606 s)\n",
            "INFO:vegasflow.monte_carlo:Result for iteration 17: 1.865e-03 +/- 3.011e-06(took 0.76606 s)\n"
          ]
        },
        {
          "output_type": "stream",
          "name": "stdout",
          "text": [
            "Events sent to the computing device: 100.0 %\r"
          ]
        },
        {
          "output_type": "stream",
          "name": "stderr",
          "text": [
            "[INFO] (vegasflow.monte_carlo) Result for iteration 18: 1.864e-03 +/- 2.996e-06(took 0.70481 s)\n",
            "INFO:vegasflow.monte_carlo:Result for iteration 18: 1.864e-03 +/- 2.996e-06(took 0.70481 s)\n"
          ]
        },
        {
          "output_type": "stream",
          "name": "stdout",
          "text": [
            "Events sent to the computing device: 100.0 %\r"
          ]
        },
        {
          "output_type": "stream",
          "name": "stderr",
          "text": [
            "[INFO] (vegasflow.monte_carlo) Result for iteration 19: 1.876e-03 +/- 3.018e-06(took 0.77769 s)\n",
            "INFO:vegasflow.monte_carlo:Result for iteration 19: 1.876e-03 +/- 3.018e-06(took 0.77769 s)\n"
          ]
        },
        {
          "output_type": "stream",
          "name": "stdout",
          "text": [
            "Events sent to the computing device: 100.0 %\r"
          ]
        },
        {
          "output_type": "stream",
          "name": "stderr",
          "text": [
            "[INFO] (vegasflow.monte_carlo) Result for iteration 20: 1.871e-03 +/- 3.096e-06(took 0.73318 s)\n",
            "INFO:vegasflow.monte_carlo:Result for iteration 20: 1.871e-03 +/- 3.096e-06(took 0.73318 s)\n"
          ]
        },
        {
          "output_type": "stream",
          "name": "stdout",
          "text": [
            "Events sent to the computing device: 100.0 %\r"
          ]
        },
        {
          "output_type": "stream",
          "name": "stderr",
          "text": [
            "[INFO] (vegasflow.monte_carlo) Result for iteration 21: 1.872e-03 +/- 3.040e-06(took 0.71802 s)\n",
            "INFO:vegasflow.monte_carlo:Result for iteration 21: 1.872e-03 +/- 3.040e-06(took 0.71802 s)\n"
          ]
        },
        {
          "output_type": "stream",
          "name": "stdout",
          "text": [
            "Events sent to the computing device: 100.0 %\r"
          ]
        },
        {
          "output_type": "stream",
          "name": "stderr",
          "text": [
            "[INFO] (vegasflow.monte_carlo) Result for iteration 22: 1.870e-03 +/- 3.042e-06(took 0.72131 s)\n",
            "INFO:vegasflow.monte_carlo:Result for iteration 22: 1.870e-03 +/- 3.042e-06(took 0.72131 s)\n"
          ]
        },
        {
          "output_type": "stream",
          "name": "stdout",
          "text": [
            "Events sent to the computing device: 100.0 %\r"
          ]
        },
        {
          "output_type": "stream",
          "name": "stderr",
          "text": [
            "[INFO] (vegasflow.monte_carlo) Result for iteration 23: 1.876e-03 +/- 3.019e-06(took 0.75557 s)\n",
            "INFO:vegasflow.monte_carlo:Result for iteration 23: 1.876e-03 +/- 3.019e-06(took 0.75557 s)\n"
          ]
        },
        {
          "output_type": "stream",
          "name": "stdout",
          "text": [
            "Events sent to the computing device: 100.0 %\r"
          ]
        },
        {
          "output_type": "stream",
          "name": "stderr",
          "text": [
            "[INFO] (vegasflow.monte_carlo) Result for iteration 24: 1.871e-03 +/- 3.019e-06(took 0.67174 s)\n",
            "INFO:vegasflow.monte_carlo:Result for iteration 24: 1.871e-03 +/- 3.019e-06(took 0.67174 s)\n"
          ]
        },
        {
          "output_type": "stream",
          "name": "stdout",
          "text": [
            "Events sent to the computing device: 100.0 %\r"
          ]
        },
        {
          "output_type": "stream",
          "name": "stderr",
          "text": [
            "[INFO] (vegasflow.monte_carlo) Result for iteration 25: 1.865e-03 +/- 3.007e-06(took 0.86398 s)\n",
            "INFO:vegasflow.monte_carlo:Result for iteration 25: 1.865e-03 +/- 3.007e-06(took 0.86398 s)\n"
          ]
        },
        {
          "output_type": "stream",
          "name": "stdout",
          "text": [
            "Events sent to the computing device: 100.0 %\r"
          ]
        },
        {
          "output_type": "stream",
          "name": "stderr",
          "text": [
            "[INFO] (vegasflow.monte_carlo) Result for iteration 26: 1.872e-03 +/- 3.019e-06(took 0.98548 s)\n",
            "INFO:vegasflow.monte_carlo:Result for iteration 26: 1.872e-03 +/- 3.019e-06(took 0.98548 s)\n"
          ]
        },
        {
          "output_type": "stream",
          "name": "stdout",
          "text": [
            "Events sent to the computing device: 100.0 %\r"
          ]
        },
        {
          "output_type": "stream",
          "name": "stderr",
          "text": [
            "[INFO] (vegasflow.monte_carlo) Result for iteration 27: 1.867e-03 +/- 3.018e-06(took 0.96982 s)\n",
            "INFO:vegasflow.monte_carlo:Result for iteration 27: 1.867e-03 +/- 3.018e-06(took 0.96982 s)\n"
          ]
        },
        {
          "output_type": "stream",
          "name": "stdout",
          "text": [
            "Events sent to the computing device: 100.0 %\r"
          ]
        },
        {
          "output_type": "stream",
          "name": "stderr",
          "text": [
            "[INFO] (vegasflow.monte_carlo) Result for iteration 28: 1.868e-03 +/- 3.037e-06(took 0.92627 s)\n",
            "INFO:vegasflow.monte_carlo:Result for iteration 28: 1.868e-03 +/- 3.037e-06(took 0.92627 s)\n"
          ]
        },
        {
          "output_type": "stream",
          "name": "stdout",
          "text": [
            "Events sent to the computing device: 100.0 %\r"
          ]
        },
        {
          "output_type": "stream",
          "name": "stderr",
          "text": [
            "[INFO] (vegasflow.monte_carlo) Result for iteration 29: 1.871e-03 +/- 3.046e-06(took 0.67332 s)\n",
            "INFO:vegasflow.monte_carlo:Result for iteration 29: 1.871e-03 +/- 3.046e-06(took 0.67332 s)\n",
            "[INFO] (vegasflow.monte_carlo)  > Final results: 0.00186939 +/- 5.56981e-07\n",
            "INFO:vegasflow.monte_carlo: > Final results: 0.00186939 +/- 5.56981e-07\n"
          ]
        },
        {
          "output_type": "stream",
          "name": "stdout",
          "text": [
            "Events sent to the computing device: 100.0 %\r"
          ]
        },
        {
          "output_type": "stream",
          "name": "stderr",
          "text": [
            "[INFO] (vegasflow.monte_carlo) Result for iteration 0: 4.598e-04 +/- 4.715e-05(took 0.98386 s)\n",
            "INFO:vegasflow.monte_carlo:Result for iteration 0: 4.598e-04 +/- 4.715e-05(took 0.98386 s)\n"
          ]
        },
        {
          "output_type": "stream",
          "name": "stdout",
          "text": [
            "Events sent to the computing device: 100.0 %\r"
          ]
        },
        {
          "output_type": "stream",
          "name": "stderr",
          "text": [
            "[INFO] (vegasflow.monte_carlo) Result for iteration 1: 2.081e-03 +/- 2.668e-04(took 0.63352 s)\n",
            "INFO:vegasflow.monte_carlo:Result for iteration 1: 2.081e-03 +/- 2.668e-04(took 0.63352 s)\n"
          ]
        },
        {
          "output_type": "stream",
          "name": "stdout",
          "text": [
            "Events sent to the computing device: 100.0 %\r"
          ]
        },
        {
          "output_type": "stream",
          "name": "stderr",
          "text": [
            "[INFO] (vegasflow.monte_carlo) Result for iteration 2: 2.432e-02 +/- 1.642e-02(took 0.57192 s)\n",
            "INFO:vegasflow.monte_carlo:Result for iteration 2: 2.432e-02 +/- 1.642e-02(took 0.57192 s)\n"
          ]
        },
        {
          "output_type": "stream",
          "name": "stdout",
          "text": [
            "Events sent to the computing device: 100.0 %\r"
          ]
        },
        {
          "output_type": "stream",
          "name": "stderr",
          "text": [
            "[INFO] (vegasflow.monte_carlo) Result for iteration 3: 2.302e-02 +/- 1.609e-03(took 0.70029 s)\n",
            "INFO:vegasflow.monte_carlo:Result for iteration 3: 2.302e-02 +/- 1.609e-03(took 0.70029 s)\n"
          ]
        },
        {
          "output_type": "stream",
          "name": "stdout",
          "text": [
            "Events sent to the computing device: 100.0 %\r"
          ]
        },
        {
          "output_type": "stream",
          "name": "stderr",
          "text": [
            "[INFO] (vegasflow.monte_carlo) Result for iteration 4: 8.047e-02 +/- 1.243e-02(took 0.57108 s)\n",
            "INFO:vegasflow.monte_carlo:Result for iteration 4: 8.047e-02 +/- 1.243e-02(took 0.57108 s)\n"
          ]
        },
        {
          "output_type": "stream",
          "name": "stdout",
          "text": [
            "Events sent to the computing device: 100.0 %\r"
          ]
        },
        {
          "output_type": "stream",
          "name": "stderr",
          "text": [
            "[INFO] (vegasflow.monte_carlo) Result for iteration 5: 0.4589 +/- 0.2062(took 0.57763 s)\n",
            "INFO:vegasflow.monte_carlo:Result for iteration 5: 0.4589 +/- 0.2062(took 0.57763 s)\n"
          ]
        },
        {
          "output_type": "stream",
          "name": "stdout",
          "text": [
            "Events sent to the computing device: 100.0 %\r"
          ]
        },
        {
          "output_type": "stream",
          "name": "stderr",
          "text": [
            "[INFO] (vegasflow.monte_carlo) Result for iteration 6: 1.1995 +/- 0.2313(took 0.61101 s)\n",
            "INFO:vegasflow.monte_carlo:Result for iteration 6: 1.1995 +/- 0.2313(took 0.61101 s)\n"
          ]
        },
        {
          "output_type": "stream",
          "name": "stdout",
          "text": [
            "Events sent to the computing device: 100.0 %\r"
          ]
        },
        {
          "output_type": "stream",
          "name": "stderr",
          "text": [
            "[INFO] (vegasflow.monte_carlo) Result for iteration 7: 2.5909 +/- 0.2134(took 0.62857 s)\n",
            "INFO:vegasflow.monte_carlo:Result for iteration 7: 2.5909 +/- 0.2134(took 0.62857 s)\n"
          ]
        },
        {
          "output_type": "stream",
          "name": "stdout",
          "text": [
            "Events sent to the computing device: 100.0 %\r"
          ]
        },
        {
          "output_type": "stream",
          "name": "stderr",
          "text": [
            "[INFO] (vegasflow.monte_carlo) Result for iteration 8: 3.4803 +/- 0.1142(took 0.59347 s)\n",
            "INFO:vegasflow.monte_carlo:Result for iteration 8: 3.4803 +/- 0.1142(took 0.59347 s)\n"
          ]
        },
        {
          "output_type": "stream",
          "name": "stdout",
          "text": [
            "Events sent to the computing device: 100.0 %\r"
          ]
        },
        {
          "output_type": "stream",
          "name": "stderr",
          "text": [
            "[INFO] (vegasflow.monte_carlo) Result for iteration 9: 3.4534 +/- 0.0391(took 0.56634 s)\n",
            "INFO:vegasflow.monte_carlo:Result for iteration 9: 3.4534 +/- 0.0391(took 0.56634 s)\n"
          ]
        },
        {
          "output_type": "stream",
          "name": "stdout",
          "text": [
            "Events sent to the computing device: 100.0 %\r"
          ]
        },
        {
          "output_type": "stream",
          "name": "stderr",
          "text": [
            "[INFO] (vegasflow.monte_carlo) Result for iteration 10: 3.4937 +/- 0.0289(took 0.61700 s)\n",
            "INFO:vegasflow.monte_carlo:Result for iteration 10: 3.4937 +/- 0.0289(took 0.61700 s)\n"
          ]
        },
        {
          "output_type": "stream",
          "name": "stdout",
          "text": [
            "Events sent to the computing device: 100.0 %\r"
          ]
        },
        {
          "output_type": "stream",
          "name": "stderr",
          "text": [
            "[INFO] (vegasflow.monte_carlo) Result for iteration 11: 3.4928 +/- 0.0228(took 0.60222 s)\n",
            "INFO:vegasflow.monte_carlo:Result for iteration 11: 3.4928 +/- 0.0228(took 0.60222 s)\n"
          ]
        },
        {
          "output_type": "stream",
          "name": "stdout",
          "text": [
            "Events sent to the computing device: 100.0 %\r"
          ]
        },
        {
          "output_type": "stream",
          "name": "stderr",
          "text": [
            "[INFO] (vegasflow.monte_carlo) Result for iteration 12: 3.4489 +/- 0.0176(took 0.60083 s)\n",
            "INFO:vegasflow.monte_carlo:Result for iteration 12: 3.4489 +/- 0.0176(took 0.60083 s)\n"
          ]
        },
        {
          "output_type": "stream",
          "name": "stdout",
          "text": [
            "Events sent to the computing device: 100.0 %\r"
          ]
        },
        {
          "output_type": "stream",
          "name": "stderr",
          "text": [
            "[INFO] (vegasflow.monte_carlo) Result for iteration 13: 3.4606 +/- 0.0134(took 0.65073 s)\n",
            "INFO:vegasflow.monte_carlo:Result for iteration 13: 3.4606 +/- 0.0134(took 0.65073 s)\n"
          ]
        },
        {
          "output_type": "stream",
          "name": "stdout",
          "text": [
            "Events sent to the computing device: 100.0 %\r"
          ]
        },
        {
          "output_type": "stream",
          "name": "stderr",
          "text": [
            "[INFO] (vegasflow.monte_carlo) Result for iteration 14: 3.3959 +/- 0.0120(took 0.83235 s)\n",
            "INFO:vegasflow.monte_carlo:Result for iteration 14: 3.3959 +/- 0.0120(took 0.83235 s)\n"
          ]
        },
        {
          "output_type": "stream",
          "name": "stdout",
          "text": [
            "Events sent to the computing device: 100.0 %\r"
          ]
        },
        {
          "output_type": "stream",
          "name": "stderr",
          "text": [
            "[INFO] (vegasflow.monte_carlo) Result for iteration 15: 3.3923 +/- 0.0149(took 0.86232 s)\n",
            "INFO:vegasflow.monte_carlo:Result for iteration 15: 3.3923 +/- 0.0149(took 0.86232 s)\n"
          ]
        },
        {
          "output_type": "stream",
          "name": "stdout",
          "text": [
            "Events sent to the computing device: 100.0 %\r"
          ]
        },
        {
          "output_type": "stream",
          "name": "stderr",
          "text": [
            "[INFO] (vegasflow.monte_carlo) Result for iteration 16: 3.3540 +/- 0.0148(took 0.90943 s)\n",
            "INFO:vegasflow.monte_carlo:Result for iteration 16: 3.3540 +/- 0.0148(took 0.90943 s)\n"
          ]
        },
        {
          "output_type": "stream",
          "name": "stdout",
          "text": [
            "Events sent to the computing device: 100.0 %\r"
          ]
        },
        {
          "output_type": "stream",
          "name": "stderr",
          "text": [
            "[INFO] (vegasflow.monte_carlo) Result for iteration 17: 3.3976 +/- 0.0192(took 0.79643 s)\n",
            "INFO:vegasflow.monte_carlo:Result for iteration 17: 3.3976 +/- 0.0192(took 0.79643 s)\n"
          ]
        },
        {
          "output_type": "stream",
          "name": "stdout",
          "text": [
            "Events sent to the computing device: 100.0 %\r"
          ]
        },
        {
          "output_type": "stream",
          "name": "stderr",
          "text": [
            "[INFO] (vegasflow.monte_carlo) Result for iteration 18: 3.4209 +/- 0.0754(took 0.66604 s)\n",
            "INFO:vegasflow.monte_carlo:Result for iteration 18: 3.4209 +/- 0.0754(took 0.66604 s)\n"
          ]
        },
        {
          "output_type": "stream",
          "name": "stdout",
          "text": [
            "Events sent to the computing device: 100.0 %\r"
          ]
        },
        {
          "output_type": "stream",
          "name": "stderr",
          "text": [
            "[INFO] (vegasflow.monte_carlo) Result for iteration 19: 3.3674 +/- 0.0444(took 0.64367 s)\n",
            "INFO:vegasflow.monte_carlo:Result for iteration 19: 3.3674 +/- 0.0444(took 0.64367 s)\n"
          ]
        },
        {
          "output_type": "stream",
          "name": "stdout",
          "text": [
            "Events sent to the computing device: 100.0 %\r"
          ]
        },
        {
          "output_type": "stream",
          "name": "stderr",
          "text": [
            "[INFO] (vegasflow.monte_carlo) Result for iteration 20: 3.3044 +/- 0.0167(took 0.55308 s)\n",
            "INFO:vegasflow.monte_carlo:Result for iteration 20: 3.3044 +/- 0.0167(took 0.55308 s)\n"
          ]
        },
        {
          "output_type": "stream",
          "name": "stdout",
          "text": [
            "Events sent to the computing device: 100.0 %\r"
          ]
        },
        {
          "output_type": "stream",
          "name": "stderr",
          "text": [
            "[INFO] (vegasflow.monte_carlo) Result for iteration 21: 3.2996 +/- 0.0164(took 0.56090 s)\n",
            "INFO:vegasflow.monte_carlo:Result for iteration 21: 3.2996 +/- 0.0164(took 0.56090 s)\n"
          ]
        },
        {
          "output_type": "stream",
          "name": "stdout",
          "text": [
            "Events sent to the computing device: 100.0 %\r"
          ]
        },
        {
          "output_type": "stream",
          "name": "stderr",
          "text": [
            "[INFO] (vegasflow.monte_carlo) Result for iteration 22: 3.2670 +/- 0.0126(took 0.59545 s)\n",
            "INFO:vegasflow.monte_carlo:Result for iteration 22: 3.2670 +/- 0.0126(took 0.59545 s)\n"
          ]
        },
        {
          "output_type": "stream",
          "name": "stdout",
          "text": [
            "Events sent to the computing device: 100.0 %\r"
          ]
        },
        {
          "output_type": "stream",
          "name": "stderr",
          "text": [
            "[INFO] (vegasflow.monte_carlo) Result for iteration 23: 3.2995 +/- 0.0237(took 0.60164 s)\n",
            "INFO:vegasflow.monte_carlo:Result for iteration 23: 3.2995 +/- 0.0237(took 0.60164 s)\n"
          ]
        },
        {
          "output_type": "stream",
          "name": "stdout",
          "text": [
            "Events sent to the computing device: 100.0 %\r"
          ]
        },
        {
          "output_type": "stream",
          "name": "stderr",
          "text": [
            "[INFO] (vegasflow.monte_carlo) Result for iteration 24: 3.2901 +/- 0.0214(took 0.59479 s)\n",
            "INFO:vegasflow.monte_carlo:Result for iteration 24: 3.2901 +/- 0.0214(took 0.59479 s)\n"
          ]
        },
        {
          "output_type": "stream",
          "name": "stdout",
          "text": [
            "Events sent to the computing device: 100.0 %\r"
          ]
        },
        {
          "output_type": "stream",
          "name": "stderr",
          "text": [
            "[INFO] (vegasflow.monte_carlo) Result for iteration 25: 3.3274 +/- 0.0517(took 0.59912 s)\n",
            "INFO:vegasflow.monte_carlo:Result for iteration 25: 3.3274 +/- 0.0517(took 0.59912 s)\n"
          ]
        },
        {
          "output_type": "stream",
          "name": "stdout",
          "text": [
            "Events sent to the computing device: 100.0 %\r"
          ]
        },
        {
          "output_type": "stream",
          "name": "stderr",
          "text": [
            "[INFO] (vegasflow.monte_carlo) Result for iteration 26: 3.6411 +/- 0.2955(took 0.53357 s)\n",
            "INFO:vegasflow.monte_carlo:Result for iteration 26: 3.6411 +/- 0.2955(took 0.53357 s)\n"
          ]
        },
        {
          "output_type": "stream",
          "name": "stdout",
          "text": [
            "Events sent to the computing device: 100.0 %\r"
          ]
        },
        {
          "output_type": "stream",
          "name": "stderr",
          "text": [
            "[INFO] (vegasflow.monte_carlo) Result for iteration 27: 3.6122 +/- 0.4193(took 0.52836 s)\n",
            "INFO:vegasflow.monte_carlo:Result for iteration 27: 3.6122 +/- 0.4193(took 0.52836 s)\n"
          ]
        },
        {
          "output_type": "stream",
          "name": "stdout",
          "text": [
            "Events sent to the computing device: 100.0 %\r"
          ]
        },
        {
          "output_type": "stream",
          "name": "stderr",
          "text": [
            "[INFO] (vegasflow.monte_carlo) Result for iteration 28: 3.4270 +/- 0.1045(took 0.57957 s)\n",
            "INFO:vegasflow.monte_carlo:Result for iteration 28: 3.4270 +/- 0.1045(took 0.57957 s)\n"
          ]
        },
        {
          "output_type": "stream",
          "name": "stdout",
          "text": [
            "Events sent to the computing device: 100.0 %\r"
          ]
        },
        {
          "output_type": "stream",
          "name": "stderr",
          "text": [
            "[INFO] (vegasflow.monte_carlo) Result for iteration 29: 3.2902 +/- 0.0232(took 0.60397 s)\n",
            "INFO:vegasflow.monte_carlo:Result for iteration 29: 3.2902 +/- 0.0232(took 0.60397 s)\n",
            "[INFO] (vegasflow.monte_carlo)  > Final results: 0.000906241 +/- 4.64036e-05\n",
            "INFO:vegasflow.monte_carlo: > Final results: 0.000906241 +/- 4.64036e-05\n"
          ]
        }
      ],
      "source": [
        "_ = a_equal_2_case.train_until(n_iter=30) # train the integrator"
      ]
    },
    {
      "cell_type": "code",
      "execution_count": 231,
      "metadata": {
        "colab": {
          "base_uri": "https://localhost:8080/"
        },
        "id": "T2DX8t1F-AWR",
        "outputId": "bc498b8b-b117-47a0-b00a-ec7b79b69b50"
      },
      "outputs": [
        {
          "output_type": "stream",
          "name": "stdout",
          "text": [
            "Events sent to the computing device: 100.0 %\r"
          ]
        },
        {
          "output_type": "stream",
          "name": "stderr",
          "text": [
            "[INFO] (vegasflow.monte_carlo) Result for iteration 0: 1.869e-03 +/- 3.065e-06(took 0.79655 s)\n",
            "INFO:vegasflow.monte_carlo:Result for iteration 0: 1.869e-03 +/- 3.065e-06(took 0.79655 s)\n",
            "[INFO] (vegasflow.monte_carlo)  > Final results: 0.00186887 +/- 3.06522e-06\n",
            "INFO:vegasflow.monte_carlo: > Final results: 0.00186887 +/- 3.06522e-06\n"
          ]
        },
        {
          "output_type": "stream",
          "name": "stdout",
          "text": [
            "Events sent to the computing device: 100.0 %\r"
          ]
        },
        {
          "output_type": "stream",
          "name": "stderr",
          "text": [
            "[INFO] (vegasflow.monte_carlo) Result for iteration 0: 3.2942 +/- 0.0622(took 0.58649 s)\n",
            "INFO:vegasflow.monte_carlo:Result for iteration 0: 3.2942 +/- 0.0622(took 0.58649 s)\n",
            "[INFO] (vegasflow.monte_carlo)  > Final results: 3.29418 +/- 0.0622053\n",
            "INFO:vegasflow.monte_carlo: > Final results: 3.29418 +/- 0.0622053\n"
          ]
        }
      ],
      "source": [
        "result_modified=a_equal_2_case.run_integration(n_iter=1) # actually get the result"
      ]
    },
    {
      "cell_type": "code",
      "execution_count": 232,
      "metadata": {
        "colab": {
          "base_uri": "https://localhost:8080/",
          "height": 102
        },
        "id": "eO5PPxtR-AWS",
        "outputId": "c0355c7e-0ba1-4618-c901-dcc2e3bd2973"
      },
      "outputs": [
        {
          "output_type": "display_data",
          "data": {
            "text/plain": [
              "<IPython.core.display.Markdown object>"
            ],
            "text/markdown": "## Lower bound for mass $m/2=1.0$ of $M_{m,\\geq 2}$ with dimension $n=8$ calculated as $0.92811$ with Monte Carlo error $0.01752$."
          },
          "metadata": {}
        }
      ],
      "source": [
        "modified_schwarzschild_half_space_mass_lower_bound = result_modified[0]\n",
        "error_estimate_modified = result_modified[1]\n",
        "display(Markdown(f\"## Lower bound for mass $m/2={m_value/2}$ of $M_{{m,\\geq {a_value}}}$ with dimension $n={dim_value}$ calculated as ${modified_schwarzschild_half_space_mass_lower_bound:.5f}$ with Monte Carlo error ${error_estimate_modified:.5f}$.\"))"
      ]
    },
    {
      "cell_type": "markdown",
      "metadata": {
        "id": "USCfxN1V-AWS"
      },
      "source": [
        "We can repeat this calculation for different values of $a$ and plot the results:"
      ]
    },
    {
      "cell_type": "code",
      "source": [
        "float((normalization*2**(dim-1)).subs([[dim,9]]))"
      ],
      "metadata": {
        "colab": {
          "base_uri": "https://localhost:8080/"
        },
        "id": "s0ueBmY4jm9x",
        "outputId": "2d4388f9-3759-489d-f401-44b41d984e1b"
      },
      "execution_count": 221,
      "outputs": [
        {
          "output_type": "execute_result",
          "data": {
            "text/plain": [
              "0.5389640683709276"
            ]
          },
          "metadata": {},
          "execution_count": 221
        }
      ]
    },
    {
      "cell_type": "markdown",
      "metadata": {
        "id": "1Dd3HL0U-AWS"
      },
      "source": [
        "Computing the values for the plot might take a while"
      ]
    },
    {
      "cell_type": "code",
      "execution_count": null,
      "metadata": {
        "colab": {
          "base_uri": "https://localhost:8080/"
        },
        "id": "e2nB4j03-AWS",
        "outputId": "5c11ec38-87dd-49f8-cf50-b1b8c1a89693"
      },
      "outputs": [
        {
          "output_type": "stream",
          "name": "stderr",
          "text": [
            "[INFO] (vegasflow.vflowplus) Events per device limit set to 1000000\n",
            "INFO:vegasflow.vflowplus:Events per device limit set to 1000000\n",
            "[INFO] (vegasflow.monte_carlo) Checking whether the integrand outputs the correct shape (note, this will run a very small number of events and potentially trigger a retrace)\n",
            "INFO:vegasflow.monte_carlo:Checking whether the integrand outputs the correct shape (note, this will run a very small number of events and potentially trigger a retrace)\n",
            "[INFO] (vegasflow.vflowplus) Events per device limit set to 1000000\n",
            "INFO:vegasflow.vflowplus:Events per device limit set to 1000000\n",
            "[INFO] (vegasflow.monte_carlo) Checking whether the integrand outputs the correct shape (note, this will run a very small number of events and potentially trigger a retrace)\n",
            "INFO:vegasflow.monte_carlo:Checking whether the integrand outputs the correct shape (note, this will run a very small number of events and potentially trigger a retrace)\n",
            "[INFO] (vegasflow.vflowplus) Events per device limit set to 1000000\n",
            "INFO:vegasflow.vflowplus:Events per device limit set to 1000000\n",
            "[INFO] (vegasflow.monte_carlo) Checking whether the integrand outputs the correct shape (note, this will run a very small number of events and potentially trigger a retrace)\n",
            "INFO:vegasflow.monte_carlo:Checking whether the integrand outputs the correct shape (note, this will run a very small number of events and potentially trigger a retrace)\n",
            "[INFO] (vegasflow.vflowplus) Events per device limit set to 1000000\n",
            "INFO:vegasflow.vflowplus:Events per device limit set to 1000000\n",
            "[INFO] (vegasflow.monte_carlo) Checking whether the integrand outputs the correct shape (note, this will run a very small number of events and potentially trigger a retrace)\n",
            "INFO:vegasflow.monte_carlo:Checking whether the integrand outputs the correct shape (note, this will run a very small number of events and potentially trigger a retrace)\n",
            "[INFO] (vegasflow.vflowplus) Events per device limit set to 1000000\n",
            "INFO:vegasflow.vflowplus:Events per device limit set to 1000000\n",
            "[INFO] (vegasflow.monte_carlo) Checking whether the integrand outputs the correct shape (note, this will run a very small number of events and potentially trigger a retrace)\n",
            "INFO:vegasflow.monte_carlo:Checking whether the integrand outputs the correct shape (note, this will run a very small number of events and potentially trigger a retrace)\n",
            "[INFO] (vegasflow.vflowplus) Events per device limit set to 1000000\n",
            "INFO:vegasflow.vflowplus:Events per device limit set to 1000000\n",
            "[INFO] (vegasflow.monte_carlo) Checking whether the integrand outputs the correct shape (note, this will run a very small number of events and potentially trigger a retrace)\n",
            "INFO:vegasflow.monte_carlo:Checking whether the integrand outputs the correct shape (note, this will run a very small number of events and potentially trigger a retrace)\n",
            "[INFO] (vegasflow.vflowplus) Events per device limit set to 1000000\n",
            "INFO:vegasflow.vflowplus:Events per device limit set to 1000000\n",
            "[INFO] (vegasflow.monte_carlo) Checking whether the integrand outputs the correct shape (note, this will run a very small number of events and potentially trigger a retrace)\n",
            "INFO:vegasflow.monte_carlo:Checking whether the integrand outputs the correct shape (note, this will run a very small number of events and potentially trigger a retrace)\n",
            "[INFO] (vegasflow.vflowplus) Events per device limit set to 1000000\n",
            "INFO:vegasflow.vflowplus:Events per device limit set to 1000000\n",
            "[INFO] (vegasflow.monte_carlo) Checking whether the integrand outputs the correct shape (note, this will run a very small number of events and potentially trigger a retrace)\n",
            "INFO:vegasflow.monte_carlo:Checking whether the integrand outputs the correct shape (note, this will run a very small number of events and potentially trigger a retrace)\n",
            "[INFO] (vegasflow.vflowplus) Events per device limit set to 1000000\n",
            "INFO:vegasflow.vflowplus:Events per device limit set to 1000000\n",
            "[INFO] (vegasflow.monte_carlo) Checking whether the integrand outputs the correct shape (note, this will run a very small number of events and potentially trigger a retrace)\n",
            "INFO:vegasflow.monte_carlo:Checking whether the integrand outputs the correct shape (note, this will run a very small number of events and potentially trigger a retrace)\n",
            "[INFO] (vegasflow.vflowplus) Events per device limit set to 1000000\n",
            "INFO:vegasflow.vflowplus:Events per device limit set to 1000000\n",
            "[INFO] (vegasflow.monte_carlo) Checking whether the integrand outputs the correct shape (note, this will run a very small number of events and potentially trigger a retrace)\n",
            "INFO:vegasflow.monte_carlo:Checking whether the integrand outputs the correct shape (note, this will run a very small number of events and potentially trigger a retrace)\n"
          ]
        }
      ],
      "source": [
        "a_values = np.array([1,2,5,10,100])\n",
        "r_critical_value = 1\n",
        "dim_value=8\n",
        "lower_bound_calculators = [(getLowerBoundCalculator(a_value=a_value,dim_value=dim_value,r_critical_value=r_critical_value,box_size=1e3,n_calls=1e6)) for a_value in a_values]"
      ]
    },
    {
      "cell_type": "code",
      "execution_count": null,
      "metadata": {
        "colab": {
          "base_uri": "https://localhost:8080/"
        },
        "id": "Z5Zrv2wv-AWS",
        "outputId": "7694acef-f83c-40dc-cd35-d13de8581094"
      },
      "outputs": [
        {
          "output_type": "stream",
          "name": "stdout",
          "text": [
            "Events sent to the computing device: 100.0 %\r"
          ]
        },
        {
          "output_type": "stream",
          "name": "stderr",
          "text": [
            "[INFO] (vegasflow.monte_carlo) Result for iteration 0: 2.180e-14 +/- 1.527e-14(took 2.61449 s)\n",
            "INFO:vegasflow.monte_carlo:Result for iteration 0: 2.180e-14 +/- 1.527e-14(took 2.61449 s)\n"
          ]
        },
        {
          "output_type": "stream",
          "name": "stdout",
          "text": [
            "Events sent to the computing device: 100.0 %\r"
          ]
        },
        {
          "output_type": "stream",
          "name": "stderr",
          "text": [
            "[INFO] (vegasflow.monte_carlo) Result for iteration 1: 1.361e-13 +/- 5.231e-14(took 0.97854 s)\n",
            "INFO:vegasflow.monte_carlo:Result for iteration 1: 1.361e-13 +/- 5.231e-14(took 0.97854 s)\n"
          ]
        },
        {
          "output_type": "stream",
          "name": "stdout",
          "text": [
            "Events sent to the computing device: 100.0 %\r"
          ]
        },
        {
          "output_type": "stream",
          "name": "stderr",
          "text": [
            "[INFO] (vegasflow.monte_carlo) Result for iteration 2: 1.524e-08 +/- 1.520e-08(took 0.88830 s)\n",
            "INFO:vegasflow.monte_carlo:Result for iteration 2: 1.524e-08 +/- 1.520e-08(took 0.88830 s)\n"
          ]
        },
        {
          "output_type": "stream",
          "name": "stdout",
          "text": [
            "Events sent to the computing device: 100.0 %\r"
          ]
        },
        {
          "output_type": "stream",
          "name": "stderr",
          "text": [
            "[INFO] (vegasflow.monte_carlo) Result for iteration 3: 2.070e-08 +/- 7.426e-09(took 1.00206 s)\n",
            "INFO:vegasflow.monte_carlo:Result for iteration 3: 2.070e-08 +/- 7.426e-09(took 1.00206 s)\n"
          ]
        },
        {
          "output_type": "stream",
          "name": "stdout",
          "text": [
            "Events sent to the computing device: 100.0 %\r"
          ]
        },
        {
          "output_type": "stream",
          "name": "stderr",
          "text": [
            "[INFO] (vegasflow.monte_carlo) Result for iteration 4: 1.748e-03 +/- 1.738e-03(took 1.51923 s)\n",
            "INFO:vegasflow.monte_carlo:Result for iteration 4: 1.748e-03 +/- 1.738e-03(took 1.51923 s)\n"
          ]
        },
        {
          "output_type": "stream",
          "name": "stdout",
          "text": [
            "Events sent to the computing device: 100.0 %\r"
          ]
        },
        {
          "output_type": "stream",
          "name": "stderr",
          "text": [
            "[INFO] (vegasflow.monte_carlo) Result for iteration 5: 2.534e-02 +/- 1.720e-02(took 1.23098 s)\n",
            "INFO:vegasflow.monte_carlo:Result for iteration 5: 2.534e-02 +/- 1.720e-02(took 1.23098 s)\n"
          ]
        },
        {
          "output_type": "stream",
          "name": "stdout",
          "text": [
            "Events sent to the computing device: 100.0 %\r"
          ]
        },
        {
          "output_type": "stream",
          "name": "stderr",
          "text": [
            "[INFO] (vegasflow.monte_carlo) Result for iteration 6: 3.121e-02 +/- 1.325e-03(took 0.88873 s)\n",
            "INFO:vegasflow.monte_carlo:Result for iteration 6: 3.121e-02 +/- 1.325e-03(took 0.88873 s)\n",
            "[INFO] (vegasflow.monte_carlo)  > Final results: 3.07807e-14 +/- 1.46615e-14\n",
            "INFO:vegasflow.monte_carlo: > Final results: 3.07807e-14 +/- 1.46615e-14\n"
          ]
        },
        {
          "output_type": "stream",
          "name": "stdout",
          "text": [
            "Events sent to the computing device: 100.0 %\r"
          ]
        },
        {
          "output_type": "stream",
          "name": "stderr",
          "text": [
            "[INFO] (vegasflow.monte_carlo) Result for iteration 0: 3.540e-02 +/- 5.991e-03(took 1.22963 s)\n",
            "INFO:vegasflow.monte_carlo:Result for iteration 0: 3.540e-02 +/- 5.991e-03(took 1.22963 s)\n"
          ]
        },
        {
          "output_type": "stream",
          "name": "stdout",
          "text": [
            "Events sent to the computing device: 100.0 %\r"
          ]
        },
        {
          "output_type": "stream",
          "name": "stderr",
          "text": [
            "[INFO] (vegasflow.monte_carlo) Result for iteration 1: 2.0015 +/- 1.7819(took 0.73938 s)\n",
            "INFO:vegasflow.monte_carlo:Result for iteration 1: 2.0015 +/- 1.7819(took 0.73938 s)\n"
          ]
        },
        {
          "output_type": "stream",
          "name": "stdout",
          "text": [
            "Events sent to the computing device: 100.0 %\r"
          ]
        },
        {
          "output_type": "stream",
          "name": "stderr",
          "text": [
            "[INFO] (vegasflow.monte_carlo) Result for iteration 2: 0.7931 +/- 0.1195(took 0.82495 s)\n",
            "INFO:vegasflow.monte_carlo:Result for iteration 2: 0.7931 +/- 0.1195(took 0.82495 s)\n"
          ]
        },
        {
          "output_type": "stream",
          "name": "stdout",
          "text": [
            "Events sent to the computing device: 100.0 %\r"
          ]
        },
        {
          "output_type": "stream",
          "name": "stderr",
          "text": [
            "[INFO] (vegasflow.monte_carlo) Result for iteration 3: 1.9439 +/- 0.1840(took 0.77361 s)\n",
            "INFO:vegasflow.monte_carlo:Result for iteration 3: 1.9439 +/- 0.1840(took 0.77361 s)\n"
          ]
        },
        {
          "output_type": "stream",
          "name": "stdout",
          "text": [
            "Events sent to the computing device: 100.0 %\r"
          ]
        },
        {
          "output_type": "stream",
          "name": "stderr",
          "text": [
            "[INFO] (vegasflow.monte_carlo) Result for iteration 4: 3.2113 +/- 0.1903(took 0.81765 s)\n",
            "INFO:vegasflow.monte_carlo:Result for iteration 4: 3.2113 +/- 0.1903(took 0.81765 s)\n"
          ]
        },
        {
          "output_type": "stream",
          "name": "stdout",
          "text": [
            "Events sent to the computing device: 100.0 %\r"
          ]
        },
        {
          "output_type": "stream",
          "name": "stderr",
          "text": [
            "[INFO] (vegasflow.monte_carlo) Result for iteration 5: 3.5211 +/- 0.0866(took 0.78858 s)\n",
            "INFO:vegasflow.monte_carlo:Result for iteration 5: 3.5211 +/- 0.0866(took 0.78858 s)\n"
          ]
        },
        {
          "output_type": "stream",
          "name": "stdout",
          "text": [
            "Events sent to the computing device: 100.0 %\r"
          ]
        },
        {
          "output_type": "stream",
          "name": "stderr",
          "text": [
            "[INFO] (vegasflow.monte_carlo) Result for iteration 6: 3.5210 +/- 0.0479(took 0.68947 s)\n",
            "INFO:vegasflow.monte_carlo:Result for iteration 6: 3.5210 +/- 0.0479(took 0.68947 s)\n",
            "[INFO] (vegasflow.monte_carlo)  > Final results: 0.11176 +/- 0.0059177\n",
            "INFO:vegasflow.monte_carlo: > Final results: 0.11176 +/- 0.0059177\n"
          ]
        },
        {
          "output_type": "stream",
          "name": "stdout",
          "text": [
            "Events sent to the computing device: 100.0 %\r"
          ]
        },
        {
          "output_type": "stream",
          "name": "stderr",
          "text": [
            "[INFO] (vegasflow.monte_carlo) Result for iteration 0: 7.619e-13 +/- 7.518e-13(took 2.33550 s)\n",
            "INFO:vegasflow.monte_carlo:Result for iteration 0: 7.619e-13 +/- 7.518e-13(took 2.33550 s)\n"
          ]
        },
        {
          "output_type": "stream",
          "name": "stdout",
          "text": [
            "Events sent to the computing device: 100.0 %\r"
          ]
        },
        {
          "output_type": "stream",
          "name": "stderr",
          "text": [
            "[INFO] (vegasflow.monte_carlo) Result for iteration 1: 2.304e-11 +/- 1.580e-11(took 1.21574 s)\n",
            "INFO:vegasflow.monte_carlo:Result for iteration 1: 2.304e-11 +/- 1.580e-11(took 1.21574 s)\n"
          ]
        },
        {
          "output_type": "stream",
          "name": "stdout",
          "text": [
            "Events sent to the computing device: 100.0 %\r"
          ]
        },
        {
          "output_type": "stream",
          "name": "stderr",
          "text": [
            "[INFO] (vegasflow.monte_carlo) Result for iteration 2: 9.902e-09 +/- 6.811e-09(took 1.33948 s)\n",
            "INFO:vegasflow.monte_carlo:Result for iteration 2: 9.902e-09 +/- 6.811e-09(took 1.33948 s)\n"
          ]
        },
        {
          "output_type": "stream",
          "name": "stdout",
          "text": [
            "Events sent to the computing device: 100.0 %\r"
          ]
        },
        {
          "output_type": "stream",
          "name": "stderr",
          "text": [
            "[INFO] (vegasflow.monte_carlo) Result for iteration 3: 6.949e-05 +/- 6.923e-05(took 1.10233 s)\n",
            "INFO:vegasflow.monte_carlo:Result for iteration 3: 6.949e-05 +/- 6.923e-05(took 1.10233 s)\n"
          ]
        },
        {
          "output_type": "stream",
          "name": "stdout",
          "text": [
            "Events sent to the computing device: 100.0 %\r"
          ]
        },
        {
          "output_type": "stream",
          "name": "stderr",
          "text": [
            "[INFO] (vegasflow.monte_carlo) Result for iteration 4: 2.423e-05 +/- 3.150e-06(took 0.90405 s)\n",
            "INFO:vegasflow.monte_carlo:Result for iteration 4: 2.423e-05 +/- 3.150e-06(took 0.90405 s)\n"
          ]
        },
        {
          "output_type": "stream",
          "name": "stdout",
          "text": [
            "Events sent to the computing device: 100.0 %\r"
          ]
        },
        {
          "output_type": "stream",
          "name": "stderr",
          "text": [
            "[INFO] (vegasflow.monte_carlo) Result for iteration 5: 5.765e-04 +/- 2.051e-04(took 0.96618 s)\n",
            "INFO:vegasflow.monte_carlo:Result for iteration 5: 5.765e-04 +/- 2.051e-04(took 0.96618 s)\n"
          ]
        },
        {
          "output_type": "stream",
          "name": "stdout",
          "text": [
            "Events sent to the computing device: 100.0 %\r"
          ]
        },
        {
          "output_type": "stream",
          "name": "stderr",
          "text": [
            "[INFO] (vegasflow.monte_carlo) Result for iteration 6: 5.710e-04 +/- 2.116e-05(took 1.45000 s)\n",
            "INFO:vegasflow.monte_carlo:Result for iteration 6: 5.710e-04 +/- 2.116e-05(took 1.45000 s)\n",
            "[INFO] (vegasflow.monte_carlo)  > Final results: 8.12299e-13 +/- 7.50937e-13\n",
            "INFO:vegasflow.monte_carlo: > Final results: 8.12299e-13 +/- 7.50937e-13\n"
          ]
        },
        {
          "output_type": "stream",
          "name": "stdout",
          "text": [
            "Events sent to the computing device: 100.0 %\r"
          ]
        },
        {
          "output_type": "stream",
          "name": "stderr",
          "text": [
            "[INFO] (vegasflow.monte_carlo) Result for iteration 0: 4.022e-02 +/- 3.104e-03(took 1.41580 s)\n",
            "INFO:vegasflow.monte_carlo:Result for iteration 0: 4.022e-02 +/- 3.104e-03(took 1.41580 s)\n"
          ]
        },
        {
          "output_type": "stream",
          "name": "stdout",
          "text": [
            "Events sent to the computing device: 100.0 %\r"
          ]
        },
        {
          "output_type": "stream",
          "name": "stderr",
          "text": [
            "[INFO] (vegasflow.monte_carlo) Result for iteration 1: 0.2227 +/- 0.0289(took 0.77596 s)\n",
            "INFO:vegasflow.monte_carlo:Result for iteration 1: 0.2227 +/- 0.0289(took 0.77596 s)\n"
          ]
        },
        {
          "output_type": "stream",
          "name": "stdout",
          "text": [
            "Events sent to the computing device: 100.0 %\r"
          ]
        },
        {
          "output_type": "stream",
          "name": "stderr",
          "text": [
            "[INFO] (vegasflow.monte_carlo) Result for iteration 2: 1.6313 +/- 0.5256(took 0.74903 s)\n",
            "INFO:vegasflow.monte_carlo:Result for iteration 2: 1.6313 +/- 0.5256(took 0.74903 s)\n"
          ]
        },
        {
          "output_type": "stream",
          "name": "stdout",
          "text": [
            "Events sent to the computing device: 100.0 %\r"
          ]
        },
        {
          "output_type": "stream",
          "name": "stderr",
          "text": [
            "[INFO] (vegasflow.monte_carlo) Result for iteration 3: 2.4848 +/- 0.1856(took 0.74374 s)\n",
            "INFO:vegasflow.monte_carlo:Result for iteration 3: 2.4848 +/- 0.1856(took 0.74374 s)\n"
          ]
        },
        {
          "output_type": "stream",
          "name": "stdout",
          "text": [
            "Events sent to the computing device: 100.0 %\r"
          ]
        },
        {
          "output_type": "stream",
          "name": "stderr",
          "text": [
            "[INFO] (vegasflow.monte_carlo) Result for iteration 4: 3.5328 +/- 0.0722(took 0.87619 s)\n",
            "INFO:vegasflow.monte_carlo:Result for iteration 4: 3.5328 +/- 0.0722(took 0.87619 s)\n"
          ]
        },
        {
          "output_type": "stream",
          "name": "stdout",
          "text": [
            "Events sent to the computing device: 100.0 %\r"
          ]
        },
        {
          "output_type": "stream",
          "name": "stderr",
          "text": [
            "[INFO] (vegasflow.monte_carlo) Result for iteration 5: 3.5519 +/- 0.0436(took 0.80552 s)\n",
            "INFO:vegasflow.monte_carlo:Result for iteration 5: 3.5519 +/- 0.0436(took 0.80552 s)\n"
          ]
        },
        {
          "output_type": "stream",
          "name": "stdout",
          "text": [
            "Events sent to the computing device: 100.0 %\r"
          ]
        },
        {
          "output_type": "stream",
          "name": "stderr",
          "text": [
            "[INFO] (vegasflow.monte_carlo) Result for iteration 6: 3.5175 +/- 0.0281(took 0.85011 s)\n",
            "INFO:vegasflow.monte_carlo:Result for iteration 6: 3.5175 +/- 0.0281(took 0.85011 s)\n",
            "[INFO] (vegasflow.monte_carlo)  > Final results: 0.107686 +/- 0.00305746\n",
            "INFO:vegasflow.monte_carlo: > Final results: 0.107686 +/- 0.00305746\n"
          ]
        },
        {
          "output_type": "stream",
          "name": "stdout",
          "text": [
            "Events sent to the computing device: 100.0 %\r"
          ]
        },
        {
          "output_type": "stream",
          "name": "stderr",
          "text": [
            "[INFO] (vegasflow.monte_carlo) Result for iteration 0: 7.364e-15 +/- 1.804e-15(took 3.50959 s)\n",
            "INFO:vegasflow.monte_carlo:Result for iteration 0: 7.364e-15 +/- 1.804e-15(took 3.50959 s)\n"
          ]
        },
        {
          "output_type": "stream",
          "name": "stdout",
          "text": [
            "Events sent to the computing device: 100.0 %\r"
          ]
        },
        {
          "output_type": "stream",
          "name": "stderr",
          "text": [
            "[INFO] (vegasflow.monte_carlo) Result for iteration 1: 1.637e-14 +/- 7.914e-15(took 0.85529 s)\n",
            "INFO:vegasflow.monte_carlo:Result for iteration 1: 1.637e-14 +/- 7.914e-15(took 0.85529 s)\n"
          ]
        },
        {
          "output_type": "stream",
          "name": "stdout",
          "text": [
            "Events sent to the computing device: 100.0 %\r"
          ]
        },
        {
          "output_type": "stream",
          "name": "stderr",
          "text": [
            "[INFO] (vegasflow.monte_carlo) Result for iteration 2: 2.499e-13 +/- 1.615e-13(took 0.90995 s)\n",
            "INFO:vegasflow.monte_carlo:Result for iteration 2: 2.499e-13 +/- 1.615e-13(took 0.90995 s)\n"
          ]
        },
        {
          "output_type": "stream",
          "name": "stdout",
          "text": [
            "Events sent to the computing device: 100.0 %\r"
          ]
        },
        {
          "output_type": "stream",
          "name": "stderr",
          "text": [
            "[INFO] (vegasflow.monte_carlo) Result for iteration 3: 2.288e-12 +/- 4.664e-13(took 0.91407 s)\n",
            "INFO:vegasflow.monte_carlo:Result for iteration 3: 2.288e-12 +/- 4.664e-13(took 0.91407 s)\n"
          ]
        },
        {
          "output_type": "stream",
          "name": "stdout",
          "text": [
            "Events sent to the computing device: 100.0 %\r"
          ]
        },
        {
          "output_type": "stream",
          "name": "stderr",
          "text": [
            "[INFO] (vegasflow.monte_carlo) Result for iteration 4: 5.454e-09 +/- 5.048e-09(took 0.84780 s)\n",
            "INFO:vegasflow.monte_carlo:Result for iteration 4: 5.454e-09 +/- 5.048e-09(took 0.84780 s)\n"
          ]
        },
        {
          "output_type": "stream",
          "name": "stdout",
          "text": [
            "Events sent to the computing device: 100.0 %\r"
          ]
        },
        {
          "output_type": "stream",
          "name": "stderr",
          "text": [
            "[INFO] (vegasflow.monte_carlo) Result for iteration 5: 4.169e-07 +/- 2.449e-07(took 0.88135 s)\n",
            "INFO:vegasflow.monte_carlo:Result for iteration 5: 4.169e-07 +/- 2.449e-07(took 0.88135 s)\n"
          ]
        },
        {
          "output_type": "stream",
          "name": "stdout",
          "text": [
            "Events sent to the computing device: 100.0 %\r"
          ]
        },
        {
          "output_type": "stream",
          "name": "stderr",
          "text": [
            "[INFO] (vegasflow.monte_carlo) Result for iteration 6: 4.475e-06 +/- 2.656e-06(took 0.86962 s)\n",
            "INFO:vegasflow.monte_carlo:Result for iteration 6: 4.475e-06 +/- 2.656e-06(took 0.86962 s)\n",
            "[INFO] (vegasflow.monte_carlo)  > Final results: 7.86977e-15 +/- 1.75856e-15\n",
            "INFO:vegasflow.monte_carlo: > Final results: 7.86977e-15 +/- 1.75856e-15\n"
          ]
        },
        {
          "output_type": "stream",
          "name": "stdout",
          "text": [
            "Events sent to the computing device: 100.0 %\r"
          ]
        },
        {
          "output_type": "stream",
          "name": "stderr",
          "text": [
            "[INFO] (vegasflow.monte_carlo) Result for iteration 0: 0.1547 +/- 0.0222(took 1.36038 s)\n",
            "INFO:vegasflow.monte_carlo:Result for iteration 0: 0.1547 +/- 0.0222(took 1.36038 s)\n"
          ]
        },
        {
          "output_type": "stream",
          "name": "stdout",
          "text": [
            "Events sent to the computing device: 100.0 %\r"
          ]
        },
        {
          "output_type": "stream",
          "name": "stderr",
          "text": [
            "[INFO] (vegasflow.monte_carlo) Result for iteration 1: 0.5210 +/- 0.0943(took 0.83171 s)\n",
            "INFO:vegasflow.monte_carlo:Result for iteration 1: 0.5210 +/- 0.0943(took 0.83171 s)\n"
          ]
        },
        {
          "output_type": "stream",
          "name": "stdout",
          "text": [
            "Events sent to the computing device: 100.0 %\r"
          ]
        },
        {
          "output_type": "stream",
          "name": "stderr",
          "text": [
            "[INFO] (vegasflow.monte_carlo) Result for iteration 2: 1.6700 +/- 0.3127(took 0.77262 s)\n",
            "INFO:vegasflow.monte_carlo:Result for iteration 2: 1.6700 +/- 0.3127(took 0.77262 s)\n"
          ]
        },
        {
          "output_type": "stream",
          "name": "stdout",
          "text": [
            "Events sent to the computing device: 100.0 %\r"
          ]
        },
        {
          "output_type": "stream",
          "name": "stderr",
          "text": [
            "[INFO] (vegasflow.monte_carlo) Result for iteration 3: 3.6973 +/- 0.4293(took 0.79369 s)\n",
            "INFO:vegasflow.monte_carlo:Result for iteration 3: 3.6973 +/- 0.4293(took 0.79369 s)\n"
          ]
        },
        {
          "output_type": "stream",
          "name": "stdout",
          "text": [
            "Events sent to the computing device: 100.0 %\r"
          ]
        },
        {
          "output_type": "stream",
          "name": "stderr",
          "text": [
            "[INFO] (vegasflow.monte_carlo) Result for iteration 4: 3.4889 +/- 0.1125(took 1.06307 s)\n",
            "INFO:vegasflow.monte_carlo:Result for iteration 4: 3.4889 +/- 0.1125(took 1.06307 s)\n"
          ]
        },
        {
          "output_type": "stream",
          "name": "stdout",
          "text": [
            "Events sent to the computing device: 100.0 %\r"
          ]
        },
        {
          "output_type": "stream",
          "name": "stderr",
          "text": [
            "[INFO] (vegasflow.monte_carlo) Result for iteration 5: 3.5233 +/- 0.0438(took 1.13738 s)\n",
            "INFO:vegasflow.monte_carlo:Result for iteration 5: 3.5233 +/- 0.0438(took 1.13738 s)\n"
          ]
        },
        {
          "output_type": "stream",
          "name": "stdout",
          "text": [
            "Events sent to the computing device: 100.0 %\r"
          ]
        },
        {
          "output_type": "stream",
          "name": "stderr",
          "text": [
            "[INFO] (vegasflow.monte_carlo) Result for iteration 6: 3.4539 +/- 0.0252(took 1.00245 s)\n",
            "INFO:vegasflow.monte_carlo:Result for iteration 6: 3.4539 +/- 0.0252(took 1.00245 s)\n",
            "[INFO] (vegasflow.monte_carlo)  > Final results: 1.83609 +/- 0.0151938\n",
            "INFO:vegasflow.monte_carlo: > Final results: 1.83609 +/- 0.0151938\n"
          ]
        },
        {
          "output_type": "stream",
          "name": "stdout",
          "text": [
            "Events sent to the computing device: 100.0 %\r"
          ]
        },
        {
          "output_type": "stream",
          "name": "stderr",
          "text": [
            "[INFO] (vegasflow.monte_carlo) Result for iteration 0: 1.119e-12 +/- 1.078e-12(took 2.56955 s)\n",
            "INFO:vegasflow.monte_carlo:Result for iteration 0: 1.119e-12 +/- 1.078e-12(took 2.56955 s)\n"
          ]
        },
        {
          "output_type": "stream",
          "name": "stdout",
          "text": [
            "Events sent to the computing device: 100.0 %\r"
          ]
        },
        {
          "output_type": "stream",
          "name": "stderr",
          "text": [
            "[INFO] (vegasflow.monte_carlo) Result for iteration 1: 1.099e-12 +/- 2.934e-13(took 0.90012 s)\n",
            "INFO:vegasflow.monte_carlo:Result for iteration 1: 1.099e-12 +/- 2.934e-13(took 0.90012 s)\n"
          ]
        },
        {
          "output_type": "stream",
          "name": "stdout",
          "text": [
            "Events sent to the computing device: 100.0 %\r"
          ]
        },
        {
          "output_type": "stream",
          "name": "stderr",
          "text": [
            "[INFO] (vegasflow.monte_carlo) Result for iteration 2: 9.237e-10 +/- 5.223e-10(took 0.91692 s)\n",
            "INFO:vegasflow.monte_carlo:Result for iteration 2: 9.237e-10 +/- 5.223e-10(took 0.91692 s)\n"
          ]
        },
        {
          "output_type": "stream",
          "name": "stdout",
          "text": [
            "Events sent to the computing device: 100.0 %\r"
          ]
        },
        {
          "output_type": "stream",
          "name": "stderr",
          "text": [
            "[INFO] (vegasflow.monte_carlo) Result for iteration 3: 6.916e-08 +/- 3.850e-08(took 0.94699 s)\n",
            "INFO:vegasflow.monte_carlo:Result for iteration 3: 6.916e-08 +/- 3.850e-08(took 0.94699 s)\n"
          ]
        },
        {
          "output_type": "stream",
          "name": "stdout",
          "text": [
            "Events sent to the computing device: 100.0 %\r"
          ]
        },
        {
          "output_type": "stream",
          "name": "stderr",
          "text": [
            "[INFO] (vegasflow.monte_carlo) Result for iteration 4: 3.718e-08 +/- 1.150e-09(took 0.88538 s)\n",
            "INFO:vegasflow.monte_carlo:Result for iteration 4: 3.718e-08 +/- 1.150e-09(took 0.88538 s)\n"
          ]
        },
        {
          "output_type": "stream",
          "name": "stdout",
          "text": [
            "Events sent to the computing device: 100.0 %\r"
          ]
        },
        {
          "output_type": "stream",
          "name": "stderr",
          "text": [
            "[INFO] (vegasflow.monte_carlo) Result for iteration 5: 3.612e-08 +/- 1.444e-10(took 0.92010 s)\n",
            "INFO:vegasflow.monte_carlo:Result for iteration 5: 3.612e-08 +/- 1.444e-10(took 0.92010 s)\n"
          ]
        },
        {
          "output_type": "stream",
          "name": "stdout",
          "text": [
            "Events sent to the computing device: 100.0 %\r"
          ]
        },
        {
          "output_type": "stream",
          "name": "stderr",
          "text": [
            "[INFO] (vegasflow.monte_carlo) Result for iteration 6: 3.612e-08 +/- 8.830e-11(took 0.93540 s)\n",
            "INFO:vegasflow.monte_carlo:Result for iteration 6: 3.612e-08 +/- 8.830e-11(took 0.93540 s)\n",
            "[INFO] (vegasflow.monte_carlo)  > Final results: 1.61316e-12 +/- 2.83098e-13\n",
            "INFO:vegasflow.monte_carlo: > Final results: 1.61316e-12 +/- 2.83098e-13\n"
          ]
        },
        {
          "output_type": "stream",
          "name": "stdout",
          "text": [
            "Events sent to the computing device: 100.0 %\r"
          ]
        },
        {
          "output_type": "stream",
          "name": "stderr",
          "text": [
            "[INFO] (vegasflow.monte_carlo) Result for iteration 0: 0.2597 +/- 0.0443(took 1.28772 s)\n",
            "INFO:vegasflow.monte_carlo:Result for iteration 0: 0.2597 +/- 0.0443(took 1.28772 s)\n"
          ]
        },
        {
          "output_type": "stream",
          "name": "stdout",
          "text": [
            "Events sent to the computing device: 100.0 %\r"
          ]
        },
        {
          "output_type": "stream",
          "name": "stderr",
          "text": [
            "[INFO] (vegasflow.monte_carlo) Result for iteration 1: 1.1132 +/- 0.1541(took 0.94697 s)\n",
            "INFO:vegasflow.monte_carlo:Result for iteration 1: 1.1132 +/- 0.1541(took 0.94697 s)\n"
          ]
        },
        {
          "output_type": "stream",
          "name": "stdout",
          "text": [
            "Events sent to the computing device: 100.0 %\r"
          ]
        },
        {
          "output_type": "stream",
          "name": "stderr",
          "text": [
            "[INFO] (vegasflow.monte_carlo) Result for iteration 2: 2.8206 +/- 0.2573(took 1.27868 s)\n",
            "INFO:vegasflow.monte_carlo:Result for iteration 2: 2.8206 +/- 0.2573(took 1.27868 s)\n"
          ]
        },
        {
          "output_type": "stream",
          "name": "stdout",
          "text": [
            "Events sent to the computing device: 100.0 %\r"
          ]
        },
        {
          "output_type": "stream",
          "name": "stderr",
          "text": [
            "[INFO] (vegasflow.monte_carlo) Result for iteration 3: 3.4434 +/- 0.0589(took 1.12108 s)\n",
            "INFO:vegasflow.monte_carlo:Result for iteration 3: 3.4434 +/- 0.0589(took 1.12108 s)\n"
          ]
        },
        {
          "output_type": "stream",
          "name": "stdout",
          "text": [
            "Events sent to the computing device: 100.0 %\r"
          ]
        },
        {
          "output_type": "stream",
          "name": "stderr",
          "text": [
            "[INFO] (vegasflow.monte_carlo) Result for iteration 4: 3.4515 +/- 0.0295(took 0.80939 s)\n",
            "INFO:vegasflow.monte_carlo:Result for iteration 4: 3.4515 +/- 0.0295(took 0.80939 s)\n"
          ]
        },
        {
          "output_type": "stream",
          "name": "stdout",
          "text": [
            "Events sent to the computing device: 100.0 %\r"
          ]
        },
        {
          "output_type": "stream",
          "name": "stderr",
          "text": [
            "[INFO] (vegasflow.monte_carlo) Result for iteration 5: 3.5227 +/- 0.0300(took 0.77064 s)\n",
            "INFO:vegasflow.monte_carlo:Result for iteration 5: 3.5227 +/- 0.0300(took 0.77064 s)\n"
          ]
        },
        {
          "output_type": "stream",
          "name": "stdout",
          "text": [
            "Events sent to the computing device: 100.0 %\r"
          ]
        },
        {
          "output_type": "stream",
          "name": "stderr",
          "text": [
            "[INFO] (vegasflow.monte_carlo) Result for iteration 6: 3.5216 +/- 0.0221(took 0.84591 s)\n",
            "INFO:vegasflow.monte_carlo:Result for iteration 6: 3.5216 +/- 0.0221(took 0.84591 s)\n",
            "[INFO] (vegasflow.monte_carlo)  > Final results: 3.15842 +/- 0.0139265\n",
            "INFO:vegasflow.monte_carlo: > Final results: 3.15842 +/- 0.0139265\n"
          ]
        },
        {
          "output_type": "stream",
          "name": "stdout",
          "text": [
            "Events sent to the computing device: 100.0 %\r"
          ]
        },
        {
          "output_type": "stream",
          "name": "stderr",
          "text": [
            "[INFO] (vegasflow.monte_carlo) Result for iteration 0: 6.852e-15 +/- 3.532e-15(took 2.72021 s)\n",
            "INFO:vegasflow.monte_carlo:Result for iteration 0: 6.852e-15 +/- 3.532e-15(took 2.72021 s)\n"
          ]
        },
        {
          "output_type": "stream",
          "name": "stdout",
          "text": [
            "Events sent to the computing device: 100.0 %\r"
          ]
        },
        {
          "output_type": "stream",
          "name": "stderr",
          "text": [
            "[INFO] (vegasflow.monte_carlo) Result for iteration 1: 6.277e-15 +/- 2.113e-15(took 0.96741 s)\n",
            "INFO:vegasflow.monte_carlo:Result for iteration 1: 6.277e-15 +/- 2.113e-15(took 0.96741 s)\n"
          ]
        },
        {
          "output_type": "stream",
          "name": "stdout",
          "text": [
            "Events sent to the computing device: 100.0 %\r"
          ]
        },
        {
          "output_type": "stream",
          "name": "stderr",
          "text": [
            "[INFO] (vegasflow.monte_carlo) Result for iteration 2: 5.870e-15 +/- 2.563e-15(took 0.91722 s)\n",
            "INFO:vegasflow.monte_carlo:Result for iteration 2: 5.870e-15 +/- 2.563e-15(took 0.91722 s)\n"
          ]
        },
        {
          "output_type": "stream",
          "name": "stdout",
          "text": [
            "Events sent to the computing device: 100.0 %\r"
          ]
        },
        {
          "output_type": "stream",
          "name": "stderr",
          "text": [
            "[INFO] (vegasflow.monte_carlo) Result for iteration 3: 5.492e-14 +/- 2.623e-14(took 0.92702 s)\n",
            "INFO:vegasflow.monte_carlo:Result for iteration 3: 5.492e-14 +/- 2.623e-14(took 0.92702 s)\n"
          ]
        },
        {
          "output_type": "stream",
          "name": "stdout",
          "text": [
            "Events sent to the computing device: 100.0 %\r"
          ]
        },
        {
          "output_type": "stream",
          "name": "stderr",
          "text": [
            "[INFO] (vegasflow.monte_carlo) Result for iteration 4: 5.943e-14 +/- 1.515e-14(took 0.92732 s)\n",
            "INFO:vegasflow.monte_carlo:Result for iteration 4: 5.943e-14 +/- 1.515e-14(took 0.92732 s)\n"
          ]
        },
        {
          "output_type": "stream",
          "name": "stdout",
          "text": [
            "Events sent to the computing device: 100.0 %\r"
          ]
        },
        {
          "output_type": "stream",
          "name": "stderr",
          "text": [
            "[INFO] (vegasflow.monte_carlo) Result for iteration 5: 3.819e-14 +/- 1.616e-15(took 0.99739 s)\n",
            "INFO:vegasflow.monte_carlo:Result for iteration 5: 3.819e-14 +/- 1.616e-15(took 0.99739 s)\n"
          ]
        },
        {
          "output_type": "stream",
          "name": "stdout",
          "text": [
            "Events sent to the computing device: 100.0 %\r"
          ]
        },
        {
          "output_type": "stream",
          "name": "stderr",
          "text": [
            "[INFO] (vegasflow.monte_carlo) Result for iteration 6: 4.038e-14 +/- 1.796e-15(took 1.44578 s)\n",
            "INFO:vegasflow.monte_carlo:Result for iteration 6: 4.038e-14 +/- 1.796e-15(took 1.44578 s)\n",
            "[INFO] (vegasflow.monte_carlo)  > Final results: 2.62621e-14 +/- 9.30349e-16\n",
            "INFO:vegasflow.monte_carlo: > Final results: 2.62621e-14 +/- 9.30349e-16\n"
          ]
        },
        {
          "output_type": "stream",
          "name": "stdout",
          "text": [
            "Events sent to the computing device: 100.0 %\r"
          ]
        },
        {
          "output_type": "stream",
          "name": "stderr",
          "text": [
            "[INFO] (vegasflow.monte_carlo) Result for iteration 0: 1.9380 +/- 0.1827(took 1.74836 s)\n",
            "INFO:vegasflow.monte_carlo:Result for iteration 0: 1.9380 +/- 0.1827(took 1.74836 s)\n"
          ]
        },
        {
          "output_type": "stream",
          "name": "stdout",
          "text": [
            "Events sent to the computing device: 100.0 %\r"
          ]
        },
        {
          "output_type": "stream",
          "name": "stderr",
          "text": [
            "[INFO] (vegasflow.monte_carlo) Result for iteration 1: 3.0639 +/- 0.0355(took 0.79745 s)\n",
            "INFO:vegasflow.monte_carlo:Result for iteration 1: 3.0639 +/- 0.0355(took 0.79745 s)\n"
          ]
        },
        {
          "output_type": "stream",
          "name": "stdout",
          "text": [
            "Events sent to the computing device: 100.0 %\r"
          ]
        },
        {
          "output_type": "stream",
          "name": "stderr",
          "text": [
            "[INFO] (vegasflow.monte_carlo) Result for iteration 2: 3.0519 +/- 0.0190(took 0.80907 s)\n",
            "INFO:vegasflow.monte_carlo:Result for iteration 2: 3.0519 +/- 0.0190(took 0.80907 s)\n"
          ]
        },
        {
          "output_type": "stream",
          "name": "stdout",
          "text": [
            "Events sent to the computing device: 100.0 %\r"
          ]
        },
        {
          "output_type": "stream",
          "name": "stderr",
          "text": [
            "[INFO] (vegasflow.monte_carlo) Result for iteration 3: 3.0668 +/- 0.0082(took 0.75603 s)\n",
            "INFO:vegasflow.monte_carlo:Result for iteration 3: 3.0668 +/- 0.0082(took 0.75603 s)\n"
          ]
        },
        {
          "output_type": "stream",
          "name": "stdout",
          "text": [
            "Events sent to the computing device: 100.0 %\r"
          ]
        },
        {
          "output_type": "stream",
          "name": "stderr",
          "text": [
            "[INFO] (vegasflow.monte_carlo) Result for iteration 4: 3.0558 +/- 0.0115(took 0.77173 s)\n",
            "INFO:vegasflow.monte_carlo:Result for iteration 4: 3.0558 +/- 0.0115(took 0.77173 s)\n"
          ]
        },
        {
          "output_type": "stream",
          "name": "stdout",
          "text": [
            "Events sent to the computing device: 100.0 %\r"
          ]
        },
        {
          "output_type": "stream",
          "name": "stderr",
          "text": [
            "[INFO] (vegasflow.monte_carlo) Result for iteration 5: 3.0734 +/- 0.0075(took 0.87656 s)\n",
            "INFO:vegasflow.monte_carlo:Result for iteration 5: 3.0734 +/- 0.0075(took 0.87656 s)\n"
          ]
        },
        {
          "output_type": "stream",
          "name": "stdout",
          "text": [
            "Events sent to the computing device: 100.0 %\r"
          ]
        },
        {
          "output_type": "stream",
          "name": "stderr",
          "text": [
            "[INFO] (vegasflow.monte_carlo) Result for iteration 6: 3.0711 +/- 0.0139(took 0.81197 s)\n",
            "INFO:vegasflow.monte_carlo:Result for iteration 6: 3.0711 +/- 0.0139(took 0.81197 s)\n",
            "[INFO] (vegasflow.monte_carlo)  > Final results: 3.0664 +/- 0.00451209\n",
            "INFO:vegasflow.monte_carlo: > Final results: 3.0664 +/- 0.00451209\n"
          ]
        }
      ],
      "source": [
        "# train integrators\n",
        "for lower_bound_calculator in lower_bound_calculators:\n",
        "  _ = lower_bound_calculator.train_until(n_iter=7)"
      ]
    },
    {
      "cell_type": "code",
      "execution_count": null,
      "metadata": {
        "colab": {
          "base_uri": "https://localhost:8080/"
        },
        "id": "G5aF38iT-AWT",
        "outputId": "8ba28631-d494-4f14-aa16-7c8848ee5418"
      },
      "outputs": [
        {
          "output_type": "stream",
          "name": "stdout",
          "text": [
            "Events sent to the computing device: 100.0 %\r"
          ]
        },
        {
          "output_type": "stream",
          "name": "stderr",
          "text": [
            "[INFO] (vegasflow.monte_carlo) Result for iteration 0: 4.125e-02 +/- 8.073e-03(took 0.93817 s)\n",
            "INFO:vegasflow.monte_carlo:Result for iteration 0: 4.125e-02 +/- 8.073e-03(took 0.93817 s)\n",
            "[INFO] (vegasflow.monte_carlo)  > Final results: 0.0412481 +/- 0.00807315\n",
            "INFO:vegasflow.monte_carlo: > Final results: 0.0412481 +/- 0.00807315\n"
          ]
        },
        {
          "output_type": "stream",
          "name": "stdout",
          "text": [
            "Events sent to the computing device: 100.0 %\r"
          ]
        },
        {
          "output_type": "stream",
          "name": "stderr",
          "text": [
            "[INFO] (vegasflow.monte_carlo) Result for iteration 0: 3.5435 +/- 0.0374(took 0.80577 s)\n",
            "INFO:vegasflow.monte_carlo:Result for iteration 0: 3.5435 +/- 0.0374(took 0.80577 s)\n",
            "[INFO] (vegasflow.monte_carlo)  > Final results: 3.54352 +/- 0.0374101\n",
            "INFO:vegasflow.monte_carlo: > Final results: 3.54352 +/- 0.0374101\n"
          ]
        },
        {
          "output_type": "stream",
          "name": "stdout",
          "text": [
            "Events sent to the computing device: 100.0 %\r"
          ]
        },
        {
          "output_type": "stream",
          "name": "stderr",
          "text": [
            "[INFO] (vegasflow.monte_carlo) Result for iteration 0: 5.791e-04 +/- 3.025e-05(took 0.91003 s)\n",
            "INFO:vegasflow.monte_carlo:Result for iteration 0: 5.791e-04 +/- 3.025e-05(took 0.91003 s)\n",
            "[INFO] (vegasflow.monte_carlo)  > Final results: 0.000579072 +/- 3.02541e-05\n",
            "INFO:vegasflow.monte_carlo: > Final results: 0.000579072 +/- 3.02541e-05\n"
          ]
        },
        {
          "output_type": "stream",
          "name": "stdout",
          "text": [
            "Events sent to the computing device: 100.0 %\r"
          ]
        },
        {
          "output_type": "stream",
          "name": "stderr",
          "text": [
            "[INFO] (vegasflow.monte_carlo) Result for iteration 0: 3.4823 +/- 0.0226(took 0.71555 s)\n",
            "INFO:vegasflow.monte_carlo:Result for iteration 0: 3.4823 +/- 0.0226(took 0.71555 s)\n",
            "[INFO] (vegasflow.monte_carlo)  > Final results: 3.48233 +/- 0.0225985\n",
            "INFO:vegasflow.monte_carlo: > Final results: 3.48233 +/- 0.0225985\n"
          ]
        },
        {
          "output_type": "stream",
          "name": "stdout",
          "text": [
            "Events sent to the computing device: 100.0 %\r"
          ]
        },
        {
          "output_type": "stream",
          "name": "stderr",
          "text": [
            "[INFO] (vegasflow.monte_carlo) Result for iteration 0: 2.236e-06 +/- 7.585e-08(took 0.93394 s)\n",
            "INFO:vegasflow.monte_carlo:Result for iteration 0: 2.236e-06 +/- 7.585e-08(took 0.93394 s)\n",
            "[INFO] (vegasflow.monte_carlo)  > Final results: 2.23599e-06 +/- 7.58493e-08\n",
            "INFO:vegasflow.monte_carlo: > Final results: 2.23599e-06 +/- 7.58493e-08\n"
          ]
        },
        {
          "output_type": "stream",
          "name": "stdout",
          "text": [
            "Events sent to the computing device: 100.0 %\r"
          ]
        },
        {
          "output_type": "stream",
          "name": "stderr",
          "text": [
            "[INFO] (vegasflow.monte_carlo) Result for iteration 0: 3.5086 +/- 0.0223(took 1.05957 s)\n",
            "INFO:vegasflow.monte_carlo:Result for iteration 0: 3.5086 +/- 0.0223(took 1.05957 s)\n",
            "[INFO] (vegasflow.monte_carlo)  > Final results: 3.50858 +/- 0.0222778\n",
            "INFO:vegasflow.monte_carlo: > Final results: 3.50858 +/- 0.0222778\n"
          ]
        },
        {
          "output_type": "stream",
          "name": "stdout",
          "text": [
            "Events sent to the computing device: 100.0 %\r"
          ]
        },
        {
          "output_type": "stream",
          "name": "stderr",
          "text": [
            "[INFO] (vegasflow.monte_carlo) Result for iteration 0: 3.644e-08 +/- 1.122e-10(took 1.48250 s)\n",
            "INFO:vegasflow.monte_carlo:Result for iteration 0: 3.644e-08 +/- 1.122e-10(took 1.48250 s)\n",
            "[INFO] (vegasflow.monte_carlo)  > Final results: 3.6444e-08 +/- 1.12235e-10\n",
            "INFO:vegasflow.monte_carlo: > Final results: 3.6444e-08 +/- 1.12235e-10\n"
          ]
        },
        {
          "output_type": "stream",
          "name": "stdout",
          "text": [
            "Events sent to the computing device: 100.0 %\r"
          ]
        },
        {
          "output_type": "stream",
          "name": "stderr",
          "text": [
            "[INFO] (vegasflow.monte_carlo) Result for iteration 0: 3.5044 +/- 0.0157(took 0.94663 s)\n",
            "INFO:vegasflow.monte_carlo:Result for iteration 0: 3.5044 +/- 0.0157(took 0.94663 s)\n",
            "[INFO] (vegasflow.monte_carlo)  > Final results: 3.50437 +/- 0.0156525\n",
            "INFO:vegasflow.monte_carlo: > Final results: 3.50437 +/- 0.0156525\n"
          ]
        },
        {
          "output_type": "stream",
          "name": "stdout",
          "text": [
            "Events sent to the computing device: 100.0 %\r"
          ]
        },
        {
          "output_type": "stream",
          "name": "stderr",
          "text": [
            "[INFO] (vegasflow.monte_carlo) Result for iteration 0: 3.857e-14 +/- 1.394e-15(took 0.91702 s)\n",
            "INFO:vegasflow.monte_carlo:Result for iteration 0: 3.857e-14 +/- 1.394e-15(took 0.91702 s)\n",
            "[INFO] (vegasflow.monte_carlo)  > Final results: 3.85726e-14 +/- 1.39384e-15\n",
            "INFO:vegasflow.monte_carlo: > Final results: 3.85726e-14 +/- 1.39384e-15\n"
          ]
        },
        {
          "output_type": "stream",
          "name": "stdout",
          "text": [
            "Events sent to the computing device: 100.0 %\r"
          ]
        },
        {
          "output_type": "stream",
          "name": "stderr",
          "text": [
            "[INFO] (vegasflow.monte_carlo) Result for iteration 0: 3.0561 +/- 0.0083(took 0.77964 s)\n",
            "INFO:vegasflow.monte_carlo:Result for iteration 0: 3.0561 +/- 0.0083(took 0.77964 s)\n",
            "[INFO] (vegasflow.monte_carlo)  > Final results: 3.0561 +/- 0.0082997\n",
            "INFO:vegasflow.monte_carlo: > Final results: 3.0561 +/- 0.0082997\n"
          ]
        }
      ],
      "source": [
        "# get results\n",
        "total_lower_bounds,total_errors,lower_bounds_M, errors_M, lower_bounds_boundary, errors_boundary = np.fromiter(\n",
        "  (lower_bound_calculator.run_integration(n_iter=1) for lower_bound_calculator in lower_bound_calculators),\n",
        "  np.dtype((float,6))).transpose()"
      ]
    },
    {
      "cell_type": "code",
      "execution_count": null,
      "metadata": {
        "colab": {
          "base_uri": "https://localhost:8080/",
          "height": 510
        },
        "id": "5fknIx7R-AWT",
        "outputId": "71e5b50e-ead6-4c30-c303-989bf6c10ba5"
      },
      "outputs": [
        {
          "output_type": "display_data",
          "data": {
            "text/plain": [
              "<Figure size 640x480 with 1 Axes>"
            ],
            "image/png": "[encoded data removed]"
          },
          "metadata": {}
        }
      ],
      "source": [
        "m_value=r_critical_value**(dim_value-2)*2\n",
        "plt.errorbar(a_values,total_lower_bounds,yerr=total_errors,label=f\"total lower bound\")\n",
        "plt.errorbar(a_values,lower_bounds_M,yerr=errors_M,label=f\"lower bound from integral on $ M_{{{m_value},\\!\\!\\geq a}}$\")\n",
        "plt.errorbar(a_values,lower_bounds_boundary,yerr=errors_boundary,label=f\"lower bound from integral on boundary $\\partial M_{{{m_value},\\!\\!\\geq a}}$\")\n",
        "plt.xscale('log')\n",
        "plt.gca().set_ylim(bottom=0)\n",
        "plt.xlabel(\"$a$ (log-scale)\")\n",
        "# plt.ylabel(\"lower bound for mass obtained from harmonic function method\")\n",
        "plt.legend()\n",
        "plt.tight_layout()\n",
        "plt.title(f\"Lower bounds for the mass of $M_{{{m_value},\\!\\!\\geq a}}$ for different values of $a$ and dimension $n={dim_value}$.\")\n",
        "plt.show()"
      ]
    },
    {
      "cell_type": "markdown",
      "metadata": {
        "jp-MarkdownHeadingCollapsed": true,
        "id": "SkbPGUos-AWU"
      },
      "source": [
        "## Plotting the harmonic coordinates"
      ]
    },
    {
      "cell_type": "markdown",
      "metadata": {
        "id": "sky5RnUr-AWU"
      },
      "source": [
        "### Plotting Utilities"
      ]
    },
    {
      "cell_type": "markdown",
      "metadata": {
        "id": "6U_7yC8x-AWU"
      },
      "source": [
        "Matplotlib does not come with a method of plotting implicit surfaces. The following approach is from [answers to this Stack Overflow question](https://stackoverflow.com/questions/4680525/plotting-implicit-equations-in-3d)."
      ]
    },
    {
      "cell_type": "markdown",
      "metadata": {
        "id": "tLV-qQBq-AWU"
      },
      "source": [
        "```python\n",
        "# https://stackoverflow.com/a/4687582\n",
        "def plot_implicit_using_contours(ax,fn,level_set_value=0, bbox=((-2.5,2.5),(-2.5,2.5),(-2.5,2.5)),resolution=50,samples=30):\n",
        "    \"\"\" Create a plot of a 2d implicite surface fn(x,y,z)=level_set_value using contours\n",
        "\n",
        "    Args:\n",
        "        ax (matplotlib.axes)\n",
        "        fn (function): Function describing the implicit surface\n",
        "        level_set_value (int, optional): Which level set of fn to consider. Defaults to 0.\n",
        "        bbox (tuple, optional): x,y,and z limits of plotted interval. Defaults to ((-2.5,2.5),(-2.5,2.5),(-2.5,2.5)).\n",
        "        resolution (int, optional): Defaults to 50.\n",
        "        samples (int, optional): Number of slices to take\n",
        "    \"\"\"\n",
        "    xmin, xmax = bbox[0]\n",
        "    ymin, ymax = bbox[1]\n",
        "    zmin,zmax = bbox[2]\n",
        "    \n",
        "    xl = np.linspace(xmin, xmax, resolution)\n",
        "    yl = np.linspace(ymin,ymax,resolution)\n",
        "    zl = np.linspace(zmin, zmax, samples)\n",
        "    A1, A2 = np.meshgrid(xl,xl)\n",
        "\n",
        "    for z in zl: # plot contours in the XY plane\n",
        "        X,Y = A1,A2\n",
        "        Z = fn(X,Y,z)-level_set_value\n",
        "        cset = ax.contour(X, Y, Z+z-level_set_value, [z], zdir='z')\n",
        "        # [z] defines the only level to plot for this contour for this value of z\n",
        "\n",
        "    for y in zl: # plot contours in the XZ plane\n",
        "        X,Z = A1,A2\n",
        "        Y = fn(X,y,Z)-level_set_value\n",
        "        cset = ax.contour(X, Y+y, Z, [y], zdir='y')\n",
        "\n",
        "    for x in zl: # plot contours in the YZ plane\n",
        "        Y,Z = A1,A2\n",
        "        X = fn(x,Y,Z)-level_set_value\n",
        "        cset = ax.contour(X+x, Y, Z, [x], zdir='x')\n",
        "\n",
        "    # must set plot limits because the contour will likely extend\n",
        "    # way beyond the displayed level.  Otherwise matplotlib extends the plot limits\n",
        "    # to encompass all values in the contour.\n",
        "    ax.set_zlim3d(zmin,zmax)\n",
        "    ax.set_xlim3d(xmin,xmax)\n",
        "    ax.set_ylim3d(ymin,ymax)\n",
        "\n",
        "def plot_implicit_using_marching_cubes(ax,fn,level_set_value=0,bbox=((-2.5,2.5),(-2.5,2.5),(-2.5,2.5)),resolution=50):\n",
        "    \"\"\" Create a plot of a 2d implicit surface fn(x,y,z)=level_set_value using marching cubes\n",
        "\n",
        "    Args:\n",
        "        ax (matplotlib.axes)\n",
        "        fn (function): Function describing the implicit surface\n",
        "        level_set_value (int, optional): Which level set of fn to consider. Defaults to 0.\n",
        "        bbox (tuple, optional): x,y,and z limits of plotted interval. Defaults to ((-2.5,2.5),(-2.5,2.5),(-2.5,2.5)).\n",
        "        resolution (int, optional): Defaults to 50.\n",
        "    \"\"\"\n",
        "    xmin, xmax = bbox[0]\n",
        "    ymin, ymax = bbox[1]\n",
        "    zmin,zmax = bbox[2]\n",
        "    \n",
        "    xl = np.linspace(xmin,xmax, resolution)\n",
        "    yl = np.linspace(ymin,ymax, resolution)\n",
        "    zl = np.linspace(zmin,zmax, resolution)\n",
        "    X, Y, Z = np.meshgrid(xl, yl, zl)\n",
        "    F=fn(X,Y,Z)\n",
        "\n",
        "\n",
        "    verts, faces, normals, values = measure.marching_cubes(F, level_set_value, spacing=[np.diff(xl)[0],np.diff(yl)[0],np.diff(zl)[0]])\n",
        "    # need to correct vertex coordinates as they are expressed in Voxel coordinates\n",
        "    verts += (xmin,ymin,zmin)\n",
        "    \n",
        "    ax.plot_trisurf(verts[:, 0], verts[:, 1], faces,\n",
        "                    verts[:, 2], # color\n",
        "                    cmap='magma',vmin=zmin,vmax=zmax)\n",
        "    \n",
        "    ax.set_zlim3d(zmin,zmax)\n",
        "    ax.set_xlim3d(xmin,xmax)\n",
        "    ax.set_ylim3d(ymin,ymax)\n",
        "    return verts, faces\n",
        "```"
      ]
    },
    {
      "cell_type": "markdown",
      "metadata": {
        "id": "qjA1vpR8-AWV"
      },
      "source": [
        "```python\n",
        "def plot_coordinate_level_sets(coordinate,level_set_values=(0),m_value=1,a_value=0,bbox=((-2.5,2.5),(-2.5,2.5),(-2.5,2.5)),resolution=50):\n",
        "  fn = sympy.lambdify([x1,x2,x1],(coordinate()).subs(((m,m_value),(a,a_value))))\n",
        "\n",
        "  n_plots = len(level_set_values)\n",
        "  n_cols = min(2,n_plots)\n",
        "  n_rows = (n_plots+1)//2\n",
        "\n",
        "  fig = plt.figure(figsize=(10,n_rows*4+1))\n",
        "  fig.suptitle(f\"Level sets of ${sympy.latex(coordinate.symbol)}$ on $M_{{{m_value},\\!\\!\\geq {a_value}}}$\",fontsize=20,y=0,va=\"top\")\n",
        "\n",
        "  axes = fig.subplots(ncols=n_cols,nrows=n_rows,subplot_kw=dict(projection='3d'),squeeze=False)\n",
        "\n",
        "  if n_plots<n_rows*2:\n",
        "    fig.delaxes(axes[n_rows-1,n_cols-1]) # delete last axis if unneccessary\n",
        "\n",
        "  for index, level_set_value in enumerate(level_set_values):\n",
        "    ax = axes.flatten()[index]\n",
        "    ax.set_title(f\"${sympy.latex(coordinate.symbol)}={level_set_value:.2f}$\",fontsize=16,pad=0)\n",
        "    ax.locator_params(nbins=4)\n",
        "    \n",
        "    plot_implicit_using_marching_cubes(ax,fn,level_set_value,bbox=bbox,resolution=resolution)\n",
        "    ax.set_aspect('equal')\n",
        "  fig.tight_layout(h_pad=5)\n",
        "  return fig\n",
        "```"
      ]
    },
    {
      "cell_type": "markdown",
      "metadata": {
        "id": "SvZSBWar-AWV"
      },
      "source": [
        "### Plots for $M_{m,+}=M_{m,\\geq 0}$"
      ]
    },
    {
      "cell_type": "markdown",
      "metadata": {
        "id": "H7Opv1Rm-AWV"
      },
      "source": [
        "```python\n",
        "fig=plot_coordinate_level_sets(u1,[0,0.1,0.2,0.3,0.4,0.5,0.6,0.7],bbox=[(-1.5,1.5),(-1.5,1.5),(0,1.1)])\n",
        "fig.savefig(\"../figures/level_sets_u1_unmodified\",bbox_inches='tight')\n",
        "````"
      ]
    },
    {
      "cell_type": "markdown",
      "metadata": {
        "id": "nuRVtn-s-AWX"
      },
      "source": [
        "```python\n",
        "plot_coordinate_level_sets(u2,[-0.75,-0.5,-0.25,0,0.25,0.5,0.75],bbox=[(-1.1,1.1),(-1.1,1.1),(0,1.1)])\n",
        "plt.savefig(\"../figures/level_sets_u2_unmodified\",bbox_inches=\"tight\")\n",
        "```"
      ]
    },
    {
      "cell_type": "markdown",
      "metadata": {
        "id": "I9qvPQh9-AWY"
      },
      "source": [
        "### Plots for $M_{m,\\!\\!\\geq a}$. We can symbolically check that the boundary $x_3=a$ is actually a level set. Numerically this level set is not quite correctly computed due to rounding errors."
      ]
    },
    {
      "cell_type": "markdown",
      "metadata": {
        "id": "fiqa4N2i-AWY"
      },
      "source": [
        "```python\n",
        "for a_value in [0.1,0.3]:\n",
        "  fig=plot_coordinate_level_sets(u1_modified,np.array([0,0.1,0.2,0.3,0.4,0.5,0.6,0.7])+a_value,a_value=a_value,bbox=[(-1.1,1.1),(-1.1,1.1),(0,1.5)],resolution=100)\n",
        "  fig.savefig(f'../figures/level_sets_u1_modified_with_a_{a_value}.png',bbox_inches='tight')\n",
        "```"
      ]
    }
  ],
  "metadata": {
    "kernelspec": {
      "display_name": "Python 3",
      "name": "python3"
    },
    "language_info": {
      "codemirror_mode": {
        "name": "ipython",
        "version": 3
      },
      "file_extension": ".py",
      "mimetype": "text/x-python",
      "name": "python",
      "nbconvert_exporter": "python",
      "pygments_lexer": "ipython3",
      "version": "3.11.7"
    },
    "colab": {
      "provenance": [],
      "gpuType": "T4"
    },
    "accelerator": "GPU"
  },
  "nbformat": 4,
  "nbformat_minor": 0
}
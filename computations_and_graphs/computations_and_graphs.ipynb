{
 "cells": [
  {
   "cell_type": "markdown",
   "metadata": {},
   "source": [
    "# The harmonic function method and the mass of some Schwarzschild half-spaces - Computations and Graphs"
   ]
  },
  {
   "cell_type": "markdown",
   "metadata": {},
   "source": [
    "In this Jupyter Notebook, we will do two main things for our examples from Section 8:\n",
    "- Compute the lower bound given by Theorem 3.9\n",
    "- Plot the level sets of the harmonic coordinates"
   ]
  },
  {
   "cell_type": "markdown",
   "metadata": {},
   "source": [
    "### Setting up the Python environment"
   ]
  },
  {
   "cell_type": "code",
   "execution_count": 1,
   "metadata": {},
   "outputs": [],
   "source": [
    "# This file is present both as .ipynb as well as .py. For the latter, the `# %%` comment denote borders between cells so the Python file can be treated like an Jupyter notebook as well. The function below checks if the Python file is running inside a Jupyter Notebook\n",
    "def is_notebook() -> bool:\n",
    "  try:\n",
    "    shell = get_ipython().__class__.__name__ # type: ignore[reportUndefinedVariable]\n",
    "    if shell in ('ZMQInteractiveShell','XPythonShell'):\n",
    "        return True   # Jupyter notebook or qtconsole\n",
    "    elif shell == 'TerminalInteractiveShell':\n",
    "        return False  # Terminal running IPython\n",
    "    else:\n",
    "        return False  # Other type (?)\n",
    "  except NameError:\n",
    "    return False      # Probably standard Python interpreter"
   ]
  },
  {
   "cell_type": "code",
   "execution_count": 2,
   "metadata": {},
   "outputs": [
    {
     "name": "stdout",
     "output_type": "stream",
     "text": [
      "Error: \u001b[31mnu::parser::parse_mismatch\u001b[0m\n",
      "\n",
      "  \u001b[31m×\u001b[0m Parse mismatch during operation.\n",
      "   ╭─[\u001b[36;1;4msource\u001b[0m:1:1]\n",
      " \u001b[2m1\u001b[0m │ '/mnt/data/OneDrive/Education/Studium/Bachelor-Arbeit/Positive Mass Theorem/Thesis Writing/.nix-venv/bin/python' -m pip install gravipy matplotlib scikit-image torchquad\n",
      "   · \u001b[35;1m                                                                                                                 ─┬\u001b[0m\n",
      "   ·                                                                                                                   \u001b[35;1m╰── \u001b[35;1mexpected operator\u001b[0m\u001b[0m\n",
      "   ╰────\n",
      "\n",
      "Note: you may need to restart the kernel to use updated packages.\n"
     ]
    }
   ],
   "source": [
    "if is_notebook():\n",
    "  get_ipython().run_line_magic(\"pip\", \"install gravipy matplotlib scikit-image torchquad\") # this helps if this Notebook is executed from within e.g. jupyter-cloud.gwdg.de  # type: ignore[reportUndefinedVariable]"
   ]
  },
  {
   "cell_type": "code",
   "execution_count": 3,
   "metadata": {},
   "outputs": [],
   "source": [
    "from gravipy.tensorial import * # import GraviPy package\n",
    "import sympy\n",
    "import numpy as np\n",
    "import scipy\n",
    "import matplotlib.pyplot as plt\n",
    "\n",
    "# for plotting of implicit surfaces (i.e. the level sets)\n",
    "from mpl_toolkits.mplot3d import axes3d\n",
    "from skimage import measure\n",
    "\n",
    "from sympy.utilities.lambdify import lambdastr"
   ]
  },
  {
   "cell_type": "code",
   "execution_count": 4,
   "metadata": {},
   "outputs": [],
   "source": [
    "if is_notebook():\n",
    "  from IPython.display import display, Markdown\n",
    "else:\n",
    "  from rich.markdown import Markdown\n",
    "  from rich.console import Console\n",
    "  console = Console()\n",
    "  display = console.print\n"
   ]
  },
  {
   "cell_type": "markdown",
   "metadata": {},
   "source": [
    "### Setting up the manifold, metric, etc."
   ]
  },
  {
   "cell_type": "code",
   "execution_count": 5,
   "metadata": {},
   "outputs": [],
   "source": [
    "dim = 5\n",
    "\n",
    "non_bounded_coords_string = \" \".join(f\"x_{i}\" for i in range(2,dim+1))\n",
    "non_bounded_coords = list(symbols(non_bounded_coords_string, real=True))\n",
    "x1 = symbols(\"x_1\", nonnegative=True)\n",
    "m = symbols(\"m\",positive=True)\n",
    "r_critical = symbols(r\"r_0\",positive=True) \n",
    "# r_critical = (m/2)**(1/(dim-2))\n",
    "\n",
    " \n",
    "coords=[x1]+non_bounded_coords\n",
    "pos = Coordinates(r'\\chi',coords)\n",
    "R=sympy.sqrt(sum(xi**2 for xi in coords))\n",
    "omega=(1+(r_critical/R)**(dim-2))\n",
    "exponent=sympy.Number(4)/(dim-2)\n",
    "# metric = sympy.MatrixSymbol(\"g\",3,3)\n",
    "metric = omega**exponent*sympy.eye(dim)\n",
    "g = MetricTensor('g', pos, metric)\n",
    "Ga = Christoffel(r'\\Gamma', g)"
   ]
  },
  {
   "cell_type": "code",
   "execution_count": 6,
   "metadata": {},
   "outputs": [],
   "source": [
    "# useful for all kinds of integrals\n",
    "volume_element = sympy.sqrt(sympy.Determinant(metric)).simplify()\n",
    "hypersurface_volume_element = sympy.sqrt(sympy.Determinant(metric[1:,1:])).simplify()"
   ]
  },
  {
   "cell_type": "code",
   "execution_count": 7,
   "metadata": {},
   "outputs": [],
   "source": [
    "# metric of hypersurface\n",
    "gamma_metric = omega**exponent*sympy.diag(*([0]+[1]*(dim-1)))\n",
    "gamma = MetricTensor(r'\\gamma', pos, gamma_metric)\n",
    "Ga_gamma = Christoffel(r'\\Gamma_{\\gamma}',gamma)"
   ]
  },
  {
   "cell_type": "markdown",
   "metadata": {},
   "source": [
    "Some utility functions:"
   ]
  },
  {
   "cell_type": "code",
   "execution_count": 8,
   "metadata": {},
   "outputs": [],
   "source": [
    "def laplacian(scalar):\n",
    "  return sum([g(-i,-j)*scalar.covariantD(i,j) for i in range(1,dim+1) for j in range(1,dim+1)])"
   ]
  },
  {
   "cell_type": "code",
   "execution_count": 9,
   "metadata": {},
   "outputs": [],
   "source": [
    "def gradient(symbol):\n",
    "  V = Tensor(r\"\\Nabla \"+str(symbol),1,g)\n",
    "  def compute_V(idxs):\n",
    "    component=sympy.diff(symbol,coords[idxs[0]-1])\n",
    "    V.components.update({idxs:component})\n",
    "    return component\n",
    "  V._compute_contravariant_component=compute_V\n",
    "  return V"
   ]
  },
  {
   "cell_type": "markdown",
   "metadata": {},
   "source": [
    "### Setting up the harmonic coordinates"
   ]
  },
  {
   "cell_type": "markdown",
   "metadata": {},
   "source": [
    "Define all the harmonic coordinates for $M_{m,+}$:"
   ]
  },
  {
   "cell_type": "code",
   "execution_count": 10,
   "metadata": {},
   "outputs": [],
   "source": [
    "u1,*non_bounded_u = [Tensor(f\"u_{i}\",0,g) for i in range(1,dim+1)]\n",
    "harmonic_coords = [u1]+non_bounded_u\n",
    "\n",
    "def make_u_method(x,u):\n",
    "  def u_method(idxs):\n",
    "    component = x*(1+(r_critical/R)**dim)/omega\n",
    "    u.components.update({idxs: component})\n",
    "    return component\n",
    "  return u_method\n",
    "\n",
    "for x, u in zip(coords,harmonic_coords):\n",
    "  u._compute_covariant_component = make_u_method(x,u)"
   ]
  },
  {
   "cell_type": "markdown",
   "metadata": {},
   "source": [
    "And define $u_1$ for the modified Schwarzschild space $M_{m,\\geq a}$ for $a>0$:"
   ]
  },
  {
   "cell_type": "code",
   "execution_count": 11,
   "metadata": {},
   "outputs": [],
   "source": [
    "a = symbols(\"a\")\n",
    "u1_modified = Tensor(\"u_1\",0,g)\n",
    "\n",
    "def u1_modified_method(idxs):\n",
    "    component = (x1+a*(r_critical/R)**(dim-2))/omega\n",
    "    u1_modified.components.update({idxs: component})\n",
    "    return component\n",
    "u1_modified._compute_covariant_component = u1_modified_method"
   ]
  },
  {
   "cell_type": "markdown",
   "metadata": {},
   "source": [
    "## Testing our Setup"
   ]
  },
  {
   "cell_type": "markdown",
   "metadata": {},
   "source": [
    "### What's the mass of our space?"
   ]
  },
  {
   "cell_type": "markdown",
   "metadata": {},
   "source": [
    "We use the spherical symmetry of the solution to avoid the integral, but we do evaluate the integrand in one radial direction (namely along the $x_1$-axis)"
   ]
  },
  {
   "cell_type": "code",
   "execution_count": 12,
   "metadata": {},
   "outputs": [],
   "source": [
    "normal_vector_to_sphere = Tensor(r\"n_{S_r}\",1,g)\n",
    "def n_S_r_compute_covariant_component(idxs):\n",
    "  component = sympy.sqrt(g(idxs[0],idxs[0]))*coords[idxs[0]-1]/R\n",
    "  normal_vector_to_sphere.components.update({idxs:component})\n",
    "  return component\n",
    "normal_vector_to_sphere._compute_covariant_component=n_S_r_compute_covariant_component"
   ]
  },
  {
   "cell_type": "code",
   "execution_count": 13,
   "metadata": {},
   "outputs": [
    {
     "data": {
      "text/latex": [
       "$\\displaystyle \\frac{x_{1} \\sqrt{x_{1}^{2} + x_{2}^{2} + x_{3}^{2} + x_{4}^{2} + x_{5}^{2}}}{\\left(r_{0}^{3} + \\left(x_{1}^{2} + x_{2}^{2} + x_{3}^{2} + x_{4}^{2} + x_{5}^{2}\\right)^{\\frac{3}{2}}\\right)^{\\frac{2}{3}}}$"
      ],
      "text/plain": [
       "x_1*sqrt(x_1**2 + x_2**2 + x_3**2 + x_4**2 + x_5**2)/(r_0**3 + (x_1**2 + x_2**2 + x_3**2 + x_4**2 + x_5**2)**(3/2))**(2/3)"
      ]
     },
     "execution_count": 13,
     "metadata": {},
     "output_type": "execute_result"
    }
   ],
   "source": [
    "normal_vector_to_sphere(-1)"
   ]
  },
  {
   "cell_type": "code",
   "execution_count": 14,
   "metadata": {},
   "outputs": [],
   "source": [
    "mass_integrand = sum((g.partialD(i,j,i)-g.partialD(i,i,j))*normal_vector_to_sphere(-j) for i,j in list(variations(range(1,dim+1),2,True)))\n",
    "ray_substition = list([coord,0] for coord in non_bounded_coords)\n",
    "ray_mass_integrand = mass_integrand.subs(ray_substition).simplify()"
   ]
  },
  {
   "cell_type": "code",
   "execution_count": 15,
   "metadata": {},
   "outputs": [
    {
     "data": {
      "text/latex": [
       "$\\displaystyle \\frac{16 r_{0}^{3}}{x_{1}^{3} \\sqrt[3]{r_{0}^{3} + x_{1}^{3}}}$"
      ],
      "text/plain": [
       "16*r_0**3/(x_1**3*(r_0**3 + x_1**3)**(1/3))"
      ]
     },
     "execution_count": 15,
     "metadata": {},
     "output_type": "execute_result"
    }
   ],
   "source": [
    "ray_mass_integrand"
   ]
  },
  {
   "cell_type": "markdown",
   "metadata": {},
   "source": [
    "Here and in the following we will need the area of an $(n-1)$-sphere"
   ]
  },
  {
   "cell_type": "code",
   "execution_count": 16,
   "metadata": {},
   "outputs": [],
   "source": [
    "sphere_volume = 2*sympy.pi ** (sympy.Number(dim) / 2) / sympy.gamma(sympy.Number(dim) / 2)\n",
    "normalization = 1 / (sphere_volume * 2 * (dim - 1))\n",
    "numerical_normalization = float(normalization)"
   ]
  },
  {
   "cell_type": "code",
   "execution_count": 17,
   "metadata": {},
   "outputs": [
    {
     "data": {
      "text/latex": [
       "$\\displaystyle \\frac{3}{64 \\pi^{2}}$"
      ],
      "text/plain": [
       "3/(64*pi**2)"
      ]
     },
     "execution_count": 17,
     "metadata": {},
     "output_type": "execute_result"
    }
   ],
   "source": [
    "normalization"
   ]
  },
  {
   "cell_type": "code",
   "execution_count": 18,
   "metadata": {},
   "outputs": [],
   "source": [
    "# volume element not strictly needed since we could also use euclidean background metric\n",
    "unnormalized_mass_integral = (ray_mass_integrand*hypersurface_volume_element*(sphere_volume/2*R**(dim-1)).subs(ray_substition)).simplify()\n",
    "unnormalized_mass = sympy.Limit(unnormalized_mass_integral,x1,sympy.oo).simplify()\n",
    "mass = normalization*unnormalized_mass"
   ]
  },
  {
   "cell_type": "markdown",
   "metadata": {},
   "source": [
    "The following should return $m/2=\\tilde{r}^{n-2}$, where $n$ is the dimension."
   ]
  },
  {
   "cell_type": "code",
   "execution_count": 19,
   "metadata": {},
   "outputs": [
    {
     "data": {
      "text/markdown": [
       "The mass is $r_{0}^{3}$"
      ],
      "text/plain": [
       "<IPython.core.display.Markdown object>"
      ]
     },
     "metadata": {},
     "output_type": "display_data"
    }
   ],
   "source": [
    "display(Markdown(f\"The mass is ${sympy.latex(mass)}$\"))\n",
    "assert(mass==(r_critical**(dim-2)).simplify())"
   ]
  },
  {
   "cell_type": "markdown",
   "metadata": {},
   "source": [
    "### Is the mean curvature correct?"
   ]
  },
  {
   "cell_type": "markdown",
   "metadata": {},
   "source": [
    "We compute the mean curvature of the noncompact boundary (observe that the result agrees with our computation in Section 8)"
   ]
  },
  {
   "cell_type": "code",
   "execution_count": 20,
   "metadata": {},
   "outputs": [],
   "source": [
    "normal_vector_to_noncompact_boundary = Tensor(r\"\\nu\",1,g) \n",
    "def nu_compute_covariant_component(idxs):   \n",
    "  if idxs[0]==1:     \n",
    "    component = -sympy.sqrt(g(1,1))   \n",
    "  else:\n",
    "     component = sympy.Number(0)   \n",
    "  normal_vector_to_noncompact_boundary.components.update({idxs:component})  \n",
    "  return component \n",
    "normal_vector_to_noncompact_boundary._compute_covariant_component=nu_compute_covariant_component"
   ]
  },
  {
   "cell_type": "code",
   "execution_count": 21,
   "metadata": {},
   "outputs": [
    {
     "data": {
      "text/markdown": [
       "Mean curvature $H$ of non-compact boundary is $\\frac{8 r_{0}^{3} x_{1}}{\\left(r_{0}^{3} + \\left(x_{1}^{2} + x_{2}^{2} + x_{3}^{2} + x_{4}^{2} + x_{5}^{2}\\right)^{\\frac{3}{2}}\\right)^{\\frac{5}{3}}}$, which is the same as $\\frac{2 (n-1)\\tilde{r}^{n-2}}{r^n\\cdot \\omega^{2/(n-2)+1}}x_1=\\frac{8 r_{0}^{3} x_{1}}{\\left(r_{0}^{3} + \\left(x_{1}^{2} + x_{2}^{2} + x_{3}^{2} + x_{4}^{2} + x_{5}^{2}\\right)^{\\frac{3}{2}}\\right)^{\\frac{5}{3}}}$."
      ],
      "text/plain": [
       "<IPython.core.display.Markdown object>"
      ]
     },
     "metadata": {},
     "output_type": "display_data"
    }
   ],
   "source": [
    "H=sum(g(-i,-j)*normal_vector_to_noncompact_boundary.covariantD(i,j) for i,j in variations(range(1,dim+1),2,True)).simplify()\n",
    "display(Markdown(f\"Mean curvature $H$ of non-compact boundary is ${sympy.latex(H)}$, which is the same as $\\\\frac{{2 (n-1)\\\\tilde{{r}}^{{n-2}}}}{{r^n\\\\cdot \\omega^{{2/(n-2)+1}}}}x_1={sympy.latex((2*(dim-1)*r_critical**(dim-2)*x1/(R**dim*omega**(sympy.Number(2)/(dim-2)+1))).simplify())}$.\"))\n",
    "assert((H-2*(dim-1)*r_critical**(dim-2)*x1/(R**dim*omega**(sympy.Number(2)/(dim-2)+1))).simplify()==0)"
   ]
  },
  {
   "cell_type": "markdown",
   "metadata": {},
   "source": [
    "\n",
    "The above is greater than $0$ in particular if $x_1>0$."
   ]
  },
  {
   "cell_type": "markdown",
   "metadata": {},
   "source": [
    "### Are our functions truly harmonic?"
   ]
  },
  {
   "cell_type": "code",
   "execution_count": 22,
   "metadata": {},
   "outputs": [
    {
     "data": {
      "text/latex": [
       "$\\displaystyle \\frac{x_{1} \\left(\\frac{r_{0}^{5}}{\\left(x_{1}^{2} + x_{2}^{2} + x_{3}^{2} + x_{4}^{2} + x_{5}^{2}\\right)^{\\frac{5}{2}}} + 1\\right)}{\\frac{r_{0}^{3}}{\\left(x_{1}^{2} + x_{2}^{2} + x_{3}^{2} + x_{4}^{2} + x_{5}^{2}\\right)^{\\frac{3}{2}}} + 1}$"
      ],
      "text/plain": [
       "x_1*(r_0**5/(x_1**2 + x_2**2 + x_3**2 + x_4**2 + x_5**2)**(5/2) + 1)/(r_0**3/(x_1**2 + x_2**2 + x_3**2 + x_4**2 + x_5**2)**(3/2) + 1)"
      ]
     },
     "execution_count": 22,
     "metadata": {},
     "output_type": "execute_result"
    }
   ],
   "source": [
    "u1()"
   ]
  },
  {
   "cell_type": "code",
   "execution_count": 23,
   "metadata": {},
   "outputs": [
    {
     "name": "stdout",
     "output_type": "stream",
     "text": [
      "Harmonicity check:\n"
     ]
    },
    {
     "data": {
      "text/markdown": [
       "$\\Delta u_1=0$"
      ],
      "text/plain": [
       "<IPython.core.display.Markdown object>"
      ]
     },
     "metadata": {},
     "output_type": "display_data"
    },
    {
     "data": {
      "text/markdown": [
       "$\\Delta u_2=0$"
      ],
      "text/plain": [
       "<IPython.core.display.Markdown object>"
      ]
     },
     "metadata": {},
     "output_type": "display_data"
    },
    {
     "data": {
      "text/markdown": [
       "$\\Delta u_3=0$"
      ],
      "text/plain": [
       "<IPython.core.display.Markdown object>"
      ]
     },
     "metadata": {},
     "output_type": "display_data"
    },
    {
     "data": {
      "text/markdown": [
       "$\\Delta u_4=0$"
      ],
      "text/plain": [
       "<IPython.core.display.Markdown object>"
      ]
     },
     "metadata": {},
     "output_type": "display_data"
    },
    {
     "data": {
      "text/markdown": [
       "$\\Delta u_5=0$"
      ],
      "text/plain": [
       "<IPython.core.display.Markdown object>"
      ]
     },
     "metadata": {},
     "output_type": "display_data"
    }
   ],
   "source": [
    "print(\"Harmonicity check:\")\n",
    "for i,u in enumerate(harmonic_coords):\n",
    "  current_laplacian = laplacian(u).simplify()\n",
    "  display(Markdown(f\"$\\Delta u_{i+1}={sympy.latex(current_laplacian)}$\"))\n",
    "  # assert(current_laplacian==0)"
   ]
  },
  {
   "cell_type": "code",
   "execution_count": 24,
   "metadata": {},
   "outputs": [
    {
     "data": {
      "text/markdown": [
       "For $M_{m,\\geq a}$: $\\Delta u_1=0$"
      ],
      "text/plain": [
       "<IPython.core.display.Markdown object>"
      ]
     },
     "metadata": {},
     "output_type": "display_data"
    }
   ],
   "source": [
    "laplacian_modified = laplacian(u1_modified).simplify()\n",
    "display(Markdown(f\"For $M_{{m,\\geq a}}$: $\\Delta u_1={laplacian_modified}$\"))\n",
    "assert(laplacian_modified == 0)"
   ]
  },
  {
   "cell_type": "markdown",
   "metadata": {},
   "source": [
    "### Are the boundary conditions truly fulfilled?"
   ]
  },
  {
   "cell_type": "markdown",
   "metadata": {},
   "source": [
    "For $a=0$ we should in particular have $\\partial_r u_i\\vert_{r=\\tilde{r}}=0$:"
   ]
  },
  {
   "cell_type": "code",
   "execution_count": 25,
   "metadata": {},
   "outputs": [
    {
     "data": {
      "text/markdown": [
       "$\\partial_r u_1\\vert_{r=\\tilde{r}}=0$"
      ],
      "text/plain": [
       "<IPython.core.display.Markdown object>"
      ]
     },
     "metadata": {},
     "output_type": "display_data"
    },
    {
     "data": {
      "text/markdown": [
       "$\\partial_r u_2\\vert_{r=\\tilde{r}}=0$"
      ],
      "text/plain": [
       "<IPython.core.display.Markdown object>"
      ]
     },
     "metadata": {},
     "output_type": "display_data"
    },
    {
     "data": {
      "text/markdown": [
       "$\\partial_r u_3\\vert_{r=\\tilde{r}}=0$"
      ],
      "text/plain": [
       "<IPython.core.display.Markdown object>"
      ]
     },
     "metadata": {},
     "output_type": "display_data"
    },
    {
     "data": {
      "text/markdown": [
       "$\\partial_r u_4\\vert_{r=\\tilde{r}}=0$"
      ],
      "text/plain": [
       "<IPython.core.display.Markdown object>"
      ]
     },
     "metadata": {},
     "output_type": "display_data"
    },
    {
     "data": {
      "text/markdown": [
       "$\\partial_r u_5\\vert_{r=\\tilde{r}}=0$"
      ],
      "text/plain": [
       "<IPython.core.display.Markdown object>"
      ]
     },
     "metadata": {},
     "output_type": "display_data"
    }
   ],
   "source": [
    "for (i,u) in enumerate(harmonic_coords):\n",
    "  radial_derivative = sum(u.covariantD(i+1)*coords[i] for i in range(dim))\n",
    "  substitution = [x1,sympy.sqrt(r_critical**2-sum(coord**2 for coord in non_bounded_coords))]\n",
    "  radial_derivative_substituted = radial_derivative.subs([substitution]).simplify()\n",
    "  display(Markdown(f\"$\\partial_r u_{i+1}\\\\vert_{{r=\\\\tilde{{r}}}}={sympy.latex(radial_derivative_substituted)}$\"))\n",
    "  assert(radial_derivative_substituted==0)"
   ]
  },
  {
   "cell_type": "markdown",
   "metadata": {},
   "source": [
    "For $a>0$, we should have $\\tilde{u}_1\\vert_{x_1=a}=a$:"
   ]
  },
  {
   "cell_type": "code",
   "execution_count": 26,
   "metadata": {},
   "outputs": [
    {
     "data": {
      "text/markdown": [
       "$\\tilde{u}_1\\vert_{x_1=a}=a$"
      ],
      "text/plain": [
       "<IPython.core.display.Markdown object>"
      ]
     },
     "metadata": {},
     "output_type": "display_data"
    }
   ],
   "source": [
    "u1_modified_at_x1_equal_a=u1_modified().subs([[x1,a]]).simplify()\n",
    "display(Markdown(f\"$\\\\tilde{{u}}_1\\\\vert_{{x_1=a}}={u1_modified_at_x1_equal_a}$\"))\n",
    "assert(u1_modified_at_x1_equal_a==a)"
   ]
  },
  {
   "cell_type": "markdown",
   "metadata": {},
   "source": [
    "### Are there any critical points?"
   ]
  },
  {
   "cell_type": "markdown",
   "metadata": {},
   "source": [
    "It is interesting to consider whether there are any critical points of $u_3$ to be able to discuss how strong the lower bound given by our technique is (see Remark 4.3)."
   ]
  },
  {
   "cell_type": "markdown",
   "metadata": {},
   "source": [
    "##### For $M_{m,+}$ there is at least one (at (0,0,m/2)):"
   ]
  },
  {
   "cell_type": "code",
   "execution_count": 27,
   "metadata": {},
   "outputs": [
    {
     "data": {
      "text/markdown": [
       "On $M_{m,+}$, there is at least one critical point: At $(0,0,\\tilde{r})$ we have $\\operatorname{grad} u_1=\\left[\\begin{matrix}0 & 0 & 0\\end{matrix}\\right]$"
      ],
      "text/plain": [
       "<IPython.core.display.Markdown object>"
      ]
     },
     "metadata": {},
     "output_type": "display_data"
    }
   ],
   "source": [
    "display(\n",
    "    Markdown(\n",
    "        f\"On $M_{{m,+}}$, there is at least one critical point: At $(0,0,\\\\tilde{{r}})$ we have $\\operatorname{{grad}} u_1={sympy.latex(sympy.Array([u1.covariantD(i) for i in range(1,4)]).subs(([(x1,r_critical)]+list(map(lambda coord: (coord,0),non_bounded_coords)))).simplify())}$\"\n",
    "    )\n",
    ")"
   ]
  },
  {
   "cell_type": "markdown",
   "metadata": {},
   "source": [
    "##### For $M_{m,\\geq a}$:"
   ]
  },
  {
   "cell_type": "code",
   "execution_count": 28,
   "metadata": {},
   "outputs": [
    {
     "data": {
      "text/markdown": [
       "On $M_{m,\\geq a} (for $a>0$), $u_1$ has no critical points! \n",
       "                 \n",
       "It suffices to look at the derivative in $x_1$-direction, which is always positive: We have $\\partial_1 u_1=\\frac{3 r_{0}^{3} x_{1} \\left(a r_{0}^{3} + x_{1} \\left(x_{1}^{2} + x_{2}^{2} + x_{3}^{2} + x_{4}^{2} + x_{5}^{2}\\right)^{\\frac{3}{2}}\\right) - \\left(r_{0}^{3} + \\left(x_{1}^{2} + x_{2}^{2} + x_{3}^{2} + x_{4}^{2} + x_{5}^{2}\\right)^{\\frac{3}{2}}\\right) \\left(3 a r_{0}^{3} x_{1} - \\left(x_{1}^{2} + x_{2}^{2} + x_{3}^{2} + x_{4}^{2} + x_{5}^{2}\\right)^{\\frac{5}{2}}\\right)}{\\left(r_{0}^{3} + \\left(x_{1}^{2} + x_{2}^{2} + x_{3}^{2} + x_{4}^{2} + x_{5}^{2}\\right)^{\\frac{3}{2}}\\right)^{2} \\left(x_{1}^{2} + x_{2}^{2} + x_{3}^{2} + x_{4}^{2} + x_{5}^{2}\\right)}$.\n",
       "\n",
       "We can ignore the denominator (which is clearly always positive, since $|x|>0$) and just consider the numerator $- 3 a r_{0}^{3} x_{1}^{3} \\sqrt{x_{1}^{2} + x_{2}^{2} + x_{3}^{2} + x_{4}^{2} + x_{5}^{2}} - 3 a r_{0}^{3} x_{1} x_{2}^{2} \\sqrt{x_{1}^{2} + x_{2}^{2} + x_{3}^{2} + x_{4}^{2} + x_{5}^{2}} - 3 a r_{0}^{3} x_{1} x_{3}^{2} \\sqrt{x_{1}^{2} + x_{2}^{2} + x_{3}^{2} + x_{4}^{2} + x_{5}^{2}} - 3 a r_{0}^{3} x_{1} x_{4}^{2} \\sqrt{x_{1}^{2} + x_{2}^{2} + x_{3}^{2} + x_{4}^{2} + x_{5}^{2}} - 3 a r_{0}^{3} x_{1} x_{5}^{2} \\sqrt{x_{1}^{2} + x_{2}^{2} + x_{3}^{2} + x_{4}^{2} + x_{5}^{2}} + 4 r_{0}^{3} x_{1}^{4} \\sqrt{x_{1}^{2} + x_{2}^{2} + x_{3}^{2} + x_{4}^{2} + x_{5}^{2}} + 5 r_{0}^{3} x_{1}^{2} x_{2}^{2} \\sqrt{x_{1}^{2} + x_{2}^{2} + x_{3}^{2} + x_{4}^{2} + x_{5}^{2}} + 5 r_{0}^{3} x_{1}^{2} x_{3}^{2} \\sqrt{x_{1}^{2} + x_{2}^{2} + x_{3}^{2} + x_{4}^{2} + x_{5}^{2}} + 5 r_{0}^{3} x_{1}^{2} x_{4}^{2} \\sqrt{x_{1}^{2} + x_{2}^{2} + x_{3}^{2} + x_{4}^{2} + x_{5}^{2}} + 5 r_{0}^{3} x_{1}^{2} x_{5}^{2} \\sqrt{x_{1}^{2} + x_{2}^{2} + x_{3}^{2} + x_{4}^{2} + x_{5}^{2}} + r_{0}^{3} x_{2}^{4} \\sqrt{x_{1}^{2} + x_{2}^{2} + x_{3}^{2} + x_{4}^{2} + x_{5}^{2}} + 2 r_{0}^{3} x_{2}^{2} x_{3}^{2} \\sqrt{x_{1}^{2} + x_{2}^{2} + x_{3}^{2} + x_{4}^{2} + x_{5}^{2}} + 2 r_{0}^{3} x_{2}^{2} x_{4}^{2} \\sqrt{x_{1}^{2} + x_{2}^{2} + x_{3}^{2} + x_{4}^{2} + x_{5}^{2}} + 2 r_{0}^{3} x_{2}^{2} x_{5}^{2} \\sqrt{x_{1}^{2} + x_{2}^{2} + x_{3}^{2} + x_{4}^{2} + x_{5}^{2}} + r_{0}^{3} x_{3}^{4} \\sqrt{x_{1}^{2} + x_{2}^{2} + x_{3}^{2} + x_{4}^{2} + x_{5}^{2}} + 2 r_{0}^{3} x_{3}^{2} x_{4}^{2} \\sqrt{x_{1}^{2} + x_{2}^{2} + x_{3}^{2} + x_{4}^{2} + x_{5}^{2}} + 2 r_{0}^{3} x_{3}^{2} x_{5}^{2} \\sqrt{x_{1}^{2} + x_{2}^{2} + x_{3}^{2} + x_{4}^{2} + x_{5}^{2}} + r_{0}^{3} x_{4}^{4} \\sqrt{x_{1}^{2} + x_{2}^{2} + x_{3}^{2} + x_{4}^{2} + x_{5}^{2}} + 2 r_{0}^{3} x_{4}^{2} x_{5}^{2} \\sqrt{x_{1}^{2} + x_{2}^{2} + x_{3}^{2} + x_{4}^{2} + x_{5}^{2}} + r_{0}^{3} x_{5}^{4} \\sqrt{x_{1}^{2} + x_{2}^{2} + x_{3}^{2} + x_{4}^{2} + x_{5}^{2}} + x_{1}^{8} + 4 x_{1}^{6} x_{2}^{2} + 4 x_{1}^{6} x_{3}^{2} + 4 x_{1}^{6} x_{4}^{2} + 4 x_{1}^{6} x_{5}^{2} + 6 x_{1}^{4} x_{2}^{4} + 12 x_{1}^{4} x_{2}^{2} x_{3}^{2} + 12 x_{1}^{4} x_{2}^{2} x_{4}^{2} + 12 x_{1}^{4} x_{2}^{2} x_{5}^{2} + 6 x_{1}^{4} x_{3}^{4} + 12 x_{1}^{4} x_{3}^{2} x_{4}^{2} + 12 x_{1}^{4} x_{3}^{2} x_{5}^{2} + 6 x_{1}^{4} x_{4}^{4} + 12 x_{1}^{4} x_{4}^{2} x_{5}^{2} + 6 x_{1}^{4} x_{5}^{4} + 4 x_{1}^{2} x_{2}^{6} + 12 x_{1}^{2} x_{2}^{4} x_{3}^{2} + 12 x_{1}^{2} x_{2}^{4} x_{4}^{2} + 12 x_{1}^{2} x_{2}^{4} x_{5}^{2} + 12 x_{1}^{2} x_{2}^{2} x_{3}^{4} + 24 x_{1}^{2} x_{2}^{2} x_{3}^{2} x_{4}^{2} + 24 x_{1}^{2} x_{2}^{2} x_{3}^{2} x_{5}^{2} + 12 x_{1}^{2} x_{2}^{2} x_{4}^{4} + 24 x_{1}^{2} x_{2}^{2} x_{4}^{2} x_{5}^{2} + 12 x_{1}^{2} x_{2}^{2} x_{5}^{4} + 4 x_{1}^{2} x_{3}^{6} + 12 x_{1}^{2} x_{3}^{4} x_{4}^{2} + 12 x_{1}^{2} x_{3}^{4} x_{5}^{2} + 12 x_{1}^{2} x_{3}^{2} x_{4}^{4} + 24 x_{1}^{2} x_{3}^{2} x_{4}^{2} x_{5}^{2} + 12 x_{1}^{2} x_{3}^{2} x_{5}^{4} + 4 x_{1}^{2} x_{4}^{6} + 12 x_{1}^{2} x_{4}^{4} x_{5}^{2} + 12 x_{1}^{2} x_{4}^{2} x_{5}^{4} + 4 x_{1}^{2} x_{5}^{6} + x_{2}^{8} + 4 x_{2}^{6} x_{3}^{2} + 4 x_{2}^{6} x_{4}^{2} + 4 x_{2}^{6} x_{5}^{2} + 6 x_{2}^{4} x_{3}^{4} + 12 x_{2}^{4} x_{3}^{2} x_{4}^{2} + 12 x_{2}^{4} x_{3}^{2} x_{5}^{2} + 6 x_{2}^{4} x_{4}^{4} + 12 x_{2}^{4} x_{4}^{2} x_{5}^{2} + 6 x_{2}^{4} x_{5}^{4} + 4 x_{2}^{2} x_{3}^{6} + 12 x_{2}^{2} x_{3}^{4} x_{4}^{2} + 12 x_{2}^{2} x_{3}^{4} x_{5}^{2} + 12 x_{2}^{2} x_{3}^{2} x_{4}^{4} + 24 x_{2}^{2} x_{3}^{2} x_{4}^{2} x_{5}^{2} + 12 x_{2}^{2} x_{3}^{2} x_{5}^{4} + 4 x_{2}^{2} x_{4}^{6} + 12 x_{2}^{2} x_{4}^{4} x_{5}^{2} + 12 x_{2}^{2} x_{4}^{2} x_{5}^{4} + 4 x_{2}^{2} x_{5}^{6} + x_{3}^{8} + 4 x_{3}^{6} x_{4}^{2} + 4 x_{3}^{6} x_{5}^{2} + 6 x_{3}^{4} x_{4}^{4} + 12 x_{3}^{4} x_{4}^{2} x_{5}^{2} + 6 x_{3}^{4} x_{5}^{4} + 4 x_{3}^{2} x_{4}^{6} + 12 x_{3}^{2} x_{4}^{4} x_{5}^{2} + 12 x_{3}^{2} x_{4}^{2} x_{5}^{4} + 4 x_{3}^{2} x_{5}^{6} + x_{4}^{8} + 4 x_{4}^{6} x_{5}^{2} + 6 x_{4}^{4} x_{5}^{4} + 4 x_{4}^{2} x_{5}^{6} + x_{5}^{8}$.\n",
       "\n",
       "But $x_1\\geq a > 0$ and thus each of the negative terms in front are balanced out by later terms."
      ],
      "text/plain": [
       "<IPython.core.display.Markdown object>"
      ]
     },
     "metadata": {},
     "output_type": "display_data"
    }
   ],
   "source": [
    "relevant_derivative = u1_modified.covariantD(1).simplify()\n",
    "only_numerator = sympy.fraction(relevant_derivative)[0].expand()\n",
    "display(Markdown(f\"\"\"On $M_{{m,\\geq a}} (for $a>0$), $u_1$ has no critical points! \n",
    "                 \n",
    "It suffices to look at the derivative in $x_1$-direction, which is always positive: We have $\\partial_1 u_1={sympy.latex(relevant_derivative)}$.\n",
    "\n",
    "We can ignore the denominator (which is clearly always positive, since $|x|>0$) and just consider the numerator ${sympy.latex(only_numerator)}$.\n",
    "\n",
    "But $x_1\\geq a > 0$ and thus each of the negative terms in front are balanced out by later terms.\"\"\"))"
   ]
  },
  {
   "cell_type": "markdown",
   "metadata": {},
   "source": [
    "## Computation of the lower bound"
   ]
  },
  {
   "cell_type": "markdown",
   "metadata": {},
   "source": [
    "Let's try to compute the lower bound for the mass. We avoid simplifying anything (I once tried to let `sympy` simplify `abs_hessian_u1`, and it did complete, but only after 10 hours!). Even with manual help factoring out $\\omega$ terms and the like, the computation times are still often in the minutes. The numerical integration later on is fast enough to deal with unoptimized expressions."
   ]
  },
  {
   "cell_type": "code",
   "execution_count": 29,
   "metadata": {},
   "outputs": [],
   "source": [
    "abs_nabla_u1=sympy.sqrt(sum(g(-i,-j)*u1.covariantD(i)*u1.covariantD(j) for i in range(1,dim+1) for j in range(1,dim+1)))"
   ]
  },
  {
   "cell_type": "code",
   "execution_count": 30,
   "metadata": {},
   "outputs": [],
   "source": [
    "abs_nabla_u1_modified=sympy.sqrt(sum(g(-i,-j)*u1_modified.covariantD(i)*u1_modified.covariantD(j) for i in range(1,dim+1) for j in range(1,dim+1)))"
   ]
  },
  {
   "cell_type": "code",
   "execution_count": 31,
   "metadata": {},
   "outputs": [],
   "source": [
    "abs_hessian_u1=sympy.sqrt(sum(g(-i,-k)*g(-j,-l)*u1.covariantD(i,j)*u1.covariantD(k,l) for i,j,k,l in list(variations(range(1, dim+1), 4, True))))"
   ]
  },
  {
   "cell_type": "code",
   "execution_count": 32,
   "metadata": {},
   "outputs": [],
   "source": [
    "abs_hessian_u1_modified=sympy.sqrt(sum(g(-i,-k)*g(-j,-l)*u1_modified.covariantD(i,j)*u1_modified.covariantD(k,l) for i,j,k,l in variations(range(1, dim+1), 4, True)))"
   ]
  },
  {
   "cell_type": "markdown",
   "metadata": {},
   "source": [
    "We can now express the integrands. Note that we need to include the volume element. Also we have $R=0$, so the second term in the integrand disappears"
   ]
  },
  {
   "cell_type": "code",
   "execution_count": 33,
   "metadata": {},
   "outputs": [],
   "source": [
    "lower_bound_integrand_over_M=(abs_hessian_u1**2/abs_nabla_u1)*volume_element\n",
    "lower_bound_modified_integrand_over_M=((abs_hessian_u1_modified**2/abs_nabla_u1_modified)*volume_element)"
   ]
  },
  {
   "cell_type": "markdown",
   "metadata": {},
   "source": [
    "We can now also write down the expression for integral term on the boundary (we need to use the volume element of $\\Sigma$ here). Note that the integrand over the boundary vanishes for $M_{m,+}$."
   ]
  },
  {
   "cell_type": "code",
   "execution_count": 34,
   "metadata": {},
   "outputs": [
    {
     "name": "stdout",
     "output_type": "stream",
     "text": [
      "lower_bound_integrand_over_boundary=0\n"
     ]
    }
   ],
   "source": [
    "lower_bound_integrand_over_boundary = 2*(H.subs(x1,0).simplify()*abs_nabla_u1)*hypersurface_volume_element\n",
    "print(f\"{lower_bound_integrand_over_boundary=}\")\n",
    "assert(lower_bound_integrand_over_boundary==0)\n",
    "\n",
    "lower_bound_modified_integrand_over_boundary = 2*(H.subs(x1,a).simplify()*abs_nabla_u1_modified)*hypersurface_volume_element"
   ]
  },
  {
   "cell_type": "markdown",
   "metadata": {},
   "source": [
    "We use `sympy.lambdify` to get numerical expressions for our integrands. "
   ]
  },
  {
   "cell_type": "code",
   "execution_count": 37,
   "metadata": {},
   "outputs": [
    {
     "name": "stderr",
     "output_type": "stream",
     "text": [
      "2024-02-27 23:11:19.349238: E external/local_xla/xla/stream_executor/cuda/cuda_dnn.cc:9261] Unable to register cuDNN factory: Attempting to register factory for plugin cuDNN when one has already been registered\n",
      "2024-02-27 23:11:19.350009: E external/local_xla/xla/stream_executor/cuda/cuda_fft.cc:607] Unable to register cuFFT factory: Attempting to register factory for plugin cuFFT when one has already been registered\n",
      "2024-02-27 23:11:19.456734: E external/local_xla/xla/stream_executor/cuda/cuda_blas.cc:1515] Unable to register cuBLAS factory: Attempting to register factory for plugin cuBLAS when one has already been registered\n",
      "2024-02-27 23:11:19.688367: I tensorflow/core/platform/cpu_feature_guard.cc:182] This TensorFlow binary is optimized to use available CPU instructions in performance-critical operations.\n",
      "To enable the following instructions: AVX2 FMA, in other operations, rebuild TensorFlow with the appropriate compiler flags.\n",
      "2024-02-27 23:11:28.657446: W tensorflow/compiler/tf2tensorrt/utils/py_utils.cc:38] TF-TRT Warning: Could not find TensorRT\n"
     ]
    }
   ],
   "source": [
    "import tensorflow as tf\n",
    "\n",
    "# numerical implementation (reverse args as we want x1 integration to be outermost)\n",
    "num_lower_bound_integrand_over_M = sympy.lambdify(list(reversed(coords))+[r_critical],lower_bound_integrand_over_M,modules=tf)\n",
    "num_lower_bound_integrand_over_boundary = sympy.lambdify(list(reversed(coords))+[r_critical],lower_bound_integrand_over_boundary,modules=tf)\n",
    "\n",
    "# and we shift this one integrand so that the integral will be centered at 0\n",
    "num_lower_bound_modified_integrand_over_M = sympy.lambdify(\n",
    "    list(reversed(coords)) + [r_critical,a], lower_bound_modified_integrand_over_M.subs(x1,x1+a)\n",
    ",modules=tf)\n",
    "num_lower_bound_modified_integrand_over_boundary = sympy.lambdify(\n",
    "    list(reversed(coords)) + [r_critical, a], lower_bound_modified_integrand_over_boundary,modules=tf\n",
    ")"
   ]
  },
  {
   "cell_type": "markdown",
   "metadata": {},
   "source": [
    "We can now do the numerical integration. Due to symmetry we are able to only integrate over one quadrant ($x_2\\geq 0, \\dotsc, x_n\\geq 0$ in addition to the usual $x_1\\geq 0$) and multiply by $2^{n-1}$ afterwards."
   ]
  },
  {
   "cell_type": "code",
   "execution_count": 38,
   "metadata": {},
   "outputs": [],
   "source": [
    "number_quadrants = 2**(dim-1)\n",
    "r_critical_value = 0.5"
   ]
  },
  {
   "cell_type": "code",
   "execution_count": 74,
   "metadata": {},
   "outputs": [],
   "source": [
    "from vegasflow import VegasFlowPlus\n",
    "from vegasflow.utils import generate_condition_function\n",
    "from vegasflow.configflow import DTYPE\n",
    "or_cond = generate_condition_function(2,condition=\"or\")\n",
    "from functools import cache\n",
    "\n",
    "\n",
    "def make_integrand(expr, r_critical_value, a_value, extra_args):\n",
    "  \n",
    "  # Convert extra_args to a TensorFlow tensor\n",
    "  extra_args_tensor = tf.convert_to_tensor(extra_args, dtype=DTYPE)\n",
    "    \n",
    "  def integrand(xarr):\n",
    "    outside_horizon = tf.norm(xarr,axis=1)>r_critical_value\n",
    "    a_nonzero_cond = xarr[:,0]*0+a_value>0\n",
    "    mask,idx = or_cond(outside_horizon,a_nonzero_cond)\n",
    "    masked_xarr = tf.boolean_mask(xarr, mask, axis=0)\n",
    "\n",
    "    # Reshape extra_args to have shape (1, extra_args_size)\n",
    "    extra_args_expanded = tf.expand_dims(extra_args_tensor, axis=0)\n",
    "    \n",
    "    # Broadcast extra_args along the batch dimension to match the batch size of xarr\n",
    "    extra_args_broadcasted = tf.tile(extra_args_expanded, [tf.shape(masked_xarr)[0], 1])\n",
    "    \n",
    "    # Concatenate xarr with extra_args_broadcasted along axis 1\n",
    "    full_expr_args = tf.concat([masked_xarr, extra_args_broadcasted], axis=1)\n",
    "  \n",
    "    result = expr(*tf.unstack(full_expr_args,axis=1))\n",
    "    # Return a sparse tensor so that only the actual results have a value\n",
    "    return tf.scatter_nd(idx, result,shape=tf.shape(outside_horizon))\n",
    "  return integrand\n",
    "\n",
    "\n",
    "def make_vegas_instance(expr,integration_dim, r_critical_value, a_value, extra_args,n_calls = int(1e6),box_size=1e5):\n",
    "  vegas_instance = VegasFlowPlus(integration_dim, n_calls, xmin=[0]*integration_dim,xmax=[box_size]*integration_dim)\n",
    "  integrand = make_integrand(expr, r_critical_value, a_value, extra_args)\n",
    "  vegas_instance.compile(integrand)\n",
    "  return vegas_instance\n"
   ]
  },
  {
   "cell_type": "code",
   "execution_count": 75,
   "metadata": {},
   "outputs": [],
   "source": [
    "class LowerBoundCalculator:\n",
    "    def __init__(self,r_critical_value=r_critical_value,a_value=0,box_size=1e4,n_calls=int(1e6)):\n",
    "        self.a_value=a_value\n",
    "        if a_value!=0:\n",
    "            manifold_expr = num_lower_bound_modified_integrand_over_M\n",
    "            boundary_expr = num_lower_bound_modified_integrand_over_boundary\n",
    "            main_extra_args = [r_critical_value, a_value]\n",
    "        else:\n",
    "            manifold_expr = num_lower_bound_integrand_over_M\n",
    "            boundary_expr = num_lower_bound_integrand_over_boundary\n",
    "            main_extra_args = [r_critical_value]\n",
    "        self.manifold_integrator = make_vegas_instance(expr=manifold_expr,integration_dim=dim,r_critical_value=r_critical_value, a_value=a_value,extra_args=main_extra_args,n_calls=n_calls,box_size=box_size)\n",
    "        if a_value!=0:\n",
    "            self.boundary_integrator = make_vegas_instance(expr=boundary_expr,integration_dim=dim-1,r_critical_value=r_critical_value, a_value=a_value,extra_args=[a_value]+main_extra_args,n_calls=n_calls,box_size=box_size)\n",
    "        return\n",
    "\n",
    "    def run_integration(self,n_iter=5):\n",
    "        result_on_M = self.manifold_integrator.run_integration(n_iter)\n",
    "        if self.a_value!=0:\n",
    "            result_on_boundary = self.boundary_integrator.run_integration(n_iter)\n",
    "        else:\n",
    "            result_on_boundary = [0,0] # we know that the boundary integrand is zero for the a=0 case \n",
    "        lower_bound_M = numerical_normalization*number_quadrants * result_on_M[0]\n",
    "        lower_bound_boundary = numerical_normalization*number_quadrants * result_on_boundary[0]\n",
    "        error_M = numerical_normalization*number_quadrants * result_on_M[1]\n",
    "        error_boundary = numerical_normalization*number_quadrants * result_on_boundary[1]\n",
    "        # number_evaluations_modified = result_on_M[2]['neval'] + result_on_boundary[2]['neval'] # most of these will come from the boundary integral where we set the `limit` parameter higher\n",
    "        total_lower_bound = lower_bound_M + lower_bound_boundary\n",
    "        total_error = error_M + error_boundary\n",
    "        return [\n",
    "            total_lower_bound,\n",
    "            total_error,\n",
    "            lower_bound_M,\n",
    "            error_M,\n",
    "            lower_bound_boundary,\n",
    "            error_boundary,\n",
    "        ]"
   ]
  },
  {
   "cell_type": "markdown",
   "metadata": {},
   "source": [
    "We use the smart VEGAS algorithm (optionally even on GPU!) and this solves our speed problems. Though we choose a small box size to help it focus on the difficult part of the integral"
   ]
  },
  {
   "cell_type": "code",
   "execution_count": 76,
   "metadata": {},
   "outputs": [
    {
     "name": "stderr",
     "output_type": "stream",
     "text": [
      "[INFO] (vegasflow.vflowplus) Events per device limit set to 1000000\n",
      "[INFO] (vegasflow.monte_carlo) Checking whether the integrand outputs the correct shape (note, this will run a very small number of events and potentially trigger a retrace)\n"
     ]
    }
   ],
   "source": [
    "a_equal_0_case = LowerBoundCalculator(a_value=0,box_size=1e5)"
   ]
  },
  {
   "cell_type": "code",
   "execution_count": null,
   "metadata": {},
   "outputs": [],
   "source": [
    "_ = a_equal_0_case.run_integration(n_iter=10) # train the integrator"
   ]
  },
  {
   "cell_type": "code",
   "execution_count": 96,
   "metadata": {},
   "outputs": [
    {
     "name": "stdout",
     "output_type": "stream",
     "text": [
      "Events sent to the computing device: 100.0 %\r"
     ]
    },
    {
     "name": "stderr",
     "output_type": "stream",
     "text": [
      "[INFO] (vegasflow.monte_carlo) Result for iteration 0: 0.5830 +/- 0.0034(took 5.26006 s)\n",
      "[INFO] (vegasflow.monte_carlo)  > Final results: 0.583002 +/- 0.00342583\n"
     ]
    }
   ],
   "source": [
    "result=a_equal_0_case.run_integration(n_iter=1) # actually get the result"
   ]
  },
  {
   "cell_type": "code",
   "execution_count": 97,
   "metadata": {},
   "outputs": [
    {
     "data": {
      "text/markdown": [
       "## Lower bound for mass (expected $m/2=0.25/2=0.125$) of $M_{0.25,+}$ with dimension $n=5$ calculated as $0.04430$ with Monte Carlo error $0.00026$."
      ],
      "text/plain": [
       "<IPython.core.display.Markdown object>"
      ]
     },
     "metadata": {},
     "output_type": "display_data"
    }
   ],
   "source": [
    "schwarzschild_half_space_mass_lower_bound = result[0]\n",
    "m_value=r_critical_value**(dim-2)*2\n",
    "schwarzschild_half_space_mass_lower_bound_sigma = result[1]\n",
    "display(Markdown(f\"## Lower bound for mass (expected $m/2={m_value}/2={m_value/2}$) of $M_{{{m_value},+}}$ with dimension $n={dim}$ calculated as ${schwarzschild_half_space_mass_lower_bound:.5f}$ with Monte Carlo error ${schwarzschild_half_space_mass_lower_bound_sigma:.5f}$.\"))"
   ]
  },
  {
   "cell_type": "markdown",
   "metadata": {},
   "source": [
    "We can now do the same process for $M_{m,\\geq a}$ for $a>0$:"
   ]
  },
  {
   "cell_type": "code",
   "execution_count": 86,
   "metadata": {},
   "outputs": [],
   "source": [
    "a_value = 2\n"
   ]
  },
  {
   "cell_type": "code",
   "execution_count": 87,
   "metadata": {},
   "outputs": [
    {
     "name": "stderr",
     "output_type": "stream",
     "text": [
      "[INFO] (vegasflow.vflowplus) Events per device limit set to 1000000\n",
      "[INFO] (vegasflow.monte_carlo) Checking whether the integrand outputs the correct shape (note, this will run a very small number of events and potentially trigger a retrace)\n"
     ]
    },
    {
     "name": "stderr",
     "output_type": "stream",
     "text": [
      "[INFO] (vegasflow.vflowplus) Events per device limit set to 1000000\n",
      "[INFO] (vegasflow.monte_carlo) Checking whether the integrand outputs the correct shape (note, this will run a very small number of events and potentially trigger a retrace)\n"
     ]
    }
   ],
   "source": [
    "a_equal_2_case = LowerBoundCalculator(a_value=2,box_size=1e5)"
   ]
  },
  {
   "cell_type": "code",
   "execution_count": null,
   "metadata": {},
   "outputs": [],
   "source": [
    "_ = a_equal_2_case.run_integration(n_iter=10) # train the integrator"
   ]
  },
  {
   "cell_type": "code",
   "execution_count": 94,
   "metadata": {},
   "outputs": [
    {
     "name": "stdout",
     "output_type": "stream",
     "text": [
      "Events sent to the computing device: 100.0 %\r"
     ]
    },
    {
     "name": "stderr",
     "output_type": "stream",
     "text": [
      "[INFO] (vegasflow.monte_carlo) Result for iteration 0: 2.922e-03 +/- 3.568e-06(took 5.32303 s)\n",
      "[INFO] (vegasflow.monte_carlo)  > Final results: 0.00292156 +/- 3.56756e-06\n"
     ]
    },
    {
     "name": "stdout",
     "output_type": "stream",
     "text": [
      "Events sent to the computing device: 100.0 %\r"
     ]
    },
    {
     "name": "stderr",
     "output_type": "stream",
     "text": [
      "[INFO] (vegasflow.monte_carlo) Result for iteration 0: 1.6451 +/- 0.0023(took 4.29163 s)\n",
      "[INFO] (vegasflow.monte_carlo)  > Final results: 1.64506 +/- 0.00227153\n"
     ]
    }
   ],
   "source": [
    "result_modified=a_equal_2_case.run_integration(n_iter=1) # actually get the result"
   ]
  },
  {
   "cell_type": "code",
   "execution_count": 95,
   "metadata": {},
   "outputs": [
    {
     "data": {
      "text/markdown": [
       "## Lower bound for mass $m/2=0.125$ of $M_{m,\\geq 2}$ calculated as $0.12523$ with Monte Carlo error $0.00017$."
      ],
      "text/plain": [
       "<IPython.core.display.Markdown object>"
      ]
     },
     "metadata": {},
     "output_type": "display_data"
    }
   ],
   "source": [
    "modified_schwarzschild_half_space_mass_lower_bound = result_modified[0]\n",
    "error_estimate_modified = result_modified[1]\n",
    "display(Markdown(f\"## Lower bound for mass $m/2={m_value/2}$ of $M_{{m,\\geq {a_value}}}$ calculated as ${modified_schwarzschild_half_space_mass_lower_bound:.5f}$ with Monte Carlo error ${error_estimate_modified:.5f}$.\"))"
   ]
  },
  {
   "cell_type": "markdown",
   "metadata": {},
   "source": [
    "We can repeat this calculation for different values of $a$ and plot the results:"
   ]
  },
  {
   "cell_type": "markdown",
   "metadata": {},
   "source": [
    "Computing the values for the plot might take a while"
   ]
  },
  {
   "cell_type": "code",
   "execution_count": 98,
   "metadata": {},
   "outputs": [
    {
     "name": "stderr",
     "output_type": "stream",
     "text": [
      "[INFO] (vegasflow.vflowplus) Events per device limit set to 1000000\n",
      "[INFO] (vegasflow.monte_carlo) Checking whether the integrand outputs the correct shape (note, this will run a very small number of events and potentially trigger a retrace)\n",
      "[INFO] (vegasflow.vflowplus) Events per device limit set to 1000000\n",
      "[INFO] (vegasflow.monte_carlo) Checking whether the integrand outputs the correct shape (note, this will run a very small number of events and potentially trigger a retrace)\n",
      "[INFO] (vegasflow.vflowplus) Events per device limit set to 1000000\n",
      "[INFO] (vegasflow.monte_carlo) Checking whether the integrand outputs the correct shape (note, this will run a very small number of events and potentially trigger a retrace)\n",
      "[INFO] (vegasflow.vflowplus) Events per device limit set to 1000000\n",
      "[INFO] (vegasflow.monte_carlo) Checking whether the integrand outputs the correct shape (note, this will run a very small number of events and potentially trigger a retrace)\n",
      "[INFO] (vegasflow.vflowplus) Events per device limit set to 1000000\n",
      "[INFO] (vegasflow.monte_carlo) Checking whether the integrand outputs the correct shape (note, this will run a very small number of events and potentially trigger a retrace)\n",
      "[INFO] (vegasflow.vflowplus) Events per device limit set to 1000000\n",
      "[INFO] (vegasflow.monte_carlo) Checking whether the integrand outputs the correct shape (note, this will run a very small number of events and potentially trigger a retrace)\n",
      "[INFO] (vegasflow.vflowplus) Events per device limit set to 1000000\n",
      "[INFO] (vegasflow.monte_carlo) Checking whether the integrand outputs the correct shape (note, this will run a very small number of events and potentially trigger a retrace)\n",
      "[INFO] (vegasflow.vflowplus) Events per device limit set to 1000000\n",
      "[INFO] (vegasflow.monte_carlo) Checking whether the integrand outputs the correct shape (note, this will run a very small number of events and potentially trigger a retrace)\n"
     ]
    }
   ],
   "source": [
    "a_values = np.array([1,2,5,10,100])\n",
    "r_critical_value = 0.5\n",
    "lower_bound_calculators = [(LowerBoundCalculator(a_value=a_value,r_critical_value=r_critical_value,box_size=1e5) if a_value!=2 else a_equal_2_case) for a_value in a_values]"
   ]
  },
  {
   "cell_type": "code",
   "execution_count": 99,
   "metadata": {},
   "outputs": [
    {
     "name": "stdout",
     "output_type": "stream",
     "text": [
      "Events sent to the computing device: 100.0 %\r"
     ]
    },
    {
     "name": "stderr",
     "output_type": "stream",
     "text": [
      "[INFO] (vegasflow.monte_carlo) Result for iteration 0: 5.364e-12 +/- 4.084e-12(took 9.87426 s)\n"
     ]
    },
    {
     "name": "stdout",
     "output_type": "stream",
     "text": [
      "Events sent to the computing device: 100.0 %\r"
     ]
    },
    {
     "name": "stderr",
     "output_type": "stream",
     "text": [
      "[INFO] (vegasflow.monte_carlo) Result for iteration 1: 2.062e-09 +/- 1.403e-09(took 5.74179 s)\n"
     ]
    },
    {
     "name": "stdout",
     "output_type": "stream",
     "text": [
      "Events sent to the computing device: 100.0 %\r"
     ]
    },
    {
     "name": "stderr",
     "output_type": "stream",
     "text": [
      "[INFO] (vegasflow.monte_carlo) Result for iteration 2: 2.203e-08 +/- 4.315e-09(took 5.35212 s)\n"
     ]
    },
    {
     "name": "stdout",
     "output_type": "stream",
     "text": [
      "Events sent to the computing device: 100.0 %\r"
     ]
    },
    {
     "name": "stderr",
     "output_type": "stream",
     "text": [
      "[INFO] (vegasflow.monte_carlo) Result for iteration 3: 2.863e-05 +/- 1.467e-05(took 5.40462 s)\n"
     ]
    },
    {
     "name": "stdout",
     "output_type": "stream",
     "text": [
      "Events sent to the computing device: 100.0 %\r"
     ]
    },
    {
     "name": "stderr",
     "output_type": "stream",
     "text": [
      "[INFO] (vegasflow.monte_carlo) Result for iteration 4: 6.458e-03 +/- 2.280e-03(took 7.11961 s)\n"
     ]
    },
    {
     "name": "stdout",
     "output_type": "stream",
     "text": [
      "Events sent to the computing device: 100.0 %\r"
     ]
    },
    {
     "name": "stderr",
     "output_type": "stream",
     "text": [
      "[INFO] (vegasflow.monte_carlo) Result for iteration 5: 2.313e-02 +/- 6.658e-04(took 7.23153 s)\n"
     ]
    },
    {
     "name": "stdout",
     "output_type": "stream",
     "text": [
      "Events sent to the computing device: 100.0 %\r"
     ]
    },
    {
     "name": "stderr",
     "output_type": "stream",
     "text": [
      "[INFO] (vegasflow.monte_carlo) Result for iteration 6: 2.259e-02 +/- 2.879e-05(took 7.99112 s)\n",
      "[INFO] (vegasflow.monte_carlo)  > Final results: 5.40182e-12 +/- 4.08389e-12\n"
     ]
    },
    {
     "name": "stdout",
     "output_type": "stream",
     "text": [
      "Events sent to the computing device: 100.0 %\r"
     ]
    },
    {
     "name": "stderr",
     "output_type": "stream",
     "text": [
      "[INFO] (vegasflow.monte_carlo) Result for iteration 0: 2.881e-02 +/- 2.224e-02(took 5.91915 s)\n"
     ]
    },
    {
     "name": "stdout",
     "output_type": "stream",
     "text": [
      "Events sent to the computing device: 100.0 %\r"
     ]
    },
    {
     "name": "stderr",
     "output_type": "stream",
     "text": [
      "[INFO] (vegasflow.monte_carlo) Result for iteration 1: 2.924e-02 +/- 1.579e-02(took 4.70474 s)\n"
     ]
    },
    {
     "name": "stdout",
     "output_type": "stream",
     "text": [
      "Events sent to the computing device: 100.0 %\r"
     ]
    },
    {
     "name": "stderr",
     "output_type": "stream",
     "text": [
      "[INFO] (vegasflow.monte_carlo) Result for iteration 2: 0.1985 +/- 0.0367(took 4.88999 s)\n"
     ]
    },
    {
     "name": "stdout",
     "output_type": "stream",
     "text": [
      "Events sent to the computing device: 100.0 %\r"
     ]
    },
    {
     "name": "stderr",
     "output_type": "stream",
     "text": [
      "[INFO] (vegasflow.monte_carlo) Result for iteration 3: 1.4716 +/- 0.0960(took 3.50698 s)\n"
     ]
    },
    {
     "name": "stdout",
     "output_type": "stream",
     "text": [
      "Events sent to the computing device: 100.0 %\r"
     ]
    },
    {
     "name": "stderr",
     "output_type": "stream",
     "text": [
      "[INFO] (vegasflow.monte_carlo) Result for iteration 4: 1.6271 +/- 0.0029(took 3.69062 s)\n"
     ]
    },
    {
     "name": "stdout",
     "output_type": "stream",
     "text": [
      "Events sent to the computing device: 100.0 %\r"
     ]
    },
    {
     "name": "stderr",
     "output_type": "stream",
     "text": [
      "[INFO] (vegasflow.monte_carlo) Result for iteration 5: 1.6245 +/- 0.0016(took 3.61190 s)\n"
     ]
    },
    {
     "name": "stdout",
     "output_type": "stream",
     "text": [
      "Events sent to the computing device: 100.0 %\r"
     ]
    },
    {
     "name": "stderr",
     "output_type": "stream",
     "text": [
      "[INFO] (vegasflow.monte_carlo) Result for iteration 6: 1.6265 +/- 0.0033(took 3.95268 s)\n",
      "[INFO] (vegasflow.monte_carlo)  > Final results: 1.60772 +/- 0.0012825\n"
     ]
    },
    {
     "name": "stdout",
     "output_type": "stream",
     "text": [
      "Events sent to the computing device: 100.0 %\r"
     ]
    },
    {
     "name": "stderr",
     "output_type": "stream",
     "text": [
      "[INFO] (vegasflow.monte_carlo) Result for iteration 0: 9.652e-12 +/- 9.083e-12(took 8.07647 s)\n"
     ]
    },
    {
     "name": "stdout",
     "output_type": "stream",
     "text": [
      "Events sent to the computing device: 100.0 %\r"
     ]
    },
    {
     "name": "stderr",
     "output_type": "stream",
     "text": [
      "[INFO] (vegasflow.monte_carlo) Result for iteration 1: 1.094e-09 +/- 5.428e-10(took 5.86409 s)\n"
     ]
    },
    {
     "name": "stdout",
     "output_type": "stream",
     "text": [
      "Events sent to the computing device: 100.0 %\r"
     ]
    },
    {
     "name": "stderr",
     "output_type": "stream",
     "text": [
      "[INFO] (vegasflow.monte_carlo) Result for iteration 2: 2.358e-07 +/- 1.552e-07(took 6.36310 s)\n"
     ]
    },
    {
     "name": "stdout",
     "output_type": "stream",
     "text": [
      "Events sent to the computing device: 100.0 %\r"
     ]
    },
    {
     "name": "stderr",
     "output_type": "stream",
     "text": [
      "[INFO] (vegasflow.monte_carlo) Result for iteration 3: 9.897e-05 +/- 5.328e-05(took 5.16644 s)\n"
     ]
    },
    {
     "name": "stdout",
     "output_type": "stream",
     "text": [
      "Events sent to the computing device: 100.0 %\r"
     ]
    },
    {
     "name": "stderr",
     "output_type": "stream",
     "text": [
      "[INFO] (vegasflow.monte_carlo) Result for iteration 4: 1.910e-04 +/- 5.922e-06(took 5.35654 s)\n"
     ]
    },
    {
     "name": "stdout",
     "output_type": "stream",
     "text": [
      "Events sent to the computing device: 100.0 %\r"
     ]
    },
    {
     "name": "stderr",
     "output_type": "stream",
     "text": [
      "[INFO] (vegasflow.monte_carlo) Result for iteration 5: 1.879e-04 +/- 4.457e-07(took 5.09255 s)\n"
     ]
    },
    {
     "name": "stdout",
     "output_type": "stream",
     "text": [
      "Events sent to the computing device: 100.0 %\r"
     ]
    },
    {
     "name": "stderr",
     "output_type": "stream",
     "text": [
      "[INFO] (vegasflow.monte_carlo) Result for iteration 6: 1.879e-04 +/- 1.651e-07(took 5.01349 s)\n",
      "[INFO] (vegasflow.monte_carlo)  > Final results: 1.06031e-11 +/- 9.08195e-12\n"
     ]
    },
    {
     "name": "stdout",
     "output_type": "stream",
     "text": [
      "Events sent to the computing device: 100.0 %\r"
     ]
    },
    {
     "name": "stderr",
     "output_type": "stream",
     "text": [
      "[INFO] (vegasflow.monte_carlo) Result for iteration 0: 2.796e-03 +/- 4.856e-04(took 4.43561 s)\n"
     ]
    },
    {
     "name": "stdout",
     "output_type": "stream",
     "text": [
      "Events sent to the computing device: 100.0 %\r"
     ]
    },
    {
     "name": "stderr",
     "output_type": "stream",
     "text": [
      "[INFO] (vegasflow.monte_carlo) Result for iteration 1: 0.1038 +/- 0.0509(took 4.29391 s)\n"
     ]
    },
    {
     "name": "stdout",
     "output_type": "stream",
     "text": [
      "Events sent to the computing device: 100.0 %\r"
     ]
    },
    {
     "name": "stderr",
     "output_type": "stream",
     "text": [
      "[INFO] (vegasflow.monte_carlo) Result for iteration 2: 0.6531 +/- 0.1081(took 3.76619 s)\n"
     ]
    },
    {
     "name": "stdout",
     "output_type": "stream",
     "text": [
      "Events sent to the computing device: 100.0 %\r"
     ]
    },
    {
     "name": "stderr",
     "output_type": "stream",
     "text": [
      "[INFO] (vegasflow.monte_carlo) Result for iteration 3: 1.6362 +/- 0.0139(took 3.49258 s)\n"
     ]
    },
    {
     "name": "stdout",
     "output_type": "stream",
     "text": [
      "Events sent to the computing device: 100.0 %\r"
     ]
    },
    {
     "name": "stderr",
     "output_type": "stream",
     "text": [
      "[INFO] (vegasflow.monte_carlo) Result for iteration 4: 1.6459 +/- 0.0036(took 3.42108 s)\n"
     ]
    },
    {
     "name": "stdout",
     "output_type": "stream",
     "text": [
      "Events sent to the computing device: 100.0 %\r"
     ]
    },
    {
     "name": "stderr",
     "output_type": "stream",
     "text": [
      "[INFO] (vegasflow.monte_carlo) Result for iteration 5: 1.6485 +/- 0.0033(took 3.37715 s)\n"
     ]
    },
    {
     "name": "stdout",
     "output_type": "stream",
     "text": [
      "Events sent to the computing device: 100.0 %\r"
     ]
    },
    {
     "name": "stderr",
     "output_type": "stream",
     "text": [
      "[INFO] (vegasflow.monte_carlo) Result for iteration 6: 1.6449 +/- 0.0021(took 3.67862 s)\n",
      "[INFO] (vegasflow.monte_carlo)  > Final results: 0.147539 +/- 0.000463692\n"
     ]
    },
    {
     "name": "stdout",
     "output_type": "stream",
     "text": [
      "Events sent to the computing device: 100.0 %\r"
     ]
    },
    {
     "name": "stderr",
     "output_type": "stream",
     "text": [
      "[INFO] (vegasflow.monte_carlo) Result for iteration 0: 2.431e-13 +/- 9.231e-14(took 8.30254 s)\n"
     ]
    },
    {
     "name": "stdout",
     "output_type": "stream",
     "text": [
      "Events sent to the computing device: 100.0 %\r"
     ]
    },
    {
     "name": "stderr",
     "output_type": "stream",
     "text": [
      "[INFO] (vegasflow.monte_carlo) Result for iteration 1: 8.706e-11 +/- 7.145e-11(took 5.11349 s)\n"
     ]
    },
    {
     "name": "stdout",
     "output_type": "stream",
     "text": [
      "Events sent to the computing device: 100.0 %\r"
     ]
    },
    {
     "name": "stderr",
     "output_type": "stream",
     "text": [
      "[INFO] (vegasflow.monte_carlo) Result for iteration 2: 1.847e-07 +/- 1.752e-07(took 5.38319 s)\n"
     ]
    },
    {
     "name": "stdout",
     "output_type": "stream",
     "text": [
      "Events sent to the computing device: 100.0 %\r"
     ]
    },
    {
     "name": "stderr",
     "output_type": "stream",
     "text": [
      "[INFO] (vegasflow.monte_carlo) Result for iteration 3: 2.813e-06 +/- 1.038e-06(took 5.98674 s)\n"
     ]
    },
    {
     "name": "stdout",
     "output_type": "stream",
     "text": [
      "Events sent to the computing device: 100.0 %\r"
     ]
    },
    {
     "name": "stderr",
     "output_type": "stream",
     "text": [
      "[INFO] (vegasflow.monte_carlo) Result for iteration 4: 2.063e-05 +/- 1.072e-06(took 4.78263 s)\n"
     ]
    },
    {
     "name": "stdout",
     "output_type": "stream",
     "text": [
      "Events sent to the computing device: 100.0 %\r"
     ]
    },
    {
     "name": "stderr",
     "output_type": "stream",
     "text": [
      "[INFO] (vegasflow.monte_carlo) Result for iteration 5: 2.353e-05 +/- 2.605e-08(took 4.76123 s)\n"
     ]
    },
    {
     "name": "stdout",
     "output_type": "stream",
     "text": [
      "Events sent to the computing device: 100.0 %\r"
     ]
    },
    {
     "name": "stderr",
     "output_type": "stream",
     "text": [
      "[INFO] (vegasflow.monte_carlo) Result for iteration 6: 2.347e-05 +/- 2.187e-08(took 5.83056 s)\n",
      "[INFO] (vegasflow.monte_carlo)  > Final results: 2.43966e-13 +/- 9.23133e-14\n"
     ]
    },
    {
     "name": "stdout",
     "output_type": "stream",
     "text": [
      "Events sent to the computing device: 100.0 %\r"
     ]
    },
    {
     "name": "stderr",
     "output_type": "stream",
     "text": [
      "[INFO] (vegasflow.monte_carlo) Result for iteration 0: 7.398e-03 +/- 1.570e-03(took 4.25372 s)\n"
     ]
    },
    {
     "name": "stdout",
     "output_type": "stream",
     "text": [
      "Events sent to the computing device: 100.0 %\r"
     ]
    },
    {
     "name": "stderr",
     "output_type": "stream",
     "text": [
      "[INFO] (vegasflow.monte_carlo) Result for iteration 1: 1.6844 +/- 1.5531(took 3.65853 s)\n"
     ]
    },
    {
     "name": "stdout",
     "output_type": "stream",
     "text": [
      "Events sent to the computing device: 100.0 %\r"
     ]
    },
    {
     "name": "stderr",
     "output_type": "stream",
     "text": [
      "[INFO] (vegasflow.monte_carlo) Result for iteration 2: 1.0422 +/- 0.0863(took 3.94120 s)\n"
     ]
    },
    {
     "name": "stdout",
     "output_type": "stream",
     "text": [
      "Events sent to the computing device: 100.0 %\r"
     ]
    },
    {
     "name": "stderr",
     "output_type": "stream",
     "text": [
      "[INFO] (vegasflow.monte_carlo) Result for iteration 3: 1.6496 +/- 0.0071(took 4.57888 s)\n"
     ]
    },
    {
     "name": "stdout",
     "output_type": "stream",
     "text": [
      "Events sent to the computing device: 100.0 %\r"
     ]
    },
    {
     "name": "stderr",
     "output_type": "stream",
     "text": [
      "[INFO] (vegasflow.monte_carlo) Result for iteration 4: 1.6471 +/- 0.0032(took 4.44276 s)\n"
     ]
    },
    {
     "name": "stdout",
     "output_type": "stream",
     "text": [
      "Events sent to the computing device: 100.0 %\r"
     ]
    },
    {
     "name": "stderr",
     "output_type": "stream",
     "text": [
      "[INFO] (vegasflow.monte_carlo) Result for iteration 5: 1.6446 +/- 0.0017(took 4.61179 s)\n"
     ]
    },
    {
     "name": "stdout",
     "output_type": "stream",
     "text": [
      "Events sent to the computing device: 100.0 %\r"
     ]
    },
    {
     "name": "stderr",
     "output_type": "stream",
     "text": [
      "[INFO] (vegasflow.monte_carlo) Result for iteration 6: 1.6431 +/- 0.0025(took 4.66606 s)\n",
      "[INFO] (vegasflow.monte_carlo)  > Final results: 1.00592 +/- 0.000980384\n"
     ]
    },
    {
     "name": "stdout",
     "output_type": "stream",
     "text": [
      "Events sent to the computing device: 100.0 %\r"
     ]
    },
    {
     "name": "stderr",
     "output_type": "stream",
     "text": [
      "[INFO] (vegasflow.monte_carlo) Result for iteration 0: 2.291e-11 +/- 2.249e-11(took 9.33579 s)\n"
     ]
    },
    {
     "name": "stdout",
     "output_type": "stream",
     "text": [
      "Events sent to the computing device: 100.0 %\r"
     ]
    },
    {
     "name": "stderr",
     "output_type": "stream",
     "text": [
      "[INFO] (vegasflow.monte_carlo) Result for iteration 1: 2.037e-10 +/- 8.043e-11(took 5.98872 s)\n"
     ]
    },
    {
     "name": "stdout",
     "output_type": "stream",
     "text": [
      "Events sent to the computing device: 100.0 %\r"
     ]
    },
    {
     "name": "stderr",
     "output_type": "stream",
     "text": [
      "[INFO] (vegasflow.monte_carlo) Result for iteration 2: 6.940e-09 +/- 2.651e-09(took 5.77556 s)\n"
     ]
    },
    {
     "name": "stdout",
     "output_type": "stream",
     "text": [
      "Events sent to the computing device: 100.0 %\r"
     ]
    },
    {
     "name": "stderr",
     "output_type": "stream",
     "text": [
      "[INFO] (vegasflow.monte_carlo) Result for iteration 3: 2.350e-08 +/- 4.149e-10(took 6.01429 s)\n"
     ]
    },
    {
     "name": "stdout",
     "output_type": "stream",
     "text": [
      "Events sent to the computing device: 100.0 %\r"
     ]
    },
    {
     "name": "stderr",
     "output_type": "stream",
     "text": [
      "[INFO] (vegasflow.monte_carlo) Result for iteration 4: 2.355e-08 +/- 4.949e-11(took 5.65760 s)\n"
     ]
    },
    {
     "name": "stdout",
     "output_type": "stream",
     "text": [
      "Events sent to the computing device: 100.0 %\r"
     ]
    },
    {
     "name": "stderr",
     "output_type": "stream",
     "text": [
      "[INFO] (vegasflow.monte_carlo) Result for iteration 5: 2.359e-08 +/- 5.172e-11(took 5.33735 s)\n"
     ]
    },
    {
     "name": "stdout",
     "output_type": "stream",
     "text": [
      "Events sent to the computing device: 100.0 %\r"
     ]
    },
    {
     "name": "stderr",
     "output_type": "stream",
     "text": [
      "[INFO] (vegasflow.monte_carlo) Result for iteration 6: 2.361e-08 +/- 5.679e-11(took 5.50403 s)\n",
      "[INFO] (vegasflow.monte_carlo)  > Final results: 8.03913e-09 +/- 1.75948e-11\n"
     ]
    },
    {
     "name": "stdout",
     "output_type": "stream",
     "text": [
      "Events sent to the computing device: 100.0 %\r"
     ]
    },
    {
     "name": "stderr",
     "output_type": "stream",
     "text": [
      "[INFO] (vegasflow.monte_carlo) Result for iteration 0: 0.1144 +/- 0.0421(took 4.93305 s)\n"
     ]
    },
    {
     "name": "stdout",
     "output_type": "stream",
     "text": [
      "Events sent to the computing device: 100.0 %\r"
     ]
    },
    {
     "name": "stderr",
     "output_type": "stream",
     "text": [
      "[INFO] (vegasflow.monte_carlo) Result for iteration 1: 0.9443 +/- 0.2141(took 4.69862 s)\n"
     ]
    },
    {
     "name": "stdout",
     "output_type": "stream",
     "text": [
      "Events sent to the computing device: 100.0 %\r"
     ]
    },
    {
     "name": "stderr",
     "output_type": "stream",
     "text": [
      "[INFO] (vegasflow.monte_carlo) Result for iteration 2: 1.6505 +/- 0.0054(took 3.95719 s)\n"
     ]
    },
    {
     "name": "stdout",
     "output_type": "stream",
     "text": [
      "Events sent to the computing device: 100.0 %\r"
     ]
    },
    {
     "name": "stderr",
     "output_type": "stream",
     "text": [
      "[INFO] (vegasflow.monte_carlo) Result for iteration 3: 1.6416 +/- 0.0040(took 4.73144 s)\n"
     ]
    },
    {
     "name": "stdout",
     "output_type": "stream",
     "text": [
      "Events sent to the computing device: 100.0 %\r"
     ]
    },
    {
     "name": "stderr",
     "output_type": "stream",
     "text": [
      "[INFO] (vegasflow.monte_carlo) Result for iteration 4: 1.6448 +/- 0.0014(took 3.99258 s)\n"
     ]
    },
    {
     "name": "stdout",
     "output_type": "stream",
     "text": [
      "Events sent to the computing device: 100.0 %\r"
     ]
    },
    {
     "name": "stderr",
     "output_type": "stream",
     "text": [
      "[INFO] (vegasflow.monte_carlo) Result for iteration 5: 1.6435 +/- 0.0019(took 4.12635 s)\n"
     ]
    },
    {
     "name": "stdout",
     "output_type": "stream",
     "text": [
      "Events sent to the computing device: 100.0 %\r"
     ]
    },
    {
     "name": "stderr",
     "output_type": "stream",
     "text": [
      "[INFO] (vegasflow.monte_carlo) Result for iteration 6: 1.6434 +/- 0.0013(took 4.28510 s)\n",
      "[INFO] (vegasflow.monte_carlo)  > Final results: 1.64343 +/- 0.000824191\n"
     ]
    }
   ],
   "source": [
    "# train integrators\n",
    "for lower_bound_calculator in lower_bound_calculators:\n",
    "  if lower_bound_calculator.a_value == 2:\n",
    "    continue\n",
    "  _ = lower_bound_calculator.run_integration(n_iter=7)"
   ]
  },
  {
   "cell_type": "code",
   "execution_count": 100,
   "metadata": {},
   "outputs": [
    {
     "name": "stdout",
     "output_type": "stream",
     "text": [
      "Events sent to the computing device: 100.0 %\r"
     ]
    },
    {
     "name": "stderr",
     "output_type": "stream",
     "text": [
      "[INFO] (vegasflow.monte_carlo) Result for iteration 0: 2.269e-02 +/- 8.862e-05(took 2.78668 s)\n",
      "[INFO] (vegasflow.monte_carlo)  > Final results: 0.0226898 +/- 8.86225e-05\n"
     ]
    },
    {
     "name": "stdout",
     "output_type": "stream",
     "text": [
      "Events sent to the computing device: 100.0 %\r"
     ]
    },
    {
     "name": "stderr",
     "output_type": "stream",
     "text": [
      "[INFO] (vegasflow.monte_carlo) Result for iteration 0: 1.6256 +/- 0.0028(took 2.05042 s)\n",
      "[INFO] (vegasflow.monte_carlo)  > Final results: 1.62563 +/- 0.00279375\n"
     ]
    },
    {
     "name": "stdout",
     "output_type": "stream",
     "text": [
      "Events sent to the computing device: 100.0 %\r"
     ]
    },
    {
     "name": "stderr",
     "output_type": "stream",
     "text": [
      "[INFO] (vegasflow.monte_carlo) Result for iteration 0: 2.936e-03 +/- 8.921e-06(took 2.27283 s)\n",
      "[INFO] (vegasflow.monte_carlo)  > Final results: 0.00293599 +/- 8.92078e-06\n"
     ]
    },
    {
     "name": "stdout",
     "output_type": "stream",
     "text": [
      "Events sent to the computing device: 100.0 %\r"
     ]
    },
    {
     "name": "stderr",
     "output_type": "stream",
     "text": [
      "[INFO] (vegasflow.monte_carlo) Result for iteration 0: 1.6409 +/- 0.0017(took 1.66138 s)\n",
      "[INFO] (vegasflow.monte_carlo)  > Final results: 1.64093 +/- 0.001748\n"
     ]
    },
    {
     "name": "stdout",
     "output_type": "stream",
     "text": [
      "Events sent to the computing device: 100.0 %\r"
     ]
    },
    {
     "name": "stderr",
     "output_type": "stream",
     "text": [
      "[INFO] (vegasflow.monte_carlo) Result for iteration 0: 1.874e-04 +/- 1.876e-07(took 2.50769 s)\n",
      "[INFO] (vegasflow.monte_carlo)  > Final results: 0.000187362 +/- 1.87577e-07\n"
     ]
    },
    {
     "name": "stdout",
     "output_type": "stream",
     "text": [
      "Events sent to the computing device: 100.0 %\r"
     ]
    },
    {
     "name": "stderr",
     "output_type": "stream",
     "text": [
      "[INFO] (vegasflow.monte_carlo) Result for iteration 0: 1.6449 +/- 0.0019(took 3.06452 s)\n",
      "[INFO] (vegasflow.monte_carlo)  > Final results: 1.64495 +/- 0.00187873\n"
     ]
    },
    {
     "name": "stdout",
     "output_type": "stream",
     "text": [
      "Events sent to the computing device: 100.0 %\r"
     ]
    },
    {
     "name": "stderr",
     "output_type": "stream",
     "text": [
      "[INFO] (vegasflow.monte_carlo) Result for iteration 0: 2.352e-05 +/- 4.829e-08(took 5.06299 s)\n",
      "[INFO] (vegasflow.monte_carlo)  > Final results: 2.35164e-05 +/- 4.82928e-08\n"
     ]
    },
    {
     "name": "stdout",
     "output_type": "stream",
     "text": [
      "Events sent to the computing device: 100.0 %\r"
     ]
    },
    {
     "name": "stderr",
     "output_type": "stream",
     "text": [
      "[INFO] (vegasflow.monte_carlo) Result for iteration 0: 1.6438 +/- 0.0016(took 2.76755 s)\n",
      "[INFO] (vegasflow.monte_carlo)  > Final results: 1.64382 +/- 0.00157843\n"
     ]
    },
    {
     "name": "stdout",
     "output_type": "stream",
     "text": [
      "Events sent to the computing device: 100.0 %\r"
     ]
    },
    {
     "name": "stderr",
     "output_type": "stream",
     "text": [
      "[INFO] (vegasflow.monte_carlo) Result for iteration 0: 2.346e-08 +/- 2.689e-11(took 3.63614 s)\n",
      "[INFO] (vegasflow.monte_carlo)  > Final results: 2.34635e-08 +/- 2.68943e-11\n"
     ]
    },
    {
     "name": "stdout",
     "output_type": "stream",
     "text": [
      "Events sent to the computing device: 100.0 %\r"
     ]
    },
    {
     "name": "stderr",
     "output_type": "stream",
     "text": [
      "[INFO] (vegasflow.monte_carlo) Result for iteration 0: 1.6438 +/- 0.0018(took 2.76849 s)\n",
      "[INFO] (vegasflow.monte_carlo)  > Final results: 1.6438 +/- 0.00176199\n"
     ]
    }
   ],
   "source": [
    "# get results\n",
    "total_lower_bounds,total_errors,lower_bounds_M, errors_M, lower_bounds_boundary, errors_boundary = np.fromiter(\n",
    "  (lower_bound_calculator.run_integration(n_iter=1) for lower_bound_calculator in lower_bound_calculators),\n",
    "  np.dtype((float,6))).transpose()"
   ]
  },
  {
   "cell_type": "code",
   "execution_count": 101,
   "metadata": {},
   "outputs": [
    {
     "data": {
      "image/png": "[encoded data removed]",
      "text/plain": [
       "<Figure size 640x480 with 1 Axes>"
      ]
     },
     "metadata": {},
     "output_type": "display_data"
    }
   ],
   "source": [
    "plt.errorbar(a_values,total_lower_bounds,yerr=total_errors,label=f\"total lower bound\")\n",
    "plt.errorbar(a_values,lower_bounds_M,yerr=errors_M,label=f\"lower bound from integral on $ M_{{{m_value},\\!\\!\\geq a}}$\")\n",
    "plt.errorbar(a_values,lower_bounds_boundary,yerr=errors_boundary,label=f\"lower bound from integral on boundary $\\partial M_{{{m_value},\\!\\!\\geq a}}$\")\n",
    "plt.xscale('log')\n",
    "plt.gca().set_ylim(bottom=0)\n",
    "plt.xlabel(\"$a$ (log-scale)\")\n",
    "plt.ylabel(\"lower bound for mass obtained from harmonic function method\")\n",
    "plt.legend()\n",
    "plt.tight_layout()\n",
    "plt.title(f\"Lower bounds for the mass of $M_{{{m_value},\\!\\!\\geq a}}$ for different values of $a$ and $n={dim}$.\")\n",
    "plt.savefig(\"../figures/lower_bounds_for_different_values_of_a\",bbox_inches='tight')"
   ]
  },
  {
   "cell_type": "markdown",
   "metadata": {},
   "source": [
    "## Plotting the harmonic coordinates"
   ]
  },
  {
   "cell_type": "markdown",
   "metadata": {},
   "source": [
    "### Plotting Utilities"
   ]
  },
  {
   "cell_type": "markdown",
   "metadata": {},
   "source": [
    "Matplotlib does not come with a method of plotting implicit surfaces. The following approach is from [answers to this Stack Overflow question](https://stackoverflow.com/questions/4680525/plotting-implicit-equations-in-3d)."
   ]
  },
  {
   "cell_type": "markdown",
   "metadata": {},
   "source": [
    "```python\n",
    "# https://stackoverflow.com/a/4687582\n",
    "def plot_implicit_using_contours(ax,fn,level_set_value=0, bbox=((-2.5,2.5),(-2.5,2.5),(-2.5,2.5)),resolution=50,samples=30):\n",
    "    \"\"\" Create a plot of a 2d implicite surface fn(x,y,z)=level_set_value using contours\n",
    "\n",
    "    Args:\n",
    "        ax (matplotlib.axes)\n",
    "        fn (function): Function describing the implicit surface\n",
    "        level_set_value (int, optional): Which level set of fn to consider. Defaults to 0.\n",
    "        bbox (tuple, optional): x,y,and z limits of plotted interval. Defaults to ((-2.5,2.5),(-2.5,2.5),(-2.5,2.5)).\n",
    "        resolution (int, optional): Defaults to 50.\n",
    "        samples (int, optional): Number of slices to take\n",
    "    \"\"\"\n",
    "    xmin, xmax = bbox[0]\n",
    "    ymin, ymax = bbox[1]\n",
    "    zmin,zmax = bbox[2]\n",
    "    \n",
    "    xl = np.linspace(xmin, xmax, resolution)\n",
    "    yl = np.linspace(ymin,ymax,resolution)\n",
    "    zl = np.linspace(zmin, zmax, samples)\n",
    "    A1, A2 = np.meshgrid(xl,xl)\n",
    "\n",
    "    for z in zl: # plot contours in the XY plane\n",
    "        X,Y = A1,A2\n",
    "        Z = fn(X,Y,z)-level_set_value\n",
    "        cset = ax.contour(X, Y, Z+z-level_set_value, [z], zdir='z')\n",
    "        # [z] defines the only level to plot for this contour for this value of z\n",
    "\n",
    "    for y in zl: # plot contours in the XZ plane\n",
    "        X,Z = A1,A2\n",
    "        Y = fn(X,y,Z)-level_set_value\n",
    "        cset = ax.contour(X, Y+y, Z, [y], zdir='y')\n",
    "\n",
    "    for x in zl: # plot contours in the YZ plane\n",
    "        Y,Z = A1,A2\n",
    "        X = fn(x,Y,Z)-level_set_value\n",
    "        cset = ax.contour(X+x, Y, Z, [x], zdir='x')\n",
    "\n",
    "    # must set plot limits because the contour will likely extend\n",
    "    # way beyond the displayed level.  Otherwise matplotlib extends the plot limits\n",
    "    # to encompass all values in the contour.\n",
    "    ax.set_zlim3d(zmin,zmax)\n",
    "    ax.set_xlim3d(xmin,xmax)\n",
    "    ax.set_ylim3d(ymin,ymax)\n",
    "\n",
    "def plot_implicit_using_marching_cubes(ax,fn,level_set_value=0,bbox=((-2.5,2.5),(-2.5,2.5),(-2.5,2.5)),resolution=50):\n",
    "    \"\"\" Create a plot of a 2d implicit surface fn(x,y,z)=level_set_value using marching cubes\n",
    "\n",
    "    Args:\n",
    "        ax (matplotlib.axes)\n",
    "        fn (function): Function describing the implicit surface\n",
    "        level_set_value (int, optional): Which level set of fn to consider. Defaults to 0.\n",
    "        bbox (tuple, optional): x,y,and z limits of plotted interval. Defaults to ((-2.5,2.5),(-2.5,2.5),(-2.5,2.5)).\n",
    "        resolution (int, optional): Defaults to 50.\n",
    "    \"\"\"\n",
    "    xmin, xmax = bbox[0]\n",
    "    ymin, ymax = bbox[1]\n",
    "    zmin,zmax = bbox[2]\n",
    "    \n",
    "    xl = np.linspace(xmin,xmax, resolution)\n",
    "    yl = np.linspace(ymin,ymax, resolution)\n",
    "    zl = np.linspace(zmin,zmax, resolution)\n",
    "    X, Y, Z = np.meshgrid(xl, yl, zl)\n",
    "    F=fn(X,Y,Z)\n",
    "\n",
    "\n",
    "    verts, faces, normals, values = measure.marching_cubes(F, level_set_value, spacing=[np.diff(xl)[0],np.diff(yl)[0],np.diff(zl)[0]])\n",
    "    # need to correct vertex coordinates as they are expressed in Voxel coordinates\n",
    "    verts += (xmin,ymin,zmin)\n",
    "    \n",
    "    ax.plot_trisurf(verts[:, 0], verts[:, 1], faces, \n",
    "                    verts[:, 2], # color\n",
    "                    cmap='magma',vmin=zmin,vmax=zmax)\n",
    "    \n",
    "    ax.set_zlim3d(zmin,zmax)\n",
    "    ax.set_xlim3d(xmin,xmax)\n",
    "    ax.set_ylim3d(ymin,ymax)\n",
    "    return verts, faces\n",
    "```"
   ]
  },
  {
   "cell_type": "markdown",
   "metadata": {},
   "source": [
    "```python\n",
    "def plot_coordinate_level_sets(coordinate,level_set_values=(0),m_value=1,a_value=0,bbox=((-2.5,2.5),(-2.5,2.5),(-2.5,2.5)),resolution=50):\n",
    "  fn = sympy.lambdify([x1,x2,x1],(coordinate()).subs(((m,m_value),(a,a_value))))\n",
    "\n",
    "  n_plots = len(level_set_values)\n",
    "  n_cols = min(2,n_plots)\n",
    "  n_rows = (n_plots+1)//2\n",
    "\n",
    "  fig = plt.figure(figsize=(10,n_rows*4+1))\n",
    "  fig.suptitle(f\"Level sets of ${sympy.latex(coordinate.symbol)}$ on $M_{{{m_value},\\!\\!\\geq {a_value}}}$\",fontsize=20,y=0,va=\"top\")\n",
    "\n",
    "  axes = fig.subplots(ncols=n_cols,nrows=n_rows,subplot_kw=dict(projection='3d'),squeeze=False)\n",
    "\n",
    "  if n_plots<n_rows*2:\n",
    "    fig.delaxes(axes[n_rows-1,n_cols-1]) # delete last axis if unneccessary\n",
    "\n",
    "  for index, level_set_value in enumerate(level_set_values):\n",
    "    ax = axes.flatten()[index]\n",
    "    ax.set_title(f\"${sympy.latex(coordinate.symbol)}={level_set_value:.2f}$\",fontsize=16,pad=0)\n",
    "    ax.locator_params(nbins=4)\n",
    "    \n",
    "    plot_implicit_using_marching_cubes(ax,fn,level_set_value,bbox=bbox,resolution=resolution)\n",
    "    ax.set_aspect('equal')\n",
    "  fig.tight_layout(h_pad=5)\n",
    "  return fig\n",
    "```"
   ]
  },
  {
   "cell_type": "markdown",
   "metadata": {},
   "source": [
    "### Plots for $M_{m,+}=M_{m,\\geq 0}$"
   ]
  },
  {
   "cell_type": "markdown",
   "metadata": {},
   "source": [
    "```python\n",
    "fig=plot_coordinate_level_sets(u1,[0,0.1,0.2,0.3,0.4,0.5,0.6,0.7],bbox=[(-1.5,1.5),(-1.5,1.5),(0,1.1)])\n",
    "fig.savefig(\"../figures/level_sets_u1_unmodified\",bbox_inches='tight')\n",
    "````"
   ]
  },
  {
   "cell_type": "markdown",
   "metadata": {},
   "source": [
    "```python\n",
    "plot_coordinate_level_sets(u2,[-0.75,-0.5,-0.25,0,0.25,0.5,0.75],bbox=[(-1.1,1.1),(-1.1,1.1),(0,1.1)])\n",
    "plt.savefig(\"../figures/level_sets_u2_unmodified\",bbox_inches=\"tight\")\n",
    "```"
   ]
  },
  {
   "cell_type": "markdown",
   "metadata": {},
   "source": [
    "### Plots for $M_{m,\\!\\!\\geq a}$. We can symbolically check that the boundary $x_3=a$ is actually a level set. Numerically this level set is not quite correctly computed due to rounding errors. "
   ]
  },
  {
   "cell_type": "markdown",
   "metadata": {},
   "source": [
    "```python\n",
    "for a_value in [0.1,0.3]:\n",
    "  fig=plot_coordinate_level_sets(u1_modified,np.array([0,0.1,0.2,0.3,0.4,0.5,0.6,0.7])+a_value,a_value=a_value,bbox=[(-1.1,1.1),(-1.1,1.1),(0,1.5)],resolution=100)\n",
    "  fig.savefig(f'../figures/level_sets_u1_modified_with_a_{a_value}.png',bbox_inches='tight')\n",
    "```"
   ]
  }
 ],
 "metadata": {
  "kernelspec": {
   "display_name": ".nix-venv",
   "language": "python",
   "name": "python3"
  },
  "language_info": {
   "codemirror_mode": {
    "name": "ipython",
    "version": 3
   },
   "file_extension": ".py",
   "mimetype": "text/x-python",
   "name": "python",
   "nbconvert_exporter": "python",
   "pygments_lexer": "ipython3",
   "version": "3.11.8"
  },
  "orig_nbformat": 4
 },
 "nbformat": 4,
 "nbformat_minor": 2
}

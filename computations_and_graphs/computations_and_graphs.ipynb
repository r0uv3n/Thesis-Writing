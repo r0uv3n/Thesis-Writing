{
 "cells": [
  {
   "cell_type": "markdown",
   "metadata": {},
   "source": [
    "# The harmonic function method and the mass of some Schwarzschild half-spaces - Computations and Graphs"
   ]
  },
  {
   "cell_type": "markdown",
   "metadata": {},
   "source": [
    "In this Jupyter Notebook, we will do two main things for our examples from Section 8:\n",
    "- Compute the lower bound given by Theorem 3.9\n",
    "- Plot the level sets of the harmonic coordinates"
   ]
  },
  {
   "cell_type": "markdown",
   "metadata": {},
   "source": [
    "### Setting up the Python environment"
   ]
  },
  {
   "cell_type": "code",
   "execution_count": 1,
   "metadata": {},
   "outputs": [],
   "source": [
    "# This file is present both as .ipynb as well as .py. For the latter, the `# %%` comment denote borders between cells so the Python file can be treated like an Jupyter notebook as well. The function below checks if the Python file is running inside a Jupyter Notebook\n",
    "def is_notebook() -> bool:\n",
    "  try:\n",
    "    shell = get_ipython().__class__.__name__ # type: ignore[reportUndefinedVariable]\n",
    "    if shell in ('ZMQInteractiveShell','XPythonShell'):\n",
    "        return True   # Jupyter notebook or qtconsole\n",
    "    elif shell == 'TerminalInteractiveShell':\n",
    "        return False  # Terminal running IPython\n",
    "    else:\n",
    "        return False  # Other type (?)\n",
    "  except NameError:\n",
    "    return False      # Probably standard Python interpreter"
   ]
  },
  {
   "cell_type": "code",
   "execution_count": 2,
   "metadata": {},
   "outputs": [
    {
     "name": "stdout",
     "output_type": "stream",
     "text": [
      "Error: \u001b[31mnu::parser::parse_mismatch\u001b[0m\n",
      "\n",
      "  \u001b[31m×\u001b[0m Parse mismatch during operation.\n",
      "   ╭─[\u001b[36;1;4msource\u001b[0m:1:1]\n",
      " \u001b[2m1\u001b[0m │ '/mnt/data/OneDrive/Education/Studium/Bachelor-Arbeit/Positive Mass Theorem/Thesis Writing/.nix-venv/bin/python' -m pip install gravipy matplotlib scikit-image torchquad\n",
      "   · \u001b[35;1m                                                                                                                 ─┬\u001b[0m\n",
      "   ·                                                                                                                   \u001b[35;1m╰── \u001b[35;1mexpected operator\u001b[0m\u001b[0m\n",
      "   ╰────\n",
      "\n",
      "Note: you may need to restart the kernel to use updated packages.\n"
     ]
    }
   ],
   "source": [
    "if is_notebook():\n",
    "  get_ipython().run_line_magic(\"pip\", \"install gravipy matplotlib scikit-image vegasflow\") # this helps if this Notebook is executed from within e.g. jupyter-cloud.gwdg.de  # type: ignore[reportUndefinedVariable]"
   ]
  },
  {
   "cell_type": "code",
   "execution_count": 3,
   "metadata": {},
   "outputs": [],
   "source": [
    "from gravipy.tensorial import * # import GraviPy package\n",
    "import sympy\n",
    "import numpy as np\n",
    "import scipy\n",
    "import matplotlib.pyplot as plt\n",
    "\n",
    "# for plotting of implicit surfaces (i.e. the level sets)\n",
    "from mpl_toolkits.mplot3d import axes3d\n",
    "from skimage import measure\n",
    "\n",
    "from sympy.utilities.lambdify import lambdastr"
   ]
  },
  {
   "cell_type": "code",
   "execution_count": 4,
   "metadata": {},
   "outputs": [],
   "source": [
    "if is_notebook():\n",
    "  from IPython.display import display, Markdown\n",
    "else:\n",
    "  from rich.markdown import Markdown\n",
    "  from rich.console import Console\n",
    "  console = Console()\n",
    "  display = console.print\n"
   ]
  },
  {
   "cell_type": "markdown",
   "metadata": {},
   "source": [
    "### Setting up the manifold, metric, etc."
   ]
  },
  {
   "cell_type": "code",
   "execution_count": 5,
   "metadata": {},
   "outputs": [],
   "source": [
    "dim = 4\n",
    "\n",
    "non_bounded_coords_string = \" \".join(f\"x_{i}\" for i in range(2,dim+1))\n",
    "non_bounded_coords = list(symbols(non_bounded_coords_string, real=True))\n",
    "x1 = symbols(\"x_1\", nonnegative=True)\n",
    "m = symbols(\"m\",positive=True)\n",
    "r_critical = symbols(r\"r_0\",positive=True) \n",
    "# r_critical = (m/2)**(1/(dim-2))\n",
    "\n",
    " \n",
    "coords=[x1]+non_bounded_coords\n",
    "pos = Coordinates(r'\\chi',coords)\n",
    "R=sympy.sqrt(sum(xi**2 for xi in coords))\n",
    "omega=(1+(r_critical/R)**(dim-2))\n",
    "exponent=sympy.Number(4)/(dim-2)\n",
    "# metric = sympy.MatrixSymbol(\"g\",3,3)\n",
    "metric = omega**exponent*sympy.eye(dim)\n",
    "g = MetricTensor('g', pos, metric)\n",
    "Ga = Christoffel(r'\\Gamma', g)"
   ]
  },
  {
   "cell_type": "code",
   "execution_count": 6,
   "metadata": {},
   "outputs": [],
   "source": [
    "# useful for all kinds of integrals\n",
    "volume_element = sympy.sqrt(sympy.Determinant(metric)).simplify()\n",
    "hypersurface_volume_element = sympy.sqrt(sympy.Determinant(metric[1:,1:])).simplify()"
   ]
  },
  {
   "cell_type": "code",
   "execution_count": 7,
   "metadata": {},
   "outputs": [],
   "source": [
    "# metric of hypersurface\n",
    "gamma_metric = omega**exponent*sympy.diag(*([0]+[1]*(dim-1)))\n",
    "gamma = MetricTensor(r'\\gamma', pos, gamma_metric)\n",
    "Ga_gamma = Christoffel(r'\\Gamma_{\\gamma}',gamma)"
   ]
  },
  {
   "cell_type": "markdown",
   "metadata": {},
   "source": [
    "Some utility functions:"
   ]
  },
  {
   "cell_type": "code",
   "execution_count": 8,
   "metadata": {},
   "outputs": [],
   "source": [
    "def laplacian(scalar):\n",
    "  return sum([g(-i,-j)*scalar.covariantD(i,j) for i in range(1,dim+1) for j in range(1,dim+1)])"
   ]
  },
  {
   "cell_type": "code",
   "execution_count": 9,
   "metadata": {},
   "outputs": [],
   "source": [
    "def gradient(symbol):\n",
    "  V = Tensor(r\"\\Nabla \"+str(symbol),1,g)\n",
    "  def compute_V(idxs):\n",
    "    component=sympy.diff(symbol,coords[idxs[0]-1])\n",
    "    V.components.update({idxs:component})\n",
    "    return component\n",
    "  V._compute_contravariant_component=compute_V\n",
    "  return V"
   ]
  },
  {
   "cell_type": "markdown",
   "metadata": {},
   "source": [
    "### Setting up the harmonic coordinates"
   ]
  },
  {
   "cell_type": "markdown",
   "metadata": {},
   "source": [
    "Define all the harmonic coordinates for $M_{m,+}$:"
   ]
  },
  {
   "cell_type": "code",
   "execution_count": 10,
   "metadata": {},
   "outputs": [],
   "source": [
    "u1,*non_bounded_u = [Tensor(f\"u_{i}\",0,g) for i in range(1,dim+1)]\n",
    "harmonic_coords = [u1]+non_bounded_u\n",
    "\n",
    "def make_u_method(x,u):\n",
    "  def u_method(idxs):\n",
    "    component = x*(1+(r_critical/R)**dim)/omega\n",
    "    u.components.update({idxs: component})\n",
    "    return component\n",
    "  return u_method\n",
    "\n",
    "for x, u in zip(coords,harmonic_coords):\n",
    "  u._compute_covariant_component = make_u_method(x,u)"
   ]
  },
  {
   "cell_type": "markdown",
   "metadata": {},
   "source": [
    "And define $u_1$ for the modified Schwarzschild space $M_{m,\\geq a}$ for $a>0$:"
   ]
  },
  {
   "cell_type": "code",
   "execution_count": 11,
   "metadata": {},
   "outputs": [],
   "source": [
    "a = symbols(\"a\")\n",
    "u1_modified = Tensor(\"u_1\",0,g)\n",
    "\n",
    "def u1_modified_method(idxs):\n",
    "    component = (x1+a*(r_critical/R)**(dim-2))/omega\n",
    "    u1_modified.components.update({idxs: component})\n",
    "    return component\n",
    "u1_modified._compute_covariant_component = u1_modified_method"
   ]
  },
  {
   "cell_type": "markdown",
   "metadata": {},
   "source": [
    "## Testing our Setup"
   ]
  },
  {
   "cell_type": "markdown",
   "metadata": {},
   "source": [
    "### What's the mass of our space?"
   ]
  },
  {
   "cell_type": "markdown",
   "metadata": {},
   "source": [
    "We use the spherical symmetry of the solution to avoid the integral, but we do evaluate the integrand in one radial direction (namely along the $x_1$-axis)"
   ]
  },
  {
   "cell_type": "code",
   "execution_count": 12,
   "metadata": {},
   "outputs": [],
   "source": [
    "normal_vector_to_sphere = Tensor(r\"n_{S_r}\",1,g)\n",
    "def n_S_r_compute_covariant_component(idxs):\n",
    "  component = sympy.sqrt(g(idxs[0],idxs[0]))*coords[idxs[0]-1]/R\n",
    "  normal_vector_to_sphere.components.update({idxs:component})\n",
    "  return component\n",
    "normal_vector_to_sphere._compute_covariant_component=n_S_r_compute_covariant_component"
   ]
  },
  {
   "cell_type": "code",
   "execution_count": 13,
   "metadata": {},
   "outputs": [
    {
     "data": {
      "text/latex": [
       "$\\displaystyle \\frac{x_{1} \\sqrt{x_{1}^{2} + x_{2}^{2} + x_{3}^{2} + x_{4}^{2}}}{r_{0}^{2} + x_{1}^{2} + x_{2}^{2} + x_{3}^{2} + x_{4}^{2}}$"
      ],
      "text/plain": [
       "x_1*sqrt(x_1**2 + x_2**2 + x_3**2 + x_4**2)/(r_0**2 + x_1**2 + x_2**2 + x_3**2 + x_4**2)"
      ]
     },
     "execution_count": 13,
     "metadata": {},
     "output_type": "execute_result"
    }
   ],
   "source": [
    "normal_vector_to_sphere(-1)"
   ]
  },
  {
   "cell_type": "code",
   "execution_count": 14,
   "metadata": {},
   "outputs": [],
   "source": [
    "mass_integrand = sum((g.partialD(i,j,i)-g.partialD(i,i,j))*normal_vector_to_sphere(-j) for i,j in list(variations(range(1,dim+1),2,True)))\n",
    "ray_substition = list([coord,0] for coord in non_bounded_coords)\n",
    "ray_mass_integrand = mass_integrand.subs(ray_substition).simplify()"
   ]
  },
  {
   "cell_type": "code",
   "execution_count": 15,
   "metadata": {},
   "outputs": [
    {
     "data": {
      "text/latex": [
       "$\\displaystyle \\frac{12 r_{0}^{2}}{x_{1}^{3}}$"
      ],
      "text/plain": [
       "12*r_0**2/x_1**3"
      ]
     },
     "execution_count": 15,
     "metadata": {},
     "output_type": "execute_result"
    }
   ],
   "source": [
    "ray_mass_integrand"
   ]
  },
  {
   "cell_type": "markdown",
   "metadata": {},
   "source": [
    "Here and in the following we will need the area of an $(n-1)$-sphere"
   ]
  },
  {
   "cell_type": "code",
   "execution_count": 16,
   "metadata": {},
   "outputs": [],
   "source": [
    "sphere_volume = 2*sympy.pi ** (sympy.Number(dim) / 2) / sympy.gamma(sympy.Number(dim) / 2)\n",
    "normalization = 1 / (sphere_volume * 2 * (dim - 1))\n",
    "numerical_normalization = float(normalization)"
   ]
  },
  {
   "cell_type": "code",
   "execution_count": 17,
   "metadata": {},
   "outputs": [
    {
     "data": {
      "text/latex": [
       "$\\displaystyle \\frac{1}{12 \\pi^{2}}$"
      ],
      "text/plain": [
       "1/(12*pi**2)"
      ]
     },
     "execution_count": 17,
     "metadata": {},
     "output_type": "execute_result"
    }
   ],
   "source": [
    "normalization"
   ]
  },
  {
   "cell_type": "code",
   "execution_count": 18,
   "metadata": {},
   "outputs": [],
   "source": [
    "# volume element not strictly needed since we could also use euclidean background metric\n",
    "unnormalized_mass_integral = (ray_mass_integrand*hypersurface_volume_element*(sphere_volume/2*R**(dim-1)).subs(ray_substition)).simplify()\n",
    "unnormalized_mass = sympy.Limit(unnormalized_mass_integral,x1,sympy.oo).simplify()\n",
    "mass = normalization*unnormalized_mass"
   ]
  },
  {
   "cell_type": "markdown",
   "metadata": {},
   "source": [
    "The following should return $m/2=\\tilde{r}^{n-2}$, where $n$ is the dimension."
   ]
  },
  {
   "cell_type": "code",
   "execution_count": 19,
   "metadata": {},
   "outputs": [
    {
     "data": {
      "text/markdown": [
       "The mass is $r_{0}^{2}$"
      ],
      "text/plain": [
       "<IPython.core.display.Markdown object>"
      ]
     },
     "metadata": {},
     "output_type": "display_data"
    }
   ],
   "source": [
    "display(Markdown(f\"The mass is ${sympy.latex(mass)}$\"))\n",
    "assert(mass==(r_critical**(dim-2)).simplify())"
   ]
  },
  {
   "cell_type": "markdown",
   "metadata": {},
   "source": [
    "### Is the mean curvature correct?"
   ]
  },
  {
   "cell_type": "markdown",
   "metadata": {},
   "source": [
    "We compute the mean curvature of the noncompact boundary (observe that the result agrees with our computation in Section 8)"
   ]
  },
  {
   "cell_type": "code",
   "execution_count": 20,
   "metadata": {},
   "outputs": [],
   "source": [
    "normal_vector_to_noncompact_boundary = Tensor(r\"\\nu\",1,g) \n",
    "def nu_compute_covariant_component(idxs):   \n",
    "  if idxs[0]==1:     \n",
    "    component = -sympy.sqrt(g(1,1))   \n",
    "  else:\n",
    "     component = sympy.Number(0)   \n",
    "  normal_vector_to_noncompact_boundary.components.update({idxs:component})  \n",
    "  return component \n",
    "normal_vector_to_noncompact_boundary._compute_covariant_component=nu_compute_covariant_component"
   ]
  },
  {
   "cell_type": "code",
   "execution_count": 21,
   "metadata": {},
   "outputs": [
    {
     "data": {
      "text/markdown": [
       "Mean curvature $H$ of non-compact boundary is $\\frac{6 r_{0}^{2} x_{1}}{\\left(r_{0}^{2} + x_{1}^{2} + x_{2}^{2} + x_{3}^{2} + x_{4}^{2}\\right)^{2}}$, which is the same as $\\frac{2 (n-1)\\tilde{r}^{n-2}}{r^n\\cdot \\omega^{2/(n-2)+1}}x_1=\\frac{6 r_{0}^{2} x_{1}}{\\left(r_{0}^{2} + x_{1}^{2} + x_{2}^{2} + x_{3}^{2} + x_{4}^{2}\\right)^{2}}$."
      ],
      "text/plain": [
       "<IPython.core.display.Markdown object>"
      ]
     },
     "metadata": {},
     "output_type": "display_data"
    }
   ],
   "source": [
    "H=sum(g(-i,-j)*normal_vector_to_noncompact_boundary.covariantD(i,j) for i,j in variations(range(1,dim+1),2,True)).simplify()\n",
    "display(Markdown(f\"Mean curvature $H$ of non-compact boundary is ${sympy.latex(H)}$, which is the same as $\\\\frac{{2 (n-1)\\\\tilde{{r}}^{{n-2}}}}{{r^n\\\\cdot \\omega^{{2/(n-2)+1}}}}x_1={sympy.latex((2*(dim-1)*r_critical**(dim-2)*x1/(R**dim*omega**(sympy.Number(2)/(dim-2)+1))).simplify())}$.\"))\n",
    "assert((H-2*(dim-1)*r_critical**(dim-2)*x1/(R**dim*omega**(sympy.Number(2)/(dim-2)+1))).simplify()==0)"
   ]
  },
  {
   "cell_type": "markdown",
   "metadata": {},
   "source": [
    "\n",
    "The above is greater than $0$ in particular if $x_1>0$."
   ]
  },
  {
   "cell_type": "markdown",
   "metadata": {},
   "source": [
    "### Are our functions truly harmonic?"
   ]
  },
  {
   "cell_type": "code",
   "execution_count": 22,
   "metadata": {},
   "outputs": [
    {
     "data": {
      "text/latex": [
       "$\\displaystyle \\frac{x_{1} \\left(\\frac{r_{0}^{4}}{\\left(x_{1}^{2} + x_{2}^{2} + x_{3}^{2} + x_{4}^{2}\\right)^{2}} + 1\\right)}{\\frac{r_{0}^{2}}{x_{1}^{2} + x_{2}^{2} + x_{3}^{2} + x_{4}^{2}} + 1}$"
      ],
      "text/plain": [
       "x_1*(r_0**4/(x_1**2 + x_2**2 + x_3**2 + x_4**2)**2 + 1)/(r_0**2/(x_1**2 + x_2**2 + x_3**2 + x_4**2) + 1)"
      ]
     },
     "execution_count": 22,
     "metadata": {},
     "output_type": "execute_result"
    }
   ],
   "source": [
    "u1()"
   ]
  },
  {
   "cell_type": "code",
   "execution_count": 23,
   "metadata": {},
   "outputs": [
    {
     "name": "stdout",
     "output_type": "stream",
     "text": [
      "Harmonicity check:\n"
     ]
    },
    {
     "data": {
      "text/markdown": [
       "$\\Delta u_1=0$"
      ],
      "text/plain": [
       "<IPython.core.display.Markdown object>"
      ]
     },
     "metadata": {},
     "output_type": "display_data"
    },
    {
     "data": {
      "text/markdown": [
       "$\\Delta u_2=0$"
      ],
      "text/plain": [
       "<IPython.core.display.Markdown object>"
      ]
     },
     "metadata": {},
     "output_type": "display_data"
    },
    {
     "data": {
      "text/markdown": [
       "$\\Delta u_3=0$"
      ],
      "text/plain": [
       "<IPython.core.display.Markdown object>"
      ]
     },
     "metadata": {},
     "output_type": "display_data"
    },
    {
     "data": {
      "text/markdown": [
       "$\\Delta u_4=0$"
      ],
      "text/plain": [
       "<IPython.core.display.Markdown object>"
      ]
     },
     "metadata": {},
     "output_type": "display_data"
    }
   ],
   "source": [
    "print(\"Harmonicity check:\")\n",
    "for i,u in enumerate(harmonic_coords):\n",
    "  current_laplacian = laplacian(u).simplify()\n",
    "  display(Markdown(f\"$\\Delta u_{i+1}={sympy.latex(current_laplacian)}$\"))\n",
    "  # assert(current_laplacian==0)"
   ]
  },
  {
   "cell_type": "code",
   "execution_count": 24,
   "metadata": {},
   "outputs": [
    {
     "data": {
      "text/markdown": [
       "For $M_{m,\\geq a}$: $\\Delta u_1=0$"
      ],
      "text/plain": [
       "<IPython.core.display.Markdown object>"
      ]
     },
     "metadata": {},
     "output_type": "display_data"
    }
   ],
   "source": [
    "laplacian_modified = laplacian(u1_modified).simplify()\n",
    "display(Markdown(f\"For $M_{{m,\\geq a}}$: $\\Delta u_1={laplacian_modified}$\"))\n",
    "assert(laplacian_modified == 0)"
   ]
  },
  {
   "cell_type": "markdown",
   "metadata": {},
   "source": [
    "### Are the boundary conditions truly fulfilled?"
   ]
  },
  {
   "cell_type": "markdown",
   "metadata": {},
   "source": [
    "For $a=0$ we should in particular have $\\partial_r u_i\\vert_{r=\\tilde{r}}=0$:"
   ]
  },
  {
   "cell_type": "code",
   "execution_count": 25,
   "metadata": {},
   "outputs": [
    {
     "data": {
      "text/markdown": [
       "$\\partial_r u_1\\vert_{r=\\tilde{r}}=0$"
      ],
      "text/plain": [
       "<IPython.core.display.Markdown object>"
      ]
     },
     "metadata": {},
     "output_type": "display_data"
    },
    {
     "data": {
      "text/markdown": [
       "$\\partial_r u_2\\vert_{r=\\tilde{r}}=0$"
      ],
      "text/plain": [
       "<IPython.core.display.Markdown object>"
      ]
     },
     "metadata": {},
     "output_type": "display_data"
    },
    {
     "data": {
      "text/markdown": [
       "$\\partial_r u_3\\vert_{r=\\tilde{r}}=0$"
      ],
      "text/plain": [
       "<IPython.core.display.Markdown object>"
      ]
     },
     "metadata": {},
     "output_type": "display_data"
    },
    {
     "data": {
      "text/markdown": [
       "$\\partial_r u_4\\vert_{r=\\tilde{r}}=0$"
      ],
      "text/plain": [
       "<IPython.core.display.Markdown object>"
      ]
     },
     "metadata": {},
     "output_type": "display_data"
    }
   ],
   "source": [
    "for (i,u) in enumerate(harmonic_coords):\n",
    "  radial_derivative = sum(u.covariantD(i+1)*coords[i] for i in range(dim))\n",
    "  substitution = [x1,sympy.sqrt(r_critical**2-sum(coord**2 for coord in non_bounded_coords))]\n",
    "  radial_derivative_substituted = radial_derivative.subs([substitution]).simplify()\n",
    "  display(Markdown(f\"$\\partial_r u_{i+1}\\\\vert_{{r=\\\\tilde{{r}}}}={sympy.latex(radial_derivative_substituted)}$\"))\n",
    "  assert(radial_derivative_substituted==0)"
   ]
  },
  {
   "cell_type": "markdown",
   "metadata": {},
   "source": [
    "For $a>0$, we should have $\\tilde{u}_1\\vert_{x_1=a}=a$:"
   ]
  },
  {
   "cell_type": "code",
   "execution_count": 26,
   "metadata": {},
   "outputs": [
    {
     "data": {
      "text/markdown": [
       "$\\tilde{u}_1\\vert_{x_1=a}=a$"
      ],
      "text/plain": [
       "<IPython.core.display.Markdown object>"
      ]
     },
     "metadata": {},
     "output_type": "display_data"
    }
   ],
   "source": [
    "u1_modified_at_x1_equal_a=u1_modified().subs([[x1,a]]).simplify()\n",
    "display(Markdown(f\"$\\\\tilde{{u}}_1\\\\vert_{{x_1=a}}={u1_modified_at_x1_equal_a}$\"))\n",
    "assert(u1_modified_at_x1_equal_a==a)"
   ]
  },
  {
   "cell_type": "markdown",
   "metadata": {},
   "source": [
    "### Are there any critical points?"
   ]
  },
  {
   "cell_type": "markdown",
   "metadata": {},
   "source": [
    "It is interesting to consider whether there are any critical points of $u_3$ to be able to discuss how strong the lower bound given by our technique is (see Remark 4.3)."
   ]
  },
  {
   "cell_type": "markdown",
   "metadata": {},
   "source": [
    "##### For $M_{m,+}$ there is at least one (at (0,0,m/2)):"
   ]
  },
  {
   "cell_type": "code",
   "execution_count": 27,
   "metadata": {},
   "outputs": [
    {
     "data": {
      "text/markdown": [
       "On $M_{m,+}$, there is at least one critical point: At $(0,0,\\tilde{r})$ we have $\\operatorname{grad} u_1=\\left[\\begin{matrix}0 & 0 & 0\\end{matrix}\\right]$"
      ],
      "text/plain": [
       "<IPython.core.display.Markdown object>"
      ]
     },
     "metadata": {},
     "output_type": "display_data"
    }
   ],
   "source": [
    "display(\n",
    "    Markdown(\n",
    "        f\"On $M_{{m,+}}$, there is at least one critical point: At $(0,0,\\\\tilde{{r}})$ we have $\\operatorname{{grad}} u_1={sympy.latex(sympy.Array([u1.covariantD(i) for i in range(1,4)]).subs(([(x1,r_critical)]+list(map(lambda coord: (coord,0),non_bounded_coords)))).simplify())}$\"\n",
    "    )\n",
    ")"
   ]
  },
  {
   "cell_type": "markdown",
   "metadata": {},
   "source": [
    "##### For $M_{m,\\geq a}$:"
   ]
  },
  {
   "cell_type": "code",
   "execution_count": 28,
   "metadata": {},
   "outputs": [
    {
     "data": {
      "text/markdown": [
       "On $M_{m,\\geq a} (for $a>0$), $u_1$ has no critical points! \n",
       "                 \n",
       "It suffices to look at the derivative in $x_1$-direction, which is always positive: We have $\\partial_1 u_1=\\frac{2 r_{0}^{2} x_{1} \\left(a r_{0}^{2} + x_{1} \\left(x_{1}^{2} + x_{2}^{2} + x_{3}^{2} + x_{4}^{2}\\right)\\right) - \\left(2 a r_{0}^{2} x_{1} - \\left(x_{1}^{2} + x_{2}^{2} + x_{3}^{2} + x_{4}^{2}\\right)^{2}\\right) \\left(r_{0}^{2} + x_{1}^{2} + x_{2}^{2} + x_{3}^{2} + x_{4}^{2}\\right)}{\\left(x_{1}^{2} + x_{2}^{2} + x_{3}^{2} + x_{4}^{2}\\right) \\left(r_{0}^{2} + x_{1}^{2} + x_{2}^{2} + x_{3}^{2} + x_{4}^{2}\\right)^{2}}$.\n",
       "\n",
       "We can ignore the denominator (which is clearly always positive, since $|x|>0$) and just consider the numerator $- 2 a r_{0}^{2} x_{1}^{3} - 2 a r_{0}^{2} x_{1} x_{2}^{2} - 2 a r_{0}^{2} x_{1} x_{3}^{2} - 2 a r_{0}^{2} x_{1} x_{4}^{2} + 3 r_{0}^{2} x_{1}^{4} + 4 r_{0}^{2} x_{1}^{2} x_{2}^{2} + 4 r_{0}^{2} x_{1}^{2} x_{3}^{2} + 4 r_{0}^{2} x_{1}^{2} x_{4}^{2} + r_{0}^{2} x_{2}^{4} + 2 r_{0}^{2} x_{2}^{2} x_{3}^{2} + 2 r_{0}^{2} x_{2}^{2} x_{4}^{2} + r_{0}^{2} x_{3}^{4} + 2 r_{0}^{2} x_{3}^{2} x_{4}^{2} + r_{0}^{2} x_{4}^{4} + x_{1}^{6} + 3 x_{1}^{4} x_{2}^{2} + 3 x_{1}^{4} x_{3}^{2} + 3 x_{1}^{4} x_{4}^{2} + 3 x_{1}^{2} x_{2}^{4} + 6 x_{1}^{2} x_{2}^{2} x_{3}^{2} + 6 x_{1}^{2} x_{2}^{2} x_{4}^{2} + 3 x_{1}^{2} x_{3}^{4} + 6 x_{1}^{2} x_{3}^{2} x_{4}^{2} + 3 x_{1}^{2} x_{4}^{4} + x_{2}^{6} + 3 x_{2}^{4} x_{3}^{2} + 3 x_{2}^{4} x_{4}^{2} + 3 x_{2}^{2} x_{3}^{4} + 6 x_{2}^{2} x_{3}^{2} x_{4}^{2} + 3 x_{2}^{2} x_{4}^{4} + x_{3}^{6} + 3 x_{3}^{4} x_{4}^{2} + 3 x_{3}^{2} x_{4}^{4} + x_{4}^{6}$.\n",
       "\n",
       "But $x_1\\geq a > 0$ and thus each of the negative terms in front are balanced out by later terms."
      ],
      "text/plain": [
       "<IPython.core.display.Markdown object>"
      ]
     },
     "metadata": {},
     "output_type": "display_data"
    }
   ],
   "source": [
    "relevant_derivative = u1_modified.covariantD(1).simplify()\n",
    "only_numerator = sympy.fraction(relevant_derivative)[0].expand()\n",
    "display(Markdown(f\"\"\"On $M_{{m,\\geq a}} (for $a>0$), $u_1$ has no critical points! \n",
    "                 \n",
    "It suffices to look at the derivative in $x_1$-direction, which is always positive: We have $\\partial_1 u_1={sympy.latex(relevant_derivative)}$.\n",
    "\n",
    "We can ignore the denominator (which is clearly always positive, since $|x|>0$) and just consider the numerator ${sympy.latex(only_numerator)}$.\n",
    "\n",
    "But $x_1\\geq a > 0$ and thus each of the negative terms in front are balanced out by later terms.\"\"\"))"
   ]
  },
  {
   "cell_type": "markdown",
   "metadata": {},
   "source": [
    "## Computation of the lower bound"
   ]
  },
  {
   "cell_type": "markdown",
   "metadata": {},
   "source": [
    "Let's try to compute the lower bound for the mass. We avoid simplifying anything (I once tried to let `sympy` simplify `abs_hessian_u1`, and it did complete, but only after 10 hours!). Even with manual help factoring out $\\omega$ terms and the like, the computation times are still often in the minutes. The numerical integration later on is fast enough to deal with unoptimized expressions."
   ]
  },
  {
   "cell_type": "code",
   "execution_count": 29,
   "metadata": {},
   "outputs": [],
   "source": [
    "abs_nabla_u1=sympy.sqrt(sum(g(-i,-j)*u1.covariantD(i)*u1.covariantD(j) for i in range(1,dim+1) for j in range(1,dim+1)))"
   ]
  },
  {
   "cell_type": "code",
   "execution_count": 30,
   "metadata": {},
   "outputs": [],
   "source": [
    "abs_nabla_u1_modified=sympy.sqrt(sum(g(-i,-j)*u1_modified.covariantD(i)*u1_modified.covariantD(j) for i in range(1,dim+1) for j in range(1,dim+1)))"
   ]
  },
  {
   "cell_type": "code",
   "execution_count": 31,
   "metadata": {},
   "outputs": [],
   "source": [
    "abs_hessian_u1=sympy.sqrt(sum(g(-i,-k)*g(-j,-l)*u1.covariantD(i,j)*u1.covariantD(k,l) for i,j,k,l in list(variations(range(1, dim+1), 4, True))))"
   ]
  },
  {
   "cell_type": "code",
   "execution_count": 32,
   "metadata": {},
   "outputs": [],
   "source": [
    "abs_hessian_u1_modified=sympy.sqrt(sum(g(-i,-k)*g(-j,-l)*u1_modified.covariantD(i,j)*u1_modified.covariantD(k,l) for i,j,k,l in variations(range(1, dim+1), 4, True)))"
   ]
  },
  {
   "cell_type": "markdown",
   "metadata": {},
   "source": [
    "We can now express the integrands. Note that we need to include the volume element. Also we have $R=0$, so the second term in the integrand disappears"
   ]
  },
  {
   "cell_type": "code",
   "execution_count": 33,
   "metadata": {},
   "outputs": [],
   "source": [
    "lower_bound_integrand_over_M=(abs_hessian_u1**2/abs_nabla_u1)*volume_element\n",
    "lower_bound_modified_integrand_over_M=((abs_hessian_u1_modified**2/abs_nabla_u1_modified)*volume_element)"
   ]
  },
  {
   "cell_type": "markdown",
   "metadata": {},
   "source": [
    "We can now also write down the expression for integral term on the boundary (we need to use the volume element of $\\Sigma$ here). Note that the integrand over the boundary vanishes for $M_{m,+}$."
   ]
  },
  {
   "cell_type": "code",
   "execution_count": 34,
   "metadata": {},
   "outputs": [
    {
     "name": "stdout",
     "output_type": "stream",
     "text": [
      "lower_bound_integrand_over_boundary=0\n"
     ]
    }
   ],
   "source": [
    "lower_bound_integrand_over_boundary = 2*(H.subs(x1,0).simplify()*abs_nabla_u1)*hypersurface_volume_element\n",
    "print(f\"{lower_bound_integrand_over_boundary=}\")\n",
    "assert(lower_bound_integrand_over_boundary==0)\n",
    "\n",
    "lower_bound_modified_integrand_over_boundary = 2*(H.subs(x1,a).simplify()*abs_nabla_u1_modified)*hypersurface_volume_element"
   ]
  },
  {
   "cell_type": "markdown",
   "metadata": {},
   "source": [
    "We use `sympy.lambdify` to get numerical expressions for our integrands. "
   ]
  },
  {
   "cell_type": "code",
   "execution_count": 35,
   "metadata": {},
   "outputs": [
    {
     "name": "stderr",
     "output_type": "stream",
     "text": [
      "2024-02-28 10:59:05.276270: E external/local_xla/xla/stream_executor/cuda/cuda_dnn.cc:9261] Unable to register cuDNN factory: Attempting to register factory for plugin cuDNN when one has already been registered\n",
      "2024-02-28 10:59:05.276409: E external/local_xla/xla/stream_executor/cuda/cuda_fft.cc:607] Unable to register cuFFT factory: Attempting to register factory for plugin cuFFT when one has already been registered\n",
      "2024-02-28 10:59:05.280084: E external/local_xla/xla/stream_executor/cuda/cuda_blas.cc:1515] Unable to register cuBLAS factory: Attempting to register factory for plugin cuBLAS when one has already been registered\n",
      "2024-02-28 10:59:05.301822: I tensorflow/core/platform/cpu_feature_guard.cc:182] This TensorFlow binary is optimized to use available CPU instructions in performance-critical operations.\n",
      "To enable the following instructions: AVX2 FMA, in other operations, rebuild TensorFlow with the appropriate compiler flags.\n",
      "2024-02-28 10:59:13.193275: W tensorflow/compiler/tf2tensorrt/utils/py_utils.cc:38] TF-TRT Warning: Could not find TensorRT\n"
     ]
    }
   ],
   "source": [
    "import tensorflow as tf\n",
    "\n",
    "# numerical implementation (reverse args as we want x1 integration to be outermost)\n",
    "num_lower_bound_integrand_over_M = sympy.lambdify(list(reversed(coords))+[r_critical],lower_bound_integrand_over_M,modules=tf)\n",
    "num_lower_bound_integrand_over_boundary = sympy.lambdify(list(reversed(coords))+[r_critical],lower_bound_integrand_over_boundary,modules=tf)\n",
    "\n",
    "# and we shift this one integrand so that the integral will be centered at 0\n",
    "num_lower_bound_modified_integrand_over_M = sympy.lambdify(\n",
    "    list(reversed(coords)) + [r_critical,a], lower_bound_modified_integrand_over_M.subs(x1,x1+a)\n",
    ",modules=tf)\n",
    "num_lower_bound_modified_integrand_over_boundary = sympy.lambdify(\n",
    "    list(reversed(coords)) + [r_critical, a], lower_bound_modified_integrand_over_boundary,modules=tf\n",
    ")"
   ]
  },
  {
   "cell_type": "markdown",
   "metadata": {},
   "source": [
    "We can now do the numerical integration. Due to symmetry we are able to only integrate over one quadrant ($x_2\\geq 0, \\dotsc, x_n\\geq 0$ in addition to the usual $x_1\\geq 0$) and multiply by $2^{n-1}$ afterwards."
   ]
  },
  {
   "cell_type": "code",
   "execution_count": 36,
   "metadata": {},
   "outputs": [],
   "source": [
    "number_quadrants = 2**(dim-1)\n",
    "r_critical_value = 0.5"
   ]
  },
  {
   "cell_type": "code",
   "execution_count": 37,
   "metadata": {},
   "outputs": [],
   "source": [
    "from vegasflow import VegasFlowPlus\n",
    "from vegasflow.utils import generate_condition_function\n",
    "from vegasflow.configflow import DTYPE\n",
    "or_cond = generate_condition_function(2,condition=\"or\")\n",
    "from functools import cache\n",
    "\n",
    "\n",
    "def make_integrand(expr, r_critical_value, a_value, extra_args):\n",
    "  \n",
    "  # Convert extra_args to a TensorFlow tensor\n",
    "  extra_args_tensor = tf.convert_to_tensor(extra_args, dtype=DTYPE)\n",
    "    \n",
    "  def integrand(xarr):\n",
    "    outside_horizon = tf.norm(xarr,axis=1)>r_critical_value\n",
    "    a_nonzero_cond = xarr[:,0]*0+a_value>0\n",
    "    mask,idx = or_cond(outside_horizon,a_nonzero_cond)\n",
    "    masked_xarr = tf.boolean_mask(xarr, mask, axis=0)\n",
    "\n",
    "    # Reshape extra_args to have shape (1, extra_args_size)\n",
    "    extra_args_expanded = tf.expand_dims(extra_args_tensor, axis=0)\n",
    "    \n",
    "    # Broadcast extra_args along the batch dimension to match the batch size of xarr\n",
    "    extra_args_broadcasted = tf.tile(extra_args_expanded, [tf.shape(masked_xarr)[0], 1])\n",
    "    \n",
    "    # Concatenate xarr with extra_args_broadcasted along axis 1\n",
    "    full_expr_args = tf.concat([masked_xarr, extra_args_broadcasted], axis=1)\n",
    "  \n",
    "    result = expr(*tf.unstack(full_expr_args,axis=1))\n",
    "    # Return a sparse tensor so that only the actual results have a value\n",
    "    return tf.scatter_nd(idx, result,shape=tf.shape(outside_horizon))\n",
    "  return integrand\n",
    "\n",
    "\n",
    "def make_vegas_instance(expr,integration_dim, r_critical_value, a_value, extra_args,n_calls = int(1e6),box_size=1e5):\n",
    "  vegas_instance = VegasFlowPlus(integration_dim, n_calls, xmin=[0]*integration_dim,xmax=[box_size]*integration_dim)\n",
    "  integrand = make_integrand(expr, r_critical_value, a_value, extra_args)\n",
    "  vegas_instance.compile(integrand)\n",
    "  return vegas_instance\n"
   ]
  },
  {
   "cell_type": "code",
   "execution_count": 38,
   "metadata": {},
   "outputs": [],
   "source": [
    "class LowerBoundCalculator:\n",
    "    def __init__(self,r_critical_value=r_critical_value,a_value=0,box_size=1e4,n_calls=int(1e6)):\n",
    "        self.a_value=a_value\n",
    "        if a_value!=0:\n",
    "            manifold_expr = num_lower_bound_modified_integrand_over_M\n",
    "            boundary_expr = num_lower_bound_modified_integrand_over_boundary\n",
    "            main_extra_args = [r_critical_value, a_value]\n",
    "        else:\n",
    "            manifold_expr = num_lower_bound_integrand_over_M\n",
    "            boundary_expr = num_lower_bound_integrand_over_boundary\n",
    "            main_extra_args = [r_critical_value]\n",
    "        self.manifold_integrator = make_vegas_instance(expr=manifold_expr,integration_dim=dim,r_critical_value=r_critical_value, a_value=a_value,extra_args=main_extra_args,n_calls=n_calls,box_size=box_size)\n",
    "        if a_value!=0:\n",
    "            self.boundary_integrator = make_vegas_instance(expr=boundary_expr,integration_dim=dim-1,r_critical_value=r_critical_value, a_value=a_value,extra_args=[a_value]+main_extra_args,n_calls=n_calls,box_size=box_size)\n",
    "        return\n",
    "\n",
    "    def run_integration(self,n_iter=5):\n",
    "        result_on_M = self.manifold_integrator.run_integration(n_iter)\n",
    "        if self.a_value!=0:\n",
    "            result_on_boundary = self.boundary_integrator.run_integration(n_iter)\n",
    "        else:\n",
    "            result_on_boundary = [0,0] # we know that the boundary integrand is zero for the a=0 case \n",
    "        lower_bound_M = numerical_normalization*number_quadrants * result_on_M[0]\n",
    "        lower_bound_boundary = numerical_normalization*number_quadrants * result_on_boundary[0]\n",
    "        error_M = numerical_normalization*number_quadrants * result_on_M[1]\n",
    "        error_boundary = numerical_normalization*number_quadrants * result_on_boundary[1]\n",
    "        # number_evaluations_modified = result_on_M[2]['neval'] + result_on_boundary[2]['neval'] # most of these will come from the boundary integral where we set the `limit` parameter higher\n",
    "        total_lower_bound = lower_bound_M + lower_bound_boundary\n",
    "        total_error = error_M + error_boundary\n",
    "        return [\n",
    "            total_lower_bound,\n",
    "            total_error,\n",
    "            lower_bound_M,\n",
    "            error_M,\n",
    "            lower_bound_boundary,\n",
    "            error_boundary,\n",
    "        ]"
   ]
  },
  {
   "cell_type": "markdown",
   "metadata": {},
   "source": [
    "We use the smart VEGAS algorithm (optionally even on GPU!) and this solves our speed problems. Though we choose a small box size to help it focus on the difficult part of the integral"
   ]
  },
  {
   "cell_type": "code",
   "execution_count": 52,
   "metadata": {},
   "outputs": [
    {
     "name": "stderr",
     "output_type": "stream",
     "text": [
      "[INFO] (vegasflow.vflowplus) Events per device limit set to 10000000\n",
      "[INFO] (vegasflow.monte_carlo) Checking whether the integrand outputs the correct shape (note, this will run a very small number of events and potentially trigger a retrace)\n"
     ]
    }
   ],
   "source": [
    "a_equal_0_case = LowerBoundCalculator(a_value=0,box_size=1e5,n_calls=1e7)"
   ]
  },
  {
   "cell_type": "code",
   "execution_count": 53,
   "metadata": {},
   "outputs": [
    {
     "name": "stdout",
     "output_type": "stream",
     "text": [
      "Events sent to the computing device: 100.0 %\r"
     ]
    },
    {
     "name": "stderr",
     "output_type": "stream",
     "text": [
      "2024-02-28 11:07:27.851818: W external/local_tsl/tsl/framework/cpu_allocator_impl.cc:83] Allocation of 500000000 exceeds 10% of free system memory.\n",
      "2024-02-28 11:07:28.418410: W external/local_tsl/tsl/framework/cpu_allocator_impl.cc:83] Allocation of 500000000 exceeds 10% of free system memory.\n",
      "2024-02-28 11:07:28.536855: W external/local_tsl/tsl/framework/cpu_allocator_impl.cc:83] Allocation of 500000000 exceeds 10% of free system memory.\n",
      "2024-02-28 11:07:29.609833: W external/local_tsl/tsl/framework/cpu_allocator_impl.cc:83] Allocation of 500000000 exceeds 10% of free system memory.\n",
      "2024-02-28 11:07:30.759440: W external/local_tsl/tsl/framework/cpu_allocator_impl.cc:83] Allocation of 500000000 exceeds 10% of free system memory.\n",
      "[INFO] (vegasflow.monte_carlo) Result for iteration 0: 4.457e-07 +/- 2.367e-07(took 48.12312 s)\n"
     ]
    },
    {
     "name": "stdout",
     "output_type": "stream",
     "text": [
      "Events sent to the computing device: 100.0 %\r"
     ]
    },
    {
     "name": "stderr",
     "output_type": "stream",
     "text": [
      "[INFO] (vegasflow.monte_carlo) Result for iteration 1: 5.546e-04 +/- 4.622e-04(took 43.18682 s)\n"
     ]
    },
    {
     "name": "stdout",
     "output_type": "stream",
     "text": [
      "Events sent to the computing device: 100.0 %\r"
     ]
    },
    {
     "name": "stderr",
     "output_type": "stream",
     "text": [
      "[INFO] (vegasflow.monte_carlo) Result for iteration 2: 3.558e-02 +/- 9.792e-03(took 40.84596 s)\n"
     ]
    },
    {
     "name": "stdout",
     "output_type": "stream",
     "text": [
      "Events sent to the computing device: 100.0 %\r"
     ]
    },
    {
     "name": "stderr",
     "output_type": "stream",
     "text": [
      "[INFO] (vegasflow.monte_carlo) Result for iteration 3: 1.6975 +/- 0.1486(took 50.62138 s)\n"
     ]
    },
    {
     "name": "stdout",
     "output_type": "stream",
     "text": [
      "Events sent to the computing device: 100.0 %\r"
     ]
    },
    {
     "name": "stderr",
     "output_type": "stream",
     "text": [
      "[INFO] (vegasflow.monte_carlo) Result for iteration 4: 1.8586 +/- 0.0010(took 70.60861 s)\n"
     ]
    },
    {
     "name": "stdout",
     "output_type": "stream",
     "text": [
      "Events sent to the computing device: 100.0 %\r"
     ]
    },
    {
     "name": "stderr",
     "output_type": "stream",
     "text": [
      "[INFO] (vegasflow.monte_carlo) Result for iteration 5: 1.8576 +/- 0.0007(took 59.11304 s)\n"
     ]
    },
    {
     "name": "stdout",
     "output_type": "stream",
     "text": [
      "Events sent to the computing device: 100.0 %\r"
     ]
    },
    {
     "name": "stderr",
     "output_type": "stream",
     "text": [
      "[INFO] (vegasflow.monte_carlo) Result for iteration 6: 1.8582 +/- 0.0006(took 55.55028 s)\n"
     ]
    },
    {
     "name": "stdout",
     "output_type": "stream",
     "text": [
      "Events sent to the computing device: 100.0 %\r"
     ]
    },
    {
     "name": "stderr",
     "output_type": "stream",
     "text": [
      "[INFO] (vegasflow.monte_carlo) Result for iteration 7: 1.8572 +/- 0.0011(took 47.10434 s)\n"
     ]
    },
    {
     "name": "stdout",
     "output_type": "stream",
     "text": [
      "Events sent to the computing device: 100.0 %\r"
     ]
    },
    {
     "name": "stderr",
     "output_type": "stream",
     "text": [
      "[INFO] (vegasflow.monte_carlo) Result for iteration 8: 1.8583 +/- 0.0008(took 39.00611 s)\n"
     ]
    },
    {
     "name": "stdout",
     "output_type": "stream",
     "text": [
      "Events sent to the computing device: 100.0 %\r"
     ]
    },
    {
     "name": "stderr",
     "output_type": "stream",
     "text": [
      "[INFO] (vegasflow.monte_carlo) Result for iteration 9: 1.8574 +/- 0.0006(took 46.67755 s)\n",
      "[INFO] (vegasflow.monte_carlo)  > Final results: 1.59127e-06 +/- 2.36708e-07\n"
     ]
    }
   ],
   "source": [
    "_ = a_equal_0_case.run_integration(n_iter=10) # train the integrator"
   ]
  },
  {
   "cell_type": "code",
   "execution_count": 54,
   "metadata": {},
   "outputs": [
    {
     "name": "stdout",
     "output_type": "stream",
     "text": [
      "Events sent to the computing device: 100.0 %\r"
     ]
    },
    {
     "name": "stderr",
     "output_type": "stream",
     "text": [
      "[INFO] (vegasflow.monte_carlo) Result for iteration 0: 1.8561 +/- 0.0007(took 38.03708 s)\n",
      "[INFO] (vegasflow.monte_carlo)  > Final results: 1.85609 +/- 0.000711002\n"
     ]
    }
   ],
   "source": [
    "result=a_equal_0_case.run_integration(n_iter=1) # actually get the result"
   ]
  },
  {
   "cell_type": "code",
   "execution_count": 55,
   "metadata": {},
   "outputs": [
    {
     "data": {
      "text/markdown": [
       "## Lower bound for mass (expected $m/2=0.5/2=0.25$) of $M_{0.5,+}$ with dimension $n=4$ calculated as $0.12537$ with Monte Carlo error $0.00005$."
      ],
      "text/plain": [
       "<IPython.core.display.Markdown object>"
      ]
     },
     "metadata": {},
     "output_type": "display_data"
    }
   ],
   "source": [
    "schwarzschild_half_space_mass_lower_bound = result[0]\n",
    "m_value=r_critical_value**(dim-2)*2\n",
    "schwarzschild_half_space_mass_lower_bound_sigma = result[1]\n",
    "display(Markdown(f\"## Lower bound for mass (expected $m/2={m_value}/2={m_value/2}$) of $M_{{{m_value},+}}$ with dimension $n={dim}$ calculated as ${schwarzschild_half_space_mass_lower_bound:.5f}$ with Monte Carlo error ${schwarzschild_half_space_mass_lower_bound_sigma:.5f}$.\"))"
   ]
  },
  {
   "cell_type": "markdown",
   "metadata": {},
   "source": [
    "We can now do the same process for $M_{m,\\geq a}$ for $a>0$:"
   ]
  },
  {
   "cell_type": "code",
   "execution_count": 43,
   "metadata": {},
   "outputs": [],
   "source": [
    "a_value = 2\n"
   ]
  },
  {
   "cell_type": "code",
   "execution_count": 44,
   "metadata": {},
   "outputs": [
    {
     "name": "stderr",
     "output_type": "stream",
     "text": [
      "[INFO] (vegasflow.vflowplus) Events per device limit set to 1000000\n",
      "[INFO] (vegasflow.monte_carlo) Checking whether the integrand outputs the correct shape (note, this will run a very small number of events and potentially trigger a retrace)\n"
     ]
    },
    {
     "name": "stderr",
     "output_type": "stream",
     "text": [
      "[INFO] (vegasflow.vflowplus) Events per device limit set to 1000000\n",
      "[INFO] (vegasflow.monte_carlo) Checking whether the integrand outputs the correct shape (note, this will run a very small number of events and potentially trigger a retrace)\n"
     ]
    }
   ],
   "source": [
    "a_equal_2_case = LowerBoundCalculator(a_value=2,box_size=1e5)"
   ]
  },
  {
   "cell_type": "code",
   "execution_count": 45,
   "metadata": {},
   "outputs": [
    {
     "name": "stdout",
     "output_type": "stream",
     "text": [
      "Events sent to the computing device: 100.0 %\r"
     ]
    },
    {
     "name": "stderr",
     "output_type": "stream",
     "text": [
      "[INFO] (vegasflow.monte_carlo) Result for iteration 0: 4.116e-06 +/- 3.112e-06(took 4.28156 s)\n"
     ]
    },
    {
     "name": "stdout",
     "output_type": "stream",
     "text": [
      "Events sent to the computing device: 100.0 %\r"
     ]
    },
    {
     "name": "stderr",
     "output_type": "stream",
     "text": [
      "[INFO] (vegasflow.monte_carlo) Result for iteration 1: 4.066e-02 +/- 3.922e-02(took 2.96445 s)\n"
     ]
    },
    {
     "name": "stdout",
     "output_type": "stream",
     "text": [
      "Events sent to the computing device: 100.0 %\r"
     ]
    },
    {
     "name": "stderr",
     "output_type": "stream",
     "text": [
      "[INFO] (vegasflow.monte_carlo) Result for iteration 2: 3.217e-02 +/- 1.785e-02(took 2.82019 s)\n"
     ]
    },
    {
     "name": "stdout",
     "output_type": "stream",
     "text": [
      "Events sent to the computing device: 100.0 %\r"
     ]
    },
    {
     "name": "stderr",
     "output_type": "stream",
     "text": [
      "[INFO] (vegasflow.monte_carlo) Result for iteration 3: 6.557e-02 +/- 9.699e-04(took 2.71067 s)\n"
     ]
    },
    {
     "name": "stdout",
     "output_type": "stream",
     "text": [
      "Events sent to the computing device: 100.0 %\r"
     ]
    },
    {
     "name": "stderr",
     "output_type": "stream",
     "text": [
      "[INFO] (vegasflow.monte_carlo) Result for iteration 4: 6.537e-02 +/- 9.619e-05(took 2.78167 s)\n"
     ]
    },
    {
     "name": "stdout",
     "output_type": "stream",
     "text": [
      "Events sent to the computing device: 100.0 %\r"
     ]
    },
    {
     "name": "stderr",
     "output_type": "stream",
     "text": [
      "[INFO] (vegasflow.monte_carlo) Result for iteration 5: 6.550e-02 +/- 3.739e-05(took 2.58516 s)\n"
     ]
    },
    {
     "name": "stdout",
     "output_type": "stream",
     "text": [
      "Events sent to the computing device: 100.0 %\r"
     ]
    },
    {
     "name": "stderr",
     "output_type": "stream",
     "text": [
      "[INFO] (vegasflow.monte_carlo) Result for iteration 6: 6.535e-02 +/- 4.439e-05(took 2.52706 s)\n"
     ]
    },
    {
     "name": "stdout",
     "output_type": "stream",
     "text": [
      "Events sent to the computing device: 100.0 %\r"
     ]
    },
    {
     "name": "stderr",
     "output_type": "stream",
     "text": [
      "[INFO] (vegasflow.monte_carlo) Result for iteration 7: 6.526e-02 +/- 3.882e-05(took 2.55408 s)\n"
     ]
    },
    {
     "name": "stdout",
     "output_type": "stream",
     "text": [
      "Events sent to the computing device: 100.0 %\r"
     ]
    },
    {
     "name": "stderr",
     "output_type": "stream",
     "text": [
      "[INFO] (vegasflow.monte_carlo) Result for iteration 8: 6.528e-02 +/- 6.935e-05(took 2.74821 s)\n"
     ]
    },
    {
     "name": "stdout",
     "output_type": "stream",
     "text": [
      "Events sent to the computing device: 100.0 %\r"
     ]
    },
    {
     "name": "stderr",
     "output_type": "stream",
     "text": [
      "[INFO] (vegasflow.monte_carlo) Result for iteration 9: 6.517e-02 +/- 4.056e-05(took 2.69094 s)\n",
      "[INFO] (vegasflow.monte_carlo)  > Final results: 0.00173504 +/- 3.07008e-06\n"
     ]
    },
    {
     "name": "stdout",
     "output_type": "stream",
     "text": [
      "Events sent to the computing device: 100.0 %\r"
     ]
    },
    {
     "name": "stderr",
     "output_type": "stream",
     "text": [
      "[INFO] (vegasflow.monte_carlo) Result for iteration 0: 3.414e-02 +/- 2.124e-02(took 5.13447 s)\n"
     ]
    },
    {
     "name": "stdout",
     "output_type": "stream",
     "text": [
      "Events sent to the computing device: 100.0 %\r"
     ]
    },
    {
     "name": "stderr",
     "output_type": "stream",
     "text": [
      "[INFO] (vegasflow.monte_carlo) Result for iteration 1: 0.2266 +/- 0.0786(took 4.16227 s)\n"
     ]
    },
    {
     "name": "stdout",
     "output_type": "stream",
     "text": [
      "Events sent to the computing device: 100.0 %\r"
     ]
    },
    {
     "name": "stderr",
     "output_type": "stream",
     "text": [
      "[INFO] (vegasflow.monte_carlo) Result for iteration 2: 3.4239 +/- 0.8670(took 4.33494 s)\n"
     ]
    },
    {
     "name": "stdout",
     "output_type": "stream",
     "text": [
      "Events sent to the computing device: 100.0 %\r"
     ]
    },
    {
     "name": "stderr",
     "output_type": "stream",
     "text": [
      "[INFO] (vegasflow.monte_carlo) Result for iteration 3: 3.6443 +/- 0.0036(took 4.11144 s)\n"
     ]
    },
    {
     "name": "stdout",
     "output_type": "stream",
     "text": [
      "Events sent to the computing device: 100.0 %\r"
     ]
    },
    {
     "name": "stderr",
     "output_type": "stream",
     "text": [
      "[INFO] (vegasflow.monte_carlo) Result for iteration 4: 3.6487 +/- 0.0064(took 4.22980 s)\n"
     ]
    },
    {
     "name": "stdout",
     "output_type": "stream",
     "text": [
      "Events sent to the computing device: 100.0 %\r"
     ]
    },
    {
     "name": "stderr",
     "output_type": "stream",
     "text": [
      "[INFO] (vegasflow.monte_carlo) Result for iteration 5: 3.6442 +/- 0.0016(took 3.88278 s)\n"
     ]
    },
    {
     "name": "stdout",
     "output_type": "stream",
     "text": [
      "Events sent to the computing device: 100.0 %\r"
     ]
    },
    {
     "name": "stderr",
     "output_type": "stream",
     "text": [
      "[INFO] (vegasflow.monte_carlo) Result for iteration 6: 3.6468 +/- 0.0034(took 4.41135 s)\n"
     ]
    },
    {
     "name": "stdout",
     "output_type": "stream",
     "text": [
      "Events sent to the computing device: 100.0 %\r"
     ]
    },
    {
     "name": "stderr",
     "output_type": "stream",
     "text": [
      "[INFO] (vegasflow.monte_carlo) Result for iteration 7: 3.6446 +/- 0.0017(took 3.90865 s)\n"
     ]
    },
    {
     "name": "stdout",
     "output_type": "stream",
     "text": [
      "Events sent to the computing device: 100.0 %\r"
     ]
    },
    {
     "name": "stderr",
     "output_type": "stream",
     "text": [
      "[INFO] (vegasflow.monte_carlo) Result for iteration 8: 3.6504 +/- 0.0055(took 3.89462 s)\n"
     ]
    },
    {
     "name": "stdout",
     "output_type": "stream",
     "text": [
      "Events sent to the computing device: 100.0 %\r"
     ]
    },
    {
     "name": "stderr",
     "output_type": "stream",
     "text": [
      "[INFO] (vegasflow.monte_carlo) Result for iteration 9: 3.6450 +/- 0.0016(took 4.27281 s)\n",
      "[INFO] (vegasflow.monte_carlo)  > Final results: 3.63869 +/- 0.000851986\n"
     ]
    }
   ],
   "source": [
    "_ = a_equal_2_case.run_integration(n_iter=10) # train the integrator"
   ]
  },
  {
   "cell_type": "code",
   "execution_count": 46,
   "metadata": {},
   "outputs": [
    {
     "name": "stdout",
     "output_type": "stream",
     "text": [
      "Events sent to the computing device: 100.0 %\r"
     ]
    },
    {
     "name": "stderr",
     "output_type": "stream",
     "text": [
      "[INFO] (vegasflow.monte_carlo) Result for iteration 0: 6.520e-02 +/- 4.624e-05(took 3.02596 s)\n",
      "[INFO] (vegasflow.monte_carlo)  > Final results: 0.0651997 +/- 4.62379e-05\n"
     ]
    },
    {
     "name": "stdout",
     "output_type": "stream",
     "text": [
      "Events sent to the computing device: 100.0 %\r"
     ]
    },
    {
     "name": "stderr",
     "output_type": "stream",
     "text": [
      "[INFO] (vegasflow.monte_carlo) Result for iteration 0: 3.6420 +/- 0.0018(took 4.74226 s)\n",
      "[INFO] (vegasflow.monte_carlo)  > Final results: 3.64201 +/- 0.00184635\n"
     ]
    }
   ],
   "source": [
    "result_modified=a_equal_2_case.run_integration(n_iter=1) # actually get the result"
   ]
  },
  {
   "cell_type": "code",
   "execution_count": 47,
   "metadata": {},
   "outputs": [
    {
     "data": {
      "text/markdown": [
       "## Lower bound for mass $m/2=0.25$ of $M_{m,\\geq 2}$ calculated as $0.25041$ with Monte Carlo error $0.00013$."
      ],
      "text/plain": [
       "<IPython.core.display.Markdown object>"
      ]
     },
     "metadata": {},
     "output_type": "display_data"
    }
   ],
   "source": [
    "modified_schwarzschild_half_space_mass_lower_bound = result_modified[0]\n",
    "error_estimate_modified = result_modified[1]\n",
    "display(Markdown(f\"## Lower bound for mass $m/2={m_value/2}$ of $M_{{m,\\geq {a_value}}}$ calculated as ${modified_schwarzschild_half_space_mass_lower_bound:.5f}$ with Monte Carlo error ${error_estimate_modified:.5f}$.\"))"
   ]
  },
  {
   "cell_type": "markdown",
   "metadata": {},
   "source": [
    "We can repeat this calculation for different values of $a$ and plot the results:"
   ]
  },
  {
   "cell_type": "markdown",
   "metadata": {},
   "source": [
    "Computing the values for the plot might take a while"
   ]
  },
  {
   "cell_type": "code",
   "execution_count": 48,
   "metadata": {},
   "outputs": [
    {
     "name": "stderr",
     "output_type": "stream",
     "text": [
      "[INFO] (vegasflow.vflowplus) Events per device limit set to 1000000\n",
      "[INFO] (vegasflow.monte_carlo) Checking whether the integrand outputs the correct shape (note, this will run a very small number of events and potentially trigger a retrace)\n"
     ]
    },
    {
     "name": "stderr",
     "output_type": "stream",
     "text": [
      "[INFO] (vegasflow.vflowplus) Events per device limit set to 1000000\n",
      "[INFO] (vegasflow.monte_carlo) Checking whether the integrand outputs the correct shape (note, this will run a very small number of events and potentially trigger a retrace)\n",
      "[INFO] (vegasflow.vflowplus) Events per device limit set to 1000000\n",
      "[INFO] (vegasflow.monte_carlo) Checking whether the integrand outputs the correct shape (note, this will run a very small number of events and potentially trigger a retrace)\n",
      "[INFO] (vegasflow.vflowplus) Events per device limit set to 1000000\n",
      "[INFO] (vegasflow.monte_carlo) Checking whether the integrand outputs the correct shape (note, this will run a very small number of events and potentially trigger a retrace)\n",
      "[INFO] (vegasflow.vflowplus) Events per device limit set to 1000000\n",
      "[INFO] (vegasflow.monte_carlo) Checking whether the integrand outputs the correct shape (note, this will run a very small number of events and potentially trigger a retrace)\n",
      "[INFO] (vegasflow.vflowplus) Events per device limit set to 1000000\n",
      "[INFO] (vegasflow.monte_carlo) Checking whether the integrand outputs the correct shape (note, this will run a very small number of events and potentially trigger a retrace)\n",
      "[INFO] (vegasflow.vflowplus) Events per device limit set to 1000000\n",
      "[INFO] (vegasflow.monte_carlo) Checking whether the integrand outputs the correct shape (note, this will run a very small number of events and potentially trigger a retrace)\n",
      "[INFO] (vegasflow.vflowplus) Events per device limit set to 1000000\n",
      "[INFO] (vegasflow.monte_carlo) Checking whether the integrand outputs the correct shape (note, this will run a very small number of events and potentially trigger a retrace)\n"
     ]
    }
   ],
   "source": [
    "a_values = np.array([1,2,5,10,100])\n",
    "r_critical_value = 0.5\n",
    "lower_bound_calculators = [(LowerBoundCalculator(a_value=a_value,r_critical_value=r_critical_value,box_size=1e5) if a_value!=2 else a_equal_2_case) for a_value in a_values]"
   ]
  },
  {
   "cell_type": "code",
   "execution_count": 49,
   "metadata": {},
   "outputs": [
    {
     "name": "stdout",
     "output_type": "stream",
     "text": [
      "Events sent to the computing device: 100.0 %\r"
     ]
    },
    {
     "name": "stderr",
     "output_type": "stream",
     "text": [
      "[INFO] (vegasflow.monte_carlo) Result for iteration 0: 1.334e-07 +/- 6.934e-08(took 4.13650 s)\n"
     ]
    },
    {
     "name": "stdout",
     "output_type": "stream",
     "text": [
      "Events sent to the computing device: 100.0 %\r"
     ]
    },
    {
     "name": "stderr",
     "output_type": "stream",
     "text": [
      "[INFO] (vegasflow.monte_carlo) Result for iteration 1: 4.259e-05 +/- 1.855e-05(took 2.85117 s)\n"
     ]
    },
    {
     "name": "stdout",
     "output_type": "stream",
     "text": [
      "Events sent to the computing device: 100.0 %\r"
     ]
    },
    {
     "name": "stderr",
     "output_type": "stream",
     "text": [
      "[INFO] (vegasflow.monte_carlo) Result for iteration 2: 1.516e-02 +/- 9.844e-03(took 2.84237 s)\n"
     ]
    },
    {
     "name": "stdout",
     "output_type": "stream",
     "text": [
      "Events sent to the computing device: 100.0 %\r"
     ]
    },
    {
     "name": "stderr",
     "output_type": "stream",
     "text": [
      "[INFO] (vegasflow.monte_carlo) Result for iteration 3: 0.2102 +/- 0.0255(took 2.81634 s)\n"
     ]
    },
    {
     "name": "stdout",
     "output_type": "stream",
     "text": [
      "Events sent to the computing device: 100.0 %\r"
     ]
    },
    {
     "name": "stderr",
     "output_type": "stream",
     "text": [
      "[INFO] (vegasflow.monte_carlo) Result for iteration 4: 0.2417 +/- 0.0002(took 2.56772 s)\n"
     ]
    },
    {
     "name": "stdout",
     "output_type": "stream",
     "text": [
      "Events sent to the computing device: 100.0 %\r"
     ]
    },
    {
     "name": "stderr",
     "output_type": "stream",
     "text": [
      "[INFO] (vegasflow.monte_carlo) Result for iteration 5: 0.2408 +/- 0.0002(took 2.53498 s)\n"
     ]
    },
    {
     "name": "stdout",
     "output_type": "stream",
     "text": [
      "Events sent to the computing device: 100.0 %\r"
     ]
    },
    {
     "name": "stderr",
     "output_type": "stream",
     "text": [
      "[INFO] (vegasflow.monte_carlo) Result for iteration 6: 0.2408 +/- 0.0001(took 2.81166 s)\n",
      "[INFO] (vegasflow.monte_carlo)  > Final results: 2.50619e-07 +/- 6.93399e-08\n"
     ]
    },
    {
     "name": "stdout",
     "output_type": "stream",
     "text": [
      "Events sent to the computing device: 100.0 %\r"
     ]
    },
    {
     "name": "stderr",
     "output_type": "stream",
     "text": [
      "[INFO] (vegasflow.monte_carlo) Result for iteration 0: 1.381e-02 +/- 6.198e-03(took 5.25544 s)\n"
     ]
    },
    {
     "name": "stdout",
     "output_type": "stream",
     "text": [
      "Events sent to the computing device: 100.0 %\r"
     ]
    },
    {
     "name": "stderr",
     "output_type": "stream",
     "text": [
      "[INFO] (vegasflow.monte_carlo) Result for iteration 1: 8.922e-02 +/- 2.299e-02(took 3.94960 s)\n"
     ]
    },
    {
     "name": "stdout",
     "output_type": "stream",
     "text": [
      "Events sent to the computing device: 100.0 %\r"
     ]
    },
    {
     "name": "stderr",
     "output_type": "stream",
     "text": [
      "[INFO] (vegasflow.monte_carlo) Result for iteration 2: 4.2876 +/- 2.7693(took 3.96783 s)\n"
     ]
    },
    {
     "name": "stdout",
     "output_type": "stream",
     "text": [
      "Events sent to the computing device: 100.0 %\r"
     ]
    },
    {
     "name": "stderr",
     "output_type": "stream",
     "text": [
      "[INFO] (vegasflow.monte_carlo) Result for iteration 3: 3.4936 +/- 0.0139(took 4.05376 s)\n"
     ]
    },
    {
     "name": "stdout",
     "output_type": "stream",
     "text": [
      "Events sent to the computing device: 100.0 %\r"
     ]
    },
    {
     "name": "stderr",
     "output_type": "stream",
     "text": [
      "[INFO] (vegasflow.monte_carlo) Result for iteration 4: 3.4884 +/- 0.0031(took 3.86593 s)\n"
     ]
    },
    {
     "name": "stdout",
     "output_type": "stream",
     "text": [
      "Events sent to the computing device: 100.0 %\r"
     ]
    },
    {
     "name": "stderr",
     "output_type": "stream",
     "text": [
      "[INFO] (vegasflow.monte_carlo) Result for iteration 5: 3.4905 +/- 0.0026(took 4.19429 s)\n"
     ]
    },
    {
     "name": "stdout",
     "output_type": "stream",
     "text": [
      "Events sent to the computing device: 100.0 %\r"
     ]
    },
    {
     "name": "stderr",
     "output_type": "stream",
     "text": [
      "[INFO] (vegasflow.monte_carlo) Result for iteration 6: 3.4882 +/- 0.0024(took 3.97885 s)\n",
      "[INFO] (vegasflow.monte_carlo)  > Final results: 3.27779 +/- 0.00147673\n"
     ]
    },
    {
     "name": "stdout",
     "output_type": "stream",
     "text": [
      "Events sent to the computing device: 100.0 %\r"
     ]
    },
    {
     "name": "stderr",
     "output_type": "stream",
     "text": [
      "[INFO] (vegasflow.monte_carlo) Result for iteration 0: 8.272e-08 +/- 2.430e-08(took 3.77882 s)\n"
     ]
    },
    {
     "name": "stdout",
     "output_type": "stream",
     "text": [
      "Events sent to the computing device: 100.0 %\r"
     ]
    },
    {
     "name": "stderr",
     "output_type": "stream",
     "text": [
      "[INFO] (vegasflow.monte_carlo) Result for iteration 1: 6.235e-06 +/- 1.213e-06(took 2.71780 s)\n"
     ]
    },
    {
     "name": "stdout",
     "output_type": "stream",
     "text": [
      "Events sent to the computing device: 100.0 %\r"
     ]
    },
    {
     "name": "stderr",
     "output_type": "stream",
     "text": [
      "[INFO] (vegasflow.monte_carlo) Result for iteration 2: 2.062e-03 +/- 1.150e-03(took 2.58839 s)\n"
     ]
    },
    {
     "name": "stdout",
     "output_type": "stream",
     "text": [
      "Events sent to the computing device: 100.0 %\r"
     ]
    },
    {
     "name": "stderr",
     "output_type": "stream",
     "text": [
      "[INFO] (vegasflow.monte_carlo) Result for iteration 3: 1.049e-02 +/- 2.456e-04(took 2.50514 s)\n"
     ]
    },
    {
     "name": "stdout",
     "output_type": "stream",
     "text": [
      "Events sent to the computing device: 100.0 %\r"
     ]
    },
    {
     "name": "stderr",
     "output_type": "stream",
     "text": [
      "[INFO] (vegasflow.monte_carlo) Result for iteration 4: 1.073e-02 +/- 1.488e-05(took 2.81474 s)\n"
     ]
    },
    {
     "name": "stdout",
     "output_type": "stream",
     "text": [
      "Events sent to the computing device: 100.0 %\r"
     ]
    },
    {
     "name": "stderr",
     "output_type": "stream",
     "text": [
      "[INFO] (vegasflow.monte_carlo) Result for iteration 5: 1.076e-02 +/- 1.485e-05(took 2.86238 s)\n"
     ]
    },
    {
     "name": "stdout",
     "output_type": "stream",
     "text": [
      "Events sent to the computing device: 100.0 %\r"
     ]
    },
    {
     "name": "stderr",
     "output_type": "stream",
     "text": [
      "[INFO] (vegasflow.monte_carlo) Result for iteration 6: 1.074e-02 +/- 8.614e-06(took 2.80070 s)\n",
      "[INFO] (vegasflow.monte_carlo)  > Final results: 2.27996e-07 +/- 2.42905e-08\n"
     ]
    },
    {
     "name": "stdout",
     "output_type": "stream",
     "text": [
      "Events sent to the computing device: 100.0 %\r"
     ]
    },
    {
     "name": "stderr",
     "output_type": "stream",
     "text": [
      "[INFO] (vegasflow.monte_carlo) Result for iteration 0: 0.4307 +/- 0.4066(took 4.75364 s)\n"
     ]
    },
    {
     "name": "stdout",
     "output_type": "stream",
     "text": [
      "Events sent to the computing device: 100.0 %\r"
     ]
    },
    {
     "name": "stderr",
     "output_type": "stream",
     "text": [
      "[INFO] (vegasflow.monte_carlo) Result for iteration 1: 1.1335 +/- 0.4896(took 3.96239 s)\n"
     ]
    },
    {
     "name": "stdout",
     "output_type": "stream",
     "text": [
      "Events sent to the computing device: 100.0 %\r"
     ]
    },
    {
     "name": "stderr",
     "output_type": "stream",
     "text": [
      "[INFO] (vegasflow.monte_carlo) Result for iteration 2: 3.4899 +/- 0.2621(took 4.03170 s)\n"
     ]
    },
    {
     "name": "stdout",
     "output_type": "stream",
     "text": [
      "Events sent to the computing device: 100.0 %\r"
     ]
    },
    {
     "name": "stderr",
     "output_type": "stream",
     "text": [
      "[INFO] (vegasflow.monte_carlo) Result for iteration 3: 3.6978 +/- 0.0038(took 3.88392 s)\n"
     ]
    },
    {
     "name": "stdout",
     "output_type": "stream",
     "text": [
      "Events sent to the computing device: 100.0 %\r"
     ]
    },
    {
     "name": "stderr",
     "output_type": "stream",
     "text": [
      "[INFO] (vegasflow.monte_carlo) Result for iteration 4: 3.6898 +/- 0.0021(took 4.00221 s)\n"
     ]
    },
    {
     "name": "stdout",
     "output_type": "stream",
     "text": [
      "Events sent to the computing device: 100.0 %\r"
     ]
    },
    {
     "name": "stderr",
     "output_type": "stream",
     "text": [
      "[INFO] (vegasflow.monte_carlo) Result for iteration 5: 3.6968 +/- 0.0034(took 6.61522 s)\n"
     ]
    },
    {
     "name": "stdout",
     "output_type": "stream",
     "text": [
      "Events sent to the computing device: 100.0 %\r"
     ]
    },
    {
     "name": "stderr",
     "output_type": "stream",
     "text": [
      "[INFO] (vegasflow.monte_carlo) Result for iteration 6: 3.6898 +/- 0.0017(took 5.43626 s)\n",
      "[INFO] (vegasflow.monte_carlo)  > Final results: 3.69139 +/- 0.00118068\n"
     ]
    },
    {
     "name": "stdout",
     "output_type": "stream",
     "text": [
      "Events sent to the computing device: 100.0 %\r"
     ]
    },
    {
     "name": "stderr",
     "output_type": "stream",
     "text": [
      "[INFO] (vegasflow.monte_carlo) Result for iteration 0: 2.664e-07 +/- 1.742e-07(took 3.83064 s)\n"
     ]
    },
    {
     "name": "stdout",
     "output_type": "stream",
     "text": [
      "Events sent to the computing device: 100.0 %\r"
     ]
    },
    {
     "name": "stderr",
     "output_type": "stream",
     "text": [
      "[INFO] (vegasflow.monte_carlo) Result for iteration 1: 2.117e-05 +/- 5.481e-06(took 2.90575 s)\n"
     ]
    },
    {
     "name": "stdout",
     "output_type": "stream",
     "text": [
      "Events sent to the computing device: 100.0 %\r"
     ]
    },
    {
     "name": "stderr",
     "output_type": "stream",
     "text": [
      "[INFO] (vegasflow.monte_carlo) Result for iteration 2: 1.137e-03 +/- 2.378e-04(took 3.82120 s)\n"
     ]
    },
    {
     "name": "stdout",
     "output_type": "stream",
     "text": [
      "Events sent to the computing device: 100.0 %\r"
     ]
    },
    {
     "name": "stderr",
     "output_type": "stream",
     "text": [
      "[INFO] (vegasflow.monte_carlo) Result for iteration 3: 2.710e-03 +/- 1.022e-05(took 3.70096 s)\n"
     ]
    },
    {
     "name": "stdout",
     "output_type": "stream",
     "text": [
      "Events sent to the computing device: 100.0 %\r"
     ]
    },
    {
     "name": "stderr",
     "output_type": "stream",
     "text": [
      "[INFO] (vegasflow.monte_carlo) Result for iteration 4: 2.694e-03 +/- 3.705e-06(took 3.81145 s)\n"
     ]
    },
    {
     "name": "stdout",
     "output_type": "stream",
     "text": [
      "Events sent to the computing device: 100.0 %\r"
     ]
    },
    {
     "name": "stderr",
     "output_type": "stream",
     "text": [
      "[INFO] (vegasflow.monte_carlo) Result for iteration 5: 2.692e-03 +/- 1.823e-06(took 2.84367 s)\n"
     ]
    },
    {
     "name": "stdout",
     "output_type": "stream",
     "text": [
      "Events sent to the computing device: 100.0 %\r"
     ]
    },
    {
     "name": "stderr",
     "output_type": "stream",
     "text": [
      "[INFO] (vegasflow.monte_carlo) Result for iteration 6: 2.690e-03 +/- 1.814e-06(took 2.94325 s)\n",
      "[INFO] (vegasflow.monte_carlo)  > Final results: 5.52285e-05 +/- 1.72364e-07\n"
     ]
    },
    {
     "name": "stdout",
     "output_type": "stream",
     "text": [
      "Events sent to the computing device: 100.0 %\r"
     ]
    },
    {
     "name": "stderr",
     "output_type": "stream",
     "text": [
      "[INFO] (vegasflow.monte_carlo) Result for iteration 0: 9.021e-02 +/- 3.563e-02(took 5.03776 s)\n"
     ]
    },
    {
     "name": "stdout",
     "output_type": "stream",
     "text": [
      "Events sent to the computing device: 100.0 %\r"
     ]
    },
    {
     "name": "stderr",
     "output_type": "stream",
     "text": [
      "[INFO] (vegasflow.monte_carlo) Result for iteration 1: 0.9761 +/- 0.2621(took 4.63055 s)\n"
     ]
    },
    {
     "name": "stdout",
     "output_type": "stream",
     "text": [
      "Events sent to the computing device: 100.0 %\r"
     ]
    },
    {
     "name": "stderr",
     "output_type": "stream",
     "text": [
      "[INFO] (vegasflow.monte_carlo) Result for iteration 2: 3.7431 +/- 0.1085(took 4.00752 s)\n"
     ]
    },
    {
     "name": "stdout",
     "output_type": "stream",
     "text": [
      "Events sent to the computing device: 100.0 %\r"
     ]
    },
    {
     "name": "stderr",
     "output_type": "stream",
     "text": [
      "[INFO] (vegasflow.monte_carlo) Result for iteration 3: 3.6997 +/- 0.0051(took 4.83924 s)\n"
     ]
    },
    {
     "name": "stdout",
     "output_type": "stream",
     "text": [
      "Events sent to the computing device: 100.0 %\r"
     ]
    },
    {
     "name": "stderr",
     "output_type": "stream",
     "text": [
      "[INFO] (vegasflow.monte_carlo) Result for iteration 4: 3.7003 +/- 0.0019(took 4.83773 s)\n"
     ]
    },
    {
     "name": "stdout",
     "output_type": "stream",
     "text": [
      "Events sent to the computing device: 100.0 %\r"
     ]
    },
    {
     "name": "stderr",
     "output_type": "stream",
     "text": [
      "[INFO] (vegasflow.monte_carlo) Result for iteration 5: 3.7004 +/- 0.0017(took 8.47313 s)\n"
     ]
    },
    {
     "name": "stdout",
     "output_type": "stream",
     "text": [
      "Events sent to the computing device: 100.0 %\r"
     ]
    },
    {
     "name": "stderr",
     "output_type": "stream",
     "text": [
      "[INFO] (vegasflow.monte_carlo) Result for iteration 6: 3.7007 +/- 0.0020(took 6.18716 s)\n",
      "[INFO] (vegasflow.monte_carlo)  > Final results: 3.69724 +/- 0.00105085\n"
     ]
    },
    {
     "name": "stdout",
     "output_type": "stream",
     "text": [
      "Events sent to the computing device: 100.0 %\r"
     ]
    },
    {
     "name": "stderr",
     "output_type": "stream",
     "text": [
      "[INFO] (vegasflow.monte_carlo) Result for iteration 0: 4.413e-08 +/- 1.111e-08(took 5.40086 s)\n"
     ]
    },
    {
     "name": "stdout",
     "output_type": "stream",
     "text": [
      "Events sent to the computing device: 100.0 %\r"
     ]
    },
    {
     "name": "stderr",
     "output_type": "stream",
     "text": [
      "[INFO] (vegasflow.monte_carlo) Result for iteration 1: 3.651e-06 +/- 4.939e-07(took 5.13446 s)\n"
     ]
    },
    {
     "name": "stdout",
     "output_type": "stream",
     "text": [
      "Events sent to the computing device: 100.0 %\r"
     ]
    },
    {
     "name": "stderr",
     "output_type": "stream",
     "text": [
      "[INFO] (vegasflow.monte_carlo) Result for iteration 2: 2.782e-05 +/- 1.323e-06(took 4.65777 s)\n"
     ]
    },
    {
     "name": "stdout",
     "output_type": "stream",
     "text": [
      "Events sent to the computing device: 100.0 %\r"
     ]
    },
    {
     "name": "stderr",
     "output_type": "stream",
     "text": [
      "[INFO] (vegasflow.monte_carlo) Result for iteration 3: 2.705e-05 +/- 5.066e-08(took 3.44346 s)\n"
     ]
    },
    {
     "name": "stdout",
     "output_type": "stream",
     "text": [
      "Events sent to the computing device: 100.0 %\r"
     ]
    },
    {
     "name": "stderr",
     "output_type": "stream",
     "text": [
      "[INFO] (vegasflow.monte_carlo) Result for iteration 4: 2.697e-05 +/- 1.753e-08(took 3.35157 s)\n"
     ]
    },
    {
     "name": "stdout",
     "output_type": "stream",
     "text": [
      "Events sent to the computing device: 100.0 %\r"
     ]
    },
    {
     "name": "stderr",
     "output_type": "stream",
     "text": [
      "[INFO] (vegasflow.monte_carlo) Result for iteration 5: 2.696e-05 +/- 2.008e-08(took 3.81479 s)\n"
     ]
    },
    {
     "name": "stdout",
     "output_type": "stream",
     "text": [
      "Events sent to the computing device: 100.0 %\r"
     ]
    },
    {
     "name": "stderr",
     "output_type": "stream",
     "text": [
      "[INFO] (vegasflow.monte_carlo) Result for iteration 6: 2.696e-05 +/- 1.576e-08(took 3.61963 s)\n",
      "[INFO] (vegasflow.monte_carlo)  > Final results: 1.50147e-05 +/- 7.40122e-09\n"
     ]
    },
    {
     "name": "stdout",
     "output_type": "stream",
     "text": [
      "Events sent to the computing device: 100.0 %\r"
     ]
    },
    {
     "name": "stderr",
     "output_type": "stream",
     "text": [
      "[INFO] (vegasflow.monte_carlo) Result for iteration 0: 0.4297 +/- 0.0786(took 6.81984 s)\n"
     ]
    },
    {
     "name": "stdout",
     "output_type": "stream",
     "text": [
      "Events sent to the computing device: 100.0 %\r"
     ]
    },
    {
     "name": "stderr",
     "output_type": "stream",
     "text": [
      "[INFO] (vegasflow.monte_carlo) Result for iteration 1: 3.3485 +/- 0.4009(took 5.37463 s)\n"
     ]
    },
    {
     "name": "stdout",
     "output_type": "stream",
     "text": [
      "Events sent to the computing device: 100.0 %\r"
     ]
    },
    {
     "name": "stderr",
     "output_type": "stream",
     "text": [
      "[INFO] (vegasflow.monte_carlo) Result for iteration 2: 3.6968 +/- 0.0017(took 5.44142 s)\n"
     ]
    },
    {
     "name": "stdout",
     "output_type": "stream",
     "text": [
      "Events sent to the computing device: 100.0 %\r"
     ]
    },
    {
     "name": "stderr",
     "output_type": "stream",
     "text": [
      "[INFO] (vegasflow.monte_carlo) Result for iteration 3: 3.6952 +/- 0.0020(took 5.60428 s)\n"
     ]
    },
    {
     "name": "stdout",
     "output_type": "stream",
     "text": [
      "Events sent to the computing device: 100.0 %\r"
     ]
    },
    {
     "name": "stderr",
     "output_type": "stream",
     "text": [
      "[INFO] (vegasflow.monte_carlo) Result for iteration 4: 3.6973 +/- 0.0014(took 5.77319 s)\n"
     ]
    },
    {
     "name": "stdout",
     "output_type": "stream",
     "text": [
      "Events sent to the computing device: 100.0 %\r"
     ]
    },
    {
     "name": "stderr",
     "output_type": "stream",
     "text": [
      "[INFO] (vegasflow.monte_carlo) Result for iteration 5: 3.7003 +/- 0.0016(took 5.52141 s)\n"
     ]
    },
    {
     "name": "stdout",
     "output_type": "stream",
     "text": [
      "Events sent to the computing device: 100.0 %\r"
     ]
    },
    {
     "name": "stderr",
     "output_type": "stream",
     "text": [
      "[INFO] (vegasflow.monte_carlo) Result for iteration 6: 3.6958 +/- 0.0015(took 5.48140 s)\n",
      "[INFO] (vegasflow.monte_carlo)  > Final results: 3.69694 +/- 0.000716185\n"
     ]
    }
   ],
   "source": [
    "# train integrators\n",
    "for lower_bound_calculator in lower_bound_calculators:\n",
    "  if lower_bound_calculator.a_value == 2:\n",
    "    continue\n",
    "  _ = lower_bound_calculator.run_integration(n_iter=7)"
   ]
  },
  {
   "cell_type": "code",
   "execution_count": 50,
   "metadata": {},
   "outputs": [
    {
     "name": "stdout",
     "output_type": "stream",
     "text": [
      "Events sent to the computing device: 100.0 %\r"
     ]
    },
    {
     "name": "stderr",
     "output_type": "stream",
     "text": [
      "[INFO] (vegasflow.monte_carlo) Result for iteration 0: 0.2409 +/- 0.0002(took 3.46456 s)\n",
      "[INFO] (vegasflow.monte_carlo)  > Final results: 0.240945 +/- 0.000246215\n"
     ]
    },
    {
     "name": "stdout",
     "output_type": "stream",
     "text": [
      "Events sent to the computing device: 100.0 %\r"
     ]
    },
    {
     "name": "stderr",
     "output_type": "stream",
     "text": [
      "[INFO] (vegasflow.monte_carlo) Result for iteration 0: 3.4877 +/- 0.0018(took 4.98337 s)\n",
      "[INFO] (vegasflow.monte_carlo)  > Final results: 3.48771 +/- 0.00184494\n"
     ]
    },
    {
     "name": "stdout",
     "output_type": "stream",
     "text": [
      "Events sent to the computing device: 100.0 %\r"
     ]
    },
    {
     "name": "stderr",
     "output_type": "stream",
     "text": [
      "[INFO] (vegasflow.monte_carlo) Result for iteration 0: 6.522e-02 +/- 5.305e-05(took 3.18573 s)\n",
      "[INFO] (vegasflow.monte_carlo)  > Final results: 0.0652242 +/- 5.30531e-05\n"
     ]
    },
    {
     "name": "stdout",
     "output_type": "stream",
     "text": [
      "Events sent to the computing device: 100.0 %\r"
     ]
    },
    {
     "name": "stderr",
     "output_type": "stream",
     "text": [
      "[INFO] (vegasflow.monte_carlo) Result for iteration 0: 3.6438 +/- 0.0025(took 5.14696 s)\n",
      "[INFO] (vegasflow.monte_carlo)  > Final results: 3.64379 +/- 0.00250503\n"
     ]
    },
    {
     "name": "stdout",
     "output_type": "stream",
     "text": [
      "Events sent to the computing device: 100.0 %\r"
     ]
    },
    {
     "name": "stderr",
     "output_type": "stream",
     "text": [
      "[INFO] (vegasflow.monte_carlo) Result for iteration 0: 1.072e-02 +/- 6.403e-06(took 3.23576 s)\n",
      "[INFO] (vegasflow.monte_carlo)  > Final results: 0.0107228 +/- 6.40258e-06\n"
     ]
    },
    {
     "name": "stdout",
     "output_type": "stream",
     "text": [
      "Events sent to the computing device: 100.0 %\r"
     ]
    },
    {
     "name": "stderr",
     "output_type": "stream",
     "text": [
      "[INFO] (vegasflow.monte_carlo) Result for iteration 0: 3.6971 +/- 0.0048(took 5.38356 s)\n",
      "[INFO] (vegasflow.monte_carlo)  > Final results: 3.6971 +/- 0.00479907\n"
     ]
    },
    {
     "name": "stdout",
     "output_type": "stream",
     "text": [
      "Events sent to the computing device: 100.0 %\r"
     ]
    },
    {
     "name": "stderr",
     "output_type": "stream",
     "text": [
      "[INFO] (vegasflow.monte_carlo) Result for iteration 0: 2.710e-03 +/- 2.217e-05(took 3.23186 s)\n",
      "[INFO] (vegasflow.monte_carlo)  > Final results: 0.00270962 +/- 2.21747e-05\n"
     ]
    },
    {
     "name": "stdout",
     "output_type": "stream",
     "text": [
      "Events sent to the computing device: 100.0 %\r"
     ]
    },
    {
     "name": "stderr",
     "output_type": "stream",
     "text": [
      "[INFO] (vegasflow.monte_carlo) Result for iteration 0: 3.7021 +/- 0.0019(took 5.01477 s)\n",
      "[INFO] (vegasflow.monte_carlo)  > Final results: 3.70214 +/- 0.00194788\n"
     ]
    },
    {
     "name": "stdout",
     "output_type": "stream",
     "text": [
      "Events sent to the computing device: 100.0 %\r"
     ]
    },
    {
     "name": "stderr",
     "output_type": "stream",
     "text": [
      "[INFO] (vegasflow.monte_carlo) Result for iteration 0: 2.694e-05 +/- 1.981e-08(took 2.93388 s)\n",
      "[INFO] (vegasflow.monte_carlo)  > Final results: 2.69373e-05 +/- 1.98111e-08\n"
     ]
    },
    {
     "name": "stdout",
     "output_type": "stream",
     "text": [
      "Events sent to the computing device: 100.0 %\r"
     ]
    },
    {
     "name": "stderr",
     "output_type": "stream",
     "text": [
      "[INFO] (vegasflow.monte_carlo) Result for iteration 0: 3.6972 +/- 0.0016(took 4.95826 s)\n",
      "[INFO] (vegasflow.monte_carlo)  > Final results: 3.69721 +/- 0.00158075\n"
     ]
    }
   ],
   "source": [
    "# get results\n",
    "total_lower_bounds,total_errors,lower_bounds_M, errors_M, lower_bounds_boundary, errors_boundary = np.fromiter(\n",
    "  (lower_bound_calculator.run_integration(n_iter=1) for lower_bound_calculator in lower_bound_calculators),\n",
    "  np.dtype((float,6))).transpose()"
   ]
  },
  {
   "cell_type": "code",
   "execution_count": 51,
   "metadata": {},
   "outputs": [
    {
     "data": {
      "image/png": "[encoded data removed]",
      "text/plain": [
       "<Figure size 640x480 with 1 Axes>"
      ]
     },
     "metadata": {},
     "output_type": "display_data"
    }
   ],
   "source": [
    "plt.errorbar(a_values,total_lower_bounds,yerr=total_errors,label=f\"total lower bound\")\n",
    "plt.errorbar(a_values,lower_bounds_M,yerr=errors_M,label=f\"lower bound from integral on $ M_{{{m_value},\\!\\!\\geq a}}$\")\n",
    "plt.errorbar(a_values,lower_bounds_boundary,yerr=errors_boundary,label=f\"lower bound from integral on boundary $\\partial M_{{{m_value},\\!\\!\\geq a}}$\")\n",
    "plt.xscale('log')\n",
    "plt.gca().set_ylim(bottom=0)\n",
    "plt.xlabel(\"$a$ (log-scale)\")\n",
    "plt.ylabel(\"lower bound for mass obtained from harmonic function method\")\n",
    "plt.legend()\n",
    "plt.tight_layout()\n",
    "plt.title(f\"Lower bounds for the mass of $M_{{{m_value},\\!\\!\\geq a}}$ for different values of $a$ and $n={dim}$.\")\n",
    "plt.savefig(\"../figures/lower_bounds_for_different_values_of_a\",bbox_inches='tight')"
   ]
  },
  {
   "cell_type": "markdown",
   "metadata": {},
   "source": [
    "## Plotting the harmonic coordinates"
   ]
  },
  {
   "cell_type": "markdown",
   "metadata": {},
   "source": [
    "### Plotting Utilities"
   ]
  },
  {
   "cell_type": "markdown",
   "metadata": {},
   "source": [
    "Matplotlib does not come with a method of plotting implicit surfaces. The following approach is from [answers to this Stack Overflow question](https://stackoverflow.com/questions/4680525/plotting-implicit-equations-in-3d)."
   ]
  },
  {
   "cell_type": "markdown",
   "metadata": {},
   "source": [
    "```python\n",
    "# https://stackoverflow.com/a/4687582\n",
    "def plot_implicit_using_contours(ax,fn,level_set_value=0, bbox=((-2.5,2.5),(-2.5,2.5),(-2.5,2.5)),resolution=50,samples=30):\n",
    "    \"\"\" Create a plot of a 2d implicite surface fn(x,y,z)=level_set_value using contours\n",
    "\n",
    "    Args:\n",
    "        ax (matplotlib.axes)\n",
    "        fn (function): Function describing the implicit surface\n",
    "        level_set_value (int, optional): Which level set of fn to consider. Defaults to 0.\n",
    "        bbox (tuple, optional): x,y,and z limits of plotted interval. Defaults to ((-2.5,2.5),(-2.5,2.5),(-2.5,2.5)).\n",
    "        resolution (int, optional): Defaults to 50.\n",
    "        samples (int, optional): Number of slices to take\n",
    "    \"\"\"\n",
    "    xmin, xmax = bbox[0]\n",
    "    ymin, ymax = bbox[1]\n",
    "    zmin,zmax = bbox[2]\n",
    "    \n",
    "    xl = np.linspace(xmin, xmax, resolution)\n",
    "    yl = np.linspace(ymin,ymax,resolution)\n",
    "    zl = np.linspace(zmin, zmax, samples)\n",
    "    A1, A2 = np.meshgrid(xl,xl)\n",
    "\n",
    "    for z in zl: # plot contours in the XY plane\n",
    "        X,Y = A1,A2\n",
    "        Z = fn(X,Y,z)-level_set_value\n",
    "        cset = ax.contour(X, Y, Z+z-level_set_value, [z], zdir='z')\n",
    "        # [z] defines the only level to plot for this contour for this value of z\n",
    "\n",
    "    for y in zl: # plot contours in the XZ plane\n",
    "        X,Z = A1,A2\n",
    "        Y = fn(X,y,Z)-level_set_value\n",
    "        cset = ax.contour(X, Y+y, Z, [y], zdir='y')\n",
    "\n",
    "    for x in zl: # plot contours in the YZ plane\n",
    "        Y,Z = A1,A2\n",
    "        X = fn(x,Y,Z)-level_set_value\n",
    "        cset = ax.contour(X+x, Y, Z, [x], zdir='x')\n",
    "\n",
    "    # must set plot limits because the contour will likely extend\n",
    "    # way beyond the displayed level.  Otherwise matplotlib extends the plot limits\n",
    "    # to encompass all values in the contour.\n",
    "    ax.set_zlim3d(zmin,zmax)\n",
    "    ax.set_xlim3d(xmin,xmax)\n",
    "    ax.set_ylim3d(ymin,ymax)\n",
    "\n",
    "def plot_implicit_using_marching_cubes(ax,fn,level_set_value=0,bbox=((-2.5,2.5),(-2.5,2.5),(-2.5,2.5)),resolution=50):\n",
    "    \"\"\" Create a plot of a 2d implicit surface fn(x,y,z)=level_set_value using marching cubes\n",
    "\n",
    "    Args:\n",
    "        ax (matplotlib.axes)\n",
    "        fn (function): Function describing the implicit surface\n",
    "        level_set_value (int, optional): Which level set of fn to consider. Defaults to 0.\n",
    "        bbox (tuple, optional): x,y,and z limits of plotted interval. Defaults to ((-2.5,2.5),(-2.5,2.5),(-2.5,2.5)).\n",
    "        resolution (int, optional): Defaults to 50.\n",
    "    \"\"\"\n",
    "    xmin, xmax = bbox[0]\n",
    "    ymin, ymax = bbox[1]\n",
    "    zmin,zmax = bbox[2]\n",
    "    \n",
    "    xl = np.linspace(xmin,xmax, resolution)\n",
    "    yl = np.linspace(ymin,ymax, resolution)\n",
    "    zl = np.linspace(zmin,zmax, resolution)\n",
    "    X, Y, Z = np.meshgrid(xl, yl, zl)\n",
    "    F=fn(X,Y,Z)\n",
    "\n",
    "\n",
    "    verts, faces, normals, values = measure.marching_cubes(F, level_set_value, spacing=[np.diff(xl)[0],np.diff(yl)[0],np.diff(zl)[0]])\n",
    "    # need to correct vertex coordinates as they are expressed in Voxel coordinates\n",
    "    verts += (xmin,ymin,zmin)\n",
    "    \n",
    "    ax.plot_trisurf(verts[:, 0], verts[:, 1], faces, \n",
    "                    verts[:, 2], # color\n",
    "                    cmap='magma',vmin=zmin,vmax=zmax)\n",
    "    \n",
    "    ax.set_zlim3d(zmin,zmax)\n",
    "    ax.set_xlim3d(xmin,xmax)\n",
    "    ax.set_ylim3d(ymin,ymax)\n",
    "    return verts, faces\n",
    "```"
   ]
  },
  {
   "cell_type": "markdown",
   "metadata": {},
   "source": [
    "```python\n",
    "def plot_coordinate_level_sets(coordinate,level_set_values=(0),m_value=1,a_value=0,bbox=((-2.5,2.5),(-2.5,2.5),(-2.5,2.5)),resolution=50):\n",
    "  fn = sympy.lambdify([x1,x2,x1],(coordinate()).subs(((m,m_value),(a,a_value))))\n",
    "\n",
    "  n_plots = len(level_set_values)\n",
    "  n_cols = min(2,n_plots)\n",
    "  n_rows = (n_plots+1)//2\n",
    "\n",
    "  fig = plt.figure(figsize=(10,n_rows*4+1))\n",
    "  fig.suptitle(f\"Level sets of ${sympy.latex(coordinate.symbol)}$ on $M_{{{m_value},\\!\\!\\geq {a_value}}}$\",fontsize=20,y=0,va=\"top\")\n",
    "\n",
    "  axes = fig.subplots(ncols=n_cols,nrows=n_rows,subplot_kw=dict(projection='3d'),squeeze=False)\n",
    "\n",
    "  if n_plots<n_rows*2:\n",
    "    fig.delaxes(axes[n_rows-1,n_cols-1]) # delete last axis if unneccessary\n",
    "\n",
    "  for index, level_set_value in enumerate(level_set_values):\n",
    "    ax = axes.flatten()[index]\n",
    "    ax.set_title(f\"${sympy.latex(coordinate.symbol)}={level_set_value:.2f}$\",fontsize=16,pad=0)\n",
    "    ax.locator_params(nbins=4)\n",
    "    \n",
    "    plot_implicit_using_marching_cubes(ax,fn,level_set_value,bbox=bbox,resolution=resolution)\n",
    "    ax.set_aspect('equal')\n",
    "  fig.tight_layout(h_pad=5)\n",
    "  return fig\n",
    "```"
   ]
  },
  {
   "cell_type": "markdown",
   "metadata": {},
   "source": [
    "### Plots for $M_{m,+}=M_{m,\\geq 0}$"
   ]
  },
  {
   "cell_type": "markdown",
   "metadata": {},
   "source": [
    "```python\n",
    "fig=plot_coordinate_level_sets(u1,[0,0.1,0.2,0.3,0.4,0.5,0.6,0.7],bbox=[(-1.5,1.5),(-1.5,1.5),(0,1.1)])\n",
    "fig.savefig(\"../figures/level_sets_u1_unmodified\",bbox_inches='tight')\n",
    "````"
   ]
  },
  {
   "cell_type": "markdown",
   "metadata": {},
   "source": [
    "```python\n",
    "plot_coordinate_level_sets(u2,[-0.75,-0.5,-0.25,0,0.25,0.5,0.75],bbox=[(-1.1,1.1),(-1.1,1.1),(0,1.1)])\n",
    "plt.savefig(\"../figures/level_sets_u2_unmodified\",bbox_inches=\"tight\")\n",
    "```"
   ]
  },
  {
   "cell_type": "markdown",
   "metadata": {},
   "source": [
    "### Plots for $M_{m,\\!\\!\\geq a}$. We can symbolically check that the boundary $x_3=a$ is actually a level set. Numerically this level set is not quite correctly computed due to rounding errors. "
   ]
  },
  {
   "cell_type": "markdown",
   "metadata": {},
   "source": [
    "```python\n",
    "for a_value in [0.1,0.3]:\n",
    "  fig=plot_coordinate_level_sets(u1_modified,np.array([0,0.1,0.2,0.3,0.4,0.5,0.6,0.7])+a_value,a_value=a_value,bbox=[(-1.1,1.1),(-1.1,1.1),(0,1.5)],resolution=100)\n",
    "  fig.savefig(f'../figures/level_sets_u1_modified_with_a_{a_value}.png',bbox_inches='tight')\n",
    "```"
   ]
  }
 ],
 "metadata": {
  "kernelspec": {
   "display_name": ".nix-venv",
   "language": "python",
   "name": "python3"
  },
  "language_info": {
   "codemirror_mode": {
    "name": "ipython",
    "version": 3
   },
   "file_extension": ".py",
   "mimetype": "text/x-python",
   "name": "python",
   "nbconvert_exporter": "python",
   "pygments_lexer": "ipython3",
   "version": "3.11.8"
  },
  "orig_nbformat": 4
 },
 "nbformat": 4,
 "nbformat_minor": 2
}
